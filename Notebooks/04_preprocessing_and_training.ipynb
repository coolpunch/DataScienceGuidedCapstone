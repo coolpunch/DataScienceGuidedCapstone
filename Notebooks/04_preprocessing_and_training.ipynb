{
 "cells": [
  {
   "cell_type": "markdown",
   "metadata": {},
   "source": [
    "# 4 Pre-Processing and Training Data<a id='4_Pre-Processing_and_Training_Data'></a>"
   ]
  },
  {
   "cell_type": "markdown",
   "metadata": {},
   "source": [
    "## 4.1 Contents<a id='4.1_Contents'></a>\n",
    "* [4 Pre-Processing and Training Data](#4_Pre-Processing_and_Training_Data)\n",
    "  * [4.1 Contents](#4.1_Contents)\n",
    "  * [4.2 Introduction](#4.2_Introduction)\n",
    "  * [4.3 Imports](#4.3_Imports)\n",
    "  * [4.4 Load Data](#4.4_Load_Data)\n",
    "  * [4.5 Extract Big Mountain Data](#4.5_Extract_Big_Mountain_Data)\n",
    "  * [4.6 Train/Test Split](#4.6_Train/Test_Split)\n",
    "  * [4.7 Initial Not-Even-A-Model](#4.7_Initial_Not-Even-A-Model)\n",
    "    * [4.7.1 Metrics](#4.7.1_Metrics)\n",
    "      * [4.7.1.1 R-squared, or coefficient of determination](#4.7.1.1_R-squared,_or_coefficient_of_determination)\n",
    "      * [4.7.1.2 Mean Absolute Error](#4.7.1.2_Mean_Absolute_Error)\n",
    "      * [4.7.1.3 Mean Squared Error](#4.7.1.3_Mean_Squared_Error)\n",
    "    * [4.7.2 sklearn metrics](#4.7.2_sklearn_metrics)\n",
    "        * [4.7.2.0.1 R-squared](#4.7.2.0.1_R-squared)\n",
    "        * [4.7.2.0.2 Mean absolute error](#4.7.2.0.2_Mean_absolute_error)\n",
    "        * [4.7.2.0.3 Mean squared error](#4.7.2.0.3_Mean_squared_error)\n",
    "    * [4.7.3 Note On Calculating Metrics](#4.7.3_Note_On_Calculating_Metrics)\n",
    "  * [4.8 Initial Models](#4.8_Initial_Models)\n",
    "    * [4.8.1 Imputing missing feature (predictor) values](#4.8.1_Imputing_missing_feature_(predictor)_values)\n",
    "      * [4.8.1.1 Impute missing values with median](#4.8.1.1_Impute_missing_values_with_median)\n",
    "        * [4.8.1.1.1 Learn the values to impute from the train set](#4.8.1.1.1_Learn_the_values_to_impute_from_the_train_set)\n",
    "        * [4.8.1.1.2 Apply the imputation to both train and test splits](#4.8.1.1.2_Apply_the_imputation_to_both_train_and_test_splits)\n",
    "        * [4.8.1.1.3 Scale the data](#4.8.1.1.3_Scale_the_data)\n",
    "        * [4.8.1.1.4 Train the model on the train split](#4.8.1.1.4_Train_the_model_on_the_train_split)\n",
    "        * [4.8.1.1.5 Make predictions using the model on both train and test splits](#4.8.1.1.5_Make_predictions_using_the_model_on_both_train_and_test_splits)\n",
    "        * [4.8.1.1.6 Assess model performance](#4.8.1.1.6_Assess_model_performance)\n",
    "      * [4.8.1.2 Impute missing values with the mean](#4.8.1.2_Impute_missing_values_with_the_mean)\n",
    "        * [4.8.1.2.1 Learn the values to impute from the train set](#4.8.1.2.1_Learn_the_values_to_impute_from_the_train_set)\n",
    "        * [4.8.1.2.2 Apply the imputation to both train and test splits](#4.8.1.2.2_Apply_the_imputation_to_both_train_and_test_splits)\n",
    "        * [4.8.1.2.3 Scale the data](#4.8.1.2.3_Scale_the_data)\n",
    "        * [4.8.1.2.4 Train the model on the train split](#4.8.1.2.4_Train_the_model_on_the_train_split)\n",
    "        * [4.8.1.2.5 Make predictions using the model on both train and test splits](#4.8.1.2.5_Make_predictions_using_the_model_on_both_train_and_test_splits)\n",
    "        * [4.8.1.2.6 Assess model performance](#4.8.1.2.6_Assess_model_performance)\n",
    "    * [4.8.2 Pipelines](#4.8.2_Pipelines)\n",
    "      * [4.8.2.1 Define the pipeline](#4.8.2.1_Define_the_pipeline)\n",
    "      * [4.8.2.2 Fit the pipeline](#4.8.2.2_Fit_the_pipeline)\n",
    "      * [4.8.2.3 Make predictions on the train and test sets](#4.8.2.3_Make_predictions_on_the_train_and_test_sets)\n",
    "      * [4.8.2.4 Assess performance](#4.8.2.4_Assess_performance)\n",
    "  * [4.9 Refining The Linear Model](#4.9_Refining_The_Linear_Model)\n",
    "    * [4.9.1 Define the pipeline](#4.9.1_Define_the_pipeline)\n",
    "    * [4.9.2 Fit the pipeline](#4.9.2_Fit_the_pipeline)\n",
    "    * [4.9.3 Assess performance on the train and test set](#4.9.3_Assess_performance_on_the_train_and_test_set)\n",
    "    * [4.9.4 Define a new pipeline to select a different number of features](#4.9.4_Define_a_new_pipeline_to_select_a_different_number_of_features)\n",
    "    * [4.9.5 Fit the pipeline](#4.9.5_Fit_the_pipeline)\n",
    "    * [4.9.6 Assess performance on train and test data](#4.9.6_Assess_performance_on_train_and_test_data)\n",
    "    * [4.9.7 Assessing performance using cross-validation](#4.9.7_Assessing_performance_using_cross-validation)\n",
    "    * [4.9.8 Hyperparameter search using GridSearchCV](#4.9.8_Hyperparameter_search_using_GridSearchCV)\n",
    "  * [4.10 Random Forest Model](#4.10_Random_Forest_Model)\n",
    "    * [4.10.1 Define the pipeline](#4.10.1_Define_the_pipeline)\n",
    "    * [4.10.2 Fit and assess performance using cross-validation](#4.10.2_Fit_and_assess_performance_using_cross-validation)\n",
    "    * [4.10.3 Hyperparameter search using GridSearchCV](#4.10.3_Hyperparameter_search_using_GridSearchCV)\n",
    "  * [4.11 Final Model Selection](#4.11_Final_Model_Selection)\n",
    "    * [4.11.1 Linear regression model performance](#4.11.1_Linear_regression_model_performance)\n",
    "    * [4.11.2 Random forest regression model performance](#4.11.2_Random_forest_regression_model_performance)\n",
    "    * [4.11.3 Conclusion](#4.11.3_Conclusion)\n",
    "  * [4.12 Data quantity assessment](#4.12_Data_quantity_assessment)\n",
    "  * [4.13 Save best model object from pipeline](#4.13_Save_best_model_object_from_pipeline)\n",
    "  * [4.14 Summary](#4.14_Summary)\n"
   ]
  },
  {
   "cell_type": "code",
   "execution_count": null,
   "metadata": {},
   "outputs": [],
   "source": []
  },
  {
   "cell_type": "markdown",
   "metadata": {},
   "source": [
    "## 4.2 Introduction<a id='4.2_Introduction'></a>"
   ]
  },
  {
   "cell_type": "markdown",
   "metadata": {},
   "source": [
    "In preceding notebooks, performed preliminary assessments of data quality and refined the question to be answered. You found a small number of data values that gave clear choices about whether to replace values or drop a whole row. You determined that predicting the adult weekend ticket price was your primary aim. You threw away records with missing price data, but not before making the most of the other available data to look for any patterns between the states. You didn't see any and decided to treat all states equally; the state label didn't seem to be particularly useful.\n",
    "\n",
    "In this notebook you'll start to build machine learning models. Before even starting with learning a machine learning model, however, start by considering how useful the mean value is as a predictor. This is more than just a pedagogical device. You never want to go to stakeholders with a machine learning model only to have the CEO point out that it performs worse than just guessing the average! Your first model is a baseline performance comparitor for any subsequent model. You then build up the process of efficiently and robustly creating and assessing models against it. The development we lay out may be little slower than in the real world, but this step of the capstone is definitely more than just instructional. It is good practice to build up an understanding that the machine learning pipelines you build work as expected. You can validate steps with your own functions for checking expected equivalence between, say, pandas and sklearn implementations."
   ]
  },
  {
   "cell_type": "markdown",
   "metadata": {},
   "source": [
    "## 4.3 Imports<a id='4.3_Imports'></a>"
   ]
  },
  {
   "cell_type": "code",
   "execution_count": 137,
   "metadata": {},
   "outputs": [],
   "source": [
    "import pandas as pd\n",
    "import numpy as np\n",
    "import os\n",
    "import pickle\n",
    "import matplotlib.pyplot as plt\n",
    "import seaborn as sns\n",
    "from sklearn import __version__ as sklearn_version\n",
    "from sklearn.decomposition import PCA\n",
    "from sklearn.preprocessing import scale\n",
    "from sklearn.model_selection import train_test_split, cross_validate, GridSearchCV, learning_curve\n",
    "from sklearn.preprocessing import StandardScaler, MinMaxScaler\n",
    "from sklearn.dummy import DummyRegres\n",
    "sor\n",
    "from sklearn.linear_model import LinearRegression\n",
    "from sklearn.ensemble import RandomForestRegressor\n",
    "from sklearn.metrics import r2_score, mean_squared_error, mean_absolute_error\n",
    "from sklearn.pipeline import make_pipeline\n",
    "from sklearn.impute import SimpleImputer\n",
    "from sklearn.feature_selection import SelectKBest, f_regression\n",
    "import datetime\n",
    "from library.sb_utils import save_file"
   ]
  },
  {
   "cell_type": "markdown",
   "metadata": {},
   "source": [
    "## 4.4 Load Data<a id='4.4_Load_Data'></a>"
   ]
  },
  {
   "cell_type": "code",
   "execution_count": 138,
   "metadata": {
    "scrolled": true
   },
   "outputs": [
    {
     "output_type": "execute_result",
     "data": {
      "text/plain": [
       "                                                 0                    1  \\\n",
       "Name                                Alyeska Resort  Eaglecrest Ski Area   \n",
       "Region                                      Alaska               Alaska   \n",
       "state                                       Alaska               Alaska   \n",
       "summit_elev                                   3939                 2600   \n",
       "vertical_drop                                 2500                 1540   \n",
       "base_elev                                      250                 1200   \n",
       "trams                                            1                    0   \n",
       "fastSixes                                        0                    0   \n",
       "fastQuads                                        2                    0   \n",
       "quad                                             2                    0   \n",
       "triple                                           0                    0   \n",
       "double                                           0                    4   \n",
       "surface                                          2                    0   \n",
       "total_chairs                                     7                    4   \n",
       "Runs                                            76                   36   \n",
       "TerrainParks                                     2                    1   \n",
       "LongestRun_mi                                    1                    2   \n",
       "SkiableTerrain_ac                             1610                  640   \n",
       "Snow Making_ac                                 113                   60   \n",
       "daysOpenLastYear                               150                   45   \n",
       "yearsOpen                                       60                   44   \n",
       "averageSnowfall                                669                  350   \n",
       "AdultWeekend                                    85                   53   \n",
       "projectedDaysOpen                              150                   90   \n",
       "NightSkiing_ac                                 550                  NaN   \n",
       "resorts_per_state_x                              3                    3   \n",
       "resorts_per_100kcapita_x                  0.410091             0.410091   \n",
       "resorts_per_100ksq_mile_x                 0.450867             0.450867   \n",
       "resort_skiable_area_ac_state_ratio         0.70614             0.280702   \n",
       "resort_days_open_state_ratio              0.434783             0.130435   \n",
       "resort_terrain_park_state_ratio                0.5                 0.25   \n",
       "resort_night_skiing_state_ratio           0.948276                  NaN   \n",
       "resorts_per_state_y                              3                    3   \n",
       "resorts_per_100kcapita_y                  0.410091             0.410091   \n",
       "resorts_per_100ksq_mile_y                 0.450867             0.450867   \n",
       "total_chairs_runs_ratio                  0.0921053             0.111111   \n",
       "total_chairs_skiable_ratio              0.00434783              0.00625   \n",
       "fastQuads_runs_ratio                     0.0263158                    0   \n",
       "fastQuads_skiable_ratio                 0.00124224                    0   \n",
       "resorts_per_state                                3                    3   \n",
       "state_total_skiable_area_ac                   2280                 2280   \n",
       "state_total_days_open                          345                  345   \n",
       "state_total_terrain_parks                        4                    4   \n",
       "state_total_nightskiing_ac                     580                  580   \n",
       "resorts_per_100kcapita                    0.410091             0.410091   \n",
       "resorts_per_100ksq_mile                   0.450867             0.450867   \n",
       "\n",
       "                                                   2                 3  \\\n",
       "Name                                Hilltop Ski Area  Arizona Snowbowl   \n",
       "Region                                        Alaska           Arizona   \n",
       "state                                         Alaska           Arizona   \n",
       "summit_elev                                     2090             11500   \n",
       "vertical_drop                                    294              2300   \n",
       "base_elev                                       1796              9200   \n",
       "trams                                              0                 0   \n",
       "fastSixes                                          0                 1   \n",
       "fastQuads                                          0                 0   \n",
       "quad                                               0                 2   \n",
       "triple                                             1                 2   \n",
       "double                                             0                 1   \n",
       "surface                                            2                 2   \n",
       "total_chairs                                       3                 8   \n",
       "Runs                                              13                55   \n",
       "TerrainParks                                       1                 4   \n",
       "LongestRun_mi                                      1                 2   \n",
       "SkiableTerrain_ac                                 30               777   \n",
       "Snow Making_ac                                    30               104   \n",
       "daysOpenLastYear                                 150               122   \n",
       "yearsOpen                                         36                81   \n",
       "averageSnowfall                                   69               260   \n",
       "AdultWeekend                                      34                89   \n",
       "projectedDaysOpen                                152               122   \n",
       "NightSkiing_ac                                    30               NaN   \n",
       "resorts_per_state_x                                3                 2   \n",
       "resorts_per_100kcapita_x                    0.410091         0.0274774   \n",
       "resorts_per_100ksq_mile_x                   0.450867           1.75454   \n",
       "resort_skiable_area_ac_state_ratio         0.0131579          0.492708   \n",
       "resort_days_open_state_ratio                0.434783          0.514768   \n",
       "resort_terrain_park_state_ratio                 0.25          0.666667   \n",
       "resort_night_skiing_state_ratio            0.0517241               NaN   \n",
       "resorts_per_state_y                                3                 2   \n",
       "resorts_per_100kcapita_y                    0.410091         0.0274774   \n",
       "resorts_per_100ksq_mile_y                   0.450867           1.75454   \n",
       "total_chairs_runs_ratio                     0.230769          0.145455   \n",
       "total_chairs_skiable_ratio                       0.1          0.010296   \n",
       "fastQuads_runs_ratio                               0                 0   \n",
       "fastQuads_skiable_ratio                            0                 0   \n",
       "resorts_per_state                                  3                 2   \n",
       "state_total_skiable_area_ac                     2280              1577   \n",
       "state_total_days_open                            345               237   \n",
       "state_total_terrain_parks                          4                 6   \n",
       "state_total_nightskiing_ac                       580                80   \n",
       "resorts_per_100kcapita                      0.410091         0.0274774   \n",
       "resorts_per_100ksq_mile                     0.450867           1.75454   \n",
       "\n",
       "                                                      4  \n",
       "Name                                Sunrise Park Resort  \n",
       "Region                                          Arizona  \n",
       "state                                           Arizona  \n",
       "summit_elev                                       11100  \n",
       "vertical_drop                                      1800  \n",
       "base_elev                                          9200  \n",
       "trams                                                 0  \n",
       "fastSixes                                             0  \n",
       "fastQuads                                             1  \n",
       "quad                                                  2  \n",
       "triple                                                3  \n",
       "double                                                1  \n",
       "surface                                               0  \n",
       "total_chairs                                          7  \n",
       "Runs                                                 65  \n",
       "TerrainParks                                          2  \n",
       "LongestRun_mi                                       1.2  \n",
       "SkiableTerrain_ac                                   800  \n",
       "Snow Making_ac                                       80  \n",
       "daysOpenLastYear                                    115  \n",
       "yearsOpen                                            49  \n",
       "averageSnowfall                                     250  \n",
       "AdultWeekend                                         78  \n",
       "projectedDaysOpen                                   104  \n",
       "NightSkiing_ac                                       80  \n",
       "resorts_per_state_x                                   2  \n",
       "resorts_per_100kcapita_x                      0.0274774  \n",
       "resorts_per_100ksq_mile_x                       1.75454  \n",
       "resort_skiable_area_ac_state_ratio             0.507292  \n",
       "resort_days_open_state_ratio                   0.485232  \n",
       "resort_terrain_park_state_ratio                0.333333  \n",
       "resort_night_skiing_state_ratio                       1  \n",
       "resorts_per_state_y                                   2  \n",
       "resorts_per_100kcapita_y                      0.0274774  \n",
       "resorts_per_100ksq_mile_y                       1.75454  \n",
       "total_chairs_runs_ratio                        0.107692  \n",
       "total_chairs_skiable_ratio                      0.00875  \n",
       "fastQuads_runs_ratio                          0.0153846  \n",
       "fastQuads_skiable_ratio                         0.00125  \n",
       "resorts_per_state                                     2  \n",
       "state_total_skiable_area_ac                        1577  \n",
       "state_total_days_open                               237  \n",
       "state_total_terrain_parks                             6  \n",
       "state_total_nightskiing_ac                           80  \n",
       "resorts_per_100kcapita                        0.0274774  \n",
       "resorts_per_100ksq_mile                         1.75454  "
      ],
      "text/html": "<div>\n<style scoped>\n    .dataframe tbody tr th:only-of-type {\n        vertical-align: middle;\n    }\n\n    .dataframe tbody tr th {\n        vertical-align: top;\n    }\n\n    .dataframe thead th {\n        text-align: right;\n    }\n</style>\n<table border=\"1\" class=\"dataframe\">\n  <thead>\n    <tr style=\"text-align: right;\">\n      <th></th>\n      <th>0</th>\n      <th>1</th>\n      <th>2</th>\n      <th>3</th>\n      <th>4</th>\n    </tr>\n  </thead>\n  <tbody>\n    <tr>\n      <th>Name</th>\n      <td>Alyeska Resort</td>\n      <td>Eaglecrest Ski Area</td>\n      <td>Hilltop Ski Area</td>\n      <td>Arizona Snowbowl</td>\n      <td>Sunrise Park Resort</td>\n    </tr>\n    <tr>\n      <th>Region</th>\n      <td>Alaska</td>\n      <td>Alaska</td>\n      <td>Alaska</td>\n      <td>Arizona</td>\n      <td>Arizona</td>\n    </tr>\n    <tr>\n      <th>state</th>\n      <td>Alaska</td>\n      <td>Alaska</td>\n      <td>Alaska</td>\n      <td>Arizona</td>\n      <td>Arizona</td>\n    </tr>\n    <tr>\n      <th>summit_elev</th>\n      <td>3939</td>\n      <td>2600</td>\n      <td>2090</td>\n      <td>11500</td>\n      <td>11100</td>\n    </tr>\n    <tr>\n      <th>vertical_drop</th>\n      <td>2500</td>\n      <td>1540</td>\n      <td>294</td>\n      <td>2300</td>\n      <td>1800</td>\n    </tr>\n    <tr>\n      <th>base_elev</th>\n      <td>250</td>\n      <td>1200</td>\n      <td>1796</td>\n      <td>9200</td>\n      <td>9200</td>\n    </tr>\n    <tr>\n      <th>trams</th>\n      <td>1</td>\n      <td>0</td>\n      <td>0</td>\n      <td>0</td>\n      <td>0</td>\n    </tr>\n    <tr>\n      <th>fastSixes</th>\n      <td>0</td>\n      <td>0</td>\n      <td>0</td>\n      <td>1</td>\n      <td>0</td>\n    </tr>\n    <tr>\n      <th>fastQuads</th>\n      <td>2</td>\n      <td>0</td>\n      <td>0</td>\n      <td>0</td>\n      <td>1</td>\n    </tr>\n    <tr>\n      <th>quad</th>\n      <td>2</td>\n      <td>0</td>\n      <td>0</td>\n      <td>2</td>\n      <td>2</td>\n    </tr>\n    <tr>\n      <th>triple</th>\n      <td>0</td>\n      <td>0</td>\n      <td>1</td>\n      <td>2</td>\n      <td>3</td>\n    </tr>\n    <tr>\n      <th>double</th>\n      <td>0</td>\n      <td>4</td>\n      <td>0</td>\n      <td>1</td>\n      <td>1</td>\n    </tr>\n    <tr>\n      <th>surface</th>\n      <td>2</td>\n      <td>0</td>\n      <td>2</td>\n      <td>2</td>\n      <td>0</td>\n    </tr>\n    <tr>\n      <th>total_chairs</th>\n      <td>7</td>\n      <td>4</td>\n      <td>3</td>\n      <td>8</td>\n      <td>7</td>\n    </tr>\n    <tr>\n      <th>Runs</th>\n      <td>76</td>\n      <td>36</td>\n      <td>13</td>\n      <td>55</td>\n      <td>65</td>\n    </tr>\n    <tr>\n      <th>TerrainParks</th>\n      <td>2</td>\n      <td>1</td>\n      <td>1</td>\n      <td>4</td>\n      <td>2</td>\n    </tr>\n    <tr>\n      <th>LongestRun_mi</th>\n      <td>1</td>\n      <td>2</td>\n      <td>1</td>\n      <td>2</td>\n      <td>1.2</td>\n    </tr>\n    <tr>\n      <th>SkiableTerrain_ac</th>\n      <td>1610</td>\n      <td>640</td>\n      <td>30</td>\n      <td>777</td>\n      <td>800</td>\n    </tr>\n    <tr>\n      <th>Snow Making_ac</th>\n      <td>113</td>\n      <td>60</td>\n      <td>30</td>\n      <td>104</td>\n      <td>80</td>\n    </tr>\n    <tr>\n      <th>daysOpenLastYear</th>\n      <td>150</td>\n      <td>45</td>\n      <td>150</td>\n      <td>122</td>\n      <td>115</td>\n    </tr>\n    <tr>\n      <th>yearsOpen</th>\n      <td>60</td>\n      <td>44</td>\n      <td>36</td>\n      <td>81</td>\n      <td>49</td>\n    </tr>\n    <tr>\n      <th>averageSnowfall</th>\n      <td>669</td>\n      <td>350</td>\n      <td>69</td>\n      <td>260</td>\n      <td>250</td>\n    </tr>\n    <tr>\n      <th>AdultWeekend</th>\n      <td>85</td>\n      <td>53</td>\n      <td>34</td>\n      <td>89</td>\n      <td>78</td>\n    </tr>\n    <tr>\n      <th>projectedDaysOpen</th>\n      <td>150</td>\n      <td>90</td>\n      <td>152</td>\n      <td>122</td>\n      <td>104</td>\n    </tr>\n    <tr>\n      <th>NightSkiing_ac</th>\n      <td>550</td>\n      <td>NaN</td>\n      <td>30</td>\n      <td>NaN</td>\n      <td>80</td>\n    </tr>\n    <tr>\n      <th>resorts_per_state_x</th>\n      <td>3</td>\n      <td>3</td>\n      <td>3</td>\n      <td>2</td>\n      <td>2</td>\n    </tr>\n    <tr>\n      <th>resorts_per_100kcapita_x</th>\n      <td>0.410091</td>\n      <td>0.410091</td>\n      <td>0.410091</td>\n      <td>0.0274774</td>\n      <td>0.0274774</td>\n    </tr>\n    <tr>\n      <th>resorts_per_100ksq_mile_x</th>\n      <td>0.450867</td>\n      <td>0.450867</td>\n      <td>0.450867</td>\n      <td>1.75454</td>\n      <td>1.75454</td>\n    </tr>\n    <tr>\n      <th>resort_skiable_area_ac_state_ratio</th>\n      <td>0.70614</td>\n      <td>0.280702</td>\n      <td>0.0131579</td>\n      <td>0.492708</td>\n      <td>0.507292</td>\n    </tr>\n    <tr>\n      <th>resort_days_open_state_ratio</th>\n      <td>0.434783</td>\n      <td>0.130435</td>\n      <td>0.434783</td>\n      <td>0.514768</td>\n      <td>0.485232</td>\n    </tr>\n    <tr>\n      <th>resort_terrain_park_state_ratio</th>\n      <td>0.5</td>\n      <td>0.25</td>\n      <td>0.25</td>\n      <td>0.666667</td>\n      <td>0.333333</td>\n    </tr>\n    <tr>\n      <th>resort_night_skiing_state_ratio</th>\n      <td>0.948276</td>\n      <td>NaN</td>\n      <td>0.0517241</td>\n      <td>NaN</td>\n      <td>1</td>\n    </tr>\n    <tr>\n      <th>resorts_per_state_y</th>\n      <td>3</td>\n      <td>3</td>\n      <td>3</td>\n      <td>2</td>\n      <td>2</td>\n    </tr>\n    <tr>\n      <th>resorts_per_100kcapita_y</th>\n      <td>0.410091</td>\n      <td>0.410091</td>\n      <td>0.410091</td>\n      <td>0.0274774</td>\n      <td>0.0274774</td>\n    </tr>\n    <tr>\n      <th>resorts_per_100ksq_mile_y</th>\n      <td>0.450867</td>\n      <td>0.450867</td>\n      <td>0.450867</td>\n      <td>1.75454</td>\n      <td>1.75454</td>\n    </tr>\n    <tr>\n      <th>total_chairs_runs_ratio</th>\n      <td>0.0921053</td>\n      <td>0.111111</td>\n      <td>0.230769</td>\n      <td>0.145455</td>\n      <td>0.107692</td>\n    </tr>\n    <tr>\n      <th>total_chairs_skiable_ratio</th>\n      <td>0.00434783</td>\n      <td>0.00625</td>\n      <td>0.1</td>\n      <td>0.010296</td>\n      <td>0.00875</td>\n    </tr>\n    <tr>\n      <th>fastQuads_runs_ratio</th>\n      <td>0.0263158</td>\n      <td>0</td>\n      <td>0</td>\n      <td>0</td>\n      <td>0.0153846</td>\n    </tr>\n    <tr>\n      <th>fastQuads_skiable_ratio</th>\n      <td>0.00124224</td>\n      <td>0</td>\n      <td>0</td>\n      <td>0</td>\n      <td>0.00125</td>\n    </tr>\n    <tr>\n      <th>resorts_per_state</th>\n      <td>3</td>\n      <td>3</td>\n      <td>3</td>\n      <td>2</td>\n      <td>2</td>\n    </tr>\n    <tr>\n      <th>state_total_skiable_area_ac</th>\n      <td>2280</td>\n      <td>2280</td>\n      <td>2280</td>\n      <td>1577</td>\n      <td>1577</td>\n    </tr>\n    <tr>\n      <th>state_total_days_open</th>\n      <td>345</td>\n      <td>345</td>\n      <td>345</td>\n      <td>237</td>\n      <td>237</td>\n    </tr>\n    <tr>\n      <th>state_total_terrain_parks</th>\n      <td>4</td>\n      <td>4</td>\n      <td>4</td>\n      <td>6</td>\n      <td>6</td>\n    </tr>\n    <tr>\n      <th>state_total_nightskiing_ac</th>\n      <td>580</td>\n      <td>580</td>\n      <td>580</td>\n      <td>80</td>\n      <td>80</td>\n    </tr>\n    <tr>\n      <th>resorts_per_100kcapita</th>\n      <td>0.410091</td>\n      <td>0.410091</td>\n      <td>0.410091</td>\n      <td>0.0274774</td>\n      <td>0.0274774</td>\n    </tr>\n    <tr>\n      <th>resorts_per_100ksq_mile</th>\n      <td>0.450867</td>\n      <td>0.450867</td>\n      <td>0.450867</td>\n      <td>1.75454</td>\n      <td>1.75454</td>\n    </tr>\n  </tbody>\n</table>\n</div>"
     },
     "metadata": {},
     "execution_count": 138
    }
   ],
   "source": [
    "ski_data = pd.read_csv('../data/ski_data_step3_features.csv')\n",
    "ski_data.head().T"
   ]
  },
  {
   "cell_type": "markdown",
   "metadata": {},
   "source": [
    "## 4.5 Extract Big Mountain Data<a id='4.5_Extract_Big_Mountain_Data'></a>"
   ]
  },
  {
   "cell_type": "markdown",
   "metadata": {},
   "source": [
    "Big Mountain is your resort. Separate it from the rest of the data to use later."
   ]
  },
  {
   "cell_type": "code",
   "execution_count": 139,
   "metadata": {},
   "outputs": [],
   "source": [
    "big_mountain = ski_data[ski_data.Name == 'Big Mountain Resort']"
   ]
  },
  {
   "cell_type": "code",
   "execution_count": 140,
   "metadata": {},
   "outputs": [
    {
     "output_type": "execute_result",
     "data": {
      "text/plain": [
       "                                                    124\n",
       "Name                                Big Mountain Resort\n",
       "Region                                          Montana\n",
       "state                                           Montana\n",
       "summit_elev                                        6817\n",
       "vertical_drop                                      2353\n",
       "base_elev                                          4464\n",
       "trams                                                 0\n",
       "fastSixes                                             0\n",
       "fastQuads                                             3\n",
       "quad                                                  2\n",
       "triple                                                6\n",
       "double                                                0\n",
       "surface                                               3\n",
       "total_chairs                                         14\n",
       "Runs                                                105\n",
       "TerrainParks                                          4\n",
       "LongestRun_mi                                       3.3\n",
       "SkiableTerrain_ac                                  3000\n",
       "Snow Making_ac                                      600\n",
       "daysOpenLastYear                                    123\n",
       "yearsOpen                                            72\n",
       "averageSnowfall                                     333\n",
       "AdultWeekend                                         81\n",
       "projectedDaysOpen                                   123\n",
       "NightSkiing_ac                                      600\n",
       "resorts_per_state_x                                  11\n",
       "resorts_per_100kcapita_x                        1.02921\n",
       "resorts_per_100ksq_mile_x                       7.48096\n",
       "resort_skiable_area_ac_state_ratio             0.192184\n",
       "resort_days_open_state_ratio                   0.152416\n",
       "resort_terrain_park_state_ratio                0.210526\n",
       "resort_night_skiing_state_ratio                 0.84507\n",
       "resorts_per_state_y                                  11\n",
       "resorts_per_100kcapita_y                        1.02921\n",
       "resorts_per_100ksq_mile_y                       7.48096\n",
       "total_chairs_runs_ratio                        0.133333\n",
       "total_chairs_skiable_ratio                   0.00466667\n",
       "fastQuads_runs_ratio                          0.0285714\n",
       "fastQuads_skiable_ratio                           0.001\n",
       "resorts_per_state                                    11\n",
       "state_total_skiable_area_ac                       15610\n",
       "state_total_days_open                               807\n",
       "state_total_terrain_parks                            19\n",
       "state_total_nightskiing_ac                          710\n",
       "resorts_per_100kcapita                          1.02921\n",
       "resorts_per_100ksq_mile                         7.48096"
      ],
      "text/html": "<div>\n<style scoped>\n    .dataframe tbody tr th:only-of-type {\n        vertical-align: middle;\n    }\n\n    .dataframe tbody tr th {\n        vertical-align: top;\n    }\n\n    .dataframe thead th {\n        text-align: right;\n    }\n</style>\n<table border=\"1\" class=\"dataframe\">\n  <thead>\n    <tr style=\"text-align: right;\">\n      <th></th>\n      <th>124</th>\n    </tr>\n  </thead>\n  <tbody>\n    <tr>\n      <th>Name</th>\n      <td>Big Mountain Resort</td>\n    </tr>\n    <tr>\n      <th>Region</th>\n      <td>Montana</td>\n    </tr>\n    <tr>\n      <th>state</th>\n      <td>Montana</td>\n    </tr>\n    <tr>\n      <th>summit_elev</th>\n      <td>6817</td>\n    </tr>\n    <tr>\n      <th>vertical_drop</th>\n      <td>2353</td>\n    </tr>\n    <tr>\n      <th>base_elev</th>\n      <td>4464</td>\n    </tr>\n    <tr>\n      <th>trams</th>\n      <td>0</td>\n    </tr>\n    <tr>\n      <th>fastSixes</th>\n      <td>0</td>\n    </tr>\n    <tr>\n      <th>fastQuads</th>\n      <td>3</td>\n    </tr>\n    <tr>\n      <th>quad</th>\n      <td>2</td>\n    </tr>\n    <tr>\n      <th>triple</th>\n      <td>6</td>\n    </tr>\n    <tr>\n      <th>double</th>\n      <td>0</td>\n    </tr>\n    <tr>\n      <th>surface</th>\n      <td>3</td>\n    </tr>\n    <tr>\n      <th>total_chairs</th>\n      <td>14</td>\n    </tr>\n    <tr>\n      <th>Runs</th>\n      <td>105</td>\n    </tr>\n    <tr>\n      <th>TerrainParks</th>\n      <td>4</td>\n    </tr>\n    <tr>\n      <th>LongestRun_mi</th>\n      <td>3.3</td>\n    </tr>\n    <tr>\n      <th>SkiableTerrain_ac</th>\n      <td>3000</td>\n    </tr>\n    <tr>\n      <th>Snow Making_ac</th>\n      <td>600</td>\n    </tr>\n    <tr>\n      <th>daysOpenLastYear</th>\n      <td>123</td>\n    </tr>\n    <tr>\n      <th>yearsOpen</th>\n      <td>72</td>\n    </tr>\n    <tr>\n      <th>averageSnowfall</th>\n      <td>333</td>\n    </tr>\n    <tr>\n      <th>AdultWeekend</th>\n      <td>81</td>\n    </tr>\n    <tr>\n      <th>projectedDaysOpen</th>\n      <td>123</td>\n    </tr>\n    <tr>\n      <th>NightSkiing_ac</th>\n      <td>600</td>\n    </tr>\n    <tr>\n      <th>resorts_per_state_x</th>\n      <td>11</td>\n    </tr>\n    <tr>\n      <th>resorts_per_100kcapita_x</th>\n      <td>1.02921</td>\n    </tr>\n    <tr>\n      <th>resorts_per_100ksq_mile_x</th>\n      <td>7.48096</td>\n    </tr>\n    <tr>\n      <th>resort_skiable_area_ac_state_ratio</th>\n      <td>0.192184</td>\n    </tr>\n    <tr>\n      <th>resort_days_open_state_ratio</th>\n      <td>0.152416</td>\n    </tr>\n    <tr>\n      <th>resort_terrain_park_state_ratio</th>\n      <td>0.210526</td>\n    </tr>\n    <tr>\n      <th>resort_night_skiing_state_ratio</th>\n      <td>0.84507</td>\n    </tr>\n    <tr>\n      <th>resorts_per_state_y</th>\n      <td>11</td>\n    </tr>\n    <tr>\n      <th>resorts_per_100kcapita_y</th>\n      <td>1.02921</td>\n    </tr>\n    <tr>\n      <th>resorts_per_100ksq_mile_y</th>\n      <td>7.48096</td>\n    </tr>\n    <tr>\n      <th>total_chairs_runs_ratio</th>\n      <td>0.133333</td>\n    </tr>\n    <tr>\n      <th>total_chairs_skiable_ratio</th>\n      <td>0.00466667</td>\n    </tr>\n    <tr>\n      <th>fastQuads_runs_ratio</th>\n      <td>0.0285714</td>\n    </tr>\n    <tr>\n      <th>fastQuads_skiable_ratio</th>\n      <td>0.001</td>\n    </tr>\n    <tr>\n      <th>resorts_per_state</th>\n      <td>11</td>\n    </tr>\n    <tr>\n      <th>state_total_skiable_area_ac</th>\n      <td>15610</td>\n    </tr>\n    <tr>\n      <th>state_total_days_open</th>\n      <td>807</td>\n    </tr>\n    <tr>\n      <th>state_total_terrain_parks</th>\n      <td>19</td>\n    </tr>\n    <tr>\n      <th>state_total_nightskiing_ac</th>\n      <td>710</td>\n    </tr>\n    <tr>\n      <th>resorts_per_100kcapita</th>\n      <td>1.02921</td>\n    </tr>\n    <tr>\n      <th>resorts_per_100ksq_mile</th>\n      <td>7.48096</td>\n    </tr>\n  </tbody>\n</table>\n</div>"
     },
     "metadata": {},
     "execution_count": 140
    }
   ],
   "source": [
    "big_mountain.T"
   ]
  },
  {
   "cell_type": "code",
   "execution_count": 141,
   "metadata": {},
   "outputs": [
    {
     "output_type": "execute_result",
     "data": {
      "text/plain": [
       "(277, 46)"
      ]
     },
     "metadata": {},
     "execution_count": 141
    }
   ],
   "source": [
    "ski_data.shape"
   ]
  },
  {
   "cell_type": "code",
   "execution_count": 142,
   "metadata": {},
   "outputs": [],
   "source": [
    "ski_data = ski_data[ski_data.Name != 'Big Mountain Resort']"
   ]
  },
  {
   "cell_type": "code",
   "execution_count": 143,
   "metadata": {},
   "outputs": [
    {
     "output_type": "execute_result",
     "data": {
      "text/plain": [
       "(276, 46)"
      ]
     },
     "metadata": {},
     "execution_count": 143
    }
   ],
   "source": [
    "ski_data.shape"
   ]
  },
  {
   "cell_type": "markdown",
   "metadata": {},
   "source": [
    "## 4.6 Train/Test Split<a id='4.6_Train/Test_Split'></a>"
   ]
  },
  {
   "cell_type": "markdown",
   "metadata": {},
   "source": [
    "So far, you've treated ski resort data as a single entity. In machine learning, when you train your model on all of your data, you end up with no data set aside to evaluate model performance. You could keep making more and more complex models that fit the data better and better and not realise you were overfitting to that one set of samples. By partitioning the data into training and testing splits, without letting a model (or missing-value imputation) learn anything about the test split, you have a somewhat independent assessment of how your model might perform in the future. An often overlooked subtlety here is that people all too frequently use the test set to assess model performance _and then compare multiple models to pick the best_. This means their overall model selection process is  fitting to one specific data set, now the test split. You could keep going, trying to get better and better performance on that one data set, but that's  where cross-validation becomes especially useful. While training models, a test split is very useful as a final check on expected future performance."
   ]
  },
  {
   "cell_type": "markdown",
   "metadata": {},
   "source": [
    "What partition sizes would you have with a 70/30 train/test split?"
   ]
  },
  {
   "cell_type": "code",
   "execution_count": 8,
   "metadata": {},
   "outputs": [
    {
     "output_type": "execute_result",
     "data": {
      "text/plain": [
       "(193.2, 82.8)"
      ]
     },
     "metadata": {},
     "execution_count": 8
    }
   ],
   "source": [
    "len(ski_data) * .7, len(ski_data) * .3"
   ]
  },
  {
   "cell_type": "code",
   "execution_count": 9,
   "metadata": {},
   "outputs": [],
   "source": [
    "X_train, X_test, y_train, y_test = train_test_split(ski_data.drop(columns='AdultWeekend'), \n",
    "                                                    ski_data.AdultWeekend, test_size=0.3, \n",
    "                                                    random_state=47)"
   ]
  },
  {
   "cell_type": "code",
   "execution_count": 10,
   "metadata": {},
   "outputs": [
    {
     "output_type": "execute_result",
     "data": {
      "text/plain": [
       "((193, 45), (83, 45))"
      ]
     },
     "metadata": {},
     "execution_count": 10
    }
   ],
   "source": [
    "X_train.shape, X_test.shape"
   ]
  },
  {
   "cell_type": "code",
   "execution_count": 11,
   "metadata": {},
   "outputs": [
    {
     "output_type": "execute_result",
     "data": {
      "text/plain": [
       "((193,), (83,))"
      ]
     },
     "metadata": {},
     "execution_count": 11
    }
   ],
   "source": [
    "y_train.shape, y_test.shape"
   ]
  },
  {
   "cell_type": "code",
   "execution_count": 12,
   "metadata": {},
   "outputs": [
    {
     "output_type": "execute_result",
     "data": {
      "text/plain": [
       "((193, 42), (83, 42))"
      ]
     },
     "metadata": {},
     "execution_count": 12
    }
   ],
   "source": [
    "#Code task 1#\n",
    "#Save the 'Name', 'state', and 'Region' columns from the train/test data into names_train and names_test\n",
    "#Then drop those columns from `X_train` and `X_test`. Use 'inplace=True'\n",
    "names_list = ['Name', 'state', 'Region']\n",
    "names_train = X_train[names_list]\n",
    "names_test = X_test[names_list]\n",
    "X_train.drop(columns=names_list, inplace=True)\n",
    "X_test.drop(columns=names_list, inplace=True)\n",
    "X_train.shape, X_test.shape"
   ]
  },
  {
   "cell_type": "code",
   "execution_count": 13,
   "metadata": {},
   "outputs": [
    {
     "output_type": "execute_result",
     "data": {
      "text/plain": [
       "summit_elev                             int64\n",
       "vertical_drop                           int64\n",
       "base_elev                               int64\n",
       "trams                                   int64\n",
       "fastSixes                               int64\n",
       "fastQuads                               int64\n",
       "quad                                    int64\n",
       "triple                                  int64\n",
       "double                                  int64\n",
       "surface                                 int64\n",
       "total_chairs                            int64\n",
       "Runs                                  float64\n",
       "TerrainParks                          float64\n",
       "LongestRun_mi                         float64\n",
       "SkiableTerrain_ac                     float64\n",
       "Snow Making_ac                        float64\n",
       "daysOpenLastYear                      float64\n",
       "yearsOpen                             float64\n",
       "averageSnowfall                       float64\n",
       "projectedDaysOpen                     float64\n",
       "NightSkiing_ac                        float64\n",
       "resorts_per_state_x                     int64\n",
       "resorts_per_100kcapita_x              float64\n",
       "resorts_per_100ksq_mile_x             float64\n",
       "resort_skiable_area_ac_state_ratio    float64\n",
       "resort_days_open_state_ratio          float64\n",
       "resort_terrain_park_state_ratio       float64\n",
       "resort_night_skiing_state_ratio       float64\n",
       "resorts_per_state_y                     int64\n",
       "resorts_per_100kcapita_y              float64\n",
       "resorts_per_100ksq_mile_y             float64\n",
       "total_chairs_runs_ratio               float64\n",
       "total_chairs_skiable_ratio            float64\n",
       "fastQuads_runs_ratio                  float64\n",
       "fastQuads_skiable_ratio               float64\n",
       "resorts_per_state                       int64\n",
       "state_total_skiable_area_ac           float64\n",
       "state_total_days_open                 float64\n",
       "state_total_terrain_parks             float64\n",
       "state_total_nightskiing_ac            float64\n",
       "resorts_per_100kcapita                float64\n",
       "resorts_per_100ksq_mile               float64\n",
       "dtype: object"
      ]
     },
     "metadata": {},
     "execution_count": 13
    }
   ],
   "source": [
    "#Code task 2#\n",
    "#Check the `dtypes` attribute of `X_train` to verify all features are numeric\n",
    "X_train.dtypes"
   ]
  },
  {
   "cell_type": "code",
   "execution_count": 14,
   "metadata": {},
   "outputs": [
    {
     "output_type": "execute_result",
     "data": {
      "text/plain": [
       "summit_elev                             int64\n",
       "vertical_drop                           int64\n",
       "base_elev                               int64\n",
       "trams                                   int64\n",
       "fastSixes                               int64\n",
       "fastQuads                               int64\n",
       "quad                                    int64\n",
       "triple                                  int64\n",
       "double                                  int64\n",
       "surface                                 int64\n",
       "total_chairs                            int64\n",
       "Runs                                  float64\n",
       "TerrainParks                          float64\n",
       "LongestRun_mi                         float64\n",
       "SkiableTerrain_ac                     float64\n",
       "Snow Making_ac                        float64\n",
       "daysOpenLastYear                      float64\n",
       "yearsOpen                             float64\n",
       "averageSnowfall                       float64\n",
       "projectedDaysOpen                     float64\n",
       "NightSkiing_ac                        float64\n",
       "resorts_per_state_x                     int64\n",
       "resorts_per_100kcapita_x              float64\n",
       "resorts_per_100ksq_mile_x             float64\n",
       "resort_skiable_area_ac_state_ratio    float64\n",
       "resort_days_open_state_ratio          float64\n",
       "resort_terrain_park_state_ratio       float64\n",
       "resort_night_skiing_state_ratio       float64\n",
       "resorts_per_state_y                     int64\n",
       "resorts_per_100kcapita_y              float64\n",
       "resorts_per_100ksq_mile_y             float64\n",
       "total_chairs_runs_ratio               float64\n",
       "total_chairs_skiable_ratio            float64\n",
       "fastQuads_runs_ratio                  float64\n",
       "fastQuads_skiable_ratio               float64\n",
       "resorts_per_state                       int64\n",
       "state_total_skiable_area_ac           float64\n",
       "state_total_days_open                 float64\n",
       "state_total_terrain_parks             float64\n",
       "state_total_nightskiing_ac            float64\n",
       "resorts_per_100kcapita                float64\n",
       "resorts_per_100ksq_mile               float64\n",
       "dtype: object"
      ]
     },
     "metadata": {},
     "execution_count": 14
    }
   ],
   "source": [
    "#Code task 3#\n",
    "#Repeat this check for the test split in `X_test`\n",
    "X_test.dtypes"
   ]
  },
  {
   "cell_type": "markdown",
   "metadata": {},
   "source": [
    "You have only numeric features in your X now!"
   ]
  },
  {
   "cell_type": "markdown",
   "metadata": {},
   "source": [
    "## 4.7 Initial Not-Even-A-Model<a id='4.7_Initial_Not-Even-A-Model'></a>"
   ]
  },
  {
   "cell_type": "markdown",
   "metadata": {},
   "source": [
    "A good place to start is to see how good the mean is as a predictor. In other words, what if you simply say your best guess is the average price?"
   ]
  },
  {
   "cell_type": "code",
   "execution_count": 15,
   "metadata": {},
   "outputs": [
    {
     "output_type": "execute_result",
     "data": {
      "text/plain": [
       "63.811088082901556"
      ]
     },
     "metadata": {},
     "execution_count": 15
    }
   ],
   "source": [
    "#Code task 4#\n",
    "#Calculate the mean of `y_train`\n",
    "train_mean = y_train.mean()\n",
    "train_mean"
   ]
  },
  {
   "cell_type": "markdown",
   "metadata": {},
   "source": [
    "`sklearn`'s `DummyRegressor` easily does this:"
   ]
  },
  {
   "cell_type": "code",
   "execution_count": 16,
   "metadata": {},
   "outputs": [
    {
     "output_type": "execute_result",
     "data": {
      "text/plain": [
       "array([[63.81108808]])"
      ]
     },
     "metadata": {},
     "execution_count": 16
    }
   ],
   "source": [
    "#Code task 5#\n",
    "#Fit the dummy regressor on the training data\n",
    "#Hint, call its `.fit()` method with `X_train` and `y_train` as arguments\n",
    "#Then print the object's `constant_` attribute and verify it's the same as the mean above\n",
    "dumb_reg = DummyRegressor(strategy='mean')\n",
    "dumb_reg.fit(X_train, y_train)\n",
    "dumb_reg.constant_"
   ]
  },
  {
   "cell_type": "markdown",
   "metadata": {},
   "source": [
    "How good is this? How closely does this match, or explain, the actual values? There are many ways of assessing how good one set of values agrees with another, which brings us to the subject of metrics."
   ]
  },
  {
   "cell_type": "markdown",
   "metadata": {},
   "source": [
    "### 4.7.1 Metrics<a id='4.7.1_Metrics'></a>"
   ]
  },
  {
   "cell_type": "markdown",
   "metadata": {},
   "source": [
    "#### 4.7.1.1 R-squared, or coefficient of determination<a id='4.7.1.1_R-squared,_or_coefficient_of_determination'></a>"
   ]
  },
  {
   "cell_type": "markdown",
   "metadata": {},
   "source": [
    "One measure is $R^2$, the [coefficient of determination](https://en.wikipedia.org/wiki/Coefficient_of_determination). This is a measure of the proportion of variance in the dependent variable (our ticket price) that is predicted by our \"model\". The linked Wikipedia articles gives a nice explanation of how negative values can arise. This is frequently a cause of confusion for newcomers who, reasonably, ask how can a squared value be negative?\n",
    "\n",
    "Recall the mean can be denoted by $\\bar{y}$, where\n",
    "\n",
    "$$\\bar{y} = \\frac{1}{n}\\sum_{i=1}^ny_i$$\n",
    "\n",
    "and where $y_i$ are the individual values of the dependent variable.\n",
    "\n",
    "The total sum of squares (error), can be expressed as\n",
    "\n",
    "$$SS_{tot} = \\sum_i(y_i-\\bar{y})^2$$\n",
    "\n",
    "The above formula should be familiar as it's simply the variance without the denominator to scale (divide) by the sample size.\n",
    "\n",
    "The residual sum of squares is similarly defined to be\n",
    "\n",
    "$$SS_{res} = \\sum_i(y_i-\\hat{y})^2$$\n",
    "\n",
    "where $\\hat{y}$ are our predicted values for the depended variable.\n",
    "\n",
    "The coefficient of determination, $R^2$, here is given by\n",
    "\n",
    "$$R^2 = 1 - \\frac{SS_{res}}{SS_{tot}}$$\n",
    "\n",
    "Putting it into words, it's one minus the ratio of the residual variance to the original variance. Thus, the baseline model here, which always predicts $\\bar{y}$, should give $R^2=0$. A model that perfectly predicts the observed values would have no residual error and so give $R^2=1$. Models that do worse than predicting the mean will have increased the sum of squares of residuals and so produce a negative $R^2$."
   ]
  },
  {
   "cell_type": "code",
   "execution_count": 17,
   "metadata": {},
   "outputs": [],
   "source": [
    "#Code task 6#\n",
    "#Calculate the R^2 as defined above\n",
    "def r_squared(y, ypred):\n",
    "    \"\"\"R-squared score.\n",
    "    \n",
    "    Calculate the R-squared, or coefficient of determination, of the input.\n",
    "    \n",
    "    Arguments:\n",
    "    y -- the observed values\n",
    "    ypred -- the predicted values\n",
    "    \"\"\"\n",
    "    ybar = np.sum(y) / len(y) #yes, we could use np.mean(y)\n",
    "    sum_sq_tot = np.sum((y - ybar)**2) #total sum of squares error\n",
    "    sum_sq_res = np.sum((y - ypred)**2) #residual sum of squares error\n",
    "    R2 = 1.0 - sum_sq_res / sum_sq_tot\n",
    "    return R2"
   ]
  },
  {
   "cell_type": "markdown",
   "metadata": {},
   "source": [
    "Make your predictions by creating an array of length the size of the training set with the single value of the mean."
   ]
  },
  {
   "cell_type": "code",
   "execution_count": 18,
   "metadata": {},
   "outputs": [
    {
     "output_type": "execute_result",
     "data": {
      "text/plain": [
       "array([63.81108808, 63.81108808, 63.81108808, 63.81108808, 63.81108808])"
      ]
     },
     "metadata": {},
     "execution_count": 18
    }
   ],
   "source": [
    "y_tr_pred_ = train_mean * np.ones(len(y_train))\n",
    "y_tr_pred_[:5]"
   ]
  },
  {
   "cell_type": "markdown",
   "metadata": {},
   "source": [
    "Remember the `sklearn` dummy regressor? "
   ]
  },
  {
   "cell_type": "code",
   "execution_count": 19,
   "metadata": {},
   "outputs": [
    {
     "output_type": "execute_result",
     "data": {
      "text/plain": [
       "array([63.81108808, 63.81108808, 63.81108808, 63.81108808, 63.81108808])"
      ]
     },
     "metadata": {},
     "execution_count": 19
    }
   ],
   "source": [
    "y_tr_pred = dumb_reg.predict(X_train)\n",
    "y_tr_pred[:5]"
   ]
  },
  {
   "cell_type": "markdown",
   "metadata": {},
   "source": [
    "You can see that `DummyRegressor` produces exactly the same results and saves you having to mess about broadcasting the mean (or whichever other statistic we used - check out the [documentation](https://scikit-learn.org/stable/modules/generated/sklearn.dummy.DummyRegressor.html) to see what's available) to an array of the appropriate length. It also gives you an object with `fit()` and `predict()` methods as well so you can use them as conveniently as any other `sklearn` estimator."
   ]
  },
  {
   "cell_type": "code",
   "execution_count": 20,
   "metadata": {},
   "outputs": [
    {
     "output_type": "execute_result",
     "data": {
      "text/plain": [
       "0.0"
      ]
     },
     "metadata": {},
     "execution_count": 20
    }
   ],
   "source": [
    "r_squared(y_train, y_tr_pred)"
   ]
  },
  {
   "cell_type": "markdown",
   "metadata": {},
   "source": [
    "Exactly as expected, if you use the average value as your prediction, you get an $R^2$ of zero _on our training set_. What if you use this \"model\" to predict unseen values from the test set? Remember, of course, that your \"model\" is trained on the training set; you still use the training set mean as your prediction."
   ]
  },
  {
   "cell_type": "markdown",
   "metadata": {},
   "source": [
    "Make your predictions by creating an array of length the size of the test set with the single value of the (training) mean."
   ]
  },
  {
   "cell_type": "code",
   "execution_count": 21,
   "metadata": {},
   "outputs": [
    {
     "output_type": "execute_result",
     "data": {
      "text/plain": [
       "-0.0031235200417913944"
      ]
     },
     "metadata": {},
     "execution_count": 21
    }
   ],
   "source": [
    "y_te_pred = train_mean * np.ones(len(y_test))\n",
    "r_squared(y_test, y_te_pred)"
   ]
  },
  {
   "cell_type": "markdown",
   "metadata": {},
   "source": [
    "Generally, you can expect performance on a test set to be slightly worse than on the training set. As you are getting an $R^2$ of zero on the training set, there's nowhere to go but negative!"
   ]
  },
  {
   "cell_type": "markdown",
   "metadata": {},
   "source": [
    "$R^2$ is a common metric, and interpretable in terms of the amount of variance explained, it's less appealing if you want an idea of how \"close\" your predictions are to the true values. Metrics that summarise the difference between predicted and actual values are _mean absolute error_ and _mean squared error_."
   ]
  },
  {
   "cell_type": "markdown",
   "metadata": {},
   "source": [
    "#### 4.7.1.2 Mean Absolute Error<a id='4.7.1.2_Mean_Absolute_Error'></a>"
   ]
  },
  {
   "cell_type": "markdown",
   "metadata": {},
   "source": [
    "This is very simply the average of the absolute errors:\n",
    "\n",
    "$$MAE = \\frac{1}{n}\\sum_i^n|y_i - \\hat{y}|$$"
   ]
  },
  {
   "cell_type": "code",
   "execution_count": 22,
   "metadata": {},
   "outputs": [],
   "source": [
    "#Code task 7#\n",
    "#Calculate the MAE as defined above\n",
    "def mae(y, ypred):\n",
    "    \"\"\"Mean absolute error.\n",
    "    \n",
    "    Calculate the mean absolute error of the arguments\n",
    "\n",
    "    Arguments:\n",
    "    y -- the observed values\n",
    "    ypred -- the predicted values\n",
    "    \"\"\"\n",
    "    abs_error = np.abs(y - ypred)\n",
    "    mae = np.mean(abs_error)\n",
    "    return mae"
   ]
  },
  {
   "cell_type": "code",
   "execution_count": 23,
   "metadata": {},
   "outputs": [
    {
     "output_type": "execute_result",
     "data": {
      "text/plain": [
       "17.923463717146785"
      ]
     },
     "metadata": {},
     "execution_count": 23
    }
   ],
   "source": [
    "mae(y_train, y_tr_pred)"
   ]
  },
  {
   "cell_type": "code",
   "execution_count": 24,
   "metadata": {},
   "outputs": [
    {
     "output_type": "execute_result",
     "data": {
      "text/plain": [
       "19.136142081278486"
      ]
     },
     "metadata": {},
     "execution_count": 24
    }
   ],
   "source": [
    "mae(y_test, y_te_pred)"
   ]
  },
  {
   "cell_type": "markdown",
   "metadata": {},
   "source": [
    "Mean absolute error is arguably the most intuitive of all the metrics, this essentially tells you that, on average, you might expect to be off by around \\\\$19 if you guessed ticket price based on an average of known values."
   ]
  },
  {
   "cell_type": "markdown",
   "metadata": {},
   "source": [
    "#### 4.7.1.3 Mean Squared Error<a id='4.7.1.3_Mean_Squared_Error'></a>"
   ]
  },
  {
   "cell_type": "markdown",
   "metadata": {},
   "source": [
    "Another common metric (and an important one internally for optimizing machine learning models) is the mean squared error. This is simply the average of the square of the errors:\n",
    "\n",
    "$$MSE = \\frac{1}{n}\\sum_i^n(y_i - \\hat{y})^2$$"
   ]
  },
  {
   "cell_type": "code",
   "execution_count": 25,
   "metadata": {
    "scrolled": true
   },
   "outputs": [],
   "source": [
    "#Code task 8#\n",
    "#Calculate the MSE as defined above\n",
    "def mse(y, ypred):\n",
    "    \"\"\"Mean square error.\n",
    "    \n",
    "    Calculate the mean square error of the arguments\n",
    "\n",
    "    Arguments:\n",
    "    y -- the observed values\n",
    "    ypred -- the predicted values\n",
    "    \"\"\"\n",
    "    sq_error = (y - ypred)**2\n",
    "    mse = np.mean(sq_error)\n",
    "    return mse"
   ]
  },
  {
   "cell_type": "code",
   "execution_count": 26,
   "metadata": {},
   "outputs": [
    {
     "output_type": "execute_result",
     "data": {
      "text/plain": [
       "614.1334096969057"
      ]
     },
     "metadata": {},
     "execution_count": 26
    }
   ],
   "source": [
    "mse(y_train, y_tr_pred)"
   ]
  },
  {
   "cell_type": "code",
   "execution_count": 27,
   "metadata": {},
   "outputs": [
    {
     "output_type": "execute_result",
     "data": {
      "text/plain": [
       "581.4365441953481"
      ]
     },
     "metadata": {},
     "execution_count": 27
    }
   ],
   "source": [
    "mse(y_test, y_te_pred)"
   ]
  },
  {
   "cell_type": "markdown",
   "metadata": {},
   "source": [
    "So here, you get a slightly better MSE on the test set than you did on the train set. And what does a squared error mean anyway? To convert this back to our measurement space, we often take the square root, to form the _root mean square error_ thus:"
   ]
  },
  {
   "cell_type": "code",
   "execution_count": 28,
   "metadata": {},
   "outputs": [
    {
     "output_type": "execute_result",
     "data": {
      "text/plain": [
       "array([24.78171523, 24.11299534])"
      ]
     },
     "metadata": {},
     "execution_count": 28
    }
   ],
   "source": [
    "np.sqrt([mse(y_train, y_tr_pred), mse(y_test, y_te_pred)])"
   ]
  },
  {
   "cell_type": "markdown",
   "metadata": {},
   "source": [
    "### 4.7.2 sklearn metrics<a id='4.7.2_sklearn_metrics'></a>"
   ]
  },
  {
   "cell_type": "markdown",
   "metadata": {},
   "source": [
    "Functions are good, but you don't want to have to define functions every time we want to assess performance. `sklearn.metrics` provides many commonly used metrics, included the ones above."
   ]
  },
  {
   "cell_type": "markdown",
   "metadata": {},
   "source": [
    "##### 4.7.2.0.1 R-squared<a id='4.7.2.0.1_R-squared'></a>"
   ]
  },
  {
   "cell_type": "code",
   "execution_count": 29,
   "metadata": {},
   "outputs": [
    {
     "output_type": "execute_result",
     "data": {
      "text/plain": [
       "(0.0, -0.0031235200417913944)"
      ]
     },
     "metadata": {},
     "execution_count": 29
    }
   ],
   "source": [
    "r2_score(y_train, y_tr_pred), r2_score(y_test, y_te_pred)"
   ]
  },
  {
   "cell_type": "markdown",
   "metadata": {},
   "source": [
    "##### 4.7.2.0.2 Mean absolute error<a id='4.7.2.0.2_Mean_absolute_error'></a>"
   ]
  },
  {
   "cell_type": "code",
   "execution_count": 30,
   "metadata": {},
   "outputs": [
    {
     "output_type": "execute_result",
     "data": {
      "text/plain": [
       "(17.92346371714677, 19.136142081278486)"
      ]
     },
     "metadata": {},
     "execution_count": 30
    }
   ],
   "source": [
    "mean_absolute_error(y_train, y_tr_pred), mean_absolute_error(y_test, y_te_pred)"
   ]
  },
  {
   "cell_type": "markdown",
   "metadata": {},
   "source": [
    "##### 4.7.2.0.3 Mean squared error<a id='4.7.2.0.3_Mean_squared_error'></a>"
   ]
  },
  {
   "cell_type": "code",
   "execution_count": 31,
   "metadata": {},
   "outputs": [
    {
     "output_type": "execute_result",
     "data": {
      "text/plain": [
       "(614.1334096969046, 581.4365441953483)"
      ]
     },
     "metadata": {},
     "execution_count": 31
    }
   ],
   "source": [
    "mean_squared_error(y_train, y_tr_pred), mean_squared_error(y_test, y_te_pred)"
   ]
  },
  {
   "cell_type": "markdown",
   "metadata": {},
   "source": [
    "### 4.7.3 Note On Calculating Metrics<a id='4.7.3_Note_On_Calculating_Metrics'></a>"
   ]
  },
  {
   "cell_type": "markdown",
   "metadata": {},
   "source": [
    "When calling functions to calculate metrics, it is important to take care in the order of the arguments. Two of the metrics above actually don't care if the arguments are reversed; one does. Which one cares?"
   ]
  },
  {
   "cell_type": "markdown",
   "metadata": {},
   "source": [
    "In a Jupyter code cell, running `r2_score?` will bring up the docstring for the function, and `r2_score??` will bring up the actual code of the function! Try them and compare the source for `sklearn`'s function with yours. Feel free to explore what happens when you reverse the order of the arguments and compare behaviour of `sklearn`'s function and yours."
   ]
  },
  {
   "cell_type": "code",
   "execution_count": 32,
   "metadata": {},
   "outputs": [
    {
     "output_type": "execute_result",
     "data": {
      "text/plain": [
       "(0.0, -3.041041349306602e+30)"
      ]
     },
     "metadata": {},
     "execution_count": 32
    }
   ],
   "source": [
    "# train set - sklearn\n",
    "# correct order, incorrect order\n",
    "r2_score(y_train, y_tr_pred), r2_score(y_tr_pred, y_train)"
   ]
  },
  {
   "cell_type": "code",
   "execution_count": 33,
   "metadata": {},
   "outputs": [
    {
     "output_type": "execute_result",
     "data": {
      "text/plain": [
       "(-0.0031235200417913944, 0.0)"
      ]
     },
     "metadata": {},
     "execution_count": 33
    }
   ],
   "source": [
    "# test set - sklearn\n",
    "# correct order, incorrect order\n",
    "r2_score(y_test, y_te_pred), r2_score(y_te_pred, y_test)"
   ]
  },
  {
   "cell_type": "code",
   "execution_count": 34,
   "metadata": {},
   "outputs": [
    {
     "output_type": "execute_result",
     "data": {
      "text/plain": [
       "(0.0, -3.041041349306602e+30)"
      ]
     },
     "metadata": {},
     "execution_count": 34
    }
   ],
   "source": [
    "# train set - using our homebrew function\n",
    "# correct order, incorrect order\n",
    "r_squared(y_train, y_tr_pred), r_squared(y_tr_pred, y_train)"
   ]
  },
  {
   "cell_type": "code",
   "execution_count": 35,
   "metadata": {},
   "outputs": [
    {
     "output_type": "execute_result",
     "data": {
      "text/plain": [
       "(-0.0031235200417913944, -inf)"
      ]
     },
     "metadata": {},
     "execution_count": 35
    }
   ],
   "source": [
    "# test set - using our homebrew function\n",
    "# correct order, incorrect order\n",
    "r_squared(y_test, y_te_pred), r_squared(y_te_pred, y_test)"
   ]
  },
  {
   "cell_type": "markdown",
   "metadata": {},
   "source": [
    "You can get very different results swapping the argument order. It's worth highlighting this because data scientists do this too much in the real world! Don't be one of them! Frequently the argument order doesn't matter, but it will bite you when you do it with a function that does care. It's sloppy, bad practice and if you don't make a habit of putting arguments in the right order, you will forget!\n",
    "\n",
    "Remember:\n",
    "* argument order matters,\n",
    "* check function syntax with `func?` in a code cell"
   ]
  },
  {
   "cell_type": "markdown",
   "metadata": {},
   "source": [
    "## 4.8 Initial Models<a id='4.8_Initial_Models'></a>"
   ]
  },
  {
   "cell_type": "markdown",
   "metadata": {},
   "source": [
    "### 4.8.1 Imputing missing feature (predictor) values<a id='4.8.1_Imputing_missing_feature_(predictor)_values'></a>"
   ]
  },
  {
   "cell_type": "markdown",
   "metadata": {},
   "source": [
    "Recall when performing EDA, you imputed (filled in) some missing values in pandas. You did this judiciously for exploratory/visualization purposes. You left many missing values in the data. You can impute missing values using scikit-learn, but note that you should learn values to impute from a train split and apply that to the test split to then assess how well your imputation worked."
   ]
  },
  {
   "cell_type": "markdown",
   "metadata": {},
   "source": [
    "#### 4.8.1.1 Impute missing values with median<a id='4.8.1.1_Impute_missing_values_with_median'></a>"
   ]
  },
  {
   "cell_type": "markdown",
   "metadata": {},
   "source": [
    "There's missing values. Recall from your data exploration that many distributions were skewed. Your first thought might be to impute missing values using the median."
   ]
  },
  {
   "cell_type": "markdown",
   "metadata": {},
   "source": [
    "##### 4.8.1.1.1 Learn the values to impute from the train set<a id='4.8.1.1.1_Learn_the_values_to_impute_from_the_train_set'></a>"
   ]
  },
  {
   "cell_type": "code",
   "execution_count": 36,
   "metadata": {},
   "outputs": [
    {
     "output_type": "execute_result",
     "data": {
      "text/plain": [
       "summit_elev                           2215.000000\n",
       "vertical_drop                          750.000000\n",
       "base_elev                             1300.000000\n",
       "trams                                    0.000000\n",
       "fastSixes                                0.000000\n",
       "fastQuads                                0.000000\n",
       "quad                                     1.000000\n",
       "triple                                   1.000000\n",
       "double                                   1.000000\n",
       "surface                                  2.000000\n",
       "total_chairs                             7.000000\n",
       "Runs                                    28.000000\n",
       "TerrainParks                             2.000000\n",
       "LongestRun_mi                            1.000000\n",
       "SkiableTerrain_ac                      170.000000\n",
       "Snow Making_ac                          96.500000\n",
       "daysOpenLastYear                       109.000000\n",
       "yearsOpen                               57.000000\n",
       "averageSnowfall                        120.000000\n",
       "projectedDaysOpen                      115.000000\n",
       "NightSkiing_ac                          70.000000\n",
       "resorts_per_state_x                     14.000000\n",
       "resorts_per_100kcapita_x                 0.240449\n",
       "resorts_per_100ksq_mile_x               16.508461\n",
       "resort_skiable_area_ac_state_ratio       0.064103\n",
       "resort_days_open_state_ratio             0.081710\n",
       "resort_terrain_park_state_ratio          0.090909\n",
       "resort_night_skiing_state_ratio          0.087805\n",
       "resorts_per_state_y                     14.000000\n",
       "resorts_per_100kcapita_y                 0.240449\n",
       "resorts_per_100ksq_mile_y               16.508461\n",
       "total_chairs_runs_ratio                  0.200000\n",
       "total_chairs_skiable_ratio               0.040323\n",
       "fastQuads_runs_ratio                     0.000000\n",
       "fastQuads_skiable_ratio                  0.000000\n",
       "resorts_per_state                       14.000000\n",
       "state_total_skiable_area_ac           3742.000000\n",
       "state_total_days_open                 1402.000000\n",
       "state_total_terrain_parks               29.000000\n",
       "state_total_nightskiing_ac             580.000000\n",
       "resorts_per_100kcapita                   0.240449\n",
       "resorts_per_100ksq_mile                 16.508461\n",
       "dtype: float64"
      ]
     },
     "metadata": {},
     "execution_count": 36
    }
   ],
   "source": [
    "# These are the values we'll use to fill in any missing values\n",
    "X_defaults_median = X_train.median()\n",
    "X_defaults_median"
   ]
  },
  {
   "cell_type": "markdown",
   "metadata": {},
   "source": [
    "##### 4.8.1.1.2 Apply the imputation to both train and test splits<a id='4.8.1.1.2_Apply_the_imputation_to_both_train_and_test_splits'></a>"
   ]
  },
  {
   "cell_type": "code",
   "execution_count": 37,
   "metadata": {},
   "outputs": [],
   "source": [
    "#Code task 9#\n",
    "#Call `X_train` and `X_test`'s `fillna()` method, passing `X_defaults_median` as the values to use\n",
    "#Assign the results to `X_tr` and `X_te`, respectively\n",
    "X_tr = X_train.fillna(X_defaults_median)\n",
    "X_te = X_test.fillna(X_defaults_median)"
   ]
  },
  {
   "cell_type": "markdown",
   "metadata": {},
   "source": [
    "##### 4.8.1.1.3 Scale the data<a id='4.8.1.1.3_Scale_the_data'></a>"
   ]
  },
  {
   "cell_type": "markdown",
   "metadata": {},
   "source": [
    "As you have features measured in many different units, with numbers that vary by orders of magnitude, start off by scaling them to put them all on a consistent scale. The [StandardScaler](https://scikit-learn.org/stable/modules/generated/sklearn.preprocessing.StandardScaler.html) scales each feature to zero mean and unit variance."
   ]
  },
  {
   "cell_type": "code",
   "execution_count": 38,
   "metadata": {},
   "outputs": [],
   "source": [
    "#Code task 10#\n",
    "#Call the StandardScaler`s fit method on `X_tr` to fit the scaler\n",
    "#then use it's `transform()` method to apply the scaling to both the train and test split\n",
    "#data (`X_tr` and `X_te`), naming the results `X_tr_scaled` and `X_te_scaled`, respectively\n",
    "scaler = StandardScaler()\n",
    "scaler.fit(X_tr)\n",
    "X_tr_scaled = scaler.transform(X_tr)\n",
    "X_te_scaled = scaler.transform(X_te)"
   ]
  },
  {
   "cell_type": "markdown",
   "metadata": {},
   "source": [
    "##### 4.8.1.1.4 Train the model on the train split<a id='4.8.1.1.4_Train_the_model_on_the_train_split'></a>"
   ]
  },
  {
   "cell_type": "code",
   "execution_count": 39,
   "metadata": {},
   "outputs": [],
   "source": [
    "lm = LinearRegression().fit(X_tr_scaled, y_train)"
   ]
  },
  {
   "cell_type": "markdown",
   "metadata": {},
   "source": [
    "##### 4.8.1.1.5 Make predictions using the model on both train and test splits<a id='4.8.1.1.5_Make_predictions_using_the_model_on_both_train_and_test_splits'></a>"
   ]
  },
  {
   "cell_type": "code",
   "execution_count": 40,
   "metadata": {},
   "outputs": [],
   "source": [
    "#Code task 11#\n",
    "#Call the `predict()` method of the model (`lm`) on both the (scaled) train and test data\n",
    "#Assign the predictions to `y_tr_pred` and `y_te_pred`, respectively\n",
    "y_tr_pred = lm.predict(X_tr_scaled)\n",
    "y_te_pred = lm.predict(X_te_scaled)"
   ]
  },
  {
   "cell_type": "markdown",
   "metadata": {},
   "source": [
    "##### 4.8.1.1.6 Assess model performance<a id='4.8.1.1.6_Assess_model_performance'></a>"
   ]
  },
  {
   "cell_type": "code",
   "execution_count": 41,
   "metadata": {},
   "outputs": [
    {
     "output_type": "execute_result",
     "data": {
      "text/plain": [
       "(0.8372633288483572, 0.6710584049833883)"
      ]
     },
     "metadata": {},
     "execution_count": 41
    }
   ],
   "source": [
    "# r^2 - train, test\n",
    "median_r2 = r2_score(y_train, y_tr_pred), r2_score(y_test, y_te_pred)\n",
    "median_r2"
   ]
  },
  {
   "cell_type": "markdown",
   "metadata": {},
   "source": [
    "Recall that you estimated ticket price by simply using a known average. As expected, this produced an $R^2$ of zero for both the training and test set, because $R^2$ tells us how much of the variance you're explaining beyond that of using just the mean, and you were using just the mean. Here we see that our simple linear regression model explains over 80% of the variance on the train set and over 70% on the test set. Clearly you are onto something, although the much lower value for the test set suggests you're overfitting somewhat. This isn't a surprise as you've made no effort to select a parsimonious set of features or deal with multicollinearity in our data."
   ]
  },
  {
   "cell_type": "code",
   "execution_count": 42,
   "metadata": {},
   "outputs": [
    {
     "output_type": "execute_result",
     "data": {
      "text/plain": [
       "(8.056747706685819, 10.05645314997142)"
      ]
     },
     "metadata": {},
     "execution_count": 42
    }
   ],
   "source": [
    "#Code task 12#\n",
    "#Now calculate the mean absolute error scores using `sklearn`'s `mean_absolute_error` function\n",
    "# as we did above for R^2\n",
    "# MAE - train, test\n",
    "median_mae = mae(y_train, y_tr_pred), mae(y_test, y_te_pred)\n",
    "median_mae"
   ]
  },
  {
   "cell_type": "markdown",
   "metadata": {},
   "source": [
    "Using this model, then, on average you'd expect to estimate a ticket price within \\\\$9 or so of the real price. This is much, much better than the \\\\$19 from just guessing using the average. There may be something to this machine learning lark after all!"
   ]
  },
  {
   "cell_type": "code",
   "execution_count": 43,
   "metadata": {},
   "outputs": [
    {
     "output_type": "execute_result",
     "data": {
      "text/plain": [
       "(99.94202673708227, 190.66312415902323)"
      ]
     },
     "metadata": {},
     "execution_count": 43
    }
   ],
   "source": [
    "#Code task 13#\n",
    "#And also do the same using `sklearn`'s `mean_squared_error`\n",
    "# MSE - train, test\n",
    "median_mse = mse(y_train, y_tr_pred), mse(y_test, y_te_pred)\n",
    "median_mse"
   ]
  },
  {
   "cell_type": "markdown",
   "metadata": {},
   "source": [
    "#### 4.8.1.2 Impute missing values with the mean<a id='4.8.1.2_Impute_missing_values_with_the_mean'></a>"
   ]
  },
  {
   "cell_type": "markdown",
   "metadata": {},
   "source": [
    "You chose to use the median for filling missing values because of the skew of many of our predictor feature distributions. What if you wanted to try something else, such as the mean?"
   ]
  },
  {
   "cell_type": "markdown",
   "metadata": {},
   "source": [
    "##### 4.8.1.2.1 Learn the values to impute from the train set<a id='4.8.1.2.1_Learn_the_values_to_impute_from_the_train_set'></a>"
   ]
  },
  {
   "cell_type": "code",
   "execution_count": 44,
   "metadata": {},
   "outputs": [
    {
     "output_type": "execute_result",
     "data": {
      "text/plain": [
       "summit_elev                           4074.554404\n",
       "vertical_drop                         1043.196891\n",
       "base_elev                             3020.512953\n",
       "trams                                    0.103627\n",
       "fastSixes                                0.072539\n",
       "fastQuads                                0.673575\n",
       "quad                                     1.010363\n",
       "triple                                   1.440415\n",
       "double                                   1.813472\n",
       "surface                                  2.497409\n",
       "total_chairs                             7.611399\n",
       "Runs                                    41.188482\n",
       "TerrainParks                             2.434783\n",
       "LongestRun_mi                            1.293122\n",
       "SkiableTerrain_ac                      448.785340\n",
       "Snow Making_ac                         129.601190\n",
       "daysOpenLastYear                       110.100629\n",
       "yearsOpen                               56.559585\n",
       "averageSnowfall                        162.310160\n",
       "projectedDaysOpen                      115.920245\n",
       "NightSkiing_ac                          86.384615\n",
       "resorts_per_state_x                     14.518135\n",
       "resorts_per_100kcapita_x                 0.351899\n",
       "resorts_per_100ksq_mile_x               35.690324\n",
       "resort_skiable_area_ac_state_ratio       0.109497\n",
       "resort_days_open_state_ratio             0.144236\n",
       "resort_terrain_park_state_ratio          0.134344\n",
       "resort_night_skiing_state_ratio          0.174531\n",
       "resorts_per_state_y                     14.518135\n",
       "resorts_per_100kcapita_y                 0.351899\n",
       "resorts_per_100ksq_mile_y               35.690324\n",
       "total_chairs_runs_ratio                  0.271441\n",
       "total_chairs_skiable_ratio               0.070483\n",
       "fastQuads_runs_ratio                     0.010401\n",
       "fastQuads_skiable_ratio                  0.001633\n",
       "resorts_per_state                       14.518135\n",
       "state_total_skiable_area_ac           5937.777202\n",
       "state_total_days_open                 1305.922280\n",
       "state_total_terrain_parks               31.984456\n",
       "state_total_nightskiing_ac             925.295337\n",
       "resorts_per_100kcapita                   0.351899\n",
       "resorts_per_100ksq_mile                 35.690324\n",
       "dtype: float64"
      ]
     },
     "metadata": {},
     "execution_count": 44
    }
   ],
   "source": [
    "#Code task 14#\n",
    "#As we did for the median above, calculate mean values for imputing missing values\n",
    "# These are the values we'll use to fill in any missing values\n",
    "X_defaults_mean = X_train.mean()\n",
    "X_defaults_mean"
   ]
  },
  {
   "cell_type": "markdown",
   "metadata": {},
   "source": [
    "By eye, you can immediately tell that your replacement values are much higher than those from using the median."
   ]
  },
  {
   "cell_type": "markdown",
   "metadata": {},
   "source": [
    "##### 4.8.1.2.2 Apply the imputation to both train and test splits<a id='4.8.1.2.2_Apply_the_imputation_to_both_train_and_test_splits'></a>"
   ]
  },
  {
   "cell_type": "code",
   "execution_count": 45,
   "metadata": {},
   "outputs": [],
   "source": [
    "X_tr = X_train.fillna(X_defaults_mean)\n",
    "X_te = X_test.fillna(X_defaults_mean)"
   ]
  },
  {
   "cell_type": "markdown",
   "metadata": {},
   "source": [
    "##### 4.8.1.2.3 Scale the data<a id='4.8.1.2.3_Scale_the_data'></a>"
   ]
  },
  {
   "cell_type": "code",
   "execution_count": 46,
   "metadata": {},
   "outputs": [],
   "source": [
    "scaler = StandardScaler()\n",
    "scaler.fit(X_tr)\n",
    "X_tr_scaled = scaler.transform(X_tr)\n",
    "X_te_scaled = scaler.transform(X_te)"
   ]
  },
  {
   "cell_type": "markdown",
   "metadata": {},
   "source": [
    "##### 4.8.1.2.4 Train the model on the train split<a id='4.8.1.2.4_Train_the_model_on_the_train_split'></a>"
   ]
  },
  {
   "cell_type": "code",
   "execution_count": 47,
   "metadata": {},
   "outputs": [],
   "source": [
    "lm = LinearRegression().fit(X_tr_scaled, y_train)"
   ]
  },
  {
   "cell_type": "markdown",
   "metadata": {},
   "source": [
    "##### 4.8.1.2.5 Make predictions using the model on both train and test splits<a id='4.8.1.2.5_Make_predictions_using_the_model_on_both_train_and_test_splits'></a>"
   ]
  },
  {
   "cell_type": "code",
   "execution_count": 48,
   "metadata": {},
   "outputs": [],
   "source": [
    "y_tr_pred = lm.predict(X_tr_scaled)\n",
    "y_te_pred = lm.predict(X_te_scaled)"
   ]
  },
  {
   "cell_type": "markdown",
   "metadata": {},
   "source": [
    "##### 4.8.1.2.6 Assess model performance<a id='4.8.1.2.6_Assess_model_performance'></a>"
   ]
  },
  {
   "cell_type": "code",
   "execution_count": 49,
   "metadata": {},
   "outputs": [
    {
     "output_type": "execute_result",
     "data": {
      "text/plain": [
       "(0.8364400087017552, 0.6692864081818676)"
      ]
     },
     "metadata": {},
     "execution_count": 49
    }
   ],
   "source": [
    "r2_score(y_train, y_tr_pred), r2_score(y_test, y_te_pred)"
   ]
  },
  {
   "cell_type": "code",
   "execution_count": 50,
   "metadata": {},
   "outputs": [
    {
     "output_type": "execute_result",
     "data": {
      "text/plain": [
       "(8.079990612262709, 10.01684198884207)"
      ]
     },
     "metadata": {},
     "execution_count": 50
    }
   ],
   "source": [
    "mean_absolute_error(y_train, y_tr_pred), mean_absolute_error(y_test, y_te_pred)"
   ]
  },
  {
   "cell_type": "code",
   "execution_count": 51,
   "metadata": {},
   "outputs": [
    {
     "output_type": "execute_result",
     "data": {
      "text/plain": [
       "(100.44765514598711, 191.690219702111)"
      ]
     },
     "metadata": {},
     "execution_count": 51
    }
   ],
   "source": [
    "mean_squared_error(y_train, y_tr_pred), mean_squared_error(y_test, y_te_pred)"
   ]
  },
  {
   "cell_type": "markdown",
   "metadata": {},
   "source": [
    "These results don't seem very different to when you used the median for imputing missing values. Perhaps it doesn't make much difference here. Maybe your overtraining dominates. Maybe other feature transformations, such as taking the log, would help. You could try with just a subset of features rather than using all of them as inputs.\n",
    "\n",
    "To perform the median/mean comparison, you copied and pasted a lot of code just to change the function for imputing missing values. It would make more sense to write a function that performed the sequence of steps:\n",
    "1. impute missing values\n",
    "2. scale the features\n",
    "3. train a model\n",
    "4. calculate model performance\n",
    "\n",
    "But these are common steps and `sklearn` provides something much better than writing custom functions."
   ]
  },
  {
   "cell_type": "markdown",
   "metadata": {},
   "source": [
    "### 4.8.2 Pipelines<a id='4.8.2_Pipelines'></a>"
   ]
  },
  {
   "cell_type": "markdown",
   "metadata": {},
   "source": [
    "One of the most important and useful components of `sklearn` is the [pipeline](https://scikit-learn.org/stable/modules/generated/sklearn.pipeline.Pipeline.html). In place of `panda`'s `fillna` DataFrame method, there is `sklearn`'s `SimpleImputer`. Remember the first linear model above performed the steps:\n",
    "\n",
    "1. replace missing values with the median for each feature\n",
    "2. scale the data to zero mean and unit variance\n",
    "3. train a linear regression model\n",
    "\n",
    "and all these steps were trained on the train split and then applied to the test split for assessment.\n",
    "\n",
    "The pipeline below defines exactly those same steps. Crucially, the resultant `Pipeline` object has a `fit()` method and a `predict()` method, just like the `LinearRegression()` object itself. Just as you might create a linear regression model and train it with `.fit()` and predict with `.predict()`, you can wrap the entire process of imputing and feature scaling and regression in a single object you can train with `.fit()` and predict with `.predict()`. And that's basically a pipeline: a model on steroids."
   ]
  },
  {
   "cell_type": "markdown",
   "metadata": {},
   "source": [
    "#### 4.8.2.1 Define the pipeline<a id='4.8.2.1_Define_the_pipeline'></a>"
   ]
  },
  {
   "cell_type": "code",
   "execution_count": 52,
   "metadata": {},
   "outputs": [],
   "source": [
    "pipe = make_pipeline(\n",
    "    SimpleImputer(strategy='median'), \n",
    "    StandardScaler(), \n",
    "    LinearRegression()\n",
    ")"
   ]
  },
  {
   "cell_type": "code",
   "execution_count": 53,
   "metadata": {},
   "outputs": [
    {
     "output_type": "execute_result",
     "data": {
      "text/plain": [
       "sklearn.pipeline.Pipeline"
      ]
     },
     "metadata": {},
     "execution_count": 53
    }
   ],
   "source": [
    "type(pipe)"
   ]
  },
  {
   "cell_type": "code",
   "execution_count": 54,
   "metadata": {},
   "outputs": [
    {
     "output_type": "execute_result",
     "data": {
      "text/plain": [
       "(True, True)"
      ]
     },
     "metadata": {},
     "execution_count": 54
    }
   ],
   "source": [
    "hasattr(pipe, 'fit'), hasattr(pipe, 'predict')"
   ]
  },
  {
   "cell_type": "markdown",
   "metadata": {},
   "source": [
    "#### 4.8.2.2 Fit the pipeline<a id='4.8.2.2_Fit_the_pipeline'></a>"
   ]
  },
  {
   "cell_type": "markdown",
   "metadata": {},
   "source": [
    "Here, a single call to the pipeline's `fit()` method combines the steps of learning the imputation (determining what values to use to fill the missing ones), the scaling (determining the mean to subtract and the variance to divide by), and then training the model. It does this all in the one call with the training data as arguments."
   ]
  },
  {
   "cell_type": "code",
   "execution_count": 55,
   "metadata": {},
   "outputs": [
    {
     "output_type": "execute_result",
     "data": {
      "text/plain": [
       "Pipeline(steps=[('simpleimputer', SimpleImputer(strategy='median')),\n",
       "                ('standardscaler', StandardScaler()),\n",
       "                ('linearregression', LinearRegression())])"
      ]
     },
     "metadata": {},
     "execution_count": 55
    }
   ],
   "source": [
    "#Code task 15#\n",
    "#Call the pipe's `fit()` method with `X_train` and `y_train` as arguments\n",
    "pipe.fit(X_train, y_train)"
   ]
  },
  {
   "cell_type": "markdown",
   "metadata": {},
   "source": [
    "#### 4.8.2.3 Make predictions on the train and test sets<a id='4.8.2.3_Make_predictions_on_the_train_and_test_sets'></a>"
   ]
  },
  {
   "cell_type": "code",
   "execution_count": 56,
   "metadata": {},
   "outputs": [],
   "source": [
    "y_tr_pred = pipe.predict(X_train)\n",
    "y_te_pred = pipe.predict(X_test)"
   ]
  },
  {
   "cell_type": "markdown",
   "metadata": {},
   "source": [
    "#### 4.8.2.4 Assess performance<a id='4.8.2.4_Assess_performance'></a>"
   ]
  },
  {
   "cell_type": "code",
   "execution_count": 57,
   "metadata": {},
   "outputs": [
    {
     "output_type": "execute_result",
     "data": {
      "text/plain": [
       "(0.8372633288483572, 0.6710584049833883)"
      ]
     },
     "metadata": {},
     "execution_count": 57
    }
   ],
   "source": [
    "r2_score(y_train, y_tr_pred), r2_score(y_test, y_te_pred)"
   ]
  },
  {
   "cell_type": "markdown",
   "metadata": {},
   "source": [
    "And compare with your earlier (non-pipeline) result:"
   ]
  },
  {
   "cell_type": "code",
   "execution_count": 58,
   "metadata": {},
   "outputs": [
    {
     "output_type": "execute_result",
     "data": {
      "text/plain": [
       "(0.8372633288483572, 0.6710584049833883)"
      ]
     },
     "metadata": {},
     "execution_count": 58
    }
   ],
   "source": [
    "median_r2"
   ]
  },
  {
   "cell_type": "code",
   "execution_count": 59,
   "metadata": {},
   "outputs": [
    {
     "output_type": "execute_result",
     "data": {
      "text/plain": [
       "(8.056747706685815, 10.056453149971416)"
      ]
     },
     "metadata": {},
     "execution_count": 59
    }
   ],
   "source": [
    "mean_absolute_error(y_train, y_tr_pred), mean_absolute_error(y_test, y_te_pred)"
   ]
  },
  {
   "source": [
    "Compare with your earlier result:"
   ],
   "cell_type": "markdown",
   "metadata": {}
  },
  {
   "cell_type": "code",
   "execution_count": 60,
   "metadata": {},
   "outputs": [
    {
     "output_type": "execute_result",
     "data": {
      "text/plain": [
       "(8.056747706685819, 10.05645314997142)"
      ]
     },
     "metadata": {},
     "execution_count": 60
    }
   ],
   "source": [
    "median_mae"
   ]
  },
  {
   "cell_type": "code",
   "execution_count": 61,
   "metadata": {},
   "outputs": [
    {
     "output_type": "execute_result",
     "data": {
      "text/plain": [
       "(99.94202673708227, 190.66312415902323)"
      ]
     },
     "metadata": {},
     "execution_count": 61
    }
   ],
   "source": [
    "mean_squared_error(y_train, y_tr_pred), mean_squared_error(y_test, y_te_pred)"
   ]
  },
  {
   "cell_type": "markdown",
   "metadata": {},
   "source": [
    "Compare with your earlier result:"
   ]
  },
  {
   "cell_type": "code",
   "execution_count": 62,
   "metadata": {},
   "outputs": [
    {
     "output_type": "execute_result",
     "data": {
      "text/plain": [
       "(99.94202673708227, 190.66312415902323)"
      ]
     },
     "metadata": {},
     "execution_count": 62
    }
   ],
   "source": [
    "median_mse"
   ]
  },
  {
   "cell_type": "markdown",
   "metadata": {},
   "source": [
    "These results confirm the pipeline is doing exactly what's expected, and results are identical to your earlier steps. This allows you to move faster but with confidence."
   ]
  },
  {
   "cell_type": "markdown",
   "metadata": {},
   "source": [
    "## 4.9 Refining The Linear Model<a id='4.9_Refining_The_Linear_Model'></a>"
   ]
  },
  {
   "cell_type": "markdown",
   "metadata": {},
   "source": [
    "You suspected the model was overfitting. This is no real surprise given the number of features you blindly used. It's likely a judicious subset of features would generalize better. `sklearn` has a number of feature selection functions available. The one you'll use here is `SelectKBest` which, as you might guess, selects the k best features. You can read about SelectKBest \n",
    "[here](https://scikit-learn.org/stable/modules/generated/sklearn.feature_selection.SelectKBest.html#sklearn.feature_selection.SelectKBest). `f_regression` is just the [score function](https://scikit-learn.org/stable/modules/generated/sklearn.feature_selection.f_regression.html#sklearn.feature_selection.f_regression) you're using because you're performing regression. It's important to choose an appropriate one for your machine learning task."
   ]
  },
  {
   "cell_type": "markdown",
   "metadata": {},
   "source": [
    "### 4.9.1 Define the pipeline<a id='4.9.1_Define_the_pipeline'></a>"
   ]
  },
  {
   "cell_type": "markdown",
   "metadata": {},
   "source": [
    "Redefine your pipeline to include this feature selection step:"
   ]
  },
  {
   "cell_type": "code",
   "execution_count": 151,
   "metadata": {},
   "outputs": [],
   "source": [
    "#Code task 16#\n",
    "#Add `SelectKBest` as a step in the pipeline between `StandardScaler()` and `LinearRegression()`\n",
    "#Don't forget to tell it to use `f_regression` as its score function\n",
    "pipe = make_pipeline(\n",
    "    SimpleImputer(strategy='median'), \n",
    "    StandardScaler(),\n",
    "    SelectKBest(f_regression),\n",
    "    LinearRegression()\n",
    ")"
   ]
  },
  {
   "cell_type": "markdown",
   "metadata": {},
   "source": [
    "### 4.9.2 Fit the pipeline<a id='4.9.2_Fit_the_pipeline'></a>"
   ]
  },
  {
   "cell_type": "code",
   "execution_count": 152,
   "metadata": {},
   "outputs": [
    {
     "output_type": "execute_result",
     "data": {
      "text/plain": [
       "Pipeline(steps=[('simpleimputer', SimpleImputer(strategy='median')),\n",
       "                ('standardscaler', StandardScaler()),\n",
       "                ('selectkbest',\n",
       "                 SelectKBest(score_func=<function f_regression at 0x0000022F9E869700>)),\n",
       "                ('linearregression', LinearRegression())])"
      ]
     },
     "metadata": {},
     "execution_count": 152
    }
   ],
   "source": [
    "pipe.fit(X_train, y_train)"
   ]
  },
  {
   "cell_type": "markdown",
   "metadata": {},
   "source": [
    "### 4.9.3 Assess performance on the train and test set<a id='4.9.3_Assess_performance_on_the_train_and_test_set'></a>"
   ]
  },
  {
   "cell_type": "code",
   "execution_count": 65,
   "metadata": {},
   "outputs": [],
   "source": [
    "y_tr_pred = pipe.predict(X_train)\n",
    "y_te_pred = pipe.predict(X_test)"
   ]
  },
  {
   "cell_type": "code",
   "execution_count": 66,
   "metadata": {},
   "outputs": [
    {
     "output_type": "execute_result",
     "data": {
      "text/plain": [
       "(0.7674914326052744, 0.6259877354190835)"
      ]
     },
     "metadata": {},
     "execution_count": 66
    }
   ],
   "source": [
    "r2_score(y_train, y_tr_pred), r2_score(y_test, y_te_pred)"
   ]
  },
  {
   "cell_type": "code",
   "execution_count": 67,
   "metadata": {},
   "outputs": [
    {
     "output_type": "execute_result",
     "data": {
      "text/plain": [
       "(9.501495079727485, 11.201830190332055)"
      ]
     },
     "metadata": {},
     "execution_count": 67
    }
   ],
   "source": [
    "mean_absolute_error(y_train, y_tr_pred), mean_absolute_error(y_test, y_te_pred)"
   ]
  },
  {
   "cell_type": "markdown",
   "metadata": {},
   "source": [
    "This has made things worse! Clearly selecting a subset of features has an impact on performance. `SelectKBest` defaults to k=10. You've just seen that 10 is worse than using all features. What is the best k? You could create a new pipeline with a different value of k:"
   ]
  },
  {
   "cell_type": "markdown",
   "metadata": {},
   "source": [
    "### 4.9.4 Define a new pipeline to select a different number of features<a id='4.9.4_Define_a_new_pipeline_to_select_a_different_number_of_features'></a>"
   ]
  },
  {
   "cell_type": "code",
   "execution_count": 68,
   "metadata": {},
   "outputs": [],
   "source": [
    "#Code task 17#\n",
    "#Modify the `SelectKBest` step to use a value of 15 for k\n",
    "pipe15 = make_pipeline(\n",
    "    SimpleImputer(strategy='median'), \n",
    "    StandardScaler(),\n",
    "    SelectKBest(f_regression, k=15),\n",
    "    LinearRegression()\n",
    ")"
   ]
  },
  {
   "cell_type": "markdown",
   "metadata": {},
   "source": [
    "### 4.9.5 Fit the pipeline<a id='4.9.5_Fit_the_pipeline'></a>"
   ]
  },
  {
   "cell_type": "code",
   "execution_count": 69,
   "metadata": {},
   "outputs": [
    {
     "output_type": "execute_result",
     "data": {
      "text/plain": [
       "Pipeline(steps=[('simpleimputer', SimpleImputer(strategy='median')),\n",
       "                ('standardscaler', StandardScaler()),\n",
       "                ('selectkbest',\n",
       "                 SelectKBest(k=15,\n",
       "                             score_func=<function f_regression at 0x0000022F9E869700>)),\n",
       "                ('linearregression', LinearRegression())])"
      ]
     },
     "metadata": {},
     "execution_count": 69
    }
   ],
   "source": [
    "pipe15.fit(X_train, y_train)"
   ]
  },
  {
   "cell_type": "markdown",
   "metadata": {},
   "source": [
    "### 4.9.6 Assess performance on train and test data<a id='4.9.6_Assess_performance_on_train_and_test_data'></a>"
   ]
  },
  {
   "cell_type": "code",
   "execution_count": 70,
   "metadata": {},
   "outputs": [],
   "source": [
    "y_tr_pred = pipe15.predict(X_train)\n",
    "y_te_pred = pipe15.predict(X_test)"
   ]
  },
  {
   "cell_type": "code",
   "execution_count": 71,
   "metadata": {},
   "outputs": [
    {
     "output_type": "execute_result",
     "data": {
      "text/plain": [
       "(0.7924096060483825, 0.6376199973170797)"
      ]
     },
     "metadata": {},
     "execution_count": 71
    }
   ],
   "source": [
    "r2_score(y_train, y_tr_pred), r2_score(y_test, y_te_pred)"
   ]
  },
  {
   "cell_type": "code",
   "execution_count": 72,
   "metadata": {},
   "outputs": [
    {
     "output_type": "execute_result",
     "data": {
      "text/plain": [
       "(9.211767769307116, 10.488246867294352)"
      ]
     },
     "metadata": {},
     "execution_count": 72
    }
   ],
   "source": [
    "mean_absolute_error(y_train, y_tr_pred), mean_absolute_error(y_test, y_te_pred)"
   ]
  },
  {
   "cell_type": "markdown",
   "metadata": {},
   "source": [
    "You could keep going, trying different values of k, training a model, measuring performance on the test set, and then picking the model with the best test set performance. There's a fundamental problem with this approach: _you're tuning the model to the arbitrary test set_! If you continue this way you'll end up with a model works well on the particular quirks of our test set _but fails to generalize to new data_. The whole point of keeping a test set is for it to be a set of that new data, to check how well our model might perform on data it hasn't seen.\n",
    "\n",
    "The way around this is a technique called _cross-validation_. You partition the training set into k folds, train our model on k-1 of those folds, and calculate performance on the fold not used in training. This procedure then cycles through k times with a different fold held back each time. Thus you end up building k models on k sets of data with k estimates of how the model performs on unseen data but without having to touch the test set."
   ]
  },
  {
   "cell_type": "markdown",
   "metadata": {},
   "source": [
    "### 4.9.7 Assessing performance using cross-validation<a id='4.9.7_Assessing_performance_using_cross-validation'></a>"
   ]
  },
  {
   "cell_type": "code",
   "execution_count": 73,
   "metadata": {},
   "outputs": [],
   "source": [
    "cv_results = cross_validate(pipe15, X_train, y_train, cv=5)"
   ]
  },
  {
   "cell_type": "code",
   "execution_count": 74,
   "metadata": {},
   "outputs": [
    {
     "output_type": "execute_result",
     "data": {
      "text/plain": [
       "array([0.63760862, 0.72831381, 0.74443537, 0.5487915 , 0.50441472])"
      ]
     },
     "metadata": {},
     "execution_count": 74
    }
   ],
   "source": [
    "cv_scores = cv_results['test_score']\n",
    "cv_scores"
   ]
  },
  {
   "cell_type": "markdown",
   "metadata": {},
   "source": [
    "Without using the same random state for initializing the CV folds, your actual numbers will be different."
   ]
  },
  {
   "cell_type": "code",
   "execution_count": 75,
   "metadata": {},
   "outputs": [
    {
     "output_type": "execute_result",
     "data": {
      "text/plain": [
       "(0.6327128053007867, 0.09502487849877689)"
      ]
     },
     "metadata": {},
     "execution_count": 75
    }
   ],
   "source": [
    "np.mean(cv_scores), np.std(cv_scores)"
   ]
  },
  {
   "cell_type": "markdown",
   "metadata": {},
   "source": [
    "These results highlight that assessing model performance in inherently open to variability. You'll get different results depending on the quirks of which points are in which fold. An advantage of this is that you can also obtain an estimate of the variability, or uncertainty, in your performance estimate."
   ]
  },
  {
   "cell_type": "code",
   "execution_count": 76,
   "metadata": {},
   "outputs": [
    {
     "output_type": "execute_result",
     "data": {
      "text/plain": [
       "array([0.44, 0.82])"
      ]
     },
     "metadata": {},
     "execution_count": 76
    }
   ],
   "source": [
    "np.round((np.mean(cv_scores) - 2 * np.std(cv_scores), np.mean(cv_scores) + 2 * np.std(cv_scores)), 2)"
   ]
  },
  {
   "cell_type": "markdown",
   "metadata": {},
   "source": [
    "### 4.9.8 Hyperparameter search using GridSearchCV<a id='4.9.8_Hyperparameter_search_using_GridSearchCV'></a>"
   ]
  },
  {
   "cell_type": "markdown",
   "metadata": {},
   "source": [
    "Pulling the above together, we have:\n",
    "* a pipeline that\n",
    "    * imputes missing values\n",
    "    * scales the data\n",
    "    * selects the k best features\n",
    "    * trains a linear regression model\n",
    "* a technique (cross-validation) for estimating model performance\n",
    "\n",
    "Now you want to use cross-validation for multiple values of k and use cross-validation to pick the value of k that gives the best performance. `make_pipeline` automatically names each step as the lowercase name of the step and the parameters of the step are then accessed by appending a double underscore followed by the parameter name. You know the name of the step will be 'selectkbest' and you know the parameter is 'k'.\n",
    "\n",
    "You can also list the names of all the parameters in a pipeline like this:"
   ]
  },
  {
   "cell_type": "code",
   "execution_count": 77,
   "metadata": {},
   "outputs": [
    {
     "output_type": "execute_result",
     "data": {
      "text/plain": [
       "dict_keys(['memory', 'steps', 'verbose', 'simpleimputer', 'standardscaler', 'selectkbest', 'linearregression', 'simpleimputer__add_indicator', 'simpleimputer__copy', 'simpleimputer__fill_value', 'simpleimputer__missing_values', 'simpleimputer__strategy', 'simpleimputer__verbose', 'standardscaler__copy', 'standardscaler__with_mean', 'standardscaler__with_std', 'selectkbest__k', 'selectkbest__score_func', 'linearregression__copy_X', 'linearregression__fit_intercept', 'linearregression__n_jobs', 'linearregression__normalize'])"
      ]
     },
     "metadata": {},
     "execution_count": 77
    }
   ],
   "source": [
    "#Code task 18#\n",
    "#Call `pipe`'s `get_params()` method to get a dict of available parameters and print their names\n",
    "#using dict's `keys()` method\n",
    "pipe.get_params().keys()"
   ]
  },
  {
   "cell_type": "markdown",
   "metadata": {},
   "source": [
    "The above can be particularly useful as your pipelines becomes more complex (you can even nest pipelines within pipelines)."
   ]
  },
  {
   "cell_type": "code",
   "execution_count": 78,
   "metadata": {},
   "outputs": [],
   "source": [
    "k = [k+1 for k in range(len(X_train.columns))]\n",
    "grid_params = {'selectkbest__k': k}"
   ]
  },
  {
   "cell_type": "markdown",
   "metadata": {},
   "source": [
    "Now you have a range of `k` to investigate. Is 1 feature best? 2? 3? 4? All of them? You could write a for loop and iterate over each possible value, doing all the housekeeping oyurselves to track the best value of k. But this is  a common task so there's a built in function in `sklearn`. This is [`GridSearchCV`](https://scikit-learn.org/stable/modules/generated/sklearn.model_selection.GridSearchCV.html).\n",
    "This takes the pipeline object, in fact it takes anything with a `.fit()` and `.predict()` method. In simple cases with no feature selection or imputation or feature scaling etc. you may see the classifier or regressor object itself directly passed into `GridSearchCV`. The other key input is the parameters and values to search over. Optional parameters include the cross-validation strategy and number of CPUs to use."
   ]
  },
  {
   "cell_type": "code",
   "execution_count": 79,
   "metadata": {},
   "outputs": [],
   "source": [
    "lr_grid_cv = GridSearchCV(pipe, param_grid=grid_params, cv=5, n_jobs=-1)"
   ]
  },
  {
   "cell_type": "code",
   "execution_count": 80,
   "metadata": {},
   "outputs": [
    {
     "output_type": "execute_result",
     "data": {
      "text/plain": [
       "GridSearchCV(cv=5,\n",
       "             estimator=Pipeline(steps=[('simpleimputer',\n",
       "                                        SimpleImputer(strategy='median')),\n",
       "                                       ('standardscaler', StandardScaler()),\n",
       "                                       ('selectkbest',\n",
       "                                        SelectKBest(score_func=<function f_regression at 0x0000022F9E869700>)),\n",
       "                                       ('linearregression',\n",
       "                                        LinearRegression())]),\n",
       "             n_jobs=-1,\n",
       "             param_grid={'selectkbest__k': [1, 2, 3, 4, 5, 6, 7, 8, 9, 10, 11,\n",
       "                                            12, 13, 14, 15, 16, 17, 18, 19, 20,\n",
       "                                            21, 22, 23, 24, 25, 26, 27, 28, 29,\n",
       "                                            30, ...]})"
      ]
     },
     "metadata": {},
     "execution_count": 80
    }
   ],
   "source": [
    "lr_grid_cv.fit(X_train, y_train)"
   ]
  },
  {
   "cell_type": "code",
   "execution_count": 81,
   "metadata": {},
   "outputs": [],
   "source": [
    "score_mean = lr_grid_cv.cv_results_['mean_test_score']\n",
    "score_std = lr_grid_cv.cv_results_['std_test_score']\n",
    "cv_k = [k for k in lr_grid_cv.cv_results_['param_selectkbest__k']]"
   ]
  },
  {
   "cell_type": "code",
   "execution_count": 82,
   "metadata": {},
   "outputs": [
    {
     "output_type": "execute_result",
     "data": {
      "text/plain": [
       "{'selectkbest__k': 8}"
      ]
     },
     "metadata": {},
     "execution_count": 82
    }
   ],
   "source": [
    "#Code task 19#\n",
    "#Print the `best_params_` attribute of `lr_grid_cv`\n",
    "lr_grid_cv.best_params_"
   ]
  },
  {
   "cell_type": "code",
   "execution_count": 83,
   "metadata": {},
   "outputs": [
    {
     "output_type": "display_data",
     "data": {
      "text/plain": "<Figure size 720x360 with 1 Axes>",
      "image/svg+xml": "<?xml version=\"1.0\" encoding=\"utf-8\" standalone=\"no\"?>\r\n<!DOCTYPE svg PUBLIC \"-//W3C//DTD SVG 1.1//EN\"\r\n  \"http://www.w3.org/Graphics/SVG/1.1/DTD/svg11.dtd\">\r\n<!-- Created with matplotlib (https://matplotlib.org/) -->\r\n<svg height=\"331.674375pt\" version=\"1.1\" viewBox=\"0 0 615.34375 331.674375\" width=\"615.34375pt\" xmlns=\"http://www.w3.org/2000/svg\" xmlns:xlink=\"http://www.w3.org/1999/xlink\">\r\n <metadata>\r\n  <rdf:RDF xmlns:cc=\"http://creativecommons.org/ns#\" xmlns:dc=\"http://purl.org/dc/elements/1.1/\" xmlns:rdf=\"http://www.w3.org/1999/02/22-rdf-syntax-ns#\">\r\n   <cc:Work>\r\n    <dc:type rdf:resource=\"http://purl.org/dc/dcmitype/StillImage\"/>\r\n    <dc:date>2021-02-28T15:31:28.571972</dc:date>\r\n    <dc:format>image/svg+xml</dc:format>\r\n    <dc:creator>\r\n     <cc:Agent>\r\n      <dc:title>Matplotlib v3.3.2, https://matplotlib.org/</dc:title>\r\n     </cc:Agent>\r\n    </dc:creator>\r\n   </cc:Work>\r\n  </rdf:RDF>\r\n </metadata>\r\n <defs>\r\n  <style type=\"text/css\">*{stroke-linecap:butt;stroke-linejoin:round;}</style>\r\n </defs>\r\n <g id=\"figure_1\">\r\n  <g id=\"patch_1\">\r\n   <path d=\"M 0 331.674375 \r\nL 615.34375 331.674375 \r\nL 615.34375 0 \r\nL 0 0 \r\nz\r\n\" style=\"fill:none;\"/>\r\n  </g>\r\n  <g id=\"axes_1\">\r\n   <g id=\"patch_2\">\r\n    <path d=\"M 50.14375 294.118125 \r\nL 608.14375 294.118125 \r\nL 608.14375 22.318125 \r\nL 50.14375 22.318125 \r\nz\r\n\" style=\"fill:#ffffff;\"/>\r\n   </g>\r\n   <g id=\"matplotlib.axis_1\">\r\n    <g id=\"xtick_1\">\r\n     <g id=\"line2d_1\">\r\n      <defs>\r\n       <path d=\"M 0 0 \r\nL 0 3.5 \r\n\" id=\"m447fb17e5a\" style=\"stroke:#000000;stroke-width:0.8;\"/>\r\n      </defs>\r\n      <g>\r\n       <use style=\"stroke:#000000;stroke-width:0.8;\" x=\"63.134881\" xlink:href=\"#m447fb17e5a\" y=\"294.118125\"/>\r\n      </g>\r\n     </g>\r\n     <g id=\"text_1\">\r\n      <!-- 0 -->\r\n      <g transform=\"translate(59.953631 308.716563)scale(0.1 -0.1)\">\r\n       <defs>\r\n        <path d=\"M 31.78125 66.40625 \r\nQ 24.171875 66.40625 20.328125 58.90625 \r\nQ 16.5 51.421875 16.5 36.375 \r\nQ 16.5 21.390625 20.328125 13.890625 \r\nQ 24.171875 6.390625 31.78125 6.390625 \r\nQ 39.453125 6.390625 43.28125 13.890625 \r\nQ 47.125 21.390625 47.125 36.375 \r\nQ 47.125 51.421875 43.28125 58.90625 \r\nQ 39.453125 66.40625 31.78125 66.40625 \r\nz\r\nM 31.78125 74.21875 \r\nQ 44.046875 74.21875 50.515625 64.515625 \r\nQ 56.984375 54.828125 56.984375 36.375 \r\nQ 56.984375 17.96875 50.515625 8.265625 \r\nQ 44.046875 -1.421875 31.78125 -1.421875 \r\nQ 19.53125 -1.421875 13.0625 8.265625 \r\nQ 6.59375 17.96875 6.59375 36.375 \r\nQ 6.59375 54.828125 13.0625 64.515625 \r\nQ 19.53125 74.21875 31.78125 74.21875 \r\nz\r\n\" id=\"DejaVuSans-48\"/>\r\n       </defs>\r\n       <use xlink:href=\"#DejaVuSans-48\"/>\r\n      </g>\r\n     </g>\r\n    </g>\r\n    <g id=\"xtick_2\">\r\n     <g id=\"line2d_2\">\r\n      <g>\r\n       <use style=\"stroke:#000000;stroke-width:0.8;\" x=\"186.859936\" xlink:href=\"#m447fb17e5a\" y=\"294.118125\"/>\r\n      </g>\r\n     </g>\r\n     <g id=\"text_2\">\r\n      <!-- 10 -->\r\n      <g transform=\"translate(180.497436 308.716563)scale(0.1 -0.1)\">\r\n       <defs>\r\n        <path d=\"M 12.40625 8.296875 \r\nL 28.515625 8.296875 \r\nL 28.515625 63.921875 \r\nL 10.984375 60.40625 \r\nL 10.984375 69.390625 \r\nL 28.421875 72.90625 \r\nL 38.28125 72.90625 \r\nL 38.28125 8.296875 \r\nL 54.390625 8.296875 \r\nL 54.390625 0 \r\nL 12.40625 0 \r\nz\r\n\" id=\"DejaVuSans-49\"/>\r\n       </defs>\r\n       <use xlink:href=\"#DejaVuSans-49\"/>\r\n       <use x=\"63.623047\" xlink:href=\"#DejaVuSans-48\"/>\r\n      </g>\r\n     </g>\r\n    </g>\r\n    <g id=\"xtick_3\">\r\n     <g id=\"line2d_3\">\r\n      <g>\r\n       <use style=\"stroke:#000000;stroke-width:0.8;\" x=\"310.584992\" xlink:href=\"#m447fb17e5a\" y=\"294.118125\"/>\r\n      </g>\r\n     </g>\r\n     <g id=\"text_3\">\r\n      <!-- 20 -->\r\n      <g transform=\"translate(304.222492 308.716563)scale(0.1 -0.1)\">\r\n       <defs>\r\n        <path d=\"M 19.1875 8.296875 \r\nL 53.609375 8.296875 \r\nL 53.609375 0 \r\nL 7.328125 0 \r\nL 7.328125 8.296875 \r\nQ 12.9375 14.109375 22.625 23.890625 \r\nQ 32.328125 33.6875 34.8125 36.53125 \r\nQ 39.546875 41.84375 41.421875 45.53125 \r\nQ 43.3125 49.21875 43.3125 52.78125 \r\nQ 43.3125 58.59375 39.234375 62.25 \r\nQ 35.15625 65.921875 28.609375 65.921875 \r\nQ 23.96875 65.921875 18.8125 64.3125 \r\nQ 13.671875 62.703125 7.8125 59.421875 \r\nL 7.8125 69.390625 \r\nQ 13.765625 71.78125 18.9375 73 \r\nQ 24.125 74.21875 28.421875 74.21875 \r\nQ 39.75 74.21875 46.484375 68.546875 \r\nQ 53.21875 62.890625 53.21875 53.421875 \r\nQ 53.21875 48.921875 51.53125 44.890625 \r\nQ 49.859375 40.875 45.40625 35.40625 \r\nQ 44.1875 33.984375 37.640625 27.21875 \r\nQ 31.109375 20.453125 19.1875 8.296875 \r\nz\r\n\" id=\"DejaVuSans-50\"/>\r\n       </defs>\r\n       <use xlink:href=\"#DejaVuSans-50\"/>\r\n       <use x=\"63.623047\" xlink:href=\"#DejaVuSans-48\"/>\r\n      </g>\r\n     </g>\r\n    </g>\r\n    <g id=\"xtick_4\">\r\n     <g id=\"line2d_4\">\r\n      <g>\r\n       <use style=\"stroke:#000000;stroke-width:0.8;\" x=\"434.310047\" xlink:href=\"#m447fb17e5a\" y=\"294.118125\"/>\r\n      </g>\r\n     </g>\r\n     <g id=\"text_4\">\r\n      <!-- 30 -->\r\n      <g transform=\"translate(427.947547 308.716563)scale(0.1 -0.1)\">\r\n       <defs>\r\n        <path d=\"M 40.578125 39.3125 \r\nQ 47.65625 37.796875 51.625 33 \r\nQ 55.609375 28.21875 55.609375 21.1875 \r\nQ 55.609375 10.40625 48.1875 4.484375 \r\nQ 40.765625 -1.421875 27.09375 -1.421875 \r\nQ 22.515625 -1.421875 17.65625 -0.515625 \r\nQ 12.796875 0.390625 7.625 2.203125 \r\nL 7.625 11.71875 \r\nQ 11.71875 9.328125 16.59375 8.109375 \r\nQ 21.484375 6.890625 26.8125 6.890625 \r\nQ 36.078125 6.890625 40.9375 10.546875 \r\nQ 45.796875 14.203125 45.796875 21.1875 \r\nQ 45.796875 27.640625 41.28125 31.265625 \r\nQ 36.765625 34.90625 28.71875 34.90625 \r\nL 20.21875 34.90625 \r\nL 20.21875 43.015625 \r\nL 29.109375 43.015625 \r\nQ 36.375 43.015625 40.234375 45.921875 \r\nQ 44.09375 48.828125 44.09375 54.296875 \r\nQ 44.09375 59.90625 40.109375 62.90625 \r\nQ 36.140625 65.921875 28.71875 65.921875 \r\nQ 24.65625 65.921875 20.015625 65.03125 \r\nQ 15.375 64.15625 9.8125 62.3125 \r\nL 9.8125 71.09375 \r\nQ 15.4375 72.65625 20.34375 73.4375 \r\nQ 25.25 74.21875 29.59375 74.21875 \r\nQ 40.828125 74.21875 47.359375 69.109375 \r\nQ 53.90625 64.015625 53.90625 55.328125 \r\nQ 53.90625 49.265625 50.4375 45.09375 \r\nQ 46.96875 40.921875 40.578125 39.3125 \r\nz\r\n\" id=\"DejaVuSans-51\"/>\r\n       </defs>\r\n       <use xlink:href=\"#DejaVuSans-51\"/>\r\n       <use x=\"63.623047\" xlink:href=\"#DejaVuSans-48\"/>\r\n      </g>\r\n     </g>\r\n    </g>\r\n    <g id=\"xtick_5\">\r\n     <g id=\"line2d_5\">\r\n      <g>\r\n       <use style=\"stroke:#000000;stroke-width:0.8;\" x=\"558.035103\" xlink:href=\"#m447fb17e5a\" y=\"294.118125\"/>\r\n      </g>\r\n     </g>\r\n     <g id=\"text_5\">\r\n      <!-- 40 -->\r\n      <g transform=\"translate(551.672603 308.716563)scale(0.1 -0.1)\">\r\n       <defs>\r\n        <path d=\"M 37.796875 64.3125 \r\nL 12.890625 25.390625 \r\nL 37.796875 25.390625 \r\nz\r\nM 35.203125 72.90625 \r\nL 47.609375 72.90625 \r\nL 47.609375 25.390625 \r\nL 58.015625 25.390625 \r\nL 58.015625 17.1875 \r\nL 47.609375 17.1875 \r\nL 47.609375 0 \r\nL 37.796875 0 \r\nL 37.796875 17.1875 \r\nL 4.890625 17.1875 \r\nL 4.890625 26.703125 \r\nz\r\n\" id=\"DejaVuSans-52\"/>\r\n       </defs>\r\n       <use xlink:href=\"#DejaVuSans-52\"/>\r\n       <use x=\"63.623047\" xlink:href=\"#DejaVuSans-48\"/>\r\n      </g>\r\n     </g>\r\n    </g>\r\n    <g id=\"text_6\">\r\n     <!-- k -->\r\n     <g transform=\"translate(326.248438 322.394687)scale(0.1 -0.1)\">\r\n      <defs>\r\n       <path d=\"M 9.078125 75.984375 \r\nL 18.109375 75.984375 \r\nL 18.109375 31.109375 \r\nL 44.921875 54.6875 \r\nL 56.390625 54.6875 \r\nL 27.390625 29.109375 \r\nL 57.625 0 \r\nL 45.90625 0 \r\nL 18.109375 26.703125 \r\nL 18.109375 0 \r\nL 9.078125 0 \r\nz\r\n\" id=\"DejaVuSans-107\"/>\r\n      </defs>\r\n      <use xlink:href=\"#DejaVuSans-107\"/>\r\n     </g>\r\n    </g>\r\n   </g>\r\n   <g id=\"matplotlib.axis_2\">\r\n    <g id=\"ytick_1\">\r\n     <g id=\"line2d_6\">\r\n      <defs>\r\n       <path d=\"M 0 0 \r\nL -3.5 0 \r\n\" id=\"maddb30b269\" style=\"stroke:#000000;stroke-width:0.8;\"/>\r\n      </defs>\r\n      <g>\r\n       <use style=\"stroke:#000000;stroke-width:0.8;\" x=\"50.14375\" xlink:href=\"#maddb30b269\" y=\"284.607394\"/>\r\n      </g>\r\n     </g>\r\n     <g id=\"text_7\">\r\n      <!-- 0.40 -->\r\n      <g transform=\"translate(20.878125 288.406613)scale(0.1 -0.1)\">\r\n       <defs>\r\n        <path d=\"M 10.6875 12.40625 \r\nL 21 12.40625 \r\nL 21 0 \r\nL 10.6875 0 \r\nz\r\n\" id=\"DejaVuSans-46\"/>\r\n       </defs>\r\n       <use xlink:href=\"#DejaVuSans-48\"/>\r\n       <use x=\"63.623047\" xlink:href=\"#DejaVuSans-46\"/>\r\n       <use x=\"95.410156\" xlink:href=\"#DejaVuSans-52\"/>\r\n       <use x=\"159.033203\" xlink:href=\"#DejaVuSans-48\"/>\r\n      </g>\r\n     </g>\r\n    </g>\r\n    <g id=\"ytick_2\">\r\n     <g id=\"line2d_7\">\r\n      <g>\r\n       <use style=\"stroke:#000000;stroke-width:0.8;\" x=\"50.14375\" xlink:href=\"#maddb30b269\" y=\"254.182413\"/>\r\n      </g>\r\n     </g>\r\n     <g id=\"text_8\">\r\n      <!-- 0.45 -->\r\n      <g transform=\"translate(20.878125 257.981632)scale(0.1 -0.1)\">\r\n       <defs>\r\n        <path d=\"M 10.796875 72.90625 \r\nL 49.515625 72.90625 \r\nL 49.515625 64.59375 \r\nL 19.828125 64.59375 \r\nL 19.828125 46.734375 \r\nQ 21.96875 47.46875 24.109375 47.828125 \r\nQ 26.265625 48.1875 28.421875 48.1875 \r\nQ 40.625 48.1875 47.75 41.5 \r\nQ 54.890625 34.8125 54.890625 23.390625 \r\nQ 54.890625 11.625 47.5625 5.09375 \r\nQ 40.234375 -1.421875 26.90625 -1.421875 \r\nQ 22.3125 -1.421875 17.546875 -0.640625 \r\nQ 12.796875 0.140625 7.71875 1.703125 \r\nL 7.71875 11.625 \r\nQ 12.109375 9.234375 16.796875 8.0625 \r\nQ 21.484375 6.890625 26.703125 6.890625 \r\nQ 35.15625 6.890625 40.078125 11.328125 \r\nQ 45.015625 15.765625 45.015625 23.390625 \r\nQ 45.015625 31 40.078125 35.4375 \r\nQ 35.15625 39.890625 26.703125 39.890625 \r\nQ 22.75 39.890625 18.8125 39.015625 \r\nQ 14.890625 38.140625 10.796875 36.28125 \r\nz\r\n\" id=\"DejaVuSans-53\"/>\r\n       </defs>\r\n       <use xlink:href=\"#DejaVuSans-48\"/>\r\n       <use x=\"63.623047\" xlink:href=\"#DejaVuSans-46\"/>\r\n       <use x=\"95.410156\" xlink:href=\"#DejaVuSans-52\"/>\r\n       <use x=\"159.033203\" xlink:href=\"#DejaVuSans-53\"/>\r\n      </g>\r\n     </g>\r\n    </g>\r\n    <g id=\"ytick_3\">\r\n     <g id=\"line2d_8\">\r\n      <g>\r\n       <use style=\"stroke:#000000;stroke-width:0.8;\" x=\"50.14375\" xlink:href=\"#maddb30b269\" y=\"223.757432\"/>\r\n      </g>\r\n     </g>\r\n     <g id=\"text_9\">\r\n      <!-- 0.50 -->\r\n      <g transform=\"translate(20.878125 227.55665)scale(0.1 -0.1)\">\r\n       <use xlink:href=\"#DejaVuSans-48\"/>\r\n       <use x=\"63.623047\" xlink:href=\"#DejaVuSans-46\"/>\r\n       <use x=\"95.410156\" xlink:href=\"#DejaVuSans-53\"/>\r\n       <use x=\"159.033203\" xlink:href=\"#DejaVuSans-48\"/>\r\n      </g>\r\n     </g>\r\n    </g>\r\n    <g id=\"ytick_4\">\r\n     <g id=\"line2d_9\">\r\n      <g>\r\n       <use style=\"stroke:#000000;stroke-width:0.8;\" x=\"50.14375\" xlink:href=\"#maddb30b269\" y=\"193.33245\"/>\r\n      </g>\r\n     </g>\r\n     <g id=\"text_10\">\r\n      <!-- 0.55 -->\r\n      <g transform=\"translate(20.878125 197.131669)scale(0.1 -0.1)\">\r\n       <use xlink:href=\"#DejaVuSans-48\"/>\r\n       <use x=\"63.623047\" xlink:href=\"#DejaVuSans-46\"/>\r\n       <use x=\"95.410156\" xlink:href=\"#DejaVuSans-53\"/>\r\n       <use x=\"159.033203\" xlink:href=\"#DejaVuSans-53\"/>\r\n      </g>\r\n     </g>\r\n    </g>\r\n    <g id=\"ytick_5\">\r\n     <g id=\"line2d_10\">\r\n      <g>\r\n       <use style=\"stroke:#000000;stroke-width:0.8;\" x=\"50.14375\" xlink:href=\"#maddb30b269\" y=\"162.907469\"/>\r\n      </g>\r\n     </g>\r\n     <g id=\"text_11\">\r\n      <!-- 0.60 -->\r\n      <g transform=\"translate(20.878125 166.706688)scale(0.1 -0.1)\">\r\n       <defs>\r\n        <path d=\"M 33.015625 40.375 \r\nQ 26.375 40.375 22.484375 35.828125 \r\nQ 18.609375 31.296875 18.609375 23.390625 \r\nQ 18.609375 15.53125 22.484375 10.953125 \r\nQ 26.375 6.390625 33.015625 6.390625 \r\nQ 39.65625 6.390625 43.53125 10.953125 \r\nQ 47.40625 15.53125 47.40625 23.390625 \r\nQ 47.40625 31.296875 43.53125 35.828125 \r\nQ 39.65625 40.375 33.015625 40.375 \r\nz\r\nM 52.59375 71.296875 \r\nL 52.59375 62.3125 \r\nQ 48.875 64.0625 45.09375 64.984375 \r\nQ 41.3125 65.921875 37.59375 65.921875 \r\nQ 27.828125 65.921875 22.671875 59.328125 \r\nQ 17.53125 52.734375 16.796875 39.40625 \r\nQ 19.671875 43.65625 24.015625 45.921875 \r\nQ 28.375 48.1875 33.59375 48.1875 \r\nQ 44.578125 48.1875 50.953125 41.515625 \r\nQ 57.328125 34.859375 57.328125 23.390625 \r\nQ 57.328125 12.15625 50.6875 5.359375 \r\nQ 44.046875 -1.421875 33.015625 -1.421875 \r\nQ 20.359375 -1.421875 13.671875 8.265625 \r\nQ 6.984375 17.96875 6.984375 36.375 \r\nQ 6.984375 53.65625 15.1875 63.9375 \r\nQ 23.390625 74.21875 37.203125 74.21875 \r\nQ 40.921875 74.21875 44.703125 73.484375 \r\nQ 48.484375 72.75 52.59375 71.296875 \r\nz\r\n\" id=\"DejaVuSans-54\"/>\r\n       </defs>\r\n       <use xlink:href=\"#DejaVuSans-48\"/>\r\n       <use x=\"63.623047\" xlink:href=\"#DejaVuSans-46\"/>\r\n       <use x=\"95.410156\" xlink:href=\"#DejaVuSans-54\"/>\r\n       <use x=\"159.033203\" xlink:href=\"#DejaVuSans-48\"/>\r\n      </g>\r\n     </g>\r\n    </g>\r\n    <g id=\"ytick_6\">\r\n     <g id=\"line2d_11\">\r\n      <g>\r\n       <use style=\"stroke:#000000;stroke-width:0.8;\" x=\"50.14375\" xlink:href=\"#maddb30b269\" y=\"132.482488\"/>\r\n      </g>\r\n     </g>\r\n     <g id=\"text_12\">\r\n      <!-- 0.65 -->\r\n      <g transform=\"translate(20.878125 136.281707)scale(0.1 -0.1)\">\r\n       <use xlink:href=\"#DejaVuSans-48\"/>\r\n       <use x=\"63.623047\" xlink:href=\"#DejaVuSans-46\"/>\r\n       <use x=\"95.410156\" xlink:href=\"#DejaVuSans-54\"/>\r\n       <use x=\"159.033203\" xlink:href=\"#DejaVuSans-53\"/>\r\n      </g>\r\n     </g>\r\n    </g>\r\n    <g id=\"ytick_7\">\r\n     <g id=\"line2d_12\">\r\n      <g>\r\n       <use style=\"stroke:#000000;stroke-width:0.8;\" x=\"50.14375\" xlink:href=\"#maddb30b269\" y=\"102.057507\"/>\r\n      </g>\r\n     </g>\r\n     <g id=\"text_13\">\r\n      <!-- 0.70 -->\r\n      <g transform=\"translate(20.878125 105.856725)scale(0.1 -0.1)\">\r\n       <defs>\r\n        <path d=\"M 8.203125 72.90625 \r\nL 55.078125 72.90625 \r\nL 55.078125 68.703125 \r\nL 28.609375 0 \r\nL 18.3125 0 \r\nL 43.21875 64.59375 \r\nL 8.203125 64.59375 \r\nz\r\n\" id=\"DejaVuSans-55\"/>\r\n       </defs>\r\n       <use xlink:href=\"#DejaVuSans-48\"/>\r\n       <use x=\"63.623047\" xlink:href=\"#DejaVuSans-46\"/>\r\n       <use x=\"95.410156\" xlink:href=\"#DejaVuSans-55\"/>\r\n       <use x=\"159.033203\" xlink:href=\"#DejaVuSans-48\"/>\r\n      </g>\r\n     </g>\r\n    </g>\r\n    <g id=\"ytick_8\">\r\n     <g id=\"line2d_13\">\r\n      <g>\r\n       <use style=\"stroke:#000000;stroke-width:0.8;\" x=\"50.14375\" xlink:href=\"#maddb30b269\" y=\"71.632525\"/>\r\n      </g>\r\n     </g>\r\n     <g id=\"text_14\">\r\n      <!-- 0.75 -->\r\n      <g transform=\"translate(20.878125 75.431744)scale(0.1 -0.1)\">\r\n       <use xlink:href=\"#DejaVuSans-48\"/>\r\n       <use x=\"63.623047\" xlink:href=\"#DejaVuSans-46\"/>\r\n       <use x=\"95.410156\" xlink:href=\"#DejaVuSans-55\"/>\r\n       <use x=\"159.033203\" xlink:href=\"#DejaVuSans-53\"/>\r\n      </g>\r\n     </g>\r\n    </g>\r\n    <g id=\"ytick_9\">\r\n     <g id=\"line2d_14\">\r\n      <g>\r\n       <use style=\"stroke:#000000;stroke-width:0.8;\" x=\"50.14375\" xlink:href=\"#maddb30b269\" y=\"41.207544\"/>\r\n      </g>\r\n     </g>\r\n     <g id=\"text_15\">\r\n      <!-- 0.80 -->\r\n      <g transform=\"translate(20.878125 45.006763)scale(0.1 -0.1)\">\r\n       <defs>\r\n        <path d=\"M 31.78125 34.625 \r\nQ 24.75 34.625 20.71875 30.859375 \r\nQ 16.703125 27.09375 16.703125 20.515625 \r\nQ 16.703125 13.921875 20.71875 10.15625 \r\nQ 24.75 6.390625 31.78125 6.390625 \r\nQ 38.8125 6.390625 42.859375 10.171875 \r\nQ 46.921875 13.96875 46.921875 20.515625 \r\nQ 46.921875 27.09375 42.890625 30.859375 \r\nQ 38.875 34.625 31.78125 34.625 \r\nz\r\nM 21.921875 38.8125 \r\nQ 15.578125 40.375 12.03125 44.71875 \r\nQ 8.5 49.078125 8.5 55.328125 \r\nQ 8.5 64.0625 14.71875 69.140625 \r\nQ 20.953125 74.21875 31.78125 74.21875 \r\nQ 42.671875 74.21875 48.875 69.140625 \r\nQ 55.078125 64.0625 55.078125 55.328125 \r\nQ 55.078125 49.078125 51.53125 44.71875 \r\nQ 48 40.375 41.703125 38.8125 \r\nQ 48.828125 37.15625 52.796875 32.3125 \r\nQ 56.78125 27.484375 56.78125 20.515625 \r\nQ 56.78125 9.90625 50.3125 4.234375 \r\nQ 43.84375 -1.421875 31.78125 -1.421875 \r\nQ 19.734375 -1.421875 13.25 4.234375 \r\nQ 6.78125 9.90625 6.78125 20.515625 \r\nQ 6.78125 27.484375 10.78125 32.3125 \r\nQ 14.796875 37.15625 21.921875 38.8125 \r\nz\r\nM 18.3125 54.390625 \r\nQ 18.3125 48.734375 21.84375 45.5625 \r\nQ 25.390625 42.390625 31.78125 42.390625 \r\nQ 38.140625 42.390625 41.71875 45.5625 \r\nQ 45.3125 48.734375 45.3125 54.390625 \r\nQ 45.3125 60.0625 41.71875 63.234375 \r\nQ 38.140625 66.40625 31.78125 66.40625 \r\nQ 25.390625 66.40625 21.84375 63.234375 \r\nQ 18.3125 60.0625 18.3125 54.390625 \r\nz\r\n\" id=\"DejaVuSans-56\"/>\r\n       </defs>\r\n       <use xlink:href=\"#DejaVuSans-48\"/>\r\n       <use x=\"63.623047\" xlink:href=\"#DejaVuSans-46\"/>\r\n       <use x=\"95.410156\" xlink:href=\"#DejaVuSans-56\"/>\r\n       <use x=\"159.033203\" xlink:href=\"#DejaVuSans-48\"/>\r\n      </g>\r\n     </g>\r\n    </g>\r\n    <g id=\"text_16\">\r\n     <!-- CV score (r-squared) -->\r\n     <g transform=\"translate(14.798438 209.388438)rotate(-90)scale(0.1 -0.1)\">\r\n      <defs>\r\n       <path d=\"M 64.40625 67.28125 \r\nL 64.40625 56.890625 \r\nQ 59.421875 61.53125 53.78125 63.8125 \r\nQ 48.140625 66.109375 41.796875 66.109375 \r\nQ 29.296875 66.109375 22.65625 58.46875 \r\nQ 16.015625 50.828125 16.015625 36.375 \r\nQ 16.015625 21.96875 22.65625 14.328125 \r\nQ 29.296875 6.6875 41.796875 6.6875 \r\nQ 48.140625 6.6875 53.78125 8.984375 \r\nQ 59.421875 11.28125 64.40625 15.921875 \r\nL 64.40625 5.609375 \r\nQ 59.234375 2.09375 53.4375 0.328125 \r\nQ 47.65625 -1.421875 41.21875 -1.421875 \r\nQ 24.65625 -1.421875 15.125 8.703125 \r\nQ 5.609375 18.84375 5.609375 36.375 \r\nQ 5.609375 53.953125 15.125 64.078125 \r\nQ 24.65625 74.21875 41.21875 74.21875 \r\nQ 47.75 74.21875 53.53125 72.484375 \r\nQ 59.328125 70.75 64.40625 67.28125 \r\nz\r\n\" id=\"DejaVuSans-67\"/>\r\n       <path d=\"M 28.609375 0 \r\nL 0.78125 72.90625 \r\nL 11.078125 72.90625 \r\nL 34.1875 11.53125 \r\nL 57.328125 72.90625 \r\nL 67.578125 72.90625 \r\nL 39.796875 0 \r\nz\r\n\" id=\"DejaVuSans-86\"/>\r\n       <path id=\"DejaVuSans-32\"/>\r\n       <path d=\"M 44.28125 53.078125 \r\nL 44.28125 44.578125 \r\nQ 40.484375 46.53125 36.375 47.5 \r\nQ 32.28125 48.484375 27.875 48.484375 \r\nQ 21.1875 48.484375 17.84375 46.4375 \r\nQ 14.5 44.390625 14.5 40.28125 \r\nQ 14.5 37.15625 16.890625 35.375 \r\nQ 19.28125 33.59375 26.515625 31.984375 \r\nL 29.59375 31.296875 \r\nQ 39.15625 29.25 43.1875 25.515625 \r\nQ 47.21875 21.78125 47.21875 15.09375 \r\nQ 47.21875 7.46875 41.1875 3.015625 \r\nQ 35.15625 -1.421875 24.609375 -1.421875 \r\nQ 20.21875 -1.421875 15.453125 -0.5625 \r\nQ 10.6875 0.296875 5.421875 2 \r\nL 5.421875 11.28125 \r\nQ 10.40625 8.6875 15.234375 7.390625 \r\nQ 20.0625 6.109375 24.8125 6.109375 \r\nQ 31.15625 6.109375 34.5625 8.28125 \r\nQ 37.984375 10.453125 37.984375 14.40625 \r\nQ 37.984375 18.0625 35.515625 20.015625 \r\nQ 33.0625 21.96875 24.703125 23.78125 \r\nL 21.578125 24.515625 \r\nQ 13.234375 26.265625 9.515625 29.90625 \r\nQ 5.8125 33.546875 5.8125 39.890625 \r\nQ 5.8125 47.609375 11.28125 51.796875 \r\nQ 16.75 56 26.8125 56 \r\nQ 31.78125 56 36.171875 55.265625 \r\nQ 40.578125 54.546875 44.28125 53.078125 \r\nz\r\n\" id=\"DejaVuSans-115\"/>\r\n       <path d=\"M 48.78125 52.59375 \r\nL 48.78125 44.1875 \r\nQ 44.96875 46.296875 41.140625 47.34375 \r\nQ 37.3125 48.390625 33.40625 48.390625 \r\nQ 24.65625 48.390625 19.8125 42.84375 \r\nQ 14.984375 37.3125 14.984375 27.296875 \r\nQ 14.984375 17.28125 19.8125 11.734375 \r\nQ 24.65625 6.203125 33.40625 6.203125 \r\nQ 37.3125 6.203125 41.140625 7.25 \r\nQ 44.96875 8.296875 48.78125 10.40625 \r\nL 48.78125 2.09375 \r\nQ 45.015625 0.34375 40.984375 -0.53125 \r\nQ 36.96875 -1.421875 32.421875 -1.421875 \r\nQ 20.0625 -1.421875 12.78125 6.34375 \r\nQ 5.515625 14.109375 5.515625 27.296875 \r\nQ 5.515625 40.671875 12.859375 48.328125 \r\nQ 20.21875 56 33.015625 56 \r\nQ 37.15625 56 41.109375 55.140625 \r\nQ 45.0625 54.296875 48.78125 52.59375 \r\nz\r\n\" id=\"DejaVuSans-99\"/>\r\n       <path d=\"M 30.609375 48.390625 \r\nQ 23.390625 48.390625 19.1875 42.75 \r\nQ 14.984375 37.109375 14.984375 27.296875 \r\nQ 14.984375 17.484375 19.15625 11.84375 \r\nQ 23.34375 6.203125 30.609375 6.203125 \r\nQ 37.796875 6.203125 41.984375 11.859375 \r\nQ 46.1875 17.53125 46.1875 27.296875 \r\nQ 46.1875 37.015625 41.984375 42.703125 \r\nQ 37.796875 48.390625 30.609375 48.390625 \r\nz\r\nM 30.609375 56 \r\nQ 42.328125 56 49.015625 48.375 \r\nQ 55.71875 40.765625 55.71875 27.296875 \r\nQ 55.71875 13.875 49.015625 6.21875 \r\nQ 42.328125 -1.421875 30.609375 -1.421875 \r\nQ 18.84375 -1.421875 12.171875 6.21875 \r\nQ 5.515625 13.875 5.515625 27.296875 \r\nQ 5.515625 40.765625 12.171875 48.375 \r\nQ 18.84375 56 30.609375 56 \r\nz\r\n\" id=\"DejaVuSans-111\"/>\r\n       <path d=\"M 41.109375 46.296875 \r\nQ 39.59375 47.171875 37.8125 47.578125 \r\nQ 36.03125 48 33.890625 48 \r\nQ 26.265625 48 22.1875 43.046875 \r\nQ 18.109375 38.09375 18.109375 28.8125 \r\nL 18.109375 0 \r\nL 9.078125 0 \r\nL 9.078125 54.6875 \r\nL 18.109375 54.6875 \r\nL 18.109375 46.1875 \r\nQ 20.953125 51.171875 25.484375 53.578125 \r\nQ 30.03125 56 36.53125 56 \r\nQ 37.453125 56 38.578125 55.875 \r\nQ 39.703125 55.765625 41.0625 55.515625 \r\nz\r\n\" id=\"DejaVuSans-114\"/>\r\n       <path d=\"M 56.203125 29.59375 \r\nL 56.203125 25.203125 \r\nL 14.890625 25.203125 \r\nQ 15.484375 15.921875 20.484375 11.0625 \r\nQ 25.484375 6.203125 34.421875 6.203125 \r\nQ 39.59375 6.203125 44.453125 7.46875 \r\nQ 49.3125 8.734375 54.109375 11.28125 \r\nL 54.109375 2.78125 \r\nQ 49.265625 0.734375 44.1875 -0.34375 \r\nQ 39.109375 -1.421875 33.890625 -1.421875 \r\nQ 20.796875 -1.421875 13.15625 6.1875 \r\nQ 5.515625 13.8125 5.515625 26.8125 \r\nQ 5.515625 40.234375 12.765625 48.109375 \r\nQ 20.015625 56 32.328125 56 \r\nQ 43.359375 56 49.78125 48.890625 \r\nQ 56.203125 41.796875 56.203125 29.59375 \r\nz\r\nM 47.21875 32.234375 \r\nQ 47.125 39.59375 43.09375 43.984375 \r\nQ 39.0625 48.390625 32.421875 48.390625 \r\nQ 24.90625 48.390625 20.390625 44.140625 \r\nQ 15.875 39.890625 15.1875 32.171875 \r\nz\r\n\" id=\"DejaVuSans-101\"/>\r\n       <path d=\"M 31 75.875 \r\nQ 24.46875 64.65625 21.28125 53.65625 \r\nQ 18.109375 42.671875 18.109375 31.390625 \r\nQ 18.109375 20.125 21.3125 9.0625 \r\nQ 24.515625 -2 31 -13.1875 \r\nL 23.1875 -13.1875 \r\nQ 15.875 -1.703125 12.234375 9.375 \r\nQ 8.59375 20.453125 8.59375 31.390625 \r\nQ 8.59375 42.28125 12.203125 53.3125 \r\nQ 15.828125 64.359375 23.1875 75.875 \r\nz\r\n\" id=\"DejaVuSans-40\"/>\r\n       <path d=\"M 4.890625 31.390625 \r\nL 31.203125 31.390625 \r\nL 31.203125 23.390625 \r\nL 4.890625 23.390625 \r\nz\r\n\" id=\"DejaVuSans-45\"/>\r\n       <path d=\"M 14.796875 27.296875 \r\nQ 14.796875 17.390625 18.875 11.75 \r\nQ 22.953125 6.109375 30.078125 6.109375 \r\nQ 37.203125 6.109375 41.296875 11.75 \r\nQ 45.40625 17.390625 45.40625 27.296875 \r\nQ 45.40625 37.203125 41.296875 42.84375 \r\nQ 37.203125 48.484375 30.078125 48.484375 \r\nQ 22.953125 48.484375 18.875 42.84375 \r\nQ 14.796875 37.203125 14.796875 27.296875 \r\nz\r\nM 45.40625 8.203125 \r\nQ 42.578125 3.328125 38.25 0.953125 \r\nQ 33.9375 -1.421875 27.875 -1.421875 \r\nQ 17.96875 -1.421875 11.734375 6.484375 \r\nQ 5.515625 14.40625 5.515625 27.296875 \r\nQ 5.515625 40.1875 11.734375 48.09375 \r\nQ 17.96875 56 27.875 56 \r\nQ 33.9375 56 38.25 53.625 \r\nQ 42.578125 51.265625 45.40625 46.390625 \r\nL 45.40625 54.6875 \r\nL 54.390625 54.6875 \r\nL 54.390625 -20.796875 \r\nL 45.40625 -20.796875 \r\nz\r\n\" id=\"DejaVuSans-113\"/>\r\n       <path d=\"M 8.5 21.578125 \r\nL 8.5 54.6875 \r\nL 17.484375 54.6875 \r\nL 17.484375 21.921875 \r\nQ 17.484375 14.15625 20.5 10.265625 \r\nQ 23.53125 6.390625 29.59375 6.390625 \r\nQ 36.859375 6.390625 41.078125 11.03125 \r\nQ 45.3125 15.671875 45.3125 23.6875 \r\nL 45.3125 54.6875 \r\nL 54.296875 54.6875 \r\nL 54.296875 0 \r\nL 45.3125 0 \r\nL 45.3125 8.40625 \r\nQ 42.046875 3.421875 37.71875 1 \r\nQ 33.40625 -1.421875 27.6875 -1.421875 \r\nQ 18.265625 -1.421875 13.375 4.4375 \r\nQ 8.5 10.296875 8.5 21.578125 \r\nz\r\nM 31.109375 56 \r\nz\r\n\" id=\"DejaVuSans-117\"/>\r\n       <path d=\"M 34.28125 27.484375 \r\nQ 23.390625 27.484375 19.1875 25 \r\nQ 14.984375 22.515625 14.984375 16.5 \r\nQ 14.984375 11.71875 18.140625 8.90625 \r\nQ 21.296875 6.109375 26.703125 6.109375 \r\nQ 34.1875 6.109375 38.703125 11.40625 \r\nQ 43.21875 16.703125 43.21875 25.484375 \r\nL 43.21875 27.484375 \r\nz\r\nM 52.203125 31.203125 \r\nL 52.203125 0 \r\nL 43.21875 0 \r\nL 43.21875 8.296875 \r\nQ 40.140625 3.328125 35.546875 0.953125 \r\nQ 30.953125 -1.421875 24.3125 -1.421875 \r\nQ 15.921875 -1.421875 10.953125 3.296875 \r\nQ 6 8.015625 6 15.921875 \r\nQ 6 25.140625 12.171875 29.828125 \r\nQ 18.359375 34.515625 30.609375 34.515625 \r\nL 43.21875 34.515625 \r\nL 43.21875 35.40625 \r\nQ 43.21875 41.609375 39.140625 45 \r\nQ 35.0625 48.390625 27.6875 48.390625 \r\nQ 23 48.390625 18.546875 47.265625 \r\nQ 14.109375 46.140625 10.015625 43.890625 \r\nL 10.015625 52.203125 \r\nQ 14.9375 54.109375 19.578125 55.046875 \r\nQ 24.21875 56 28.609375 56 \r\nQ 40.484375 56 46.34375 49.84375 \r\nQ 52.203125 43.703125 52.203125 31.203125 \r\nz\r\n\" id=\"DejaVuSans-97\"/>\r\n       <path d=\"M 45.40625 46.390625 \r\nL 45.40625 75.984375 \r\nL 54.390625 75.984375 \r\nL 54.390625 0 \r\nL 45.40625 0 \r\nL 45.40625 8.203125 \r\nQ 42.578125 3.328125 38.25 0.953125 \r\nQ 33.9375 -1.421875 27.875 -1.421875 \r\nQ 17.96875 -1.421875 11.734375 6.484375 \r\nQ 5.515625 14.40625 5.515625 27.296875 \r\nQ 5.515625 40.1875 11.734375 48.09375 \r\nQ 17.96875 56 27.875 56 \r\nQ 33.9375 56 38.25 53.625 \r\nQ 42.578125 51.265625 45.40625 46.390625 \r\nz\r\nM 14.796875 27.296875 \r\nQ 14.796875 17.390625 18.875 11.75 \r\nQ 22.953125 6.109375 30.078125 6.109375 \r\nQ 37.203125 6.109375 41.296875 11.75 \r\nQ 45.40625 17.390625 45.40625 27.296875 \r\nQ 45.40625 37.203125 41.296875 42.84375 \r\nQ 37.203125 48.484375 30.078125 48.484375 \r\nQ 22.953125 48.484375 18.875 42.84375 \r\nQ 14.796875 37.203125 14.796875 27.296875 \r\nz\r\n\" id=\"DejaVuSans-100\"/>\r\n       <path d=\"M 8.015625 75.875 \r\nL 15.828125 75.875 \r\nQ 23.140625 64.359375 26.78125 53.3125 \r\nQ 30.421875 42.28125 30.421875 31.390625 \r\nQ 30.421875 20.453125 26.78125 9.375 \r\nQ 23.140625 -1.703125 15.828125 -13.1875 \r\nL 8.015625 -13.1875 \r\nQ 14.5 -2 17.703125 9.0625 \r\nQ 20.90625 20.125 20.90625 31.390625 \r\nQ 20.90625 42.671875 17.703125 53.65625 \r\nQ 14.5 64.65625 8.015625 75.875 \r\nz\r\n\" id=\"DejaVuSans-41\"/>\r\n      </defs>\r\n      <use xlink:href=\"#DejaVuSans-67\"/>\r\n      <use x=\"69.824219\" xlink:href=\"#DejaVuSans-86\"/>\r\n      <use x=\"138.232422\" xlink:href=\"#DejaVuSans-32\"/>\r\n      <use x=\"170.019531\" xlink:href=\"#DejaVuSans-115\"/>\r\n      <use x=\"222.119141\" xlink:href=\"#DejaVuSans-99\"/>\r\n      <use x=\"277.099609\" xlink:href=\"#DejaVuSans-111\"/>\r\n      <use x=\"338.28125\" xlink:href=\"#DejaVuSans-114\"/>\r\n      <use x=\"377.144531\" xlink:href=\"#DejaVuSans-101\"/>\r\n      <use x=\"438.667969\" xlink:href=\"#DejaVuSans-32\"/>\r\n      <use x=\"470.455078\" xlink:href=\"#DejaVuSans-40\"/>\r\n      <use x=\"509.46875\" xlink:href=\"#DejaVuSans-114\"/>\r\n      <use x=\"544.207031\" xlink:href=\"#DejaVuSans-45\"/>\r\n      <use x=\"580.291016\" xlink:href=\"#DejaVuSans-115\"/>\r\n      <use x=\"632.390625\" xlink:href=\"#DejaVuSans-113\"/>\r\n      <use x=\"695.867188\" xlink:href=\"#DejaVuSans-117\"/>\r\n      <use x=\"759.246094\" xlink:href=\"#DejaVuSans-97\"/>\r\n      <use x=\"820.525391\" xlink:href=\"#DejaVuSans-114\"/>\r\n      <use x=\"859.388672\" xlink:href=\"#DejaVuSans-101\"/>\r\n      <use x=\"920.912109\" xlink:href=\"#DejaVuSans-100\"/>\r\n      <use x=\"984.388672\" xlink:href=\"#DejaVuSans-41\"/>\r\n     </g>\r\n    </g>\r\n   </g>\r\n   <g id=\"LineCollection_1\">\r\n    <path clip-path=\"url(#pa6dd72e577)\" d=\"M 75.507386 232.288607 \r\nL 75.507386 131.962252 \r\n\" style=\"fill:none;stroke:#1f77b4;stroke-width:1.5;\"/>\r\n    <path clip-path=\"url(#pa6dd72e577)\" d=\"M 87.879892 255.855848 \r\nL 87.879892 128.935605 \r\n\" style=\"fill:none;stroke:#1f77b4;stroke-width:1.5;\"/>\r\n    <path clip-path=\"url(#pa6dd72e577)\" d=\"M 100.252397 214.894119 \r\nL 100.252397 114.392136 \r\n\" style=\"fill:none;stroke:#1f77b4;stroke-width:1.5;\"/>\r\n    <path clip-path=\"url(#pa6dd72e577)\" d=\"M 112.624903 187.601281 \r\nL 112.624903 82.088535 \r\n\" style=\"fill:none;stroke:#1f77b4;stroke-width:1.5;\"/>\r\n    <path clip-path=\"url(#pa6dd72e577)\" d=\"M 124.997409 183.486494 \r\nL 124.997409 83.557655 \r\n\" style=\"fill:none;stroke:#1f77b4;stroke-width:1.5;\"/>\r\n    <path clip-path=\"url(#pa6dd72e577)\" d=\"M 137.369914 156.819466 \r\nL 137.369914 75.389885 \r\n\" style=\"fill:none;stroke:#1f77b4;stroke-width:1.5;\"/>\r\n    <path clip-path=\"url(#pa6dd72e577)\" d=\"M 149.74242 142.434093 \r\nL 149.74242 86.787386 \r\n\" style=\"fill:none;stroke:#1f77b4;stroke-width:1.5;\"/>\r\n    <path clip-path=\"url(#pa6dd72e577)\" d=\"M 162.114925 141.231729 \r\nL 162.114925 85.340069 \r\n\" style=\"fill:none;stroke:#1f77b4;stroke-width:1.5;\"/>\r\n    <path clip-path=\"url(#pa6dd72e577)\" d=\"M 174.487431 165.304456 \r\nL 174.487431 86.90439 \r\n\" style=\"fill:none;stroke:#1f77b4;stroke-width:1.5;\"/>\r\n    <path clip-path=\"url(#pa6dd72e577)\" d=\"M 186.859936 165.99716 \r\nL 186.859936 86.029347 \r\n\" style=\"fill:none;stroke:#1f77b4;stroke-width:1.5;\"/>\r\n    <path clip-path=\"url(#pa6dd72e577)\" d=\"M 199.232442 169.652295 \r\nL 199.232442 82.699898 \r\n\" style=\"fill:none;stroke:#1f77b4;stroke-width:1.5;\"/>\r\n    <path clip-path=\"url(#pa6dd72e577)\" d=\"M 211.604947 169.887766 \r\nL 211.604947 86.564594 \r\n\" style=\"fill:none;stroke:#1f77b4;stroke-width:1.5;\"/>\r\n    <path clip-path=\"url(#pa6dd72e577)\" d=\"M 223.977453 191.349202 \r\nL 223.977453 87.999067 \r\n\" style=\"fill:none;stroke:#1f77b4;stroke-width:1.5;\"/>\r\n    <path clip-path=\"url(#pa6dd72e577)\" d=\"M 236.349958 190.097448 \r\nL 236.349958 88.225033 \r\n\" style=\"fill:none;stroke:#1f77b4;stroke-width:1.5;\"/>\r\n    <path clip-path=\"url(#pa6dd72e577)\" d=\"M 248.722464 200.824342 \r\nL 248.722464 85.179136 \r\n\" style=\"fill:none;stroke:#1f77b4;stroke-width:1.5;\"/>\r\n    <path clip-path=\"url(#pa6dd72e577)\" d=\"M 261.09497 203.087374 \r\nL 261.09497 73.984381 \r\n\" style=\"fill:none;stroke:#1f77b4;stroke-width:1.5;\"/>\r\n    <path clip-path=\"url(#pa6dd72e577)\" d=\"M 273.467475 209.925771 \r\nL 273.467475 75.653595 \r\n\" style=\"fill:none;stroke:#1f77b4;stroke-width:1.5;\"/>\r\n    <path clip-path=\"url(#pa6dd72e577)\" d=\"M 285.839981 206.220716 \r\nL 285.839981 62.085059 \r\n\" style=\"fill:none;stroke:#1f77b4;stroke-width:1.5;\"/>\r\n    <path clip-path=\"url(#pa6dd72e577)\" d=\"M 298.212486 197.088519 \r\nL 298.212486 62.519574 \r\n\" style=\"fill:none;stroke:#1f77b4;stroke-width:1.5;\"/>\r\n    <path clip-path=\"url(#pa6dd72e577)\" d=\"M 310.584992 201.679839 \r\nL 310.584992 55.931406 \r\n\" style=\"fill:none;stroke:#1f77b4;stroke-width:1.5;\"/>\r\n    <path clip-path=\"url(#pa6dd72e577)\" d=\"M 322.957497 198.757293 \r\nL 322.957497 58.187511 \r\n\" style=\"fill:none;stroke:#1f77b4;stroke-width:1.5;\"/>\r\n    <path clip-path=\"url(#pa6dd72e577)\" d=\"M 335.330003 273.879585 \r\nL 335.330003 40.756586 \r\n\" style=\"fill:none;stroke:#1f77b4;stroke-width:1.5;\"/>\r\n    <path clip-path=\"url(#pa6dd72e577)\" d=\"M 347.702508 281.068571 \r\nL 347.702508 39.272152 \r\n\" style=\"fill:none;stroke:#1f77b4;stroke-width:1.5;\"/>\r\n    <path clip-path=\"url(#pa6dd72e577)\" d=\"M 360.075014 280.859869 \r\nL 360.075014 40.606957 \r\n\" style=\"fill:none;stroke:#1f77b4;stroke-width:1.5;\"/>\r\n    <path clip-path=\"url(#pa6dd72e577)\" d=\"M 372.447519 281.76358 \r\nL 372.447519 39.17106 \r\n\" style=\"fill:none;stroke:#1f77b4;stroke-width:1.5;\"/>\r\n    <path clip-path=\"url(#pa6dd72e577)\" d=\"M 384.820025 280.370931 \r\nL 384.820025 38.76617 \r\n\" style=\"fill:none;stroke:#1f77b4;stroke-width:1.5;\"/>\r\n    <path clip-path=\"url(#pa6dd72e577)\" d=\"M 397.19253 274.495123 \r\nL 397.19253 34.67267 \r\n\" style=\"fill:none;stroke:#1f77b4;stroke-width:1.5;\"/>\r\n    <path clip-path=\"url(#pa6dd72e577)\" d=\"M 409.565036 276.384652 \r\nL 409.565036 36.851686 \r\n\" style=\"fill:none;stroke:#1f77b4;stroke-width:1.5;\"/>\r\n    <path clip-path=\"url(#pa6dd72e577)\" d=\"M 421.937542 249.596404 \r\nL 421.937542 45.395236 \r\n\" style=\"fill:none;stroke:#1f77b4;stroke-width:1.5;\"/>\r\n    <path clip-path=\"url(#pa6dd72e577)\" d=\"M 434.310047 250.059461 \r\nL 434.310047 49.053748 \r\n\" style=\"fill:none;stroke:#1f77b4;stroke-width:1.5;\"/>\r\n    <path clip-path=\"url(#pa6dd72e577)\" d=\"M 446.682553 255.441562 \r\nL 446.682553 52.405857 \r\n\" style=\"fill:none;stroke:#1f77b4;stroke-width:1.5;\"/>\r\n    <path clip-path=\"url(#pa6dd72e577)\" d=\"M 459.055058 253.548304 \r\nL 459.055058 51.074409 \r\n\" style=\"fill:none;stroke:#1f77b4;stroke-width:1.5;\"/>\r\n    <path clip-path=\"url(#pa6dd72e577)\" d=\"M 471.427564 253.556004 \r\nL 471.427564 51.428508 \r\n\" style=\"fill:none;stroke:#1f77b4;stroke-width:1.5;\"/>\r\n    <path clip-path=\"url(#pa6dd72e577)\" d=\"M 483.800069 248.935385 \r\nL 483.800069 56.314232 \r\n\" style=\"fill:none;stroke:#1f77b4;stroke-width:1.5;\"/>\r\n    <path clip-path=\"url(#pa6dd72e577)\" d=\"M 496.172575 248.96159 \r\nL 496.172575 55.871996 \r\n\" style=\"fill:none;stroke:#1f77b4;stroke-width:1.5;\"/>\r\n    <path clip-path=\"url(#pa6dd72e577)\" d=\"M 508.54508 245.20378 \r\nL 508.54508 53.122572 \r\n\" style=\"fill:none;stroke:#1f77b4;stroke-width:1.5;\"/>\r\n    <path clip-path=\"url(#pa6dd72e577)\" d=\"M 520.917586 242.478808 \r\nL 520.917586 54.528947 \r\n\" style=\"fill:none;stroke:#1f77b4;stroke-width:1.5;\"/>\r\n    <path clip-path=\"url(#pa6dd72e577)\" d=\"M 533.290091 242.478766 \r\nL 533.290091 54.530648 \r\n\" style=\"fill:none;stroke:#1f77b4;stroke-width:1.5;\"/>\r\n    <path clip-path=\"url(#pa6dd72e577)\" d=\"M 545.662597 242.489895 \r\nL 545.662597 59.313246 \r\n\" style=\"fill:none;stroke:#1f77b4;stroke-width:1.5;\"/>\r\n    <path clip-path=\"url(#pa6dd72e577)\" d=\"M 558.035103 241.208924 \r\nL 558.035103 59.153561 \r\n\" style=\"fill:none;stroke:#1f77b4;stroke-width:1.5;\"/>\r\n    <path clip-path=\"url(#pa6dd72e577)\" d=\"M 570.407608 252.648044 \r\nL 570.407608 62.155069 \r\n\" style=\"fill:none;stroke:#1f77b4;stroke-width:1.5;\"/>\r\n    <path clip-path=\"url(#pa6dd72e577)\" d=\"M 582.780114 262.799383 \r\nL 582.780114 58.33714 \r\n\" style=\"fill:none;stroke:#1f77b4;stroke-width:1.5;\"/>\r\n   </g>\r\n   <g id=\"line2d_15\">\r\n    <path clip-path=\"url(#pa6dd72e577)\" d=\"M 162.114925 294.118125 \r\nL 162.114925 22.318125 \r\n\" style=\"fill:none;stroke:#ff0000;stroke-dasharray:5.55,2.4;stroke-dashoffset:0;stroke-opacity:0.5;stroke-width:1.5;\"/>\r\n   </g>\r\n   <g id=\"line2d_16\">\r\n    <path clip-path=\"url(#pa6dd72e577)\" d=\"M 75.507386 182.125429 \r\nL 87.879892 192.395726 \r\nL 100.252397 164.643128 \r\nL 112.624903 134.844908 \r\nL 124.997409 133.522074 \r\nL 137.369914 116.104675 \r\nL 149.74242 114.61074 \r\nL 162.114925 113.285899 \r\nL 174.487431 126.104423 \r\nL 186.859936 126.013253 \r\nL 199.232442 126.176096 \r\nL 211.604947 128.22618 \r\nL 223.977453 139.674135 \r\nL 236.349958 139.16124 \r\nL 248.722464 143.001739 \r\nL 261.09497 138.535877 \r\nL 273.467475 142.789683 \r\nL 285.839981 134.152888 \r\nL 298.212486 129.804047 \r\nL 310.584992 128.805623 \r\nL 322.957497 128.472402 \r\nL 335.330003 157.318086 \r\nL 347.702508 160.170361 \r\nL 360.075014 160.733413 \r\nL 372.447519 160.46732 \r\nL 384.820025 159.56855 \r\nL 397.19253 154.583896 \r\nL 409.565036 156.618169 \r\nL 421.937542 147.49582 \r\nL 434.310047 149.556605 \r\nL 446.682553 153.92371 \r\nL 459.055058 152.311357 \r\nL 471.427564 152.492256 \r\nL 483.800069 152.624809 \r\nL 496.172575 152.416793 \r\nL 508.54508 149.163176 \r\nL 520.917586 148.503878 \r\nL 533.290091 148.504707 \r\nL 545.662597 150.90157 \r\nL 558.035103 150.181242 \r\nL 570.407608 157.401556 \r\nL 582.780114 160.568262 \r\n\" style=\"fill:none;stroke:#1f77b4;stroke-linecap:square;stroke-width:1.5;\"/>\r\n   </g>\r\n   <g id=\"patch_3\">\r\n    <path d=\"M 50.14375 294.118125 \r\nL 50.14375 22.318125 \r\n\" style=\"fill:none;stroke:#000000;stroke-linecap:square;stroke-linejoin:miter;stroke-width:0.8;\"/>\r\n   </g>\r\n   <g id=\"patch_4\">\r\n    <path d=\"M 608.14375 294.118125 \r\nL 608.14375 22.318125 \r\n\" style=\"fill:none;stroke:#000000;stroke-linecap:square;stroke-linejoin:miter;stroke-width:0.8;\"/>\r\n   </g>\r\n   <g id=\"patch_5\">\r\n    <path d=\"M 50.14375 294.118125 \r\nL 608.14375 294.118125 \r\n\" style=\"fill:none;stroke:#000000;stroke-linecap:square;stroke-linejoin:miter;stroke-width:0.8;\"/>\r\n   </g>\r\n   <g id=\"patch_6\">\r\n    <path d=\"M 50.14375 22.318125 \r\nL 608.14375 22.318125 \r\n\" style=\"fill:none;stroke:#000000;stroke-linecap:square;stroke-linejoin:miter;stroke-width:0.8;\"/>\r\n   </g>\r\n   <g id=\"text_17\">\r\n    <!-- Pipeline mean CV score (error bars +/- 1sd) -->\r\n    <g transform=\"translate(198.639063 16.318125)scale(0.12 -0.12)\">\r\n     <defs>\r\n      <path d=\"M 19.671875 64.796875 \r\nL 19.671875 37.40625 \r\nL 32.078125 37.40625 \r\nQ 38.96875 37.40625 42.71875 40.96875 \r\nQ 46.484375 44.53125 46.484375 51.125 \r\nQ 46.484375 57.671875 42.71875 61.234375 \r\nQ 38.96875 64.796875 32.078125 64.796875 \r\nz\r\nM 9.8125 72.90625 \r\nL 32.078125 72.90625 \r\nQ 44.34375 72.90625 50.609375 67.359375 \r\nQ 56.890625 61.8125 56.890625 51.125 \r\nQ 56.890625 40.328125 50.609375 34.8125 \r\nQ 44.34375 29.296875 32.078125 29.296875 \r\nL 19.671875 29.296875 \r\nL 19.671875 0 \r\nL 9.8125 0 \r\nz\r\n\" id=\"DejaVuSans-80\"/>\r\n      <path d=\"M 9.421875 54.6875 \r\nL 18.40625 54.6875 \r\nL 18.40625 0 \r\nL 9.421875 0 \r\nz\r\nM 9.421875 75.984375 \r\nL 18.40625 75.984375 \r\nL 18.40625 64.59375 \r\nL 9.421875 64.59375 \r\nz\r\n\" id=\"DejaVuSans-105\"/>\r\n      <path d=\"M 18.109375 8.203125 \r\nL 18.109375 -20.796875 \r\nL 9.078125 -20.796875 \r\nL 9.078125 54.6875 \r\nL 18.109375 54.6875 \r\nL 18.109375 46.390625 \r\nQ 20.953125 51.265625 25.265625 53.625 \r\nQ 29.59375 56 35.59375 56 \r\nQ 45.5625 56 51.78125 48.09375 \r\nQ 58.015625 40.1875 58.015625 27.296875 \r\nQ 58.015625 14.40625 51.78125 6.484375 \r\nQ 45.5625 -1.421875 35.59375 -1.421875 \r\nQ 29.59375 -1.421875 25.265625 0.953125 \r\nQ 20.953125 3.328125 18.109375 8.203125 \r\nz\r\nM 48.6875 27.296875 \r\nQ 48.6875 37.203125 44.609375 42.84375 \r\nQ 40.53125 48.484375 33.40625 48.484375 \r\nQ 26.265625 48.484375 22.1875 42.84375 \r\nQ 18.109375 37.203125 18.109375 27.296875 \r\nQ 18.109375 17.390625 22.1875 11.75 \r\nQ 26.265625 6.109375 33.40625 6.109375 \r\nQ 40.53125 6.109375 44.609375 11.75 \r\nQ 48.6875 17.390625 48.6875 27.296875 \r\nz\r\n\" id=\"DejaVuSans-112\"/>\r\n      <path d=\"M 9.421875 75.984375 \r\nL 18.40625 75.984375 \r\nL 18.40625 0 \r\nL 9.421875 0 \r\nz\r\n\" id=\"DejaVuSans-108\"/>\r\n      <path d=\"M 54.890625 33.015625 \r\nL 54.890625 0 \r\nL 45.90625 0 \r\nL 45.90625 32.71875 \r\nQ 45.90625 40.484375 42.875 44.328125 \r\nQ 39.84375 48.1875 33.796875 48.1875 \r\nQ 26.515625 48.1875 22.3125 43.546875 \r\nQ 18.109375 38.921875 18.109375 30.90625 \r\nL 18.109375 0 \r\nL 9.078125 0 \r\nL 9.078125 54.6875 \r\nL 18.109375 54.6875 \r\nL 18.109375 46.1875 \r\nQ 21.34375 51.125 25.703125 53.5625 \r\nQ 30.078125 56 35.796875 56 \r\nQ 45.21875 56 50.046875 50.171875 \r\nQ 54.890625 44.34375 54.890625 33.015625 \r\nz\r\n\" id=\"DejaVuSans-110\"/>\r\n      <path d=\"M 52 44.1875 \r\nQ 55.375 50.25 60.0625 53.125 \r\nQ 64.75 56 71.09375 56 \r\nQ 79.640625 56 84.28125 50.015625 \r\nQ 88.921875 44.046875 88.921875 33.015625 \r\nL 88.921875 0 \r\nL 79.890625 0 \r\nL 79.890625 32.71875 \r\nQ 79.890625 40.578125 77.09375 44.375 \r\nQ 74.3125 48.1875 68.609375 48.1875 \r\nQ 61.625 48.1875 57.5625 43.546875 \r\nQ 53.515625 38.921875 53.515625 30.90625 \r\nL 53.515625 0 \r\nL 44.484375 0 \r\nL 44.484375 32.71875 \r\nQ 44.484375 40.625 41.703125 44.40625 \r\nQ 38.921875 48.1875 33.109375 48.1875 \r\nQ 26.21875 48.1875 22.15625 43.53125 \r\nQ 18.109375 38.875 18.109375 30.90625 \r\nL 18.109375 0 \r\nL 9.078125 0 \r\nL 9.078125 54.6875 \r\nL 18.109375 54.6875 \r\nL 18.109375 46.1875 \r\nQ 21.1875 51.21875 25.484375 53.609375 \r\nQ 29.78125 56 35.6875 56 \r\nQ 41.65625 56 45.828125 52.96875 \r\nQ 50 49.953125 52 44.1875 \r\nz\r\n\" id=\"DejaVuSans-109\"/>\r\n      <path d=\"M 48.6875 27.296875 \r\nQ 48.6875 37.203125 44.609375 42.84375 \r\nQ 40.53125 48.484375 33.40625 48.484375 \r\nQ 26.265625 48.484375 22.1875 42.84375 \r\nQ 18.109375 37.203125 18.109375 27.296875 \r\nQ 18.109375 17.390625 22.1875 11.75 \r\nQ 26.265625 6.109375 33.40625 6.109375 \r\nQ 40.53125 6.109375 44.609375 11.75 \r\nQ 48.6875 17.390625 48.6875 27.296875 \r\nz\r\nM 18.109375 46.390625 \r\nQ 20.953125 51.265625 25.265625 53.625 \r\nQ 29.59375 56 35.59375 56 \r\nQ 45.5625 56 51.78125 48.09375 \r\nQ 58.015625 40.1875 58.015625 27.296875 \r\nQ 58.015625 14.40625 51.78125 6.484375 \r\nQ 45.5625 -1.421875 35.59375 -1.421875 \r\nQ 29.59375 -1.421875 25.265625 0.953125 \r\nQ 20.953125 3.328125 18.109375 8.203125 \r\nL 18.109375 0 \r\nL 9.078125 0 \r\nL 9.078125 75.984375 \r\nL 18.109375 75.984375 \r\nz\r\n\" id=\"DejaVuSans-98\"/>\r\n      <path d=\"M 46 62.703125 \r\nL 46 35.5 \r\nL 73.1875 35.5 \r\nL 73.1875 27.203125 \r\nL 46 27.203125 \r\nL 46 0 \r\nL 37.796875 0 \r\nL 37.796875 27.203125 \r\nL 10.59375 27.203125 \r\nL 10.59375 35.5 \r\nL 37.796875 35.5 \r\nL 37.796875 62.703125 \r\nz\r\n\" id=\"DejaVuSans-43\"/>\r\n      <path d=\"M 25.390625 72.90625 \r\nL 33.6875 72.90625 \r\nL 8.296875 -9.28125 \r\nL 0 -9.28125 \r\nz\r\n\" id=\"DejaVuSans-47\"/>\r\n     </defs>\r\n     <use xlink:href=\"#DejaVuSans-80\"/>\r\n     <use x=\"58.052734\" xlink:href=\"#DejaVuSans-105\"/>\r\n     <use x=\"85.835938\" xlink:href=\"#DejaVuSans-112\"/>\r\n     <use x=\"149.3125\" xlink:href=\"#DejaVuSans-101\"/>\r\n     <use x=\"210.835938\" xlink:href=\"#DejaVuSans-108\"/>\r\n     <use x=\"238.619141\" xlink:href=\"#DejaVuSans-105\"/>\r\n     <use x=\"266.402344\" xlink:href=\"#DejaVuSans-110\"/>\r\n     <use x=\"329.78125\" xlink:href=\"#DejaVuSans-101\"/>\r\n     <use x=\"391.304688\" xlink:href=\"#DejaVuSans-32\"/>\r\n     <use x=\"423.091797\" xlink:href=\"#DejaVuSans-109\"/>\r\n     <use x=\"520.503906\" xlink:href=\"#DejaVuSans-101\"/>\r\n     <use x=\"582.027344\" xlink:href=\"#DejaVuSans-97\"/>\r\n     <use x=\"643.306641\" xlink:href=\"#DejaVuSans-110\"/>\r\n     <use x=\"706.685547\" xlink:href=\"#DejaVuSans-32\"/>\r\n     <use x=\"738.472656\" xlink:href=\"#DejaVuSans-67\"/>\r\n     <use x=\"808.296875\" xlink:href=\"#DejaVuSans-86\"/>\r\n     <use x=\"876.705078\" xlink:href=\"#DejaVuSans-32\"/>\r\n     <use x=\"908.492188\" xlink:href=\"#DejaVuSans-115\"/>\r\n     <use x=\"960.591797\" xlink:href=\"#DejaVuSans-99\"/>\r\n     <use x=\"1015.572266\" xlink:href=\"#DejaVuSans-111\"/>\r\n     <use x=\"1076.753906\" xlink:href=\"#DejaVuSans-114\"/>\r\n     <use x=\"1115.617188\" xlink:href=\"#DejaVuSans-101\"/>\r\n     <use x=\"1177.140625\" xlink:href=\"#DejaVuSans-32\"/>\r\n     <use x=\"1208.927734\" xlink:href=\"#DejaVuSans-40\"/>\r\n     <use x=\"1247.941406\" xlink:href=\"#DejaVuSans-101\"/>\r\n     <use x=\"1309.464844\" xlink:href=\"#DejaVuSans-114\"/>\r\n     <use x=\"1348.828125\" xlink:href=\"#DejaVuSans-114\"/>\r\n     <use x=\"1387.691406\" xlink:href=\"#DejaVuSans-111\"/>\r\n     <use x=\"1448.873047\" xlink:href=\"#DejaVuSans-114\"/>\r\n     <use x=\"1489.986328\" xlink:href=\"#DejaVuSans-32\"/>\r\n     <use x=\"1521.773438\" xlink:href=\"#DejaVuSans-98\"/>\r\n     <use x=\"1585.25\" xlink:href=\"#DejaVuSans-97\"/>\r\n     <use x=\"1646.529297\" xlink:href=\"#DejaVuSans-114\"/>\r\n     <use x=\"1687.642578\" xlink:href=\"#DejaVuSans-115\"/>\r\n     <use x=\"1739.742188\" xlink:href=\"#DejaVuSans-32\"/>\r\n     <use x=\"1771.529297\" xlink:href=\"#DejaVuSans-43\"/>\r\n     <use x=\"1855.318359\" xlink:href=\"#DejaVuSans-47\"/>\r\n     <use x=\"1889.009766\" xlink:href=\"#DejaVuSans-45\"/>\r\n     <use x=\"1925.09375\" xlink:href=\"#DejaVuSans-32\"/>\r\n     <use x=\"1956.880859\" xlink:href=\"#DejaVuSans-49\"/>\r\n     <use x=\"2020.503906\" xlink:href=\"#DejaVuSans-115\"/>\r\n     <use x=\"2072.603516\" xlink:href=\"#DejaVuSans-100\"/>\r\n     <use x=\"2136.080078\" xlink:href=\"#DejaVuSans-41\"/>\r\n    </g>\r\n   </g>\r\n  </g>\r\n </g>\r\n <defs>\r\n  <clipPath id=\"pa6dd72e577\">\r\n   <rect height=\"271.8\" width=\"558\" x=\"50.14375\" y=\"22.318125\"/>\r\n  </clipPath>\r\n </defs>\r\n</svg>\r\n",
      "image/png": "[encoded data removed]"
     },
     "metadata": {
      "needs_background": "light"
     }
    }
   ],
   "source": [
    "#Code task 20#\n",
    "#Assign the value of k from the above dict of `best_params_` and assign it to `best_k`\n",
    "best_k = lr_grid_cv.best_params_['selectkbest__k']\n",
    "plt.subplots(figsize=(10, 5))\n",
    "plt.errorbar(cv_k, score_mean, yerr=score_std)\n",
    "plt.axvline(x=best_k, c='r', ls='--', alpha=.5)\n",
    "plt.xlabel('k')\n",
    "plt.ylabel('CV score (r-squared)')\n",
    "plt.title('Pipeline mean CV score (error bars +/- 1sd)');"
   ]
  },
  {
   "cell_type": "markdown",
   "metadata": {},
   "source": [
    "The above suggests a good value for k is 8. There was an initial rapid increase with k, followed by a slow decline. Also noticeable is the variance of the results greatly increase above k=8. As you increasingly overfit, expect greater swings in performance as different points move in and out of the train/test folds."
   ]
  },
  {
   "cell_type": "markdown",
   "metadata": {},
   "source": [
    "Which features were most useful? Step into your best model, shown below. Starting with the fitted grid search object, you get the best estimator, then the named step 'selectkbest', for which you can its `get_support()` method for a logical mask of the features selected."
   ]
  },
  {
   "cell_type": "code",
   "execution_count": 84,
   "metadata": {},
   "outputs": [
    {
     "output_type": "execute_result",
     "data": {
      "text/plain": [
       "array([False,  True, False,  True, False,  True, False, False, False,\n",
       "       False,  True,  True, False,  True,  True,  True, False, False,\n",
       "       False, False, False, False, False, False, False, False, False,\n",
       "       False, False, False, False, False, False, False, False, False,\n",
       "       False, False, False, False, False, False])"
      ]
     },
     "metadata": {},
     "execution_count": 84
    }
   ],
   "source": [
    "selected = lr_grid_cv.best_estimator_.named_steps.selectkbest.get_support()\n",
    "selected"
   ]
  },
  {
   "cell_type": "markdown",
   "metadata": {},
   "source": [
    "Similarly, instead of using the 'selectkbest' named step, you can access the named step for the linear regression model and, from that, grab the model coefficients via its `coef_` attribute:"
   ]
  },
  {
   "cell_type": "code",
   "execution_count": 85,
   "metadata": {},
   "outputs": [
    {
     "output_type": "execute_result",
     "data": {
      "text/plain": [
       "vertical_drop        10.767857\n",
       "Snow Making_ac        6.290074\n",
       "total_chairs          5.794156\n",
       "fastQuads             5.745626\n",
       "Runs                  5.370555\n",
       "LongestRun_mi         0.181814\n",
       "trams                -4.142024\n",
       "SkiableTerrain_ac    -5.249780\n",
       "dtype: float64"
      ]
     },
     "metadata": {},
     "execution_count": 85
    }
   ],
   "source": [
    "#Code task 21#\n",
    "#Get the linear model coefficients from the `coef_` attribute and store in `coefs`,\n",
    "#get the matching feature names from the column names of the dataframe,\n",
    "#and display the results as a pandas Series with `coefs` as the values and `features` as the index,\n",
    "#sorting the values in descending order\n",
    "coefs = lr_grid_cv.best_estimator_.named_steps.linearregression.coef_\n",
    "features = X_train.columns[selected]\n",
    "pd.Series(coefs, index=features).sort_values(ascending=False)"
   ]
  },
  {
   "cell_type": "markdown",
   "metadata": {},
   "source": [
    "These results suggest that vertical drop is your biggest positive feature. This makes intuitive sense and is consistent with what you saw during the EDA work. Also, you see the area covered by snow making equipment is a strong positive as well. People like guaranteed skiing! The skiable terrain area is negatively associated with ticket price! This seems odd. People will pay less for larger resorts? There could be all manner of reasons for this. It could be  an effect whereby larger resorts can host more visitors at any one time and so can charge less per ticket. As has been mentioned previously, the data are missing information about visitor numbers. Bear in mind,  the coefficient for skiable terrain is negative _for this model_. For example, if you kept the total number of chairs and fastQuads constant, but increased the skiable terrain extent, you might imagine the resort is worse off because the chairlift capacity is stretched thinner."
   ]
  },
  {
   "cell_type": "markdown",
   "metadata": {},
   "source": [
    "## 4.10 Random Forest Model<a id='4.10_Random_Forest_Model'></a>"
   ]
  },
  {
   "cell_type": "markdown",
   "metadata": {},
   "source": [
    "A model that can work very well in a lot of cases is the random forest. For regression, this is provided by `sklearn`'s `RandomForestRegressor` class.\n",
    "\n",
    "Time to stop the bad practice of repeatedly checking performance on the test split. Instead, go straight from defining the pipeline to assessing performance using cross-validation. `cross_validate` will perform the fitting as part of the process. This uses the default settings for the random forest so you'll then proceed to investigate some different hyperparameters."
   ]
  },
  {
   "cell_type": "markdown",
   "metadata": {},
   "source": [
    "### 4.10.1 Define the pipeline<a id='4.10.1_Define_the_pipeline'></a>"
   ]
  },
  {
   "cell_type": "code",
   "execution_count": 86,
   "metadata": {},
   "outputs": [],
   "source": [
    "#Code task 22#\n",
    "#Define a pipeline comprising the steps:\n",
    "#SimpleImputer() with a strategy of 'median'\n",
    "#StandardScaler(),\n",
    "#and then RandomForestRegressor() with a random state of 47\n",
    "RF_pipe = make_pipeline(\n",
    "    SimpleImputer(strategy='median'),\n",
    "    StandardScaler(),\n",
    "    RandomForestRegressor(random_state=47)\n",
    ")"
   ]
  },
  {
   "cell_type": "markdown",
   "metadata": {},
   "source": [
    "### 4.10.2 Fit and assess performance using cross-validation<a id='4.10.2_Fit_and_assess_performance_using_cross-validation'></a>"
   ]
  },
  {
   "cell_type": "code",
   "execution_count": 87,
   "metadata": {},
   "outputs": [],
   "source": [
    "#Code task 23#\n",
    "#Call `cross_validate` to estimate the pipeline's performance.\n",
    "#Pass it the random forest pipe object, `X_train` and `y_train`,\n",
    "#and get it to use 5-fold cross-validation\n",
    "rf_default_cv_results = cross_validate(RF_pipe, X_train, y_train, cv=5)"
   ]
  },
  {
   "cell_type": "code",
   "execution_count": 88,
   "metadata": {},
   "outputs": [
    {
     "output_type": "execute_result",
     "data": {
      "text/plain": [
       "array([0.69612551, 0.8074442 , 0.78504958, 0.60221765, 0.64996564])"
      ]
     },
     "metadata": {},
     "execution_count": 88
    }
   ],
   "source": [
    "rf_cv_scores = rf_default_cv_results['test_score']\n",
    "rf_cv_scores"
   ]
  },
  {
   "cell_type": "code",
   "execution_count": 89,
   "metadata": {},
   "outputs": [
    {
     "output_type": "execute_result",
     "data": {
      "text/plain": [
       "(0.7081605162887421, 0.07813392760848573)"
      ]
     },
     "metadata": {},
     "execution_count": 89
    }
   ],
   "source": [
    "np.mean(rf_cv_scores), np.std(rf_cv_scores)"
   ]
  },
  {
   "cell_type": "markdown",
   "metadata": {},
   "source": [
    "### 4.10.3 Hyperparameter search using GridSearchCV<a id='4.10.3_Hyperparameter_search_using_GridSearchCV'></a>"
   ]
  },
  {
   "cell_type": "markdown",
   "metadata": {},
   "source": [
    "Random forest has a number of hyperparameters that can be explored, however here you'll limit yourselves to exploring some different values for the number of trees. You'll try it with and without feature scaling, and try both the mean and median as strategies for imputing missing values."
   ]
  },
  {
   "cell_type": "code",
   "execution_count": 90,
   "metadata": {},
   "outputs": [
    {
     "output_type": "execute_result",
     "data": {
      "text/plain": [
       "{'randomforestregressor__n_estimators': [10,\n",
       "  12,\n",
       "  16,\n",
       "  20,\n",
       "  26,\n",
       "  33,\n",
       "  42,\n",
       "  54,\n",
       "  69,\n",
       "  88,\n",
       "  112,\n",
       "  143,\n",
       "  183,\n",
       "  233,\n",
       "  297,\n",
       "  379,\n",
       "  483,\n",
       "  615,\n",
       "  784,\n",
       "  1000],\n",
       " 'standardscaler': [StandardScaler(), None],\n",
       " 'simpleimputer__strategy': ['mean', 'median']}"
      ]
     },
     "metadata": {},
     "execution_count": 90
    }
   ],
   "source": [
    "n_est = [int(n) for n in np.logspace(start=1, stop=3, num=20)]\n",
    "grid_params = {\n",
    "        'randomforestregressor__n_estimators': n_est,\n",
    "        'standardscaler': [StandardScaler(), None],\n",
    "        'simpleimputer__strategy': ['mean', 'median']\n",
    "}\n",
    "grid_params"
   ]
  },
  {
   "cell_type": "code",
   "execution_count": 91,
   "metadata": {},
   "outputs": [],
   "source": [
    "#Code task 24#\n",
    "#Call `GridSearchCV` with the random forest pipeline, passing in the above `grid_params`\n",
    "#dict for parameters to evaluate, 5-fold cross-validation, and all available CPU cores (if desired)\n",
    "rf_grid_cv = GridSearchCV(RF_pipe, param_grid=grid_params, cv=5, n_jobs=-1)"
   ]
  },
  {
   "cell_type": "code",
   "execution_count": 92,
   "metadata": {},
   "outputs": [
    {
     "output_type": "execute_result",
     "data": {
      "text/plain": [
       "GridSearchCV(cv=5,\n",
       "             estimator=Pipeline(steps=[('simpleimputer',\n",
       "                                        SimpleImputer(strategy='median')),\n",
       "                                       ('standardscaler', StandardScaler()),\n",
       "                                       ('randomforestregressor',\n",
       "                                        RandomForestRegressor(random_state=47))]),\n",
       "             n_jobs=-1,\n",
       "             param_grid={'randomforestregressor__n_estimators': [10, 12, 16, 20,\n",
       "                                                                 26, 33, 42, 54,\n",
       "                                                                 69, 88, 112,\n",
       "                                                                 143, 183, 233,\n",
       "                                                                 297, 379, 483,\n",
       "                                                                 615, 784,\n",
       "                                                                 1000],\n",
       "                         'simpleimputer__strategy': ['mean', 'median'],\n",
       "                         'standardscaler': [StandardScaler(), None]})"
      ]
     },
     "metadata": {},
     "execution_count": 92
    }
   ],
   "source": [
    "#Code task 25#\n",
    "#Now call the `GridSearchCV`'s `fit()` method with `X_train` and `y_train` as arguments\n",
    "#to actually start the grid search. This may take a minute or two.\n",
    "rf_grid_cv.fit(X_train, y_train)"
   ]
  },
  {
   "cell_type": "code",
   "execution_count": 93,
   "metadata": {},
   "outputs": [
    {
     "output_type": "execute_result",
     "data": {
      "text/plain": [
       "{'randomforestregressor__n_estimators': 33,\n",
       " 'simpleimputer__strategy': 'median',\n",
       " 'standardscaler': None}"
      ]
     },
     "metadata": {},
     "execution_count": 93
    }
   ],
   "source": [
    "#Code task 26#\n",
    "#Print the best params (`best_params_` attribute) from the grid search\n",
    "rf_grid_cv.best_params_"
   ]
  },
  {
   "cell_type": "markdown",
   "metadata": {},
   "source": [
    "It looks like imputing with the median helps, but scaling the features doesn't."
   ]
  },
  {
   "cell_type": "code",
   "execution_count": 94,
   "metadata": {},
   "outputs": [
    {
     "output_type": "execute_result",
     "data": {
      "text/plain": [
       "array([0.69642255, 0.82418099, 0.79387791, 0.62289517, 0.65457371])"
      ]
     },
     "metadata": {},
     "execution_count": 94
    }
   ],
   "source": [
    "rf_best_cv_results = cross_validate(rf_grid_cv.best_estimator_, X_train, y_train, cv=5)\n",
    "rf_best_scores = rf_best_cv_results['test_score']\n",
    "rf_best_scores"
   ]
  },
  {
   "cell_type": "code",
   "execution_count": 95,
   "metadata": {},
   "outputs": [
    {
     "output_type": "execute_result",
     "data": {
      "text/plain": [
       "{'fit_time': array([0.07291245, 0.07291126, 0.06946373, 0.07191992, 0.06891823]),\n",
       " 'score_time': array([0.00495982, 0.00347161, 0.00344944, 0.003968  , 0.00349522]),\n",
       " 'test_score': array([0.69642255, 0.82418099, 0.79387791, 0.62289517, 0.65457371])}"
      ]
     },
     "metadata": {},
     "execution_count": 95
    }
   ],
   "source": [
    "rf_best_cv_results"
   ]
  },
  {
   "cell_type": "code",
   "execution_count": 96,
   "metadata": {},
   "outputs": [
    {
     "output_type": "execute_result",
     "data": {
      "text/plain": [
       "(0.7183900672856893, 0.07818504523228113)"
      ]
     },
     "metadata": {},
     "execution_count": 96
    }
   ],
   "source": [
    "np.mean(rf_best_scores), np.std(rf_best_scores)"
   ]
  },
  {
   "cell_type": "markdown",
   "metadata": {},
   "source": [
    "You've marginally improved upon the default CV results. Random forest has many more hyperparameters you could tune, but we won't dive into that here."
   ]
  },
  {
   "cell_type": "code",
   "execution_count": 97,
   "metadata": {},
   "outputs": [
    {
     "output_type": "display_data",
     "data": {
      "text/plain": "<Figure size 720x1080 with 1 Axes>",
      "image/svg+xml": "<?xml version=\"1.0\" encoding=\"utf-8\" standalone=\"no\"?>\r\n<!DOCTYPE svg PUBLIC \"-//W3C//DTD SVG 1.1//EN\"\r\n  \"http://www.w3.org/Graphics/SVG/1.1/DTD/svg11.dtd\">\r\n<!-- Created with matplotlib (https://matplotlib.org/) -->\r\n<svg height=\"875.274375pt\" version=\"1.1\" viewBox=\"0 0 764.971875 875.274375\" width=\"764.971875pt\" xmlns=\"http://www.w3.org/2000/svg\" xmlns:xlink=\"http://www.w3.org/1999/xlink\">\r\n <metadata>\r\n  <rdf:RDF xmlns:cc=\"http://creativecommons.org/ns#\" xmlns:dc=\"http://purl.org/dc/elements/1.1/\" xmlns:rdf=\"http://www.w3.org/1999/02/22-rdf-syntax-ns#\">\r\n   <cc:Work>\r\n    <dc:type rdf:resource=\"http://purl.org/dc/dcmitype/StillImage\"/>\r\n    <dc:date>2021-02-28T15:32:05.513063</dc:date>\r\n    <dc:format>image/svg+xml</dc:format>\r\n    <dc:creator>\r\n     <cc:Agent>\r\n      <dc:title>Matplotlib v3.3.2, https://matplotlib.org/</dc:title>\r\n     </cc:Agent>\r\n    </dc:creator>\r\n   </cc:Work>\r\n  </rdf:RDF>\r\n </metadata>\r\n <defs>\r\n  <style type=\"text/css\">*{stroke-linecap:butt;stroke-linejoin:round;}</style>\r\n </defs>\r\n <g id=\"figure_1\">\r\n  <g id=\"patch_1\">\r\n   <path d=\"M 0 875.274375 \r\nL 764.971875 875.274375 \r\nL 764.971875 0 \r\nL 0 0 \r\nz\r\n\" style=\"fill:none;\"/>\r\n  </g>\r\n  <g id=\"axes_1\">\r\n   <g id=\"patch_2\">\r\n    <path d=\"M 199.771875 837.718125 \r\nL 757.771875 837.718125 \r\nL 757.771875 22.318125 \r\nL 199.771875 22.318125 \r\nz\r\n\" style=\"fill:#ffffff;\"/>\r\n   </g>\r\n   <g id=\"patch_3\">\r\n    <path clip-path=\"url(#p19b97769bb)\" d=\"M 199.771875 832.864554 \r\nL 199.905351 832.864554 \r\nL 199.905351 823.157411 \r\nL 199.771875 823.157411 \r\nz\r\n\" style=\"fill:#1f77b4;\"/>\r\n   </g>\r\n   <g id=\"patch_4\">\r\n    <path clip-path=\"url(#p19b97769bb)\" d=\"M 199.771875 813.450268 \r\nL 200.91421 813.450268 \r\nL 200.91421 803.743125 \r\nL 199.771875 803.743125 \r\nz\r\n\" style=\"fill:#1f77b4;\"/>\r\n   </g>\r\n   <g id=\"patch_5\">\r\n    <path clip-path=\"url(#p19b97769bb)\" d=\"M 199.771875 794.035982 \r\nL 201.408504 794.035982 \r\nL 201.408504 784.328839 \r\nL 199.771875 784.328839 \r\nz\r\n\" style=\"fill:#1f77b4;\"/>\r\n   </g>\r\n   <g id=\"patch_6\">\r\n    <path clip-path=\"url(#p19b97769bb)\" d=\"M 199.771875 774.621696 \r\nL 201.753773 774.621696 \r\nL 201.753773 764.914554 \r\nL 199.771875 764.914554 \r\nz\r\n\" style=\"fill:#1f77b4;\"/>\r\n   </g>\r\n   <g id=\"patch_7\">\r\n    <path clip-path=\"url(#p19b97769bb)\" d=\"M 199.771875 755.207411 \r\nL 203.043589 755.207411 \r\nL 203.043589 745.500268 \r\nL 199.771875 745.500268 \r\nz\r\n\" style=\"fill:#1f77b4;\"/>\r\n   </g>\r\n   <g id=\"patch_8\">\r\n    <path clip-path=\"url(#p19b97769bb)\" d=\"M 199.771875 735.793125 \r\nL 203.335805 735.793125 \r\nL 203.335805 726.085982 \r\nL 199.771875 726.085982 \r\nz\r\n\" style=\"fill:#1f77b4;\"/>\r\n   </g>\r\n   <g id=\"patch_9\">\r\n    <path clip-path=\"url(#p19b97769bb)\" d=\"M 199.771875 716.378839 \r\nL 203.721312 716.378839 \r\nL 203.721312 706.671696 \r\nL 199.771875 706.671696 \r\nz\r\n\" style=\"fill:#1f77b4;\"/>\r\n   </g>\r\n   <g id=\"patch_10\">\r\n    <path clip-path=\"url(#p19b97769bb)\" d=\"M 199.771875 696.964554 \r\nL 204.103156 696.964554 \r\nL 204.103156 687.257411 \r\nL 199.771875 687.257411 \r\nz\r\n\" style=\"fill:#1f77b4;\"/>\r\n   </g>\r\n   <g id=\"patch_11\">\r\n    <path clip-path=\"url(#p19b97769bb)\" d=\"M 199.771875 677.550268 \r\nL 204.276596 677.550268 \r\nL 204.276596 667.843125 \r\nL 199.771875 667.843125 \r\nz\r\n\" style=\"fill:#1f77b4;\"/>\r\n   </g>\r\n   <g id=\"patch_12\">\r\n    <path clip-path=\"url(#p19b97769bb)\" d=\"M 199.771875 658.135982 \r\nL 204.595836 658.135982 \r\nL 204.595836 648.428839 \r\nL 199.771875 648.428839 \r\nz\r\n\" style=\"fill:#1f77b4;\"/>\r\n   </g>\r\n   <g id=\"patch_13\">\r\n    <path clip-path=\"url(#p19b97769bb)\" d=\"M 199.771875 638.721696 \r\nL 205.064259 638.721696 \r\nL 205.064259 629.014554 \r\nL 199.771875 629.014554 \r\nz\r\n\" style=\"fill:#1f77b4;\"/>\r\n   </g>\r\n   <g id=\"patch_14\">\r\n    <path clip-path=\"url(#p19b97769bb)\" d=\"M 199.771875 619.307411 \r\nL 205.57552 619.307411 \r\nL 205.57552 609.600268 \r\nL 199.771875 609.600268 \r\nz\r\n\" style=\"fill:#1f77b4;\"/>\r\n   </g>\r\n   <g id=\"patch_15\">\r\n    <path clip-path=\"url(#p19b97769bb)\" d=\"M 199.771875 599.893125 \r\nL 205.974725 599.893125 \r\nL 205.974725 590.185982 \r\nL 199.771875 590.185982 \r\nz\r\n\" style=\"fill:#1f77b4;\"/>\r\n   </g>\r\n   <g id=\"patch_16\">\r\n    <path clip-path=\"url(#p19b97769bb)\" d=\"M 199.771875 580.478839 \r\nL 206.06303 580.478839 \r\nL 206.06303 570.771696 \r\nL 199.771875 570.771696 \r\nz\r\n\" style=\"fill:#1f77b4;\"/>\r\n   </g>\r\n   <g id=\"patch_17\">\r\n    <path clip-path=\"url(#p19b97769bb)\" d=\"M 199.771875 561.064554 \r\nL 207.213401 561.064554 \r\nL 207.213401 551.357411 \r\nL 199.771875 551.357411 \r\nz\r\n\" style=\"fill:#1f77b4;\"/>\r\n   </g>\r\n   <g id=\"patch_18\">\r\n    <path clip-path=\"url(#p19b97769bb)\" d=\"M 199.771875 541.650268 \r\nL 207.592003 541.650268 \r\nL 207.592003 531.943125 \r\nL 199.771875 531.943125 \r\nz\r\n\" style=\"fill:#1f77b4;\"/>\r\n   </g>\r\n   <g id=\"patch_19\">\r\n    <path clip-path=\"url(#p19b97769bb)\" d=\"M 199.771875 522.235982 \r\nL 207.858716 522.235982 \r\nL 207.858716 512.528839 \r\nL 199.771875 512.528839 \r\nz\r\n\" style=\"fill:#1f77b4;\"/>\r\n   </g>\r\n   <g id=\"patch_20\">\r\n    <path clip-path=\"url(#p19b97769bb)\" d=\"M 199.771875 502.821696 \r\nL 210.074858 502.821696 \r\nL 210.074858 493.114554 \r\nL 199.771875 493.114554 \r\nz\r\n\" style=\"fill:#1f77b4;\"/>\r\n   </g>\r\n   <g id=\"patch_21\">\r\n    <path clip-path=\"url(#p19b97769bb)\" d=\"M 199.771875 483.407411 \r\nL 211.644891 483.407411 \r\nL 211.644891 473.700268 \r\nL 199.771875 473.700268 \r\nz\r\n\" style=\"fill:#1f77b4;\"/>\r\n   </g>\r\n   <g id=\"patch_22\">\r\n    <path clip-path=\"url(#p19b97769bb)\" d=\"M 199.771875 463.993125 \r\nL 211.764453 463.993125 \r\nL 211.764453 454.285982 \r\nL 199.771875 454.285982 \r\nz\r\n\" style=\"fill:#1f77b4;\"/>\r\n   </g>\r\n   <g id=\"patch_23\">\r\n    <path clip-path=\"url(#p19b97769bb)\" d=\"M 199.771875 444.578839 \r\nL 212.493833 444.578839 \r\nL 212.493833 434.871696 \r\nL 199.771875 434.871696 \r\nz\r\n\" style=\"fill:#1f77b4;\"/>\r\n   </g>\r\n   <g id=\"patch_24\">\r\n    <path clip-path=\"url(#p19b97769bb)\" d=\"M 199.771875 425.164554 \r\nL 213.20788 425.164554 \r\nL 213.20788 415.457411 \r\nL 199.771875 415.457411 \r\nz\r\n\" style=\"fill:#1f77b4;\"/>\r\n   </g>\r\n   <g id=\"patch_25\">\r\n    <path clip-path=\"url(#p19b97769bb)\" d=\"M 199.771875 405.750268 \r\nL 214.200691 405.750268 \r\nL 214.200691 396.043125 \r\nL 199.771875 396.043125 \r\nz\r\n\" style=\"fill:#1f77b4;\"/>\r\n   </g>\r\n   <g id=\"patch_26\">\r\n    <path clip-path=\"url(#p19b97769bb)\" d=\"M 199.771875 386.335982 \r\nL 217.795361 386.335982 \r\nL 217.795361 376.628839 \r\nL 199.771875 376.628839 \r\nz\r\n\" style=\"fill:#1f77b4;\"/>\r\n   </g>\r\n   <g id=\"patch_27\">\r\n    <path clip-path=\"url(#p19b97769bb)\" d=\"M 199.771875 366.921696 \r\nL 218.560578 366.921696 \r\nL 218.560578 357.214554 \r\nL 199.771875 357.214554 \r\nz\r\n\" style=\"fill:#1f77b4;\"/>\r\n   </g>\r\n   <g id=\"patch_28\">\r\n    <path clip-path=\"url(#p19b97769bb)\" d=\"M 199.771875 347.507411 \r\nL 218.670397 347.507411 \r\nL 218.670397 337.800268 \r\nL 199.771875 337.800268 \r\nz\r\n\" style=\"fill:#1f77b4;\"/>\r\n   </g>\r\n   <g id=\"patch_29\">\r\n    <path clip-path=\"url(#p19b97769bb)\" d=\"M 199.771875 328.093125 \r\nL 219.099852 328.093125 \r\nL 219.099852 318.385982 \r\nL 199.771875 318.385982 \r\nz\r\n\" style=\"fill:#1f77b4;\"/>\r\n   </g>\r\n   <g id=\"patch_30\">\r\n    <path clip-path=\"url(#p19b97769bb)\" d=\"M 199.771875 308.678839 \r\nL 221.756983 308.678839 \r\nL 221.756983 298.971696 \r\nL 199.771875 298.971696 \r\nz\r\n\" style=\"fill:#1f77b4;\"/>\r\n   </g>\r\n   <g id=\"patch_31\">\r\n    <path clip-path=\"url(#p19b97769bb)\" d=\"M 199.771875 289.264554 \r\nL 222.289219 289.264554 \r\nL 222.289219 279.557411 \r\nL 199.771875 279.557411 \r\nz\r\n\" style=\"fill:#1f77b4;\"/>\r\n   </g>\r\n   <g id=\"patch_32\">\r\n    <path clip-path=\"url(#p19b97769bb)\" d=\"M 199.771875 269.850268 \r\nL 222.393378 269.850268 \r\nL 222.393378 260.143125 \r\nL 199.771875 260.143125 \r\nz\r\n\" style=\"fill:#1f77b4;\"/>\r\n   </g>\r\n   <g id=\"patch_33\">\r\n    <path clip-path=\"url(#p19b97769bb)\" d=\"M 199.771875 250.435982 \r\nL 222.466393 250.435982 \r\nL 222.466393 240.728839 \r\nL 199.771875 240.728839 \r\nz\r\n\" style=\"fill:#1f77b4;\"/>\r\n   </g>\r\n   <g id=\"patch_34\">\r\n    <path clip-path=\"url(#p19b97769bb)\" d=\"M 199.771875 231.021696 \r\nL 224.764907 231.021696 \r\nL 224.764907 221.314554 \r\nL 199.771875 221.314554 \r\nz\r\n\" style=\"fill:#1f77b4;\"/>\r\n   </g>\r\n   <g id=\"patch_35\">\r\n    <path clip-path=\"url(#p19b97769bb)\" d=\"M 199.771875 211.607411 \r\nL 225.66862 211.607411 \r\nL 225.66862 201.900268 \r\nL 199.771875 201.900268 \r\nz\r\n\" style=\"fill:#1f77b4;\"/>\r\n   </g>\r\n   <g id=\"patch_36\">\r\n    <path clip-path=\"url(#p19b97769bb)\" d=\"M 199.771875 192.193125 \r\nL 229.315438 192.193125 \r\nL 229.315438 182.485982 \r\nL 199.771875 182.485982 \r\nz\r\n\" style=\"fill:#1f77b4;\"/>\r\n   </g>\r\n   <g id=\"patch_37\">\r\n    <path clip-path=\"url(#p19b97769bb)\" d=\"M 199.771875 172.778839 \r\nL 231.86418 172.778839 \r\nL 231.86418 163.071696 \r\nL 199.771875 163.071696 \r\nz\r\n\" style=\"fill:#1f77b4;\"/>\r\n   </g>\r\n   <g id=\"patch_38\">\r\n    <path clip-path=\"url(#p19b97769bb)\" d=\"M 199.771875 153.364554 \r\nL 238.30501 153.364554 \r\nL 238.30501 143.657411 \r\nL 199.771875 143.657411 \r\nz\r\n\" style=\"fill:#1f77b4;\"/>\r\n   </g>\r\n   <g id=\"patch_39\">\r\n    <path clip-path=\"url(#p19b97769bb)\" d=\"M 199.771875 133.950268 \r\nL 247.636024 133.950268 \r\nL 247.636024 124.243125 \r\nL 199.771875 124.243125 \r\nz\r\n\" style=\"fill:#1f77b4;\"/>\r\n   </g>\r\n   <g id=\"patch_40\">\r\n    <path clip-path=\"url(#p19b97769bb)\" d=\"M 199.771875 114.535982 \r\nL 247.905356 114.535982 \r\nL 247.905356 104.828839 \r\nL 199.771875 104.828839 \r\nz\r\n\" style=\"fill:#1f77b4;\"/>\r\n   </g>\r\n   <g id=\"patch_41\">\r\n    <path clip-path=\"url(#p19b97769bb)\" d=\"M 199.771875 95.121696 \r\nL 360.100814 95.121696 \r\nL 360.100814 85.414554 \r\nL 199.771875 85.414554 \r\nz\r\n\" style=\"fill:#1f77b4;\"/>\r\n   </g>\r\n   <g id=\"patch_42\">\r\n    <path clip-path=\"url(#p19b97769bb)\" d=\"M 199.771875 75.707411 \r\nL 389.138393 75.707411 \r\nL 389.138393 66.000268 \r\nL 199.771875 66.000268 \r\nz\r\n\" style=\"fill:#1f77b4;\"/>\r\n   </g>\r\n   <g id=\"patch_43\">\r\n    <path clip-path=\"url(#p19b97769bb)\" d=\"M 199.771875 56.293125 \r\nL 661.961577 56.293125 \r\nL 661.961577 46.585982 \r\nL 199.771875 46.585982 \r\nz\r\n\" style=\"fill:#1f77b4;\"/>\r\n   </g>\r\n   <g id=\"patch_44\">\r\n    <path clip-path=\"url(#p19b97769bb)\" d=\"M 199.771875 36.878839 \r\nL 731.200446 36.878839 \r\nL 731.200446 27.171696 \r\nL 199.771875 27.171696 \r\nz\r\n\" style=\"fill:#1f77b4;\"/>\r\n   </g>\r\n   <g id=\"matplotlib.axis_1\">\r\n    <g id=\"xtick_1\">\r\n     <g id=\"line2d_1\">\r\n      <defs>\r\n       <path d=\"M 0 0 \r\nL 0 3.5 \r\n\" id=\"mf345ca8b60\" style=\"stroke:#000000;stroke-width:0.8;\"/>\r\n      </defs>\r\n      <g>\r\n       <use style=\"stroke:#000000;stroke-width:0.8;\" x=\"199.771875\" xlink:href=\"#mf345ca8b60\" y=\"837.718125\"/>\r\n      </g>\r\n     </g>\r\n     <g id=\"text_1\">\r\n      <!-- 0.00 -->\r\n      <g transform=\"translate(188.639063 852.316562)scale(0.1 -0.1)\">\r\n       <defs>\r\n        <path d=\"M 31.78125 66.40625 \r\nQ 24.171875 66.40625 20.328125 58.90625 \r\nQ 16.5 51.421875 16.5 36.375 \r\nQ 16.5 21.390625 20.328125 13.890625 \r\nQ 24.171875 6.390625 31.78125 6.390625 \r\nQ 39.453125 6.390625 43.28125 13.890625 \r\nQ 47.125 21.390625 47.125 36.375 \r\nQ 47.125 51.421875 43.28125 58.90625 \r\nQ 39.453125 66.40625 31.78125 66.40625 \r\nz\r\nM 31.78125 74.21875 \r\nQ 44.046875 74.21875 50.515625 64.515625 \r\nQ 56.984375 54.828125 56.984375 36.375 \r\nQ 56.984375 17.96875 50.515625 8.265625 \r\nQ 44.046875 -1.421875 31.78125 -1.421875 \r\nQ 19.53125 -1.421875 13.0625 8.265625 \r\nQ 6.59375 17.96875 6.59375 36.375 \r\nQ 6.59375 54.828125 13.0625 64.515625 \r\nQ 19.53125 74.21875 31.78125 74.21875 \r\nz\r\n\" id=\"DejaVuSans-48\"/>\r\n        <path d=\"M 10.6875 12.40625 \r\nL 21 12.40625 \r\nL 21 0 \r\nL 10.6875 0 \r\nz\r\n\" id=\"DejaVuSans-46\"/>\r\n       </defs>\r\n       <use xlink:href=\"#DejaVuSans-48\"/>\r\n       <use x=\"63.623047\" xlink:href=\"#DejaVuSans-46\"/>\r\n       <use x=\"95.410156\" xlink:href=\"#DejaVuSans-48\"/>\r\n       <use x=\"159.033203\" xlink:href=\"#DejaVuSans-48\"/>\r\n      </g>\r\n     </g>\r\n    </g>\r\n    <g id=\"xtick_2\">\r\n     <g id=\"line2d_2\">\r\n      <g>\r\n       <use style=\"stroke:#000000;stroke-width:0.8;\" x=\"295.084903\" xlink:href=\"#mf345ca8b60\" y=\"837.718125\"/>\r\n      </g>\r\n     </g>\r\n     <g id=\"text_2\">\r\n      <!-- 0.05 -->\r\n      <g transform=\"translate(283.952091 852.316562)scale(0.1 -0.1)\">\r\n       <defs>\r\n        <path d=\"M 10.796875 72.90625 \r\nL 49.515625 72.90625 \r\nL 49.515625 64.59375 \r\nL 19.828125 64.59375 \r\nL 19.828125 46.734375 \r\nQ 21.96875 47.46875 24.109375 47.828125 \r\nQ 26.265625 48.1875 28.421875 48.1875 \r\nQ 40.625 48.1875 47.75 41.5 \r\nQ 54.890625 34.8125 54.890625 23.390625 \r\nQ 54.890625 11.625 47.5625 5.09375 \r\nQ 40.234375 -1.421875 26.90625 -1.421875 \r\nQ 22.3125 -1.421875 17.546875 -0.640625 \r\nQ 12.796875 0.140625 7.71875 1.703125 \r\nL 7.71875 11.625 \r\nQ 12.109375 9.234375 16.796875 8.0625 \r\nQ 21.484375 6.890625 26.703125 6.890625 \r\nQ 35.15625 6.890625 40.078125 11.328125 \r\nQ 45.015625 15.765625 45.015625 23.390625 \r\nQ 45.015625 31 40.078125 35.4375 \r\nQ 35.15625 39.890625 26.703125 39.890625 \r\nQ 22.75 39.890625 18.8125 39.015625 \r\nQ 14.890625 38.140625 10.796875 36.28125 \r\nz\r\n\" id=\"DejaVuSans-53\"/>\r\n       </defs>\r\n       <use xlink:href=\"#DejaVuSans-48\"/>\r\n       <use x=\"63.623047\" xlink:href=\"#DejaVuSans-46\"/>\r\n       <use x=\"95.410156\" xlink:href=\"#DejaVuSans-48\"/>\r\n       <use x=\"159.033203\" xlink:href=\"#DejaVuSans-53\"/>\r\n      </g>\r\n     </g>\r\n    </g>\r\n    <g id=\"xtick_3\">\r\n     <g id=\"line2d_3\">\r\n      <g>\r\n       <use style=\"stroke:#000000;stroke-width:0.8;\" x=\"390.397932\" xlink:href=\"#mf345ca8b60\" y=\"837.718125\"/>\r\n      </g>\r\n     </g>\r\n     <g id=\"text_3\">\r\n      <!-- 0.10 -->\r\n      <g transform=\"translate(379.265119 852.316562)scale(0.1 -0.1)\">\r\n       <defs>\r\n        <path d=\"M 12.40625 8.296875 \r\nL 28.515625 8.296875 \r\nL 28.515625 63.921875 \r\nL 10.984375 60.40625 \r\nL 10.984375 69.390625 \r\nL 28.421875 72.90625 \r\nL 38.28125 72.90625 \r\nL 38.28125 8.296875 \r\nL 54.390625 8.296875 \r\nL 54.390625 0 \r\nL 12.40625 0 \r\nz\r\n\" id=\"DejaVuSans-49\"/>\r\n       </defs>\r\n       <use xlink:href=\"#DejaVuSans-48\"/>\r\n       <use x=\"63.623047\" xlink:href=\"#DejaVuSans-46\"/>\r\n       <use x=\"95.410156\" xlink:href=\"#DejaVuSans-49\"/>\r\n       <use x=\"159.033203\" xlink:href=\"#DejaVuSans-48\"/>\r\n      </g>\r\n     </g>\r\n    </g>\r\n    <g id=\"xtick_4\">\r\n     <g id=\"line2d_4\">\r\n      <g>\r\n       <use style=\"stroke:#000000;stroke-width:0.8;\" x=\"485.71096\" xlink:href=\"#mf345ca8b60\" y=\"837.718125\"/>\r\n      </g>\r\n     </g>\r\n     <g id=\"text_4\">\r\n      <!-- 0.15 -->\r\n      <g transform=\"translate(474.578148 852.316562)scale(0.1 -0.1)\">\r\n       <use xlink:href=\"#DejaVuSans-48\"/>\r\n       <use x=\"63.623047\" xlink:href=\"#DejaVuSans-46\"/>\r\n       <use x=\"95.410156\" xlink:href=\"#DejaVuSans-49\"/>\r\n       <use x=\"159.033203\" xlink:href=\"#DejaVuSans-53\"/>\r\n      </g>\r\n     </g>\r\n    </g>\r\n    <g id=\"xtick_5\">\r\n     <g id=\"line2d_5\">\r\n      <g>\r\n       <use style=\"stroke:#000000;stroke-width:0.8;\" x=\"581.023989\" xlink:href=\"#mf345ca8b60\" y=\"837.718125\"/>\r\n      </g>\r\n     </g>\r\n     <g id=\"text_5\">\r\n      <!-- 0.20 -->\r\n      <g transform=\"translate(569.891176 852.316562)scale(0.1 -0.1)\">\r\n       <defs>\r\n        <path d=\"M 19.1875 8.296875 \r\nL 53.609375 8.296875 \r\nL 53.609375 0 \r\nL 7.328125 0 \r\nL 7.328125 8.296875 \r\nQ 12.9375 14.109375 22.625 23.890625 \r\nQ 32.328125 33.6875 34.8125 36.53125 \r\nQ 39.546875 41.84375 41.421875 45.53125 \r\nQ 43.3125 49.21875 43.3125 52.78125 \r\nQ 43.3125 58.59375 39.234375 62.25 \r\nQ 35.15625 65.921875 28.609375 65.921875 \r\nQ 23.96875 65.921875 18.8125 64.3125 \r\nQ 13.671875 62.703125 7.8125 59.421875 \r\nL 7.8125 69.390625 \r\nQ 13.765625 71.78125 18.9375 73 \r\nQ 24.125 74.21875 28.421875 74.21875 \r\nQ 39.75 74.21875 46.484375 68.546875 \r\nQ 53.21875 62.890625 53.21875 53.421875 \r\nQ 53.21875 48.921875 51.53125 44.890625 \r\nQ 49.859375 40.875 45.40625 35.40625 \r\nQ 44.1875 33.984375 37.640625 27.21875 \r\nQ 31.109375 20.453125 19.1875 8.296875 \r\nz\r\n\" id=\"DejaVuSans-50\"/>\r\n       </defs>\r\n       <use xlink:href=\"#DejaVuSans-48\"/>\r\n       <use x=\"63.623047\" xlink:href=\"#DejaVuSans-46\"/>\r\n       <use x=\"95.410156\" xlink:href=\"#DejaVuSans-50\"/>\r\n       <use x=\"159.033203\" xlink:href=\"#DejaVuSans-48\"/>\r\n      </g>\r\n     </g>\r\n    </g>\r\n    <g id=\"xtick_6\">\r\n     <g id=\"line2d_6\">\r\n      <g>\r\n       <use style=\"stroke:#000000;stroke-width:0.8;\" x=\"676.337017\" xlink:href=\"#mf345ca8b60\" y=\"837.718125\"/>\r\n      </g>\r\n     </g>\r\n     <g id=\"text_6\">\r\n      <!-- 0.25 -->\r\n      <g transform=\"translate(665.204205 852.316562)scale(0.1 -0.1)\">\r\n       <use xlink:href=\"#DejaVuSans-48\"/>\r\n       <use x=\"63.623047\" xlink:href=\"#DejaVuSans-46\"/>\r\n       <use x=\"95.410156\" xlink:href=\"#DejaVuSans-50\"/>\r\n       <use x=\"159.033203\" xlink:href=\"#DejaVuSans-53\"/>\r\n      </g>\r\n     </g>\r\n    </g>\r\n    <g id=\"text_7\">\r\n     <!-- features -->\r\n     <g transform=\"translate(458.117969 865.994687)scale(0.1 -0.1)\">\r\n      <defs>\r\n       <path d=\"M 37.109375 75.984375 \r\nL 37.109375 68.5 \r\nL 28.515625 68.5 \r\nQ 23.6875 68.5 21.796875 66.546875 \r\nQ 19.921875 64.59375 19.921875 59.515625 \r\nL 19.921875 54.6875 \r\nL 34.71875 54.6875 \r\nL 34.71875 47.703125 \r\nL 19.921875 47.703125 \r\nL 19.921875 0 \r\nL 10.890625 0 \r\nL 10.890625 47.703125 \r\nL 2.296875 47.703125 \r\nL 2.296875 54.6875 \r\nL 10.890625 54.6875 \r\nL 10.890625 58.5 \r\nQ 10.890625 67.625 15.140625 71.796875 \r\nQ 19.390625 75.984375 28.609375 75.984375 \r\nz\r\n\" id=\"DejaVuSans-102\"/>\r\n       <path d=\"M 56.203125 29.59375 \r\nL 56.203125 25.203125 \r\nL 14.890625 25.203125 \r\nQ 15.484375 15.921875 20.484375 11.0625 \r\nQ 25.484375 6.203125 34.421875 6.203125 \r\nQ 39.59375 6.203125 44.453125 7.46875 \r\nQ 49.3125 8.734375 54.109375 11.28125 \r\nL 54.109375 2.78125 \r\nQ 49.265625 0.734375 44.1875 -0.34375 \r\nQ 39.109375 -1.421875 33.890625 -1.421875 \r\nQ 20.796875 -1.421875 13.15625 6.1875 \r\nQ 5.515625 13.8125 5.515625 26.8125 \r\nQ 5.515625 40.234375 12.765625 48.109375 \r\nQ 20.015625 56 32.328125 56 \r\nQ 43.359375 56 49.78125 48.890625 \r\nQ 56.203125 41.796875 56.203125 29.59375 \r\nz\r\nM 47.21875 32.234375 \r\nQ 47.125 39.59375 43.09375 43.984375 \r\nQ 39.0625 48.390625 32.421875 48.390625 \r\nQ 24.90625 48.390625 20.390625 44.140625 \r\nQ 15.875 39.890625 15.1875 32.171875 \r\nz\r\n\" id=\"DejaVuSans-101\"/>\r\n       <path d=\"M 34.28125 27.484375 \r\nQ 23.390625 27.484375 19.1875 25 \r\nQ 14.984375 22.515625 14.984375 16.5 \r\nQ 14.984375 11.71875 18.140625 8.90625 \r\nQ 21.296875 6.109375 26.703125 6.109375 \r\nQ 34.1875 6.109375 38.703125 11.40625 \r\nQ 43.21875 16.703125 43.21875 25.484375 \r\nL 43.21875 27.484375 \r\nz\r\nM 52.203125 31.203125 \r\nL 52.203125 0 \r\nL 43.21875 0 \r\nL 43.21875 8.296875 \r\nQ 40.140625 3.328125 35.546875 0.953125 \r\nQ 30.953125 -1.421875 24.3125 -1.421875 \r\nQ 15.921875 -1.421875 10.953125 3.296875 \r\nQ 6 8.015625 6 15.921875 \r\nQ 6 25.140625 12.171875 29.828125 \r\nQ 18.359375 34.515625 30.609375 34.515625 \r\nL 43.21875 34.515625 \r\nL 43.21875 35.40625 \r\nQ 43.21875 41.609375 39.140625 45 \r\nQ 35.0625 48.390625 27.6875 48.390625 \r\nQ 23 48.390625 18.546875 47.265625 \r\nQ 14.109375 46.140625 10.015625 43.890625 \r\nL 10.015625 52.203125 \r\nQ 14.9375 54.109375 19.578125 55.046875 \r\nQ 24.21875 56 28.609375 56 \r\nQ 40.484375 56 46.34375 49.84375 \r\nQ 52.203125 43.703125 52.203125 31.203125 \r\nz\r\n\" id=\"DejaVuSans-97\"/>\r\n       <path d=\"M 18.3125 70.21875 \r\nL 18.3125 54.6875 \r\nL 36.8125 54.6875 \r\nL 36.8125 47.703125 \r\nL 18.3125 47.703125 \r\nL 18.3125 18.015625 \r\nQ 18.3125 11.328125 20.140625 9.421875 \r\nQ 21.96875 7.515625 27.59375 7.515625 \r\nL 36.8125 7.515625 \r\nL 36.8125 0 \r\nL 27.59375 0 \r\nQ 17.1875 0 13.234375 3.875 \r\nQ 9.28125 7.765625 9.28125 18.015625 \r\nL 9.28125 47.703125 \r\nL 2.6875 47.703125 \r\nL 2.6875 54.6875 \r\nL 9.28125 54.6875 \r\nL 9.28125 70.21875 \r\nz\r\n\" id=\"DejaVuSans-116\"/>\r\n       <path d=\"M 8.5 21.578125 \r\nL 8.5 54.6875 \r\nL 17.484375 54.6875 \r\nL 17.484375 21.921875 \r\nQ 17.484375 14.15625 20.5 10.265625 \r\nQ 23.53125 6.390625 29.59375 6.390625 \r\nQ 36.859375 6.390625 41.078125 11.03125 \r\nQ 45.3125 15.671875 45.3125 23.6875 \r\nL 45.3125 54.6875 \r\nL 54.296875 54.6875 \r\nL 54.296875 0 \r\nL 45.3125 0 \r\nL 45.3125 8.40625 \r\nQ 42.046875 3.421875 37.71875 1 \r\nQ 33.40625 -1.421875 27.6875 -1.421875 \r\nQ 18.265625 -1.421875 13.375 4.4375 \r\nQ 8.5 10.296875 8.5 21.578125 \r\nz\r\nM 31.109375 56 \r\nz\r\n\" id=\"DejaVuSans-117\"/>\r\n       <path d=\"M 41.109375 46.296875 \r\nQ 39.59375 47.171875 37.8125 47.578125 \r\nQ 36.03125 48 33.890625 48 \r\nQ 26.265625 48 22.1875 43.046875 \r\nQ 18.109375 38.09375 18.109375 28.8125 \r\nL 18.109375 0 \r\nL 9.078125 0 \r\nL 9.078125 54.6875 \r\nL 18.109375 54.6875 \r\nL 18.109375 46.1875 \r\nQ 20.953125 51.171875 25.484375 53.578125 \r\nQ 30.03125 56 36.53125 56 \r\nQ 37.453125 56 38.578125 55.875 \r\nQ 39.703125 55.765625 41.0625 55.515625 \r\nz\r\n\" id=\"DejaVuSans-114\"/>\r\n       <path d=\"M 44.28125 53.078125 \r\nL 44.28125 44.578125 \r\nQ 40.484375 46.53125 36.375 47.5 \r\nQ 32.28125 48.484375 27.875 48.484375 \r\nQ 21.1875 48.484375 17.84375 46.4375 \r\nQ 14.5 44.390625 14.5 40.28125 \r\nQ 14.5 37.15625 16.890625 35.375 \r\nQ 19.28125 33.59375 26.515625 31.984375 \r\nL 29.59375 31.296875 \r\nQ 39.15625 29.25 43.1875 25.515625 \r\nQ 47.21875 21.78125 47.21875 15.09375 \r\nQ 47.21875 7.46875 41.1875 3.015625 \r\nQ 35.15625 -1.421875 24.609375 -1.421875 \r\nQ 20.21875 -1.421875 15.453125 -0.5625 \r\nQ 10.6875 0.296875 5.421875 2 \r\nL 5.421875 11.28125 \r\nQ 10.40625 8.6875 15.234375 7.390625 \r\nQ 20.0625 6.109375 24.8125 6.109375 \r\nQ 31.15625 6.109375 34.5625 8.28125 \r\nQ 37.984375 10.453125 37.984375 14.40625 \r\nQ 37.984375 18.0625 35.515625 20.015625 \r\nQ 33.0625 21.96875 24.703125 23.78125 \r\nL 21.578125 24.515625 \r\nQ 13.234375 26.265625 9.515625 29.90625 \r\nQ 5.8125 33.546875 5.8125 39.890625 \r\nQ 5.8125 47.609375 11.28125 51.796875 \r\nQ 16.75 56 26.8125 56 \r\nQ 31.78125 56 36.171875 55.265625 \r\nQ 40.578125 54.546875 44.28125 53.078125 \r\nz\r\n\" id=\"DejaVuSans-115\"/>\r\n      </defs>\r\n      <use xlink:href=\"#DejaVuSans-102\"/>\r\n      <use x=\"35.205078\" xlink:href=\"#DejaVuSans-101\"/>\r\n      <use x=\"96.728516\" xlink:href=\"#DejaVuSans-97\"/>\r\n      <use x=\"158.007812\" xlink:href=\"#DejaVuSans-116\"/>\r\n      <use x=\"197.216797\" xlink:href=\"#DejaVuSans-117\"/>\r\n      <use x=\"260.595703\" xlink:href=\"#DejaVuSans-114\"/>\r\n      <use x=\"299.458984\" xlink:href=\"#DejaVuSans-101\"/>\r\n      <use x=\"360.982422\" xlink:href=\"#DejaVuSans-115\"/>\r\n     </g>\r\n    </g>\r\n   </g>\r\n   <g id=\"matplotlib.axis_2\">\r\n    <g id=\"ytick_1\">\r\n     <g id=\"line2d_7\">\r\n      <defs>\r\n       <path d=\"M 0 0 \r\nL -3.5 0 \r\n\" id=\"m33caba64d5\" style=\"stroke:#000000;stroke-width:0.8;\"/>\r\n      </defs>\r\n      <g>\r\n       <use style=\"stroke:#000000;stroke-width:0.8;\" x=\"199.771875\" xlink:href=\"#m33caba64d5\" y=\"828.010982\"/>\r\n      </g>\r\n     </g>\r\n     <g id=\"text_8\">\r\n      <!-- trams -->\r\n      <g transform=\"translate(163.6625 831.810201)scale(0.1 -0.1)\">\r\n       <defs>\r\n        <path d=\"M 52 44.1875 \r\nQ 55.375 50.25 60.0625 53.125 \r\nQ 64.75 56 71.09375 56 \r\nQ 79.640625 56 84.28125 50.015625 \r\nQ 88.921875 44.046875 88.921875 33.015625 \r\nL 88.921875 0 \r\nL 79.890625 0 \r\nL 79.890625 32.71875 \r\nQ 79.890625 40.578125 77.09375 44.375 \r\nQ 74.3125 48.1875 68.609375 48.1875 \r\nQ 61.625 48.1875 57.5625 43.546875 \r\nQ 53.515625 38.921875 53.515625 30.90625 \r\nL 53.515625 0 \r\nL 44.484375 0 \r\nL 44.484375 32.71875 \r\nQ 44.484375 40.625 41.703125 44.40625 \r\nQ 38.921875 48.1875 33.109375 48.1875 \r\nQ 26.21875 48.1875 22.15625 43.53125 \r\nQ 18.109375 38.875 18.109375 30.90625 \r\nL 18.109375 0 \r\nL 9.078125 0 \r\nL 9.078125 54.6875 \r\nL 18.109375 54.6875 \r\nL 18.109375 46.1875 \r\nQ 21.1875 51.21875 25.484375 53.609375 \r\nQ 29.78125 56 35.6875 56 \r\nQ 41.65625 56 45.828125 52.96875 \r\nQ 50 49.953125 52 44.1875 \r\nz\r\n\" id=\"DejaVuSans-109\"/>\r\n       </defs>\r\n       <use xlink:href=\"#DejaVuSans-116\"/>\r\n       <use x=\"39.208984\" xlink:href=\"#DejaVuSans-114\"/>\r\n       <use x=\"80.322266\" xlink:href=\"#DejaVuSans-97\"/>\r\n       <use x=\"141.601562\" xlink:href=\"#DejaVuSans-109\"/>\r\n       <use x=\"239.013672\" xlink:href=\"#DejaVuSans-115\"/>\r\n      </g>\r\n     </g>\r\n    </g>\r\n    <g id=\"ytick_2\">\r\n     <g id=\"line2d_8\">\r\n      <g>\r\n       <use style=\"stroke:#000000;stroke-width:0.8;\" x=\"199.771875\" xlink:href=\"#m33caba64d5\" y=\"808.596696\"/>\r\n      </g>\r\n     </g>\r\n     <g id=\"text_9\">\r\n      <!-- resorts_per_state_x -->\r\n      <g transform=\"translate(95.301563 812.256853)scale(0.1 -0.1)\">\r\n       <defs>\r\n        <path d=\"M 30.609375 48.390625 \r\nQ 23.390625 48.390625 19.1875 42.75 \r\nQ 14.984375 37.109375 14.984375 27.296875 \r\nQ 14.984375 17.484375 19.15625 11.84375 \r\nQ 23.34375 6.203125 30.609375 6.203125 \r\nQ 37.796875 6.203125 41.984375 11.859375 \r\nQ 46.1875 17.53125 46.1875 27.296875 \r\nQ 46.1875 37.015625 41.984375 42.703125 \r\nQ 37.796875 48.390625 30.609375 48.390625 \r\nz\r\nM 30.609375 56 \r\nQ 42.328125 56 49.015625 48.375 \r\nQ 55.71875 40.765625 55.71875 27.296875 \r\nQ 55.71875 13.875 49.015625 6.21875 \r\nQ 42.328125 -1.421875 30.609375 -1.421875 \r\nQ 18.84375 -1.421875 12.171875 6.21875 \r\nQ 5.515625 13.875 5.515625 27.296875 \r\nQ 5.515625 40.765625 12.171875 48.375 \r\nQ 18.84375 56 30.609375 56 \r\nz\r\n\" id=\"DejaVuSans-111\"/>\r\n        <path d=\"M 50.984375 -16.609375 \r\nL 50.984375 -23.578125 \r\nL -0.984375 -23.578125 \r\nL -0.984375 -16.609375 \r\nz\r\n\" id=\"DejaVuSans-95\"/>\r\n        <path d=\"M 18.109375 8.203125 \r\nL 18.109375 -20.796875 \r\nL 9.078125 -20.796875 \r\nL 9.078125 54.6875 \r\nL 18.109375 54.6875 \r\nL 18.109375 46.390625 \r\nQ 20.953125 51.265625 25.265625 53.625 \r\nQ 29.59375 56 35.59375 56 \r\nQ 45.5625 56 51.78125 48.09375 \r\nQ 58.015625 40.1875 58.015625 27.296875 \r\nQ 58.015625 14.40625 51.78125 6.484375 \r\nQ 45.5625 -1.421875 35.59375 -1.421875 \r\nQ 29.59375 -1.421875 25.265625 0.953125 \r\nQ 20.953125 3.328125 18.109375 8.203125 \r\nz\r\nM 48.6875 27.296875 \r\nQ 48.6875 37.203125 44.609375 42.84375 \r\nQ 40.53125 48.484375 33.40625 48.484375 \r\nQ 26.265625 48.484375 22.1875 42.84375 \r\nQ 18.109375 37.203125 18.109375 27.296875 \r\nQ 18.109375 17.390625 22.1875 11.75 \r\nQ 26.265625 6.109375 33.40625 6.109375 \r\nQ 40.53125 6.109375 44.609375 11.75 \r\nQ 48.6875 17.390625 48.6875 27.296875 \r\nz\r\n\" id=\"DejaVuSans-112\"/>\r\n        <path d=\"M 54.890625 54.6875 \r\nL 35.109375 28.078125 \r\nL 55.90625 0 \r\nL 45.3125 0 \r\nL 29.390625 21.484375 \r\nL 13.484375 0 \r\nL 2.875 0 \r\nL 24.125 28.609375 \r\nL 4.6875 54.6875 \r\nL 15.28125 54.6875 \r\nL 29.78125 35.203125 \r\nL 44.28125 54.6875 \r\nz\r\n\" id=\"DejaVuSans-120\"/>\r\n       </defs>\r\n       <use xlink:href=\"#DejaVuSans-114\"/>\r\n       <use x=\"38.863281\" xlink:href=\"#DejaVuSans-101\"/>\r\n       <use x=\"100.386719\" xlink:href=\"#DejaVuSans-115\"/>\r\n       <use x=\"152.486328\" xlink:href=\"#DejaVuSans-111\"/>\r\n       <use x=\"213.667969\" xlink:href=\"#DejaVuSans-114\"/>\r\n       <use x=\"254.78125\" xlink:href=\"#DejaVuSans-116\"/>\r\n       <use x=\"293.990234\" xlink:href=\"#DejaVuSans-115\"/>\r\n       <use x=\"346.089844\" xlink:href=\"#DejaVuSans-95\"/>\r\n       <use x=\"396.089844\" xlink:href=\"#DejaVuSans-112\"/>\r\n       <use x=\"459.566406\" xlink:href=\"#DejaVuSans-101\"/>\r\n       <use x=\"521.089844\" xlink:href=\"#DejaVuSans-114\"/>\r\n       <use x=\"562.203125\" xlink:href=\"#DejaVuSans-95\"/>\r\n       <use x=\"612.203125\" xlink:href=\"#DejaVuSans-115\"/>\r\n       <use x=\"664.302734\" xlink:href=\"#DejaVuSans-116\"/>\r\n       <use x=\"703.511719\" xlink:href=\"#DejaVuSans-97\"/>\r\n       <use x=\"764.791016\" xlink:href=\"#DejaVuSans-116\"/>\r\n       <use x=\"804\" xlink:href=\"#DejaVuSans-101\"/>\r\n       <use x=\"865.523438\" xlink:href=\"#DejaVuSans-95\"/>\r\n       <use x=\"915.523438\" xlink:href=\"#DejaVuSans-120\"/>\r\n      </g>\r\n     </g>\r\n    </g>\r\n    <g id=\"ytick_3\">\r\n     <g id=\"line2d_9\">\r\n      <g>\r\n       <use style=\"stroke:#000000;stroke-width:0.8;\" x=\"199.771875\" xlink:href=\"#m33caba64d5\" y=\"789.182411\"/>\r\n      </g>\r\n     </g>\r\n     <g id=\"text_10\">\r\n      <!-- resorts_per_state_y -->\r\n      <g transform=\"translate(95.301563 792.842567)scale(0.1 -0.1)\">\r\n       <defs>\r\n        <path d=\"M 32.171875 -5.078125 \r\nQ 28.375 -14.84375 24.75 -17.8125 \r\nQ 21.140625 -20.796875 15.09375 -20.796875 \r\nL 7.90625 -20.796875 \r\nL 7.90625 -13.28125 \r\nL 13.1875 -13.28125 \r\nQ 16.890625 -13.28125 18.9375 -11.515625 \r\nQ 21 -9.765625 23.484375 -3.21875 \r\nL 25.09375 0.875 \r\nL 2.984375 54.6875 \r\nL 12.5 54.6875 \r\nL 29.59375 11.921875 \r\nL 46.6875 54.6875 \r\nL 56.203125 54.6875 \r\nz\r\n\" id=\"DejaVuSans-121\"/>\r\n       </defs>\r\n       <use xlink:href=\"#DejaVuSans-114\"/>\r\n       <use x=\"38.863281\" xlink:href=\"#DejaVuSans-101\"/>\r\n       <use x=\"100.386719\" xlink:href=\"#DejaVuSans-115\"/>\r\n       <use x=\"152.486328\" xlink:href=\"#DejaVuSans-111\"/>\r\n       <use x=\"213.667969\" xlink:href=\"#DejaVuSans-114\"/>\r\n       <use x=\"254.78125\" xlink:href=\"#DejaVuSans-116\"/>\r\n       <use x=\"293.990234\" xlink:href=\"#DejaVuSans-115\"/>\r\n       <use x=\"346.089844\" xlink:href=\"#DejaVuSans-95\"/>\r\n       <use x=\"396.089844\" xlink:href=\"#DejaVuSans-112\"/>\r\n       <use x=\"459.566406\" xlink:href=\"#DejaVuSans-101\"/>\r\n       <use x=\"521.089844\" xlink:href=\"#DejaVuSans-114\"/>\r\n       <use x=\"562.203125\" xlink:href=\"#DejaVuSans-95\"/>\r\n       <use x=\"612.203125\" xlink:href=\"#DejaVuSans-115\"/>\r\n       <use x=\"664.302734\" xlink:href=\"#DejaVuSans-116\"/>\r\n       <use x=\"703.511719\" xlink:href=\"#DejaVuSans-97\"/>\r\n       <use x=\"764.791016\" xlink:href=\"#DejaVuSans-116\"/>\r\n       <use x=\"804\" xlink:href=\"#DejaVuSans-101\"/>\r\n       <use x=\"865.523438\" xlink:href=\"#DejaVuSans-95\"/>\r\n       <use x=\"915.523438\" xlink:href=\"#DejaVuSans-121\"/>\r\n      </g>\r\n     </g>\r\n    </g>\r\n    <g id=\"ytick_4\">\r\n     <g id=\"line2d_10\">\r\n      <g>\r\n       <use style=\"stroke:#000000;stroke-width:0.8;\" x=\"199.771875\" xlink:href=\"#m33caba64d5\" y=\"769.768125\"/>\r\n      </g>\r\n     </g>\r\n     <g id=\"text_11\">\r\n      <!-- fastSixes -->\r\n      <g transform=\"translate(147.898438 773.567344)scale(0.1 -0.1)\">\r\n       <defs>\r\n        <path d=\"M 53.515625 70.515625 \r\nL 53.515625 60.890625 \r\nQ 47.90625 63.578125 42.921875 64.890625 \r\nQ 37.9375 66.21875 33.296875 66.21875 \r\nQ 25.25 66.21875 20.875 63.09375 \r\nQ 16.5 59.96875 16.5 54.203125 \r\nQ 16.5 49.359375 19.40625 46.890625 \r\nQ 22.3125 44.4375 30.421875 42.921875 \r\nL 36.375 41.703125 \r\nQ 47.40625 39.59375 52.65625 34.296875 \r\nQ 57.90625 29 57.90625 20.125 \r\nQ 57.90625 9.515625 50.796875 4.046875 \r\nQ 43.703125 -1.421875 29.984375 -1.421875 \r\nQ 24.8125 -1.421875 18.96875 -0.25 \r\nQ 13.140625 0.921875 6.890625 3.21875 \r\nL 6.890625 13.375 \r\nQ 12.890625 10.015625 18.65625 8.296875 \r\nQ 24.421875 6.59375 29.984375 6.59375 \r\nQ 38.421875 6.59375 43.015625 9.90625 \r\nQ 47.609375 13.234375 47.609375 19.390625 \r\nQ 47.609375 24.75 44.3125 27.78125 \r\nQ 41.015625 30.8125 33.5 32.328125 \r\nL 27.484375 33.5 \r\nQ 16.453125 35.6875 11.515625 40.375 \r\nQ 6.59375 45.0625 6.59375 53.421875 \r\nQ 6.59375 63.09375 13.40625 68.65625 \r\nQ 20.21875 74.21875 32.171875 74.21875 \r\nQ 37.3125 74.21875 42.625 73.28125 \r\nQ 47.953125 72.359375 53.515625 70.515625 \r\nz\r\n\" id=\"DejaVuSans-83\"/>\r\n        <path d=\"M 9.421875 54.6875 \r\nL 18.40625 54.6875 \r\nL 18.40625 0 \r\nL 9.421875 0 \r\nz\r\nM 9.421875 75.984375 \r\nL 18.40625 75.984375 \r\nL 18.40625 64.59375 \r\nL 9.421875 64.59375 \r\nz\r\n\" id=\"DejaVuSans-105\"/>\r\n       </defs>\r\n       <use xlink:href=\"#DejaVuSans-102\"/>\r\n       <use x=\"35.205078\" xlink:href=\"#DejaVuSans-97\"/>\r\n       <use x=\"96.484375\" xlink:href=\"#DejaVuSans-115\"/>\r\n       <use x=\"148.583984\" xlink:href=\"#DejaVuSans-116\"/>\r\n       <use x=\"187.792969\" xlink:href=\"#DejaVuSans-83\"/>\r\n       <use x=\"251.269531\" xlink:href=\"#DejaVuSans-105\"/>\r\n       <use x=\"279.052734\" xlink:href=\"#DejaVuSans-120\"/>\r\n       <use x=\"335.107422\" xlink:href=\"#DejaVuSans-101\"/>\r\n       <use x=\"396.630859\" xlink:href=\"#DejaVuSans-115\"/>\r\n      </g>\r\n     </g>\r\n    </g>\r\n    <g id=\"ytick_5\">\r\n     <g id=\"line2d_11\">\r\n      <g>\r\n       <use style=\"stroke:#000000;stroke-width:0.8;\" x=\"199.771875\" xlink:href=\"#m33caba64d5\" y=\"750.353839\"/>\r\n      </g>\r\n     </g>\r\n     <g id=\"text_12\">\r\n      <!-- resorts_per_100ksq_mile_y -->\r\n      <g transform=\"translate(57.746875 754.153058)scale(0.1 -0.1)\">\r\n       <defs>\r\n        <path d=\"M 9.078125 75.984375 \r\nL 18.109375 75.984375 \r\nL 18.109375 31.109375 \r\nL 44.921875 54.6875 \r\nL 56.390625 54.6875 \r\nL 27.390625 29.109375 \r\nL 57.625 0 \r\nL 45.90625 0 \r\nL 18.109375 26.703125 \r\nL 18.109375 0 \r\nL 9.078125 0 \r\nz\r\n\" id=\"DejaVuSans-107\"/>\r\n        <path d=\"M 14.796875 27.296875 \r\nQ 14.796875 17.390625 18.875 11.75 \r\nQ 22.953125 6.109375 30.078125 6.109375 \r\nQ 37.203125 6.109375 41.296875 11.75 \r\nQ 45.40625 17.390625 45.40625 27.296875 \r\nQ 45.40625 37.203125 41.296875 42.84375 \r\nQ 37.203125 48.484375 30.078125 48.484375 \r\nQ 22.953125 48.484375 18.875 42.84375 \r\nQ 14.796875 37.203125 14.796875 27.296875 \r\nz\r\nM 45.40625 8.203125 \r\nQ 42.578125 3.328125 38.25 0.953125 \r\nQ 33.9375 -1.421875 27.875 -1.421875 \r\nQ 17.96875 -1.421875 11.734375 6.484375 \r\nQ 5.515625 14.40625 5.515625 27.296875 \r\nQ 5.515625 40.1875 11.734375 48.09375 \r\nQ 17.96875 56 27.875 56 \r\nQ 33.9375 56 38.25 53.625 \r\nQ 42.578125 51.265625 45.40625 46.390625 \r\nL 45.40625 54.6875 \r\nL 54.390625 54.6875 \r\nL 54.390625 -20.796875 \r\nL 45.40625 -20.796875 \r\nz\r\n\" id=\"DejaVuSans-113\"/>\r\n        <path d=\"M 9.421875 75.984375 \r\nL 18.40625 75.984375 \r\nL 18.40625 0 \r\nL 9.421875 0 \r\nz\r\n\" id=\"DejaVuSans-108\"/>\r\n       </defs>\r\n       <use xlink:href=\"#DejaVuSans-114\"/>\r\n       <use x=\"38.863281\" xlink:href=\"#DejaVuSans-101\"/>\r\n       <use x=\"100.386719\" xlink:href=\"#DejaVuSans-115\"/>\r\n       <use x=\"152.486328\" xlink:href=\"#DejaVuSans-111\"/>\r\n       <use x=\"213.667969\" xlink:href=\"#DejaVuSans-114\"/>\r\n       <use x=\"254.78125\" xlink:href=\"#DejaVuSans-116\"/>\r\n       <use x=\"293.990234\" xlink:href=\"#DejaVuSans-115\"/>\r\n       <use x=\"346.089844\" xlink:href=\"#DejaVuSans-95\"/>\r\n       <use x=\"396.089844\" xlink:href=\"#DejaVuSans-112\"/>\r\n       <use x=\"459.566406\" xlink:href=\"#DejaVuSans-101\"/>\r\n       <use x=\"521.089844\" xlink:href=\"#DejaVuSans-114\"/>\r\n       <use x=\"562.203125\" xlink:href=\"#DejaVuSans-95\"/>\r\n       <use x=\"612.203125\" xlink:href=\"#DejaVuSans-49\"/>\r\n       <use x=\"675.826172\" xlink:href=\"#DejaVuSans-48\"/>\r\n       <use x=\"739.449219\" xlink:href=\"#DejaVuSans-48\"/>\r\n       <use x=\"803.072266\" xlink:href=\"#DejaVuSans-107\"/>\r\n       <use x=\"860.982422\" xlink:href=\"#DejaVuSans-115\"/>\r\n       <use x=\"913.082031\" xlink:href=\"#DejaVuSans-113\"/>\r\n       <use x=\"976.558594\" xlink:href=\"#DejaVuSans-95\"/>\r\n       <use x=\"1026.558594\" xlink:href=\"#DejaVuSans-109\"/>\r\n       <use x=\"1123.970703\" xlink:href=\"#DejaVuSans-105\"/>\r\n       <use x=\"1151.753906\" xlink:href=\"#DejaVuSans-108\"/>\r\n       <use x=\"1179.537109\" xlink:href=\"#DejaVuSans-101\"/>\r\n       <use x=\"1241.060547\" xlink:href=\"#DejaVuSans-95\"/>\r\n       <use x=\"1291.060547\" xlink:href=\"#DejaVuSans-121\"/>\r\n      </g>\r\n     </g>\r\n    </g>\r\n    <g id=\"ytick_6\">\r\n     <g id=\"line2d_12\">\r\n      <g>\r\n       <use style=\"stroke:#000000;stroke-width:0.8;\" x=\"199.771875\" xlink:href=\"#m33caba64d5\" y=\"730.939554\"/>\r\n      </g>\r\n     </g>\r\n     <g id=\"text_13\">\r\n      <!-- resorts_per_state -->\r\n      <g transform=\"translate(106.220313 734.59971)scale(0.1 -0.1)\">\r\n       <use xlink:href=\"#DejaVuSans-114\"/>\r\n       <use x=\"38.863281\" xlink:href=\"#DejaVuSans-101\"/>\r\n       <use x=\"100.386719\" xlink:href=\"#DejaVuSans-115\"/>\r\n       <use x=\"152.486328\" xlink:href=\"#DejaVuSans-111\"/>\r\n       <use x=\"213.667969\" xlink:href=\"#DejaVuSans-114\"/>\r\n       <use x=\"254.78125\" xlink:href=\"#DejaVuSans-116\"/>\r\n       <use x=\"293.990234\" xlink:href=\"#DejaVuSans-115\"/>\r\n       <use x=\"346.089844\" xlink:href=\"#DejaVuSans-95\"/>\r\n       <use x=\"396.089844\" xlink:href=\"#DejaVuSans-112\"/>\r\n       <use x=\"459.566406\" xlink:href=\"#DejaVuSans-101\"/>\r\n       <use x=\"521.089844\" xlink:href=\"#DejaVuSans-114\"/>\r\n       <use x=\"562.203125\" xlink:href=\"#DejaVuSans-95\"/>\r\n       <use x=\"612.203125\" xlink:href=\"#DejaVuSans-115\"/>\r\n       <use x=\"664.302734\" xlink:href=\"#DejaVuSans-116\"/>\r\n       <use x=\"703.511719\" xlink:href=\"#DejaVuSans-97\"/>\r\n       <use x=\"764.791016\" xlink:href=\"#DejaVuSans-116\"/>\r\n       <use x=\"804\" xlink:href=\"#DejaVuSans-101\"/>\r\n      </g>\r\n     </g>\r\n    </g>\r\n    <g id=\"ytick_7\">\r\n     <g id=\"line2d_13\">\r\n      <g>\r\n       <use style=\"stroke:#000000;stroke-width:0.8;\" x=\"199.771875\" xlink:href=\"#m33caba64d5\" y=\"711.525268\"/>\r\n      </g>\r\n     </g>\r\n     <g id=\"text_14\">\r\n      <!-- resorts_per_100ksq_mile_x -->\r\n      <g transform=\"translate(57.746875 715.324487)scale(0.1 -0.1)\">\r\n       <use xlink:href=\"#DejaVuSans-114\"/>\r\n       <use x=\"38.863281\" xlink:href=\"#DejaVuSans-101\"/>\r\n       <use x=\"100.386719\" xlink:href=\"#DejaVuSans-115\"/>\r\n       <use x=\"152.486328\" xlink:href=\"#DejaVuSans-111\"/>\r\n       <use x=\"213.667969\" xlink:href=\"#DejaVuSans-114\"/>\r\n       <use x=\"254.78125\" xlink:href=\"#DejaVuSans-116\"/>\r\n       <use x=\"293.990234\" xlink:href=\"#DejaVuSans-115\"/>\r\n       <use x=\"346.089844\" xlink:href=\"#DejaVuSans-95\"/>\r\n       <use x=\"396.089844\" xlink:href=\"#DejaVuSans-112\"/>\r\n       <use x=\"459.566406\" xlink:href=\"#DejaVuSans-101\"/>\r\n       <use x=\"521.089844\" xlink:href=\"#DejaVuSans-114\"/>\r\n       <use x=\"562.203125\" xlink:href=\"#DejaVuSans-95\"/>\r\n       <use x=\"612.203125\" xlink:href=\"#DejaVuSans-49\"/>\r\n       <use x=\"675.826172\" xlink:href=\"#DejaVuSans-48\"/>\r\n       <use x=\"739.449219\" xlink:href=\"#DejaVuSans-48\"/>\r\n       <use x=\"803.072266\" xlink:href=\"#DejaVuSans-107\"/>\r\n       <use x=\"860.982422\" xlink:href=\"#DejaVuSans-115\"/>\r\n       <use x=\"913.082031\" xlink:href=\"#DejaVuSans-113\"/>\r\n       <use x=\"976.558594\" xlink:href=\"#DejaVuSans-95\"/>\r\n       <use x=\"1026.558594\" xlink:href=\"#DejaVuSans-109\"/>\r\n       <use x=\"1123.970703\" xlink:href=\"#DejaVuSans-105\"/>\r\n       <use x=\"1151.753906\" xlink:href=\"#DejaVuSans-108\"/>\r\n       <use x=\"1179.537109\" xlink:href=\"#DejaVuSans-101\"/>\r\n       <use x=\"1241.060547\" xlink:href=\"#DejaVuSans-95\"/>\r\n       <use x=\"1291.060547\" xlink:href=\"#DejaVuSans-120\"/>\r\n      </g>\r\n     </g>\r\n    </g>\r\n    <g id=\"ytick_8\">\r\n     <g id=\"line2d_14\">\r\n      <g>\r\n       <use style=\"stroke:#000000;stroke-width:0.8;\" x=\"199.771875\" xlink:href=\"#m33caba64d5\" y=\"692.110982\"/>\r\n      </g>\r\n     </g>\r\n     <g id=\"text_15\">\r\n      <!-- resorts_per_100ksq_mile -->\r\n      <g transform=\"translate(68.665625 695.910201)scale(0.1 -0.1)\">\r\n       <use xlink:href=\"#DejaVuSans-114\"/>\r\n       <use x=\"38.863281\" xlink:href=\"#DejaVuSans-101\"/>\r\n       <use x=\"100.386719\" xlink:href=\"#DejaVuSans-115\"/>\r\n       <use x=\"152.486328\" xlink:href=\"#DejaVuSans-111\"/>\r\n       <use x=\"213.667969\" xlink:href=\"#DejaVuSans-114\"/>\r\n       <use x=\"254.78125\" xlink:href=\"#DejaVuSans-116\"/>\r\n       <use x=\"293.990234\" xlink:href=\"#DejaVuSans-115\"/>\r\n       <use x=\"346.089844\" xlink:href=\"#DejaVuSans-95\"/>\r\n       <use x=\"396.089844\" xlink:href=\"#DejaVuSans-112\"/>\r\n       <use x=\"459.566406\" xlink:href=\"#DejaVuSans-101\"/>\r\n       <use x=\"521.089844\" xlink:href=\"#DejaVuSans-114\"/>\r\n       <use x=\"562.203125\" xlink:href=\"#DejaVuSans-95\"/>\r\n       <use x=\"612.203125\" xlink:href=\"#DejaVuSans-49\"/>\r\n       <use x=\"675.826172\" xlink:href=\"#DejaVuSans-48\"/>\r\n       <use x=\"739.449219\" xlink:href=\"#DejaVuSans-48\"/>\r\n       <use x=\"803.072266\" xlink:href=\"#DejaVuSans-107\"/>\r\n       <use x=\"860.982422\" xlink:href=\"#DejaVuSans-115\"/>\r\n       <use x=\"913.082031\" xlink:href=\"#DejaVuSans-113\"/>\r\n       <use x=\"976.558594\" xlink:href=\"#DejaVuSans-95\"/>\r\n       <use x=\"1026.558594\" xlink:href=\"#DejaVuSans-109\"/>\r\n       <use x=\"1123.970703\" xlink:href=\"#DejaVuSans-105\"/>\r\n       <use x=\"1151.753906\" xlink:href=\"#DejaVuSans-108\"/>\r\n       <use x=\"1179.537109\" xlink:href=\"#DejaVuSans-101\"/>\r\n      </g>\r\n     </g>\r\n    </g>\r\n    <g id=\"ytick_9\">\r\n     <g id=\"line2d_15\">\r\n      <g>\r\n       <use style=\"stroke:#000000;stroke-width:0.8;\" x=\"199.771875\" xlink:href=\"#m33caba64d5\" y=\"672.696696\"/>\r\n      </g>\r\n     </g>\r\n     <g id=\"text_16\">\r\n      <!-- state_total_days_open -->\r\n      <g transform=\"translate(81.0125 676.495915)scale(0.1 -0.1)\">\r\n       <defs>\r\n        <path d=\"M 45.40625 46.390625 \r\nL 45.40625 75.984375 \r\nL 54.390625 75.984375 \r\nL 54.390625 0 \r\nL 45.40625 0 \r\nL 45.40625 8.203125 \r\nQ 42.578125 3.328125 38.25 0.953125 \r\nQ 33.9375 -1.421875 27.875 -1.421875 \r\nQ 17.96875 -1.421875 11.734375 6.484375 \r\nQ 5.515625 14.40625 5.515625 27.296875 \r\nQ 5.515625 40.1875 11.734375 48.09375 \r\nQ 17.96875 56 27.875 56 \r\nQ 33.9375 56 38.25 53.625 \r\nQ 42.578125 51.265625 45.40625 46.390625 \r\nz\r\nM 14.796875 27.296875 \r\nQ 14.796875 17.390625 18.875 11.75 \r\nQ 22.953125 6.109375 30.078125 6.109375 \r\nQ 37.203125 6.109375 41.296875 11.75 \r\nQ 45.40625 17.390625 45.40625 27.296875 \r\nQ 45.40625 37.203125 41.296875 42.84375 \r\nQ 37.203125 48.484375 30.078125 48.484375 \r\nQ 22.953125 48.484375 18.875 42.84375 \r\nQ 14.796875 37.203125 14.796875 27.296875 \r\nz\r\n\" id=\"DejaVuSans-100\"/>\r\n        <path d=\"M 54.890625 33.015625 \r\nL 54.890625 0 \r\nL 45.90625 0 \r\nL 45.90625 32.71875 \r\nQ 45.90625 40.484375 42.875 44.328125 \r\nQ 39.84375 48.1875 33.796875 48.1875 \r\nQ 26.515625 48.1875 22.3125 43.546875 \r\nQ 18.109375 38.921875 18.109375 30.90625 \r\nL 18.109375 0 \r\nL 9.078125 0 \r\nL 9.078125 54.6875 \r\nL 18.109375 54.6875 \r\nL 18.109375 46.1875 \r\nQ 21.34375 51.125 25.703125 53.5625 \r\nQ 30.078125 56 35.796875 56 \r\nQ 45.21875 56 50.046875 50.171875 \r\nQ 54.890625 44.34375 54.890625 33.015625 \r\nz\r\n\" id=\"DejaVuSans-110\"/>\r\n       </defs>\r\n       <use xlink:href=\"#DejaVuSans-115\"/>\r\n       <use x=\"52.099609\" xlink:href=\"#DejaVuSans-116\"/>\r\n       <use x=\"91.308594\" xlink:href=\"#DejaVuSans-97\"/>\r\n       <use x=\"152.587891\" xlink:href=\"#DejaVuSans-116\"/>\r\n       <use x=\"191.796875\" xlink:href=\"#DejaVuSans-101\"/>\r\n       <use x=\"253.320312\" xlink:href=\"#DejaVuSans-95\"/>\r\n       <use x=\"303.320312\" xlink:href=\"#DejaVuSans-116\"/>\r\n       <use x=\"342.529297\" xlink:href=\"#DejaVuSans-111\"/>\r\n       <use x=\"403.710938\" xlink:href=\"#DejaVuSans-116\"/>\r\n       <use x=\"442.919922\" xlink:href=\"#DejaVuSans-97\"/>\r\n       <use x=\"504.199219\" xlink:href=\"#DejaVuSans-108\"/>\r\n       <use x=\"531.982422\" xlink:href=\"#DejaVuSans-95\"/>\r\n       <use x=\"581.982422\" xlink:href=\"#DejaVuSans-100\"/>\r\n       <use x=\"645.458984\" xlink:href=\"#DejaVuSans-97\"/>\r\n       <use x=\"706.738281\" xlink:href=\"#DejaVuSans-121\"/>\r\n       <use x=\"765.917969\" xlink:href=\"#DejaVuSans-115\"/>\r\n       <use x=\"818.017578\" xlink:href=\"#DejaVuSans-95\"/>\r\n       <use x=\"868.017578\" xlink:href=\"#DejaVuSans-111\"/>\r\n       <use x=\"929.199219\" xlink:href=\"#DejaVuSans-112\"/>\r\n       <use x=\"992.675781\" xlink:href=\"#DejaVuSans-101\"/>\r\n       <use x=\"1054.199219\" xlink:href=\"#DejaVuSans-110\"/>\r\n      </g>\r\n     </g>\r\n    </g>\r\n    <g id=\"ytick_10\">\r\n     <g id=\"line2d_16\">\r\n      <g>\r\n       <use style=\"stroke:#000000;stroke-width:0.8;\" x=\"199.771875\" xlink:href=\"#m33caba64d5\" y=\"653.282411\"/>\r\n      </g>\r\n     </g>\r\n     <g id=\"text_17\">\r\n      <!-- TerrainParks -->\r\n      <g transform=\"translate(132.101563 657.081629)scale(0.1 -0.1)\">\r\n       <defs>\r\n        <path d=\"M -0.296875 72.90625 \r\nL 61.375 72.90625 \r\nL 61.375 64.59375 \r\nL 35.5 64.59375 \r\nL 35.5 0 \r\nL 25.59375 0 \r\nL 25.59375 64.59375 \r\nL -0.296875 64.59375 \r\nz\r\n\" id=\"DejaVuSans-84\"/>\r\n        <path d=\"M 19.671875 64.796875 \r\nL 19.671875 37.40625 \r\nL 32.078125 37.40625 \r\nQ 38.96875 37.40625 42.71875 40.96875 \r\nQ 46.484375 44.53125 46.484375 51.125 \r\nQ 46.484375 57.671875 42.71875 61.234375 \r\nQ 38.96875 64.796875 32.078125 64.796875 \r\nz\r\nM 9.8125 72.90625 \r\nL 32.078125 72.90625 \r\nQ 44.34375 72.90625 50.609375 67.359375 \r\nQ 56.890625 61.8125 56.890625 51.125 \r\nQ 56.890625 40.328125 50.609375 34.8125 \r\nQ 44.34375 29.296875 32.078125 29.296875 \r\nL 19.671875 29.296875 \r\nL 19.671875 0 \r\nL 9.8125 0 \r\nz\r\n\" id=\"DejaVuSans-80\"/>\r\n       </defs>\r\n       <use xlink:href=\"#DejaVuSans-84\"/>\r\n       <use x=\"44.083984\" xlink:href=\"#DejaVuSans-101\"/>\r\n       <use x=\"105.607422\" xlink:href=\"#DejaVuSans-114\"/>\r\n       <use x=\"144.970703\" xlink:href=\"#DejaVuSans-114\"/>\r\n       <use x=\"186.083984\" xlink:href=\"#DejaVuSans-97\"/>\r\n       <use x=\"247.363281\" xlink:href=\"#DejaVuSans-105\"/>\r\n       <use x=\"275.146484\" xlink:href=\"#DejaVuSans-110\"/>\r\n       <use x=\"338.525391\" xlink:href=\"#DejaVuSans-80\"/>\r\n       <use x=\"394.328125\" xlink:href=\"#DejaVuSans-97\"/>\r\n       <use x=\"455.607422\" xlink:href=\"#DejaVuSans-114\"/>\r\n       <use x=\"496.720703\" xlink:href=\"#DejaVuSans-107\"/>\r\n       <use x=\"554.630859\" xlink:href=\"#DejaVuSans-115\"/>\r\n      </g>\r\n     </g>\r\n    </g>\r\n    <g id=\"ytick_11\">\r\n     <g id=\"line2d_17\">\r\n      <g>\r\n       <use style=\"stroke:#000000;stroke-width:0.8;\" x=\"199.771875\" xlink:href=\"#m33caba64d5\" y=\"633.868125\"/>\r\n      </g>\r\n     </g>\r\n     <g id=\"text_18\">\r\n      <!-- double -->\r\n      <g transform=\"translate(158.6875 637.667344)scale(0.1 -0.1)\">\r\n       <defs>\r\n        <path d=\"M 48.6875 27.296875 \r\nQ 48.6875 37.203125 44.609375 42.84375 \r\nQ 40.53125 48.484375 33.40625 48.484375 \r\nQ 26.265625 48.484375 22.1875 42.84375 \r\nQ 18.109375 37.203125 18.109375 27.296875 \r\nQ 18.109375 17.390625 22.1875 11.75 \r\nQ 26.265625 6.109375 33.40625 6.109375 \r\nQ 40.53125 6.109375 44.609375 11.75 \r\nQ 48.6875 17.390625 48.6875 27.296875 \r\nz\r\nM 18.109375 46.390625 \r\nQ 20.953125 51.265625 25.265625 53.625 \r\nQ 29.59375 56 35.59375 56 \r\nQ 45.5625 56 51.78125 48.09375 \r\nQ 58.015625 40.1875 58.015625 27.296875 \r\nQ 58.015625 14.40625 51.78125 6.484375 \r\nQ 45.5625 -1.421875 35.59375 -1.421875 \r\nQ 29.59375 -1.421875 25.265625 0.953125 \r\nQ 20.953125 3.328125 18.109375 8.203125 \r\nL 18.109375 0 \r\nL 9.078125 0 \r\nL 9.078125 75.984375 \r\nL 18.109375 75.984375 \r\nz\r\n\" id=\"DejaVuSans-98\"/>\r\n       </defs>\r\n       <use xlink:href=\"#DejaVuSans-100\"/>\r\n       <use x=\"63.476562\" xlink:href=\"#DejaVuSans-111\"/>\r\n       <use x=\"124.658203\" xlink:href=\"#DejaVuSans-117\"/>\r\n       <use x=\"188.037109\" xlink:href=\"#DejaVuSans-98\"/>\r\n       <use x=\"251.513672\" xlink:href=\"#DejaVuSans-108\"/>\r\n       <use x=\"279.296875\" xlink:href=\"#DejaVuSans-101\"/>\r\n      </g>\r\n     </g>\r\n    </g>\r\n    <g id=\"ytick_12\">\r\n     <g id=\"line2d_18\">\r\n      <g>\r\n       <use style=\"stroke:#000000;stroke-width:0.8;\" x=\"199.771875\" xlink:href=\"#m33caba64d5\" y=\"614.453839\"/>\r\n      </g>\r\n     </g>\r\n     <g id=\"text_19\">\r\n      <!-- surface -->\r\n      <g transform=\"translate(155.814063 618.253058)scale(0.1 -0.1)\">\r\n       <defs>\r\n        <path d=\"M 48.78125 52.59375 \r\nL 48.78125 44.1875 \r\nQ 44.96875 46.296875 41.140625 47.34375 \r\nQ 37.3125 48.390625 33.40625 48.390625 \r\nQ 24.65625 48.390625 19.8125 42.84375 \r\nQ 14.984375 37.3125 14.984375 27.296875 \r\nQ 14.984375 17.28125 19.8125 11.734375 \r\nQ 24.65625 6.203125 33.40625 6.203125 \r\nQ 37.3125 6.203125 41.140625 7.25 \r\nQ 44.96875 8.296875 48.78125 10.40625 \r\nL 48.78125 2.09375 \r\nQ 45.015625 0.34375 40.984375 -0.53125 \r\nQ 36.96875 -1.421875 32.421875 -1.421875 \r\nQ 20.0625 -1.421875 12.78125 6.34375 \r\nQ 5.515625 14.109375 5.515625 27.296875 \r\nQ 5.515625 40.671875 12.859375 48.328125 \r\nQ 20.21875 56 33.015625 56 \r\nQ 37.15625 56 41.109375 55.140625 \r\nQ 45.0625 54.296875 48.78125 52.59375 \r\nz\r\n\" id=\"DejaVuSans-99\"/>\r\n       </defs>\r\n       <use xlink:href=\"#DejaVuSans-115\"/>\r\n       <use x=\"52.099609\" xlink:href=\"#DejaVuSans-117\"/>\r\n       <use x=\"115.478516\" xlink:href=\"#DejaVuSans-114\"/>\r\n       <use x=\"156.591797\" xlink:href=\"#DejaVuSans-102\"/>\r\n       <use x=\"191.796875\" xlink:href=\"#DejaVuSans-97\"/>\r\n       <use x=\"253.076172\" xlink:href=\"#DejaVuSans-99\"/>\r\n       <use x=\"308.056641\" xlink:href=\"#DejaVuSans-101\"/>\r\n      </g>\r\n     </g>\r\n    </g>\r\n    <g id=\"ytick_13\">\r\n     <g id=\"line2d_19\">\r\n      <g>\r\n       <use style=\"stroke:#000000;stroke-width:0.8;\" x=\"199.771875\" xlink:href=\"#m33caba64d5\" y=\"595.039554\"/>\r\n      </g>\r\n     </g>\r\n     <g id=\"text_20\">\r\n      <!-- state_total_terrain_parks -->\r\n      <g transform=\"translate(68.623438 598.838772)scale(0.1 -0.1)\">\r\n       <use xlink:href=\"#DejaVuSans-115\"/>\r\n       <use x=\"52.099609\" xlink:href=\"#DejaVuSans-116\"/>\r\n       <use x=\"91.308594\" xlink:href=\"#DejaVuSans-97\"/>\r\n       <use x=\"152.587891\" xlink:href=\"#DejaVuSans-116\"/>\r\n       <use x=\"191.796875\" xlink:href=\"#DejaVuSans-101\"/>\r\n       <use x=\"253.320312\" xlink:href=\"#DejaVuSans-95\"/>\r\n       <use x=\"303.320312\" xlink:href=\"#DejaVuSans-116\"/>\r\n       <use x=\"342.529297\" xlink:href=\"#DejaVuSans-111\"/>\r\n       <use x=\"403.710938\" xlink:href=\"#DejaVuSans-116\"/>\r\n       <use x=\"442.919922\" xlink:href=\"#DejaVuSans-97\"/>\r\n       <use x=\"504.199219\" xlink:href=\"#DejaVuSans-108\"/>\r\n       <use x=\"531.982422\" xlink:href=\"#DejaVuSans-95\"/>\r\n       <use x=\"581.982422\" xlink:href=\"#DejaVuSans-116\"/>\r\n       <use x=\"621.191406\" xlink:href=\"#DejaVuSans-101\"/>\r\n       <use x=\"682.714844\" xlink:href=\"#DejaVuSans-114\"/>\r\n       <use x=\"722.078125\" xlink:href=\"#DejaVuSans-114\"/>\r\n       <use x=\"763.191406\" xlink:href=\"#DejaVuSans-97\"/>\r\n       <use x=\"824.470703\" xlink:href=\"#DejaVuSans-105\"/>\r\n       <use x=\"852.253906\" xlink:href=\"#DejaVuSans-110\"/>\r\n       <use x=\"915.632812\" xlink:href=\"#DejaVuSans-95\"/>\r\n       <use x=\"965.632812\" xlink:href=\"#DejaVuSans-112\"/>\r\n       <use x=\"1029.109375\" xlink:href=\"#DejaVuSans-97\"/>\r\n       <use x=\"1090.388672\" xlink:href=\"#DejaVuSans-114\"/>\r\n       <use x=\"1131.501953\" xlink:href=\"#DejaVuSans-107\"/>\r\n       <use x=\"1189.412109\" xlink:href=\"#DejaVuSans-115\"/>\r\n      </g>\r\n     </g>\r\n    </g>\r\n    <g id=\"ytick_14\">\r\n     <g id=\"line2d_20\">\r\n      <g>\r\n       <use style=\"stroke:#000000;stroke-width:0.8;\" x=\"199.771875\" xlink:href=\"#m33caba64d5\" y=\"575.625268\"/>\r\n      </g>\r\n     </g>\r\n     <g id=\"text_21\">\r\n      <!-- resort_night_skiing_state_ratio -->\r\n      <g transform=\"translate(40.021875 579.424487)scale(0.1 -0.1)\">\r\n       <defs>\r\n        <path d=\"M 45.40625 27.984375 \r\nQ 45.40625 37.75 41.375 43.109375 \r\nQ 37.359375 48.484375 30.078125 48.484375 \r\nQ 22.859375 48.484375 18.828125 43.109375 \r\nQ 14.796875 37.75 14.796875 27.984375 \r\nQ 14.796875 18.265625 18.828125 12.890625 \r\nQ 22.859375 7.515625 30.078125 7.515625 \r\nQ 37.359375 7.515625 41.375 12.890625 \r\nQ 45.40625 18.265625 45.40625 27.984375 \r\nz\r\nM 54.390625 6.78125 \r\nQ 54.390625 -7.171875 48.1875 -13.984375 \r\nQ 42 -20.796875 29.203125 -20.796875 \r\nQ 24.46875 -20.796875 20.265625 -20.09375 \r\nQ 16.0625 -19.390625 12.109375 -17.921875 \r\nL 12.109375 -9.1875 \r\nQ 16.0625 -11.328125 19.921875 -12.34375 \r\nQ 23.78125 -13.375 27.78125 -13.375 \r\nQ 36.625 -13.375 41.015625 -8.765625 \r\nQ 45.40625 -4.15625 45.40625 5.171875 \r\nL 45.40625 9.625 \r\nQ 42.625 4.78125 38.28125 2.390625 \r\nQ 33.9375 0 27.875 0 \r\nQ 17.828125 0 11.671875 7.65625 \r\nQ 5.515625 15.328125 5.515625 27.984375 \r\nQ 5.515625 40.671875 11.671875 48.328125 \r\nQ 17.828125 56 27.875 56 \r\nQ 33.9375 56 38.28125 53.609375 \r\nQ 42.625 51.21875 45.40625 46.390625 \r\nL 45.40625 54.6875 \r\nL 54.390625 54.6875 \r\nz\r\n\" id=\"DejaVuSans-103\"/>\r\n        <path d=\"M 54.890625 33.015625 \r\nL 54.890625 0 \r\nL 45.90625 0 \r\nL 45.90625 32.71875 \r\nQ 45.90625 40.484375 42.875 44.328125 \r\nQ 39.84375 48.1875 33.796875 48.1875 \r\nQ 26.515625 48.1875 22.3125 43.546875 \r\nQ 18.109375 38.921875 18.109375 30.90625 \r\nL 18.109375 0 \r\nL 9.078125 0 \r\nL 9.078125 75.984375 \r\nL 18.109375 75.984375 \r\nL 18.109375 46.1875 \r\nQ 21.34375 51.125 25.703125 53.5625 \r\nQ 30.078125 56 35.796875 56 \r\nQ 45.21875 56 50.046875 50.171875 \r\nQ 54.890625 44.34375 54.890625 33.015625 \r\nz\r\n\" id=\"DejaVuSans-104\"/>\r\n       </defs>\r\n       <use xlink:href=\"#DejaVuSans-114\"/>\r\n       <use x=\"38.863281\" xlink:href=\"#DejaVuSans-101\"/>\r\n       <use x=\"100.386719\" xlink:href=\"#DejaVuSans-115\"/>\r\n       <use x=\"152.486328\" xlink:href=\"#DejaVuSans-111\"/>\r\n       <use x=\"213.667969\" xlink:href=\"#DejaVuSans-114\"/>\r\n       <use x=\"254.78125\" xlink:href=\"#DejaVuSans-116\"/>\r\n       <use x=\"293.990234\" xlink:href=\"#DejaVuSans-95\"/>\r\n       <use x=\"343.990234\" xlink:href=\"#DejaVuSans-110\"/>\r\n       <use x=\"407.369141\" xlink:href=\"#DejaVuSans-105\"/>\r\n       <use x=\"435.152344\" xlink:href=\"#DejaVuSans-103\"/>\r\n       <use x=\"498.628906\" xlink:href=\"#DejaVuSans-104\"/>\r\n       <use x=\"562.007812\" xlink:href=\"#DejaVuSans-116\"/>\r\n       <use x=\"601.216797\" xlink:href=\"#DejaVuSans-95\"/>\r\n       <use x=\"651.216797\" xlink:href=\"#DejaVuSans-115\"/>\r\n       <use x=\"703.316406\" xlink:href=\"#DejaVuSans-107\"/>\r\n       <use x=\"761.226562\" xlink:href=\"#DejaVuSans-105\"/>\r\n       <use x=\"789.009766\" xlink:href=\"#DejaVuSans-105\"/>\r\n       <use x=\"816.792969\" xlink:href=\"#DejaVuSans-110\"/>\r\n       <use x=\"880.171875\" xlink:href=\"#DejaVuSans-103\"/>\r\n       <use x=\"943.648438\" xlink:href=\"#DejaVuSans-95\"/>\r\n       <use x=\"993.648438\" xlink:href=\"#DejaVuSans-115\"/>\r\n       <use x=\"1045.748047\" xlink:href=\"#DejaVuSans-116\"/>\r\n       <use x=\"1084.957031\" xlink:href=\"#DejaVuSans-97\"/>\r\n       <use x=\"1146.236328\" xlink:href=\"#DejaVuSans-116\"/>\r\n       <use x=\"1185.445312\" xlink:href=\"#DejaVuSans-101\"/>\r\n       <use x=\"1246.96875\" xlink:href=\"#DejaVuSans-95\"/>\r\n       <use x=\"1296.96875\" xlink:href=\"#DejaVuSans-114\"/>\r\n       <use x=\"1338.082031\" xlink:href=\"#DejaVuSans-97\"/>\r\n       <use x=\"1399.361328\" xlink:href=\"#DejaVuSans-116\"/>\r\n       <use x=\"1438.570312\" xlink:href=\"#DejaVuSans-105\"/>\r\n       <use x=\"1466.353516\" xlink:href=\"#DejaVuSans-111\"/>\r\n      </g>\r\n     </g>\r\n    </g>\r\n    <g id=\"ytick_15\">\r\n     <g id=\"line2d_21\">\r\n      <g>\r\n       <use style=\"stroke:#000000;stroke-width:0.8;\" x=\"199.771875\" xlink:href=\"#m33caba64d5\" y=\"556.210982\"/>\r\n      </g>\r\n     </g>\r\n     <g id=\"text_22\">\r\n      <!-- resorts_per_100kcapita_y -->\r\n      <g transform=\"translate(64.953125 560.010201)scale(0.1 -0.1)\">\r\n       <use xlink:href=\"#DejaVuSans-114\"/>\r\n       <use x=\"38.863281\" xlink:href=\"#DejaVuSans-101\"/>\r\n       <use x=\"100.386719\" xlink:href=\"#DejaVuSans-115\"/>\r\n       <use x=\"152.486328\" xlink:href=\"#DejaVuSans-111\"/>\r\n       <use x=\"213.667969\" xlink:href=\"#DejaVuSans-114\"/>\r\n       <use x=\"254.78125\" xlink:href=\"#DejaVuSans-116\"/>\r\n       <use x=\"293.990234\" xlink:href=\"#DejaVuSans-115\"/>\r\n       <use x=\"346.089844\" xlink:href=\"#DejaVuSans-95\"/>\r\n       <use x=\"396.089844\" xlink:href=\"#DejaVuSans-112\"/>\r\n       <use x=\"459.566406\" xlink:href=\"#DejaVuSans-101\"/>\r\n       <use x=\"521.089844\" xlink:href=\"#DejaVuSans-114\"/>\r\n       <use x=\"562.203125\" xlink:href=\"#DejaVuSans-95\"/>\r\n       <use x=\"612.203125\" xlink:href=\"#DejaVuSans-49\"/>\r\n       <use x=\"675.826172\" xlink:href=\"#DejaVuSans-48\"/>\r\n       <use x=\"739.449219\" xlink:href=\"#DejaVuSans-48\"/>\r\n       <use x=\"803.072266\" xlink:href=\"#DejaVuSans-107\"/>\r\n       <use x=\"860.982422\" xlink:href=\"#DejaVuSans-99\"/>\r\n       <use x=\"915.962891\" xlink:href=\"#DejaVuSans-97\"/>\r\n       <use x=\"977.242188\" xlink:href=\"#DejaVuSans-112\"/>\r\n       <use x=\"1040.71875\" xlink:href=\"#DejaVuSans-105\"/>\r\n       <use x=\"1068.501953\" xlink:href=\"#DejaVuSans-116\"/>\r\n       <use x=\"1107.710938\" xlink:href=\"#DejaVuSans-97\"/>\r\n       <use x=\"1168.990234\" xlink:href=\"#DejaVuSans-95\"/>\r\n       <use x=\"1218.990234\" xlink:href=\"#DejaVuSans-121\"/>\r\n      </g>\r\n     </g>\r\n    </g>\r\n    <g id=\"ytick_16\">\r\n     <g id=\"line2d_22\">\r\n      <g>\r\n       <use style=\"stroke:#000000;stroke-width:0.8;\" x=\"199.771875\" xlink:href=\"#m33caba64d5\" y=\"536.796696\"/>\r\n      </g>\r\n     </g>\r\n     <g id=\"text_23\">\r\n      <!-- averageSnowfall -->\r\n      <g transform=\"translate(109.64375 540.595915)scale(0.1 -0.1)\">\r\n       <defs>\r\n        <path d=\"M 2.984375 54.6875 \r\nL 12.5 54.6875 \r\nL 29.59375 8.796875 \r\nL 46.6875 54.6875 \r\nL 56.203125 54.6875 \r\nL 35.6875 0 \r\nL 23.484375 0 \r\nz\r\n\" id=\"DejaVuSans-118\"/>\r\n        <path d=\"M 4.203125 54.6875 \r\nL 13.1875 54.6875 \r\nL 24.421875 12.015625 \r\nL 35.59375 54.6875 \r\nL 46.1875 54.6875 \r\nL 57.421875 12.015625 \r\nL 68.609375 54.6875 \r\nL 77.59375 54.6875 \r\nL 63.28125 0 \r\nL 52.6875 0 \r\nL 40.921875 44.828125 \r\nL 29.109375 0 \r\nL 18.5 0 \r\nz\r\n\" id=\"DejaVuSans-119\"/>\r\n       </defs>\r\n       <use xlink:href=\"#DejaVuSans-97\"/>\r\n       <use x=\"61.279297\" xlink:href=\"#DejaVuSans-118\"/>\r\n       <use x=\"120.458984\" xlink:href=\"#DejaVuSans-101\"/>\r\n       <use x=\"181.982422\" xlink:href=\"#DejaVuSans-114\"/>\r\n       <use x=\"223.095703\" xlink:href=\"#DejaVuSans-97\"/>\r\n       <use x=\"284.375\" xlink:href=\"#DejaVuSans-103\"/>\r\n       <use x=\"347.851562\" xlink:href=\"#DejaVuSans-101\"/>\r\n       <use x=\"409.375\" xlink:href=\"#DejaVuSans-83\"/>\r\n       <use x=\"472.851562\" xlink:href=\"#DejaVuSans-110\"/>\r\n       <use x=\"536.230469\" xlink:href=\"#DejaVuSans-111\"/>\r\n       <use x=\"597.412109\" xlink:href=\"#DejaVuSans-119\"/>\r\n       <use x=\"679.199219\" xlink:href=\"#DejaVuSans-102\"/>\r\n       <use x=\"714.404297\" xlink:href=\"#DejaVuSans-97\"/>\r\n       <use x=\"775.683594\" xlink:href=\"#DejaVuSans-108\"/>\r\n       <use x=\"803.466797\" xlink:href=\"#DejaVuSans-108\"/>\r\n      </g>\r\n     </g>\r\n    </g>\r\n    <g id=\"ytick_17\">\r\n     <g id=\"line2d_23\">\r\n      <g>\r\n       <use style=\"stroke:#000000;stroke-width:0.8;\" x=\"199.771875\" xlink:href=\"#m33caba64d5\" y=\"517.382411\"/>\r\n      </g>\r\n     </g>\r\n     <g id=\"text_24\">\r\n      <!-- base_elev -->\r\n      <g transform=\"translate(142.929688 521.181629)scale(0.1 -0.1)\">\r\n       <use xlink:href=\"#DejaVuSans-98\"/>\r\n       <use x=\"63.476562\" xlink:href=\"#DejaVuSans-97\"/>\r\n       <use x=\"124.755859\" xlink:href=\"#DejaVuSans-115\"/>\r\n       <use x=\"176.855469\" xlink:href=\"#DejaVuSans-101\"/>\r\n       <use x=\"238.378906\" xlink:href=\"#DejaVuSans-95\"/>\r\n       <use x=\"288.378906\" xlink:href=\"#DejaVuSans-101\"/>\r\n       <use x=\"349.902344\" xlink:href=\"#DejaVuSans-108\"/>\r\n       <use x=\"377.685547\" xlink:href=\"#DejaVuSans-101\"/>\r\n       <use x=\"439.208984\" xlink:href=\"#DejaVuSans-118\"/>\r\n      </g>\r\n     </g>\r\n    </g>\r\n    <g id=\"ytick_18\">\r\n     <g id=\"line2d_24\">\r\n      <g>\r\n       <use style=\"stroke:#000000;stroke-width:0.8;\" x=\"199.771875\" xlink:href=\"#m33caba64d5\" y=\"497.968125\"/>\r\n      </g>\r\n     </g>\r\n     <g id=\"text_25\">\r\n      <!-- triple -->\r\n      <g transform=\"translate(166.682813 501.767344)scale(0.1 -0.1)\">\r\n       <use xlink:href=\"#DejaVuSans-116\"/>\r\n       <use x=\"39.208984\" xlink:href=\"#DejaVuSans-114\"/>\r\n       <use x=\"80.322266\" xlink:href=\"#DejaVuSans-105\"/>\r\n       <use x=\"108.105469\" xlink:href=\"#DejaVuSans-112\"/>\r\n       <use x=\"171.582031\" xlink:href=\"#DejaVuSans-108\"/>\r\n       <use x=\"199.365234\" xlink:href=\"#DejaVuSans-101\"/>\r\n      </g>\r\n     </g>\r\n    </g>\r\n    <g id=\"ytick_19\">\r\n     <g id=\"line2d_25\">\r\n      <g>\r\n       <use style=\"stroke:#000000;stroke-width:0.8;\" x=\"199.771875\" xlink:href=\"#m33caba64d5\" y=\"478.553839\"/>\r\n      </g>\r\n     </g>\r\n     <g id=\"text_26\">\r\n      <!-- resorts_per_100kcapita -->\r\n      <g transform=\"translate(75.871875 482.353058)scale(0.1 -0.1)\">\r\n       <use xlink:href=\"#DejaVuSans-114\"/>\r\n       <use x=\"38.863281\" xlink:href=\"#DejaVuSans-101\"/>\r\n       <use x=\"100.386719\" xlink:href=\"#DejaVuSans-115\"/>\r\n       <use x=\"152.486328\" xlink:href=\"#DejaVuSans-111\"/>\r\n       <use x=\"213.667969\" xlink:href=\"#DejaVuSans-114\"/>\r\n       <use x=\"254.78125\" xlink:href=\"#DejaVuSans-116\"/>\r\n       <use x=\"293.990234\" xlink:href=\"#DejaVuSans-115\"/>\r\n       <use x=\"346.089844\" xlink:href=\"#DejaVuSans-95\"/>\r\n       <use x=\"396.089844\" xlink:href=\"#DejaVuSans-112\"/>\r\n       <use x=\"459.566406\" xlink:href=\"#DejaVuSans-101\"/>\r\n       <use x=\"521.089844\" xlink:href=\"#DejaVuSans-114\"/>\r\n       <use x=\"562.203125\" xlink:href=\"#DejaVuSans-95\"/>\r\n       <use x=\"612.203125\" xlink:href=\"#DejaVuSans-49\"/>\r\n       <use x=\"675.826172\" xlink:href=\"#DejaVuSans-48\"/>\r\n       <use x=\"739.449219\" xlink:href=\"#DejaVuSans-48\"/>\r\n       <use x=\"803.072266\" xlink:href=\"#DejaVuSans-107\"/>\r\n       <use x=\"860.982422\" xlink:href=\"#DejaVuSans-99\"/>\r\n       <use x=\"915.962891\" xlink:href=\"#DejaVuSans-97\"/>\r\n       <use x=\"977.242188\" xlink:href=\"#DejaVuSans-112\"/>\r\n       <use x=\"1040.71875\" xlink:href=\"#DejaVuSans-105\"/>\r\n       <use x=\"1068.501953\" xlink:href=\"#DejaVuSans-116\"/>\r\n       <use x=\"1107.710938\" xlink:href=\"#DejaVuSans-97\"/>\r\n      </g>\r\n     </g>\r\n    </g>\r\n    <g id=\"ytick_20\">\r\n     <g id=\"line2d_26\">\r\n      <g>\r\n       <use style=\"stroke:#000000;stroke-width:0.8;\" x=\"199.771875\" xlink:href=\"#m33caba64d5\" y=\"459.139554\"/>\r\n      </g>\r\n     </g>\r\n     <g id=\"text_27\">\r\n      <!-- resorts_per_100kcapita_x -->\r\n      <g transform=\"translate(64.953125 462.938772)scale(0.1 -0.1)\">\r\n       <use xlink:href=\"#DejaVuSans-114\"/>\r\n       <use x=\"38.863281\" xlink:href=\"#DejaVuSans-101\"/>\r\n       <use x=\"100.386719\" xlink:href=\"#DejaVuSans-115\"/>\r\n       <use x=\"152.486328\" xlink:href=\"#DejaVuSans-111\"/>\r\n       <use x=\"213.667969\" xlink:href=\"#DejaVuSans-114\"/>\r\n       <use x=\"254.78125\" xlink:href=\"#DejaVuSans-116\"/>\r\n       <use x=\"293.990234\" xlink:href=\"#DejaVuSans-115\"/>\r\n       <use x=\"346.089844\" xlink:href=\"#DejaVuSans-95\"/>\r\n       <use x=\"396.089844\" xlink:href=\"#DejaVuSans-112\"/>\r\n       <use x=\"459.566406\" xlink:href=\"#DejaVuSans-101\"/>\r\n       <use x=\"521.089844\" xlink:href=\"#DejaVuSans-114\"/>\r\n       <use x=\"562.203125\" xlink:href=\"#DejaVuSans-95\"/>\r\n       <use x=\"612.203125\" xlink:href=\"#DejaVuSans-49\"/>\r\n       <use x=\"675.826172\" xlink:href=\"#DejaVuSans-48\"/>\r\n       <use x=\"739.449219\" xlink:href=\"#DejaVuSans-48\"/>\r\n       <use x=\"803.072266\" xlink:href=\"#DejaVuSans-107\"/>\r\n       <use x=\"860.982422\" xlink:href=\"#DejaVuSans-99\"/>\r\n       <use x=\"915.962891\" xlink:href=\"#DejaVuSans-97\"/>\r\n       <use x=\"977.242188\" xlink:href=\"#DejaVuSans-112\"/>\r\n       <use x=\"1040.71875\" xlink:href=\"#DejaVuSans-105\"/>\r\n       <use x=\"1068.501953\" xlink:href=\"#DejaVuSans-116\"/>\r\n       <use x=\"1107.710938\" xlink:href=\"#DejaVuSans-97\"/>\r\n       <use x=\"1168.990234\" xlink:href=\"#DejaVuSans-95\"/>\r\n       <use x=\"1218.990234\" xlink:href=\"#DejaVuSans-120\"/>\r\n      </g>\r\n     </g>\r\n    </g>\r\n    <g id=\"ytick_21\">\r\n     <g id=\"line2d_27\">\r\n      <g>\r\n       <use style=\"stroke:#000000;stroke-width:0.8;\" x=\"199.771875\" xlink:href=\"#m33caba64d5\" y=\"439.725268\"/>\r\n      </g>\r\n     </g>\r\n     <g id=\"text_28\">\r\n      <!-- fastQuads_skiable_ratio -->\r\n      <g transform=\"translate(73.85625 443.524487)scale(0.1 -0.1)\">\r\n       <defs>\r\n        <path d=\"M 39.40625 66.21875 \r\nQ 28.65625 66.21875 22.328125 58.203125 \r\nQ 16.015625 50.203125 16.015625 36.375 \r\nQ 16.015625 22.609375 22.328125 14.59375 \r\nQ 28.65625 6.59375 39.40625 6.59375 \r\nQ 50.140625 6.59375 56.421875 14.59375 \r\nQ 62.703125 22.609375 62.703125 36.375 \r\nQ 62.703125 50.203125 56.421875 58.203125 \r\nQ 50.140625 66.21875 39.40625 66.21875 \r\nz\r\nM 53.21875 1.3125 \r\nL 66.21875 -12.890625 \r\nL 54.296875 -12.890625 \r\nL 43.5 -1.21875 \r\nQ 41.890625 -1.3125 41.03125 -1.359375 \r\nQ 40.1875 -1.421875 39.40625 -1.421875 \r\nQ 24.03125 -1.421875 14.8125 8.859375 \r\nQ 5.609375 19.140625 5.609375 36.375 \r\nQ 5.609375 53.65625 14.8125 63.9375 \r\nQ 24.03125 74.21875 39.40625 74.21875 \r\nQ 54.734375 74.21875 63.90625 63.9375 \r\nQ 73.09375 53.65625 73.09375 36.375 \r\nQ 73.09375 23.6875 67.984375 14.640625 \r\nQ 62.890625 5.609375 53.21875 1.3125 \r\nz\r\n\" id=\"DejaVuSans-81\"/>\r\n       </defs>\r\n       <use xlink:href=\"#DejaVuSans-102\"/>\r\n       <use x=\"35.205078\" xlink:href=\"#DejaVuSans-97\"/>\r\n       <use x=\"96.484375\" xlink:href=\"#DejaVuSans-115\"/>\r\n       <use x=\"148.583984\" xlink:href=\"#DejaVuSans-116\"/>\r\n       <use x=\"187.792969\" xlink:href=\"#DejaVuSans-81\"/>\r\n       <use x=\"266.503906\" xlink:href=\"#DejaVuSans-117\"/>\r\n       <use x=\"329.882812\" xlink:href=\"#DejaVuSans-97\"/>\r\n       <use x=\"391.162109\" xlink:href=\"#DejaVuSans-100\"/>\r\n       <use x=\"454.638672\" xlink:href=\"#DejaVuSans-115\"/>\r\n       <use x=\"506.738281\" xlink:href=\"#DejaVuSans-95\"/>\r\n       <use x=\"556.738281\" xlink:href=\"#DejaVuSans-115\"/>\r\n       <use x=\"608.837891\" xlink:href=\"#DejaVuSans-107\"/>\r\n       <use x=\"666.748047\" xlink:href=\"#DejaVuSans-105\"/>\r\n       <use x=\"694.53125\" xlink:href=\"#DejaVuSans-97\"/>\r\n       <use x=\"755.810547\" xlink:href=\"#DejaVuSans-98\"/>\r\n       <use x=\"819.287109\" xlink:href=\"#DejaVuSans-108\"/>\r\n       <use x=\"847.070312\" xlink:href=\"#DejaVuSans-101\"/>\r\n       <use x=\"908.59375\" xlink:href=\"#DejaVuSans-95\"/>\r\n       <use x=\"958.59375\" xlink:href=\"#DejaVuSans-114\"/>\r\n       <use x=\"999.707031\" xlink:href=\"#DejaVuSans-97\"/>\r\n       <use x=\"1060.986328\" xlink:href=\"#DejaVuSans-116\"/>\r\n       <use x=\"1100.195312\" xlink:href=\"#DejaVuSans-105\"/>\r\n       <use x=\"1127.978516\" xlink:href=\"#DejaVuSans-111\"/>\r\n      </g>\r\n     </g>\r\n    </g>\r\n    <g id=\"ytick_22\">\r\n     <g id=\"line2d_28\">\r\n      <g>\r\n       <use style=\"stroke:#000000;stroke-width:0.8;\" x=\"199.771875\" xlink:href=\"#m33caba64d5\" y=\"420.310982\"/>\r\n      </g>\r\n     </g>\r\n     <g id=\"text_29\">\r\n      <!-- summit_elev -->\r\n      <g transform=\"translate(129.042188 424.110201)scale(0.1 -0.1)\">\r\n       <use xlink:href=\"#DejaVuSans-115\"/>\r\n       <use x=\"52.099609\" xlink:href=\"#DejaVuSans-117\"/>\r\n       <use x=\"115.478516\" xlink:href=\"#DejaVuSans-109\"/>\r\n       <use x=\"212.890625\" xlink:href=\"#DejaVuSans-109\"/>\r\n       <use x=\"310.302734\" xlink:href=\"#DejaVuSans-105\"/>\r\n       <use x=\"338.085938\" xlink:href=\"#DejaVuSans-116\"/>\r\n       <use x=\"377.294922\" xlink:href=\"#DejaVuSans-95\"/>\r\n       <use x=\"427.294922\" xlink:href=\"#DejaVuSans-101\"/>\r\n       <use x=\"488.818359\" xlink:href=\"#DejaVuSans-108\"/>\r\n       <use x=\"516.601562\" xlink:href=\"#DejaVuSans-101\"/>\r\n       <use x=\"578.125\" xlink:href=\"#DejaVuSans-118\"/>\r\n      </g>\r\n     </g>\r\n    </g>\r\n    <g id=\"ytick_23\">\r\n     <g id=\"line2d_29\">\r\n      <g>\r\n       <use style=\"stroke:#000000;stroke-width:0.8;\" x=\"199.771875\" xlink:href=\"#m33caba64d5\" y=\"400.896696\"/>\r\n      </g>\r\n     </g>\r\n     <g id=\"text_30\">\r\n      <!-- resort_terrain_park_state_ratio -->\r\n      <g transform=\"translate(39.24375 404.695915)scale(0.1 -0.1)\">\r\n       <use xlink:href=\"#DejaVuSans-114\"/>\r\n       <use x=\"38.863281\" xlink:href=\"#DejaVuSans-101\"/>\r\n       <use x=\"100.386719\" xlink:href=\"#DejaVuSans-115\"/>\r\n       <use x=\"152.486328\" xlink:href=\"#DejaVuSans-111\"/>\r\n       <use x=\"213.667969\" xlink:href=\"#DejaVuSans-114\"/>\r\n       <use x=\"254.78125\" xlink:href=\"#DejaVuSans-116\"/>\r\n       <use x=\"293.990234\" xlink:href=\"#DejaVuSans-95\"/>\r\n       <use x=\"343.990234\" xlink:href=\"#DejaVuSans-116\"/>\r\n       <use x=\"383.199219\" xlink:href=\"#DejaVuSans-101\"/>\r\n       <use x=\"444.722656\" xlink:href=\"#DejaVuSans-114\"/>\r\n       <use x=\"484.085938\" xlink:href=\"#DejaVuSans-114\"/>\r\n       <use x=\"525.199219\" xlink:href=\"#DejaVuSans-97\"/>\r\n       <use x=\"586.478516\" xlink:href=\"#DejaVuSans-105\"/>\r\n       <use x=\"614.261719\" xlink:href=\"#DejaVuSans-110\"/>\r\n       <use x=\"677.640625\" xlink:href=\"#DejaVuSans-95\"/>\r\n       <use x=\"727.640625\" xlink:href=\"#DejaVuSans-112\"/>\r\n       <use x=\"791.117188\" xlink:href=\"#DejaVuSans-97\"/>\r\n       <use x=\"852.396484\" xlink:href=\"#DejaVuSans-114\"/>\r\n       <use x=\"893.509766\" xlink:href=\"#DejaVuSans-107\"/>\r\n       <use x=\"951.419922\" xlink:href=\"#DejaVuSans-95\"/>\r\n       <use x=\"1001.419922\" xlink:href=\"#DejaVuSans-115\"/>\r\n       <use x=\"1053.519531\" xlink:href=\"#DejaVuSans-116\"/>\r\n       <use x=\"1092.728516\" xlink:href=\"#DejaVuSans-97\"/>\r\n       <use x=\"1154.007812\" xlink:href=\"#DejaVuSans-116\"/>\r\n       <use x=\"1193.216797\" xlink:href=\"#DejaVuSans-101\"/>\r\n       <use x=\"1254.740234\" xlink:href=\"#DejaVuSans-95\"/>\r\n       <use x=\"1304.740234\" xlink:href=\"#DejaVuSans-114\"/>\r\n       <use x=\"1345.853516\" xlink:href=\"#DejaVuSans-97\"/>\r\n       <use x=\"1407.132812\" xlink:href=\"#DejaVuSans-116\"/>\r\n       <use x=\"1446.341797\" xlink:href=\"#DejaVuSans-105\"/>\r\n       <use x=\"1474.125\" xlink:href=\"#DejaVuSans-111\"/>\r\n      </g>\r\n     </g>\r\n    </g>\r\n    <g id=\"ytick_24\">\r\n     <g id=\"line2d_30\">\r\n      <g>\r\n       <use style=\"stroke:#000000;stroke-width:0.8;\" x=\"199.771875\" xlink:href=\"#m33caba64d5\" y=\"381.482411\"/>\r\n      </g>\r\n     </g>\r\n     <g id=\"text_31\">\r\n      <!-- state_total_skiable_area_ac -->\r\n      <g transform=\"translate(55.467188 385.281629)scale(0.1 -0.1)\">\r\n       <use xlink:href=\"#DejaVuSans-115\"/>\r\n       <use x=\"52.099609\" xlink:href=\"#DejaVuSans-116\"/>\r\n       <use x=\"91.308594\" xlink:href=\"#DejaVuSans-97\"/>\r\n       <use x=\"152.587891\" xlink:href=\"#DejaVuSans-116\"/>\r\n       <use x=\"191.796875\" xlink:href=\"#DejaVuSans-101\"/>\r\n       <use x=\"253.320312\" xlink:href=\"#DejaVuSans-95\"/>\r\n       <use x=\"303.320312\" xlink:href=\"#DejaVuSans-116\"/>\r\n       <use x=\"342.529297\" xlink:href=\"#DejaVuSans-111\"/>\r\n       <use x=\"403.710938\" xlink:href=\"#DejaVuSans-116\"/>\r\n       <use x=\"442.919922\" xlink:href=\"#DejaVuSans-97\"/>\r\n       <use x=\"504.199219\" xlink:href=\"#DejaVuSans-108\"/>\r\n       <use x=\"531.982422\" xlink:href=\"#DejaVuSans-95\"/>\r\n       <use x=\"581.982422\" xlink:href=\"#DejaVuSans-115\"/>\r\n       <use x=\"634.082031\" xlink:href=\"#DejaVuSans-107\"/>\r\n       <use x=\"691.992188\" xlink:href=\"#DejaVuSans-105\"/>\r\n       <use x=\"719.775391\" xlink:href=\"#DejaVuSans-97\"/>\r\n       <use x=\"781.054688\" xlink:href=\"#DejaVuSans-98\"/>\r\n       <use x=\"844.53125\" xlink:href=\"#DejaVuSans-108\"/>\r\n       <use x=\"872.314453\" xlink:href=\"#DejaVuSans-101\"/>\r\n       <use x=\"933.837891\" xlink:href=\"#DejaVuSans-95\"/>\r\n       <use x=\"983.837891\" xlink:href=\"#DejaVuSans-97\"/>\r\n       <use x=\"1045.117188\" xlink:href=\"#DejaVuSans-114\"/>\r\n       <use x=\"1083.980469\" xlink:href=\"#DejaVuSans-101\"/>\r\n       <use x=\"1145.503906\" xlink:href=\"#DejaVuSans-97\"/>\r\n       <use x=\"1206.783203\" xlink:href=\"#DejaVuSans-95\"/>\r\n       <use x=\"1256.783203\" xlink:href=\"#DejaVuSans-97\"/>\r\n       <use x=\"1318.0625\" xlink:href=\"#DejaVuSans-99\"/>\r\n      </g>\r\n     </g>\r\n    </g>\r\n    <g id=\"ytick_25\">\r\n     <g id=\"line2d_31\">\r\n      <g>\r\n       <use style=\"stroke:#000000;stroke-width:0.8;\" x=\"199.771875\" xlink:href=\"#m33caba64d5\" y=\"362.068125\"/>\r\n      </g>\r\n     </g>\r\n     <g id=\"text_32\">\r\n      <!-- resort_days_open_state_ratio -->\r\n      <g transform=\"translate(46.423438 365.867344)scale(0.1 -0.1)\">\r\n       <use xlink:href=\"#DejaVuSans-114\"/>\r\n       <use x=\"38.863281\" xlink:href=\"#DejaVuSans-101\"/>\r\n       <use x=\"100.386719\" xlink:href=\"#DejaVuSans-115\"/>\r\n       <use x=\"152.486328\" xlink:href=\"#DejaVuSans-111\"/>\r\n       <use x=\"213.667969\" xlink:href=\"#DejaVuSans-114\"/>\r\n       <use x=\"254.78125\" xlink:href=\"#DejaVuSans-116\"/>\r\n       <use x=\"293.990234\" xlink:href=\"#DejaVuSans-95\"/>\r\n       <use x=\"343.990234\" xlink:href=\"#DejaVuSans-100\"/>\r\n       <use x=\"407.466797\" xlink:href=\"#DejaVuSans-97\"/>\r\n       <use x=\"468.746094\" xlink:href=\"#DejaVuSans-121\"/>\r\n       <use x=\"527.925781\" xlink:href=\"#DejaVuSans-115\"/>\r\n       <use x=\"580.025391\" xlink:href=\"#DejaVuSans-95\"/>\r\n       <use x=\"630.025391\" xlink:href=\"#DejaVuSans-111\"/>\r\n       <use x=\"691.207031\" xlink:href=\"#DejaVuSans-112\"/>\r\n       <use x=\"754.683594\" xlink:href=\"#DejaVuSans-101\"/>\r\n       <use x=\"816.207031\" xlink:href=\"#DejaVuSans-110\"/>\r\n       <use x=\"879.585938\" xlink:href=\"#DejaVuSans-95\"/>\r\n       <use x=\"929.585938\" xlink:href=\"#DejaVuSans-115\"/>\r\n       <use x=\"981.685547\" xlink:href=\"#DejaVuSans-116\"/>\r\n       <use x=\"1020.894531\" xlink:href=\"#DejaVuSans-97\"/>\r\n       <use x=\"1082.173828\" xlink:href=\"#DejaVuSans-116\"/>\r\n       <use x=\"1121.382812\" xlink:href=\"#DejaVuSans-101\"/>\r\n       <use x=\"1182.90625\" xlink:href=\"#DejaVuSans-95\"/>\r\n       <use x=\"1232.90625\" xlink:href=\"#DejaVuSans-114\"/>\r\n       <use x=\"1274.019531\" xlink:href=\"#DejaVuSans-97\"/>\r\n       <use x=\"1335.298828\" xlink:href=\"#DejaVuSans-116\"/>\r\n       <use x=\"1374.507812\" xlink:href=\"#DejaVuSans-105\"/>\r\n       <use x=\"1402.291016\" xlink:href=\"#DejaVuSans-111\"/>\r\n      </g>\r\n     </g>\r\n    </g>\r\n    <g id=\"ytick_26\">\r\n     <g id=\"line2d_32\">\r\n      <g>\r\n       <use style=\"stroke:#000000;stroke-width:0.8;\" x=\"199.771875\" xlink:href=\"#m33caba64d5\" y=\"342.653839\"/>\r\n      </g>\r\n     </g>\r\n     <g id=\"text_33\">\r\n      <!-- state_total_nightskiing_ac -->\r\n      <g transform=\"translate(62.984375 346.453058)scale(0.1 -0.1)\">\r\n       <use xlink:href=\"#DejaVuSans-115\"/>\r\n       <use x=\"52.099609\" xlink:href=\"#DejaVuSans-116\"/>\r\n       <use x=\"91.308594\" xlink:href=\"#DejaVuSans-97\"/>\r\n       <use x=\"152.587891\" xlink:href=\"#DejaVuSans-116\"/>\r\n       <use x=\"191.796875\" xlink:href=\"#DejaVuSans-101\"/>\r\n       <use x=\"253.320312\" xlink:href=\"#DejaVuSans-95\"/>\r\n       <use x=\"303.320312\" xlink:href=\"#DejaVuSans-116\"/>\r\n       <use x=\"342.529297\" xlink:href=\"#DejaVuSans-111\"/>\r\n       <use x=\"403.710938\" xlink:href=\"#DejaVuSans-116\"/>\r\n       <use x=\"442.919922\" xlink:href=\"#DejaVuSans-97\"/>\r\n       <use x=\"504.199219\" xlink:href=\"#DejaVuSans-108\"/>\r\n       <use x=\"531.982422\" xlink:href=\"#DejaVuSans-95\"/>\r\n       <use x=\"581.982422\" xlink:href=\"#DejaVuSans-110\"/>\r\n       <use x=\"645.361328\" xlink:href=\"#DejaVuSans-105\"/>\r\n       <use x=\"673.144531\" xlink:href=\"#DejaVuSans-103\"/>\r\n       <use x=\"736.621094\" xlink:href=\"#DejaVuSans-104\"/>\r\n       <use x=\"800\" xlink:href=\"#DejaVuSans-116\"/>\r\n       <use x=\"839.208984\" xlink:href=\"#DejaVuSans-115\"/>\r\n       <use x=\"891.308594\" xlink:href=\"#DejaVuSans-107\"/>\r\n       <use x=\"949.21875\" xlink:href=\"#DejaVuSans-105\"/>\r\n       <use x=\"977.001953\" xlink:href=\"#DejaVuSans-105\"/>\r\n       <use x=\"1004.785156\" xlink:href=\"#DejaVuSans-110\"/>\r\n       <use x=\"1068.164062\" xlink:href=\"#DejaVuSans-103\"/>\r\n       <use x=\"1131.640625\" xlink:href=\"#DejaVuSans-95\"/>\r\n       <use x=\"1181.640625\" xlink:href=\"#DejaVuSans-97\"/>\r\n       <use x=\"1242.919922\" xlink:href=\"#DejaVuSans-99\"/>\r\n      </g>\r\n     </g>\r\n    </g>\r\n    <g id=\"ytick_27\">\r\n     <g id=\"line2d_33\">\r\n      <g>\r\n       <use style=\"stroke:#000000;stroke-width:0.8;\" x=\"199.771875\" xlink:href=\"#m33caba64d5\" y=\"323.239554\"/>\r\n      </g>\r\n     </g>\r\n     <g id=\"text_34\">\r\n      <!-- total_chairs_skiable_ratio -->\r\n      <g transform=\"translate(66.601563 327.038772)scale(0.1 -0.1)\">\r\n       <use xlink:href=\"#DejaVuSans-116\"/>\r\n       <use x=\"39.208984\" xlink:href=\"#DejaVuSans-111\"/>\r\n       <use x=\"100.390625\" xlink:href=\"#DejaVuSans-116\"/>\r\n       <use x=\"139.599609\" xlink:href=\"#DejaVuSans-97\"/>\r\n       <use x=\"200.878906\" xlink:href=\"#DejaVuSans-108\"/>\r\n       <use x=\"228.662109\" xlink:href=\"#DejaVuSans-95\"/>\r\n       <use x=\"278.662109\" xlink:href=\"#DejaVuSans-99\"/>\r\n       <use x=\"333.642578\" xlink:href=\"#DejaVuSans-104\"/>\r\n       <use x=\"397.021484\" xlink:href=\"#DejaVuSans-97\"/>\r\n       <use x=\"458.300781\" xlink:href=\"#DejaVuSans-105\"/>\r\n       <use x=\"486.083984\" xlink:href=\"#DejaVuSans-114\"/>\r\n       <use x=\"527.197266\" xlink:href=\"#DejaVuSans-115\"/>\r\n       <use x=\"579.296875\" xlink:href=\"#DejaVuSans-95\"/>\r\n       <use x=\"629.296875\" xlink:href=\"#DejaVuSans-115\"/>\r\n       <use x=\"681.396484\" xlink:href=\"#DejaVuSans-107\"/>\r\n       <use x=\"739.306641\" xlink:href=\"#DejaVuSans-105\"/>\r\n       <use x=\"767.089844\" xlink:href=\"#DejaVuSans-97\"/>\r\n       <use x=\"828.369141\" xlink:href=\"#DejaVuSans-98\"/>\r\n       <use x=\"891.845703\" xlink:href=\"#DejaVuSans-108\"/>\r\n       <use x=\"919.628906\" xlink:href=\"#DejaVuSans-101\"/>\r\n       <use x=\"981.152344\" xlink:href=\"#DejaVuSans-95\"/>\r\n       <use x=\"1031.152344\" xlink:href=\"#DejaVuSans-114\"/>\r\n       <use x=\"1072.265625\" xlink:href=\"#DejaVuSans-97\"/>\r\n       <use x=\"1133.544922\" xlink:href=\"#DejaVuSans-116\"/>\r\n       <use x=\"1172.753906\" xlink:href=\"#DejaVuSans-105\"/>\r\n       <use x=\"1200.537109\" xlink:href=\"#DejaVuSans-111\"/>\r\n      </g>\r\n     </g>\r\n    </g>\r\n    <g id=\"ytick_28\">\r\n     <g id=\"line2d_34\">\r\n      <g>\r\n       <use style=\"stroke:#000000;stroke-width:0.8;\" x=\"199.771875\" xlink:href=\"#m33caba64d5\" y=\"303.825268\"/>\r\n      </g>\r\n     </g>\r\n     <g id=\"text_35\">\r\n      <!-- LongestRun_mi -->\r\n      <g transform=\"translate(116.595313 307.624487)scale(0.1 -0.1)\">\r\n       <defs>\r\n        <path d=\"M 9.8125 72.90625 \r\nL 19.671875 72.90625 \r\nL 19.671875 8.296875 \r\nL 55.171875 8.296875 \r\nL 55.171875 0 \r\nL 9.8125 0 \r\nz\r\n\" id=\"DejaVuSans-76\"/>\r\n        <path d=\"M 44.390625 34.1875 \r\nQ 47.5625 33.109375 50.5625 29.59375 \r\nQ 53.5625 26.078125 56.59375 19.921875 \r\nL 66.609375 0 \r\nL 56 0 \r\nL 46.6875 18.703125 \r\nQ 43.0625 26.03125 39.671875 28.421875 \r\nQ 36.28125 30.8125 30.421875 30.8125 \r\nL 19.671875 30.8125 \r\nL 19.671875 0 \r\nL 9.8125 0 \r\nL 9.8125 72.90625 \r\nL 32.078125 72.90625 \r\nQ 44.578125 72.90625 50.734375 67.671875 \r\nQ 56.890625 62.453125 56.890625 51.90625 \r\nQ 56.890625 45.015625 53.6875 40.46875 \r\nQ 50.484375 35.9375 44.390625 34.1875 \r\nz\r\nM 19.671875 64.796875 \r\nL 19.671875 38.921875 \r\nL 32.078125 38.921875 \r\nQ 39.203125 38.921875 42.84375 42.21875 \r\nQ 46.484375 45.515625 46.484375 51.90625 \r\nQ 46.484375 58.296875 42.84375 61.546875 \r\nQ 39.203125 64.796875 32.078125 64.796875 \r\nz\r\n\" id=\"DejaVuSans-82\"/>\r\n       </defs>\r\n       <use xlink:href=\"#DejaVuSans-76\"/>\r\n       <use x=\"53.962891\" xlink:href=\"#DejaVuSans-111\"/>\r\n       <use x=\"115.144531\" xlink:href=\"#DejaVuSans-110\"/>\r\n       <use x=\"178.523438\" xlink:href=\"#DejaVuSans-103\"/>\r\n       <use x=\"242\" xlink:href=\"#DejaVuSans-101\"/>\r\n       <use x=\"303.523438\" xlink:href=\"#DejaVuSans-115\"/>\r\n       <use x=\"355.623047\" xlink:href=\"#DejaVuSans-116\"/>\r\n       <use x=\"394.832031\" xlink:href=\"#DejaVuSans-82\"/>\r\n       <use x=\"459.814453\" xlink:href=\"#DejaVuSans-117\"/>\r\n       <use x=\"523.193359\" xlink:href=\"#DejaVuSans-110\"/>\r\n       <use x=\"586.572266\" xlink:href=\"#DejaVuSans-95\"/>\r\n       <use x=\"636.572266\" xlink:href=\"#DejaVuSans-109\"/>\r\n       <use x=\"733.984375\" xlink:href=\"#DejaVuSans-105\"/>\r\n      </g>\r\n     </g>\r\n    </g>\r\n    <g id=\"ytick_29\">\r\n     <g id=\"line2d_35\">\r\n      <g>\r\n       <use style=\"stroke:#000000;stroke-width:0.8;\" x=\"199.771875\" xlink:href=\"#m33caba64d5\" y=\"284.410982\"/>\r\n      </g>\r\n     </g>\r\n     <g id=\"text_36\">\r\n      <!-- yearsOpen -->\r\n      <g transform=\"translate(138.540625 288.210201)scale(0.1 -0.1)\">\r\n       <defs>\r\n        <path d=\"M 39.40625 66.21875 \r\nQ 28.65625 66.21875 22.328125 58.203125 \r\nQ 16.015625 50.203125 16.015625 36.375 \r\nQ 16.015625 22.609375 22.328125 14.59375 \r\nQ 28.65625 6.59375 39.40625 6.59375 \r\nQ 50.140625 6.59375 56.421875 14.59375 \r\nQ 62.703125 22.609375 62.703125 36.375 \r\nQ 62.703125 50.203125 56.421875 58.203125 \r\nQ 50.140625 66.21875 39.40625 66.21875 \r\nz\r\nM 39.40625 74.21875 \r\nQ 54.734375 74.21875 63.90625 63.9375 \r\nQ 73.09375 53.65625 73.09375 36.375 \r\nQ 73.09375 19.140625 63.90625 8.859375 \r\nQ 54.734375 -1.421875 39.40625 -1.421875 \r\nQ 24.03125 -1.421875 14.8125 8.828125 \r\nQ 5.609375 19.09375 5.609375 36.375 \r\nQ 5.609375 53.65625 14.8125 63.9375 \r\nQ 24.03125 74.21875 39.40625 74.21875 \r\nz\r\n\" id=\"DejaVuSans-79\"/>\r\n       </defs>\r\n       <use xlink:href=\"#DejaVuSans-121\"/>\r\n       <use x=\"59.179688\" xlink:href=\"#DejaVuSans-101\"/>\r\n       <use x=\"120.703125\" xlink:href=\"#DejaVuSans-97\"/>\r\n       <use x=\"181.982422\" xlink:href=\"#DejaVuSans-114\"/>\r\n       <use x=\"223.095703\" xlink:href=\"#DejaVuSans-115\"/>\r\n       <use x=\"275.195312\" xlink:href=\"#DejaVuSans-79\"/>\r\n       <use x=\"353.90625\" xlink:href=\"#DejaVuSans-112\"/>\r\n       <use x=\"417.382812\" xlink:href=\"#DejaVuSans-101\"/>\r\n       <use x=\"478.90625\" xlink:href=\"#DejaVuSans-110\"/>\r\n      </g>\r\n     </g>\r\n    </g>\r\n    <g id=\"ytick_30\">\r\n     <g id=\"line2d_36\">\r\n      <g>\r\n       <use style=\"stroke:#000000;stroke-width:0.8;\" x=\"199.771875\" xlink:href=\"#m33caba64d5\" y=\"264.996696\"/>\r\n      </g>\r\n     </g>\r\n     <g id=\"text_37\">\r\n      <!-- NightSkiing_ac -->\r\n      <g transform=\"translate(118.898438 268.795915)scale(0.1 -0.1)\">\r\n       <defs>\r\n        <path d=\"M 9.8125 72.90625 \r\nL 23.09375 72.90625 \r\nL 55.421875 11.921875 \r\nL 55.421875 72.90625 \r\nL 64.984375 72.90625 \r\nL 64.984375 0 \r\nL 51.703125 0 \r\nL 19.390625 60.984375 \r\nL 19.390625 0 \r\nL 9.8125 0 \r\nz\r\n\" id=\"DejaVuSans-78\"/>\r\n       </defs>\r\n       <use xlink:href=\"#DejaVuSans-78\"/>\r\n       <use x=\"74.804688\" xlink:href=\"#DejaVuSans-105\"/>\r\n       <use x=\"102.587891\" xlink:href=\"#DejaVuSans-103\"/>\r\n       <use x=\"166.064453\" xlink:href=\"#DejaVuSans-104\"/>\r\n       <use x=\"229.443359\" xlink:href=\"#DejaVuSans-116\"/>\r\n       <use x=\"268.652344\" xlink:href=\"#DejaVuSans-83\"/>\r\n       <use x=\"332.128906\" xlink:href=\"#DejaVuSans-107\"/>\r\n       <use x=\"390.039062\" xlink:href=\"#DejaVuSans-105\"/>\r\n       <use x=\"417.822266\" xlink:href=\"#DejaVuSans-105\"/>\r\n       <use x=\"445.605469\" xlink:href=\"#DejaVuSans-110\"/>\r\n       <use x=\"508.984375\" xlink:href=\"#DejaVuSans-103\"/>\r\n       <use x=\"572.460938\" xlink:href=\"#DejaVuSans-95\"/>\r\n       <use x=\"622.460938\" xlink:href=\"#DejaVuSans-97\"/>\r\n       <use x=\"683.740234\" xlink:href=\"#DejaVuSans-99\"/>\r\n      </g>\r\n     </g>\r\n    </g>\r\n    <g id=\"ytick_31\">\r\n     <g id=\"line2d_37\">\r\n      <g>\r\n       <use style=\"stroke:#000000;stroke-width:0.8;\" x=\"199.771875\" xlink:href=\"#m33caba64d5\" y=\"245.582411\"/>\r\n      </g>\r\n     </g>\r\n     <g id=\"text_38\">\r\n      <!-- resort_skiable_area_ac_state_ratio -->\r\n      <g transform=\"translate(20.878125 249.381629)scale(0.1 -0.1)\">\r\n       <use xlink:href=\"#DejaVuSans-114\"/>\r\n       <use x=\"38.863281\" xlink:href=\"#DejaVuSans-101\"/>\r\n       <use x=\"100.386719\" xlink:href=\"#DejaVuSans-115\"/>\r\n       <use x=\"152.486328\" xlink:href=\"#DejaVuSans-111\"/>\r\n       <use x=\"213.667969\" xlink:href=\"#DejaVuSans-114\"/>\r\n       <use x=\"254.78125\" xlink:href=\"#DejaVuSans-116\"/>\r\n       <use x=\"293.990234\" xlink:href=\"#DejaVuSans-95\"/>\r\n       <use x=\"343.990234\" xlink:href=\"#DejaVuSans-115\"/>\r\n       <use x=\"396.089844\" xlink:href=\"#DejaVuSans-107\"/>\r\n       <use x=\"454\" xlink:href=\"#DejaVuSans-105\"/>\r\n       <use x=\"481.783203\" xlink:href=\"#DejaVuSans-97\"/>\r\n       <use x=\"543.0625\" xlink:href=\"#DejaVuSans-98\"/>\r\n       <use x=\"606.539062\" xlink:href=\"#DejaVuSans-108\"/>\r\n       <use x=\"634.322266\" xlink:href=\"#DejaVuSans-101\"/>\r\n       <use x=\"695.845703\" xlink:href=\"#DejaVuSans-95\"/>\r\n       <use x=\"745.845703\" xlink:href=\"#DejaVuSans-97\"/>\r\n       <use x=\"807.125\" xlink:href=\"#DejaVuSans-114\"/>\r\n       <use x=\"845.988281\" xlink:href=\"#DejaVuSans-101\"/>\r\n       <use x=\"907.511719\" xlink:href=\"#DejaVuSans-97\"/>\r\n       <use x=\"968.791016\" xlink:href=\"#DejaVuSans-95\"/>\r\n       <use x=\"1018.791016\" xlink:href=\"#DejaVuSans-97\"/>\r\n       <use x=\"1080.070312\" xlink:href=\"#DejaVuSans-99\"/>\r\n       <use x=\"1135.050781\" xlink:href=\"#DejaVuSans-95\"/>\r\n       <use x=\"1185.050781\" xlink:href=\"#DejaVuSans-115\"/>\r\n       <use x=\"1237.150391\" xlink:href=\"#DejaVuSans-116\"/>\r\n       <use x=\"1276.359375\" xlink:href=\"#DejaVuSans-97\"/>\r\n       <use x=\"1337.638672\" xlink:href=\"#DejaVuSans-116\"/>\r\n       <use x=\"1376.847656\" xlink:href=\"#DejaVuSans-101\"/>\r\n       <use x=\"1438.371094\" xlink:href=\"#DejaVuSans-95\"/>\r\n       <use x=\"1488.371094\" xlink:href=\"#DejaVuSans-114\"/>\r\n       <use x=\"1529.484375\" xlink:href=\"#DejaVuSans-97\"/>\r\n       <use x=\"1590.763672\" xlink:href=\"#DejaVuSans-116\"/>\r\n       <use x=\"1629.972656\" xlink:href=\"#DejaVuSans-105\"/>\r\n       <use x=\"1657.755859\" xlink:href=\"#DejaVuSans-111\"/>\r\n      </g>\r\n     </g>\r\n    </g>\r\n    <g id=\"ytick_32\">\r\n     <g id=\"line2d_38\">\r\n      <g>\r\n       <use style=\"stroke:#000000;stroke-width:0.8;\" x=\"199.771875\" xlink:href=\"#m33caba64d5\" y=\"226.168125\"/>\r\n      </g>\r\n     </g>\r\n     <g id=\"text_39\">\r\n      <!-- daysOpenLastYear -->\r\n      <g transform=\"translate(100.451563 229.967344)scale(0.1 -0.1)\">\r\n       <defs>\r\n        <path d=\"M -0.203125 72.90625 \r\nL 10.40625 72.90625 \r\nL 30.609375 42.921875 \r\nL 50.6875 72.90625 \r\nL 61.28125 72.90625 \r\nL 35.5 34.71875 \r\nL 35.5 0 \r\nL 25.59375 0 \r\nL 25.59375 34.71875 \r\nz\r\n\" id=\"DejaVuSans-89\"/>\r\n       </defs>\r\n       <use xlink:href=\"#DejaVuSans-100\"/>\r\n       <use x=\"63.476562\" xlink:href=\"#DejaVuSans-97\"/>\r\n       <use x=\"124.755859\" xlink:href=\"#DejaVuSans-121\"/>\r\n       <use x=\"183.935547\" xlink:href=\"#DejaVuSans-115\"/>\r\n       <use x=\"236.035156\" xlink:href=\"#DejaVuSans-79\"/>\r\n       <use x=\"314.746094\" xlink:href=\"#DejaVuSans-112\"/>\r\n       <use x=\"378.222656\" xlink:href=\"#DejaVuSans-101\"/>\r\n       <use x=\"439.746094\" xlink:href=\"#DejaVuSans-110\"/>\r\n       <use x=\"503.125\" xlink:href=\"#DejaVuSans-76\"/>\r\n       <use x=\"558.837891\" xlink:href=\"#DejaVuSans-97\"/>\r\n       <use x=\"620.117188\" xlink:href=\"#DejaVuSans-115\"/>\r\n       <use x=\"672.216797\" xlink:href=\"#DejaVuSans-116\"/>\r\n       <use x=\"711.425781\" xlink:href=\"#DejaVuSans-89\"/>\r\n       <use x=\"759.259766\" xlink:href=\"#DejaVuSans-101\"/>\r\n       <use x=\"820.783203\" xlink:href=\"#DejaVuSans-97\"/>\r\n       <use x=\"882.0625\" xlink:href=\"#DejaVuSans-114\"/>\r\n      </g>\r\n     </g>\r\n    </g>\r\n    <g id=\"ytick_33\">\r\n     <g id=\"line2d_39\">\r\n      <g>\r\n       <use style=\"stroke:#000000;stroke-width:0.8;\" x=\"199.771875\" xlink:href=\"#m33caba64d5\" y=\"206.753839\"/>\r\n      </g>\r\n     </g>\r\n     <g id=\"text_40\">\r\n      <!-- total_chairs_runs_ratio -->\r\n      <g transform=\"translate(79.792188 210.553058)scale(0.1 -0.1)\">\r\n       <use xlink:href=\"#DejaVuSans-116\"/>\r\n       <use x=\"39.208984\" xlink:href=\"#DejaVuSans-111\"/>\r\n       <use x=\"100.390625\" xlink:href=\"#DejaVuSans-116\"/>\r\n       <use x=\"139.599609\" xlink:href=\"#DejaVuSans-97\"/>\r\n       <use x=\"200.878906\" xlink:href=\"#DejaVuSans-108\"/>\r\n       <use x=\"228.662109\" xlink:href=\"#DejaVuSans-95\"/>\r\n       <use x=\"278.662109\" xlink:href=\"#DejaVuSans-99\"/>\r\n       <use x=\"333.642578\" xlink:href=\"#DejaVuSans-104\"/>\r\n       <use x=\"397.021484\" xlink:href=\"#DejaVuSans-97\"/>\r\n       <use x=\"458.300781\" xlink:href=\"#DejaVuSans-105\"/>\r\n       <use x=\"486.083984\" xlink:href=\"#DejaVuSans-114\"/>\r\n       <use x=\"527.197266\" xlink:href=\"#DejaVuSans-115\"/>\r\n       <use x=\"579.296875\" xlink:href=\"#DejaVuSans-95\"/>\r\n       <use x=\"629.296875\" xlink:href=\"#DejaVuSans-114\"/>\r\n       <use x=\"670.410156\" xlink:href=\"#DejaVuSans-117\"/>\r\n       <use x=\"733.789062\" xlink:href=\"#DejaVuSans-110\"/>\r\n       <use x=\"797.167969\" xlink:href=\"#DejaVuSans-115\"/>\r\n       <use x=\"849.267578\" xlink:href=\"#DejaVuSans-95\"/>\r\n       <use x=\"899.267578\" xlink:href=\"#DejaVuSans-114\"/>\r\n       <use x=\"940.380859\" xlink:href=\"#DejaVuSans-97\"/>\r\n       <use x=\"1001.660156\" xlink:href=\"#DejaVuSans-116\"/>\r\n       <use x=\"1040.869141\" xlink:href=\"#DejaVuSans-105\"/>\r\n       <use x=\"1068.652344\" xlink:href=\"#DejaVuSans-111\"/>\r\n      </g>\r\n     </g>\r\n    </g>\r\n    <g id=\"ytick_34\">\r\n     <g id=\"line2d_40\">\r\n      <g>\r\n       <use style=\"stroke:#000000;stroke-width:0.8;\" x=\"199.771875\" xlink:href=\"#m33caba64d5\" y=\"187.339554\"/>\r\n      </g>\r\n     </g>\r\n     <g id=\"text_41\">\r\n      <!-- quad -->\r\n      <g transform=\"translate(167.609375 191.138772)scale(0.1 -0.1)\">\r\n       <use xlink:href=\"#DejaVuSans-113\"/>\r\n       <use x=\"63.476562\" xlink:href=\"#DejaVuSans-117\"/>\r\n       <use x=\"126.855469\" xlink:href=\"#DejaVuSans-97\"/>\r\n       <use x=\"188.134766\" xlink:href=\"#DejaVuSans-100\"/>\r\n      </g>\r\n     </g>\r\n    </g>\r\n    <g id=\"ytick_35\">\r\n     <g id=\"line2d_41\">\r\n      <g>\r\n       <use style=\"stroke:#000000;stroke-width:0.8;\" x=\"199.771875\" xlink:href=\"#m33caba64d5\" y=\"167.925268\"/>\r\n      </g>\r\n     </g>\r\n     <g id=\"text_42\">\r\n      <!-- projectedDaysOpen -->\r\n      <g transform=\"translate(93.9 171.724487)scale(0.1 -0.1)\">\r\n       <defs>\r\n        <path d=\"M 9.421875 54.6875 \r\nL 18.40625 54.6875 \r\nL 18.40625 -0.984375 \r\nQ 18.40625 -11.421875 14.421875 -16.109375 \r\nQ 10.453125 -20.796875 1.609375 -20.796875 \r\nL -1.8125 -20.796875 \r\nL -1.8125 -13.1875 \r\nL 0.59375 -13.1875 \r\nQ 5.71875 -13.1875 7.5625 -10.8125 \r\nQ 9.421875 -8.453125 9.421875 -0.984375 \r\nz\r\nM 9.421875 75.984375 \r\nL 18.40625 75.984375 \r\nL 18.40625 64.59375 \r\nL 9.421875 64.59375 \r\nz\r\n\" id=\"DejaVuSans-106\"/>\r\n        <path d=\"M 19.671875 64.796875 \r\nL 19.671875 8.109375 \r\nL 31.59375 8.109375 \r\nQ 46.6875 8.109375 53.6875 14.9375 \r\nQ 60.6875 21.78125 60.6875 36.53125 \r\nQ 60.6875 51.171875 53.6875 57.984375 \r\nQ 46.6875 64.796875 31.59375 64.796875 \r\nz\r\nM 9.8125 72.90625 \r\nL 30.078125 72.90625 \r\nQ 51.265625 72.90625 61.171875 64.09375 \r\nQ 71.09375 55.28125 71.09375 36.53125 \r\nQ 71.09375 17.671875 61.125 8.828125 \r\nQ 51.171875 0 30.078125 0 \r\nL 9.8125 0 \r\nz\r\n\" id=\"DejaVuSans-68\"/>\r\n       </defs>\r\n       <use xlink:href=\"#DejaVuSans-112\"/>\r\n       <use x=\"63.476562\" xlink:href=\"#DejaVuSans-114\"/>\r\n       <use x=\"102.339844\" xlink:href=\"#DejaVuSans-111\"/>\r\n       <use x=\"163.521484\" xlink:href=\"#DejaVuSans-106\"/>\r\n       <use x=\"191.304688\" xlink:href=\"#DejaVuSans-101\"/>\r\n       <use x=\"252.828125\" xlink:href=\"#DejaVuSans-99\"/>\r\n       <use x=\"307.808594\" xlink:href=\"#DejaVuSans-116\"/>\r\n       <use x=\"347.017578\" xlink:href=\"#DejaVuSans-101\"/>\r\n       <use x=\"408.541016\" xlink:href=\"#DejaVuSans-100\"/>\r\n       <use x=\"472.017578\" xlink:href=\"#DejaVuSans-68\"/>\r\n       <use x=\"549.019531\" xlink:href=\"#DejaVuSans-97\"/>\r\n       <use x=\"610.298828\" xlink:href=\"#DejaVuSans-121\"/>\r\n       <use x=\"669.478516\" xlink:href=\"#DejaVuSans-115\"/>\r\n       <use x=\"721.578125\" xlink:href=\"#DejaVuSans-79\"/>\r\n       <use x=\"800.289062\" xlink:href=\"#DejaVuSans-112\"/>\r\n       <use x=\"863.765625\" xlink:href=\"#DejaVuSans-101\"/>\r\n       <use x=\"925.289062\" xlink:href=\"#DejaVuSans-110\"/>\r\n      </g>\r\n     </g>\r\n    </g>\r\n    <g id=\"ytick_36\">\r\n     <g id=\"line2d_42\">\r\n      <g>\r\n       <use style=\"stroke:#000000;stroke-width:0.8;\" x=\"199.771875\" xlink:href=\"#m33caba64d5\" y=\"148.510982\"/>\r\n      </g>\r\n     </g>\r\n     <g id=\"text_43\">\r\n      <!-- fastQuads_runs_ratio -->\r\n      <g transform=\"translate(87.046875 152.310201)scale(0.1 -0.1)\">\r\n       <use xlink:href=\"#DejaVuSans-102\"/>\r\n       <use x=\"35.205078\" xlink:href=\"#DejaVuSans-97\"/>\r\n       <use x=\"96.484375\" xlink:href=\"#DejaVuSans-115\"/>\r\n       <use x=\"148.583984\" xlink:href=\"#DejaVuSans-116\"/>\r\n       <use x=\"187.792969\" xlink:href=\"#DejaVuSans-81\"/>\r\n       <use x=\"266.503906\" xlink:href=\"#DejaVuSans-117\"/>\r\n       <use x=\"329.882812\" xlink:href=\"#DejaVuSans-97\"/>\r\n       <use x=\"391.162109\" xlink:href=\"#DejaVuSans-100\"/>\r\n       <use x=\"454.638672\" xlink:href=\"#DejaVuSans-115\"/>\r\n       <use x=\"506.738281\" xlink:href=\"#DejaVuSans-95\"/>\r\n       <use x=\"556.738281\" xlink:href=\"#DejaVuSans-114\"/>\r\n       <use x=\"597.851562\" xlink:href=\"#DejaVuSans-117\"/>\r\n       <use x=\"661.230469\" xlink:href=\"#DejaVuSans-110\"/>\r\n       <use x=\"724.609375\" xlink:href=\"#DejaVuSans-115\"/>\r\n       <use x=\"776.708984\" xlink:href=\"#DejaVuSans-95\"/>\r\n       <use x=\"826.708984\" xlink:href=\"#DejaVuSans-114\"/>\r\n       <use x=\"867.822266\" xlink:href=\"#DejaVuSans-97\"/>\r\n       <use x=\"929.101562\" xlink:href=\"#DejaVuSans-116\"/>\r\n       <use x=\"968.310547\" xlink:href=\"#DejaVuSans-105\"/>\r\n       <use x=\"996.09375\" xlink:href=\"#DejaVuSans-111\"/>\r\n      </g>\r\n     </g>\r\n    </g>\r\n    <g id=\"ytick_37\">\r\n     <g id=\"line2d_43\">\r\n      <g>\r\n       <use style=\"stroke:#000000;stroke-width:0.8;\" x=\"199.771875\" xlink:href=\"#m33caba64d5\" y=\"129.096696\"/>\r\n      </g>\r\n     </g>\r\n     <g id=\"text_44\">\r\n      <!-- total_chairs -->\r\n      <g transform=\"translate(134.84375 132.895915)scale(0.1 -0.1)\">\r\n       <use xlink:href=\"#DejaVuSans-116\"/>\r\n       <use x=\"39.208984\" xlink:href=\"#DejaVuSans-111\"/>\r\n       <use x=\"100.390625\" xlink:href=\"#DejaVuSans-116\"/>\r\n       <use x=\"139.599609\" xlink:href=\"#DejaVuSans-97\"/>\r\n       <use x=\"200.878906\" xlink:href=\"#DejaVuSans-108\"/>\r\n       <use x=\"228.662109\" xlink:href=\"#DejaVuSans-95\"/>\r\n       <use x=\"278.662109\" xlink:href=\"#DejaVuSans-99\"/>\r\n       <use x=\"333.642578\" xlink:href=\"#DejaVuSans-104\"/>\r\n       <use x=\"397.021484\" xlink:href=\"#DejaVuSans-97\"/>\r\n       <use x=\"458.300781\" xlink:href=\"#DejaVuSans-105\"/>\r\n       <use x=\"486.083984\" xlink:href=\"#DejaVuSans-114\"/>\r\n       <use x=\"527.197266\" xlink:href=\"#DejaVuSans-115\"/>\r\n      </g>\r\n     </g>\r\n    </g>\r\n    <g id=\"ytick_38\">\r\n     <g id=\"line2d_44\">\r\n      <g>\r\n       <use style=\"stroke:#000000;stroke-width:0.8;\" x=\"199.771875\" xlink:href=\"#m33caba64d5\" y=\"109.682411\"/>\r\n      </g>\r\n     </g>\r\n     <g id=\"text_45\">\r\n      <!-- SkiableTerrain_ac -->\r\n      <g transform=\"translate(105.96875 113.481629)scale(0.1 -0.1)\">\r\n       <use xlink:href=\"#DejaVuSans-83\"/>\r\n       <use x=\"63.476562\" xlink:href=\"#DejaVuSans-107\"/>\r\n       <use x=\"121.386719\" xlink:href=\"#DejaVuSans-105\"/>\r\n       <use x=\"149.169922\" xlink:href=\"#DejaVuSans-97\"/>\r\n       <use x=\"210.449219\" xlink:href=\"#DejaVuSans-98\"/>\r\n       <use x=\"273.925781\" xlink:href=\"#DejaVuSans-108\"/>\r\n       <use x=\"301.708984\" xlink:href=\"#DejaVuSans-101\"/>\r\n       <use x=\"363.232422\" xlink:href=\"#DejaVuSans-84\"/>\r\n       <use x=\"407.316406\" xlink:href=\"#DejaVuSans-101\"/>\r\n       <use x=\"468.839844\" xlink:href=\"#DejaVuSans-114\"/>\r\n       <use x=\"508.203125\" xlink:href=\"#DejaVuSans-114\"/>\r\n       <use x=\"549.316406\" xlink:href=\"#DejaVuSans-97\"/>\r\n       <use x=\"610.595703\" xlink:href=\"#DejaVuSans-105\"/>\r\n       <use x=\"638.378906\" xlink:href=\"#DejaVuSans-110\"/>\r\n       <use x=\"701.757812\" xlink:href=\"#DejaVuSans-95\"/>\r\n       <use x=\"751.757812\" xlink:href=\"#DejaVuSans-97\"/>\r\n       <use x=\"813.037109\" xlink:href=\"#DejaVuSans-99\"/>\r\n      </g>\r\n     </g>\r\n    </g>\r\n    <g id=\"ytick_39\">\r\n     <g id=\"line2d_45\">\r\n      <g>\r\n       <use style=\"stroke:#000000;stroke-width:0.8;\" x=\"199.771875\" xlink:href=\"#m33caba64d5\" y=\"90.268125\"/>\r\n      </g>\r\n     </g>\r\n     <g id=\"text_46\">\r\n      <!-- vertical_drop -->\r\n      <g transform=\"translate(127.784375 94.067344)scale(0.1 -0.1)\">\r\n       <use xlink:href=\"#DejaVuSans-118\"/>\r\n       <use x=\"59.179688\" xlink:href=\"#DejaVuSans-101\"/>\r\n       <use x=\"120.703125\" xlink:href=\"#DejaVuSans-114\"/>\r\n       <use x=\"161.816406\" xlink:href=\"#DejaVuSans-116\"/>\r\n       <use x=\"201.025391\" xlink:href=\"#DejaVuSans-105\"/>\r\n       <use x=\"228.808594\" xlink:href=\"#DejaVuSans-99\"/>\r\n       <use x=\"283.789062\" xlink:href=\"#DejaVuSans-97\"/>\r\n       <use x=\"345.068359\" xlink:href=\"#DejaVuSans-108\"/>\r\n       <use x=\"372.851562\" xlink:href=\"#DejaVuSans-95\"/>\r\n       <use x=\"422.851562\" xlink:href=\"#DejaVuSans-100\"/>\r\n       <use x=\"486.328125\" xlink:href=\"#DejaVuSans-114\"/>\r\n       <use x=\"525.191406\" xlink:href=\"#DejaVuSans-111\"/>\r\n       <use x=\"586.373047\" xlink:href=\"#DejaVuSans-112\"/>\r\n      </g>\r\n     </g>\r\n    </g>\r\n    <g id=\"ytick_40\">\r\n     <g id=\"line2d_46\">\r\n      <g>\r\n       <use style=\"stroke:#000000;stroke-width:0.8;\" x=\"199.771875\" xlink:href=\"#m33caba64d5\" y=\"70.853839\"/>\r\n      </g>\r\n     </g>\r\n     <g id=\"text_47\">\r\n      <!-- Snow Making_ac -->\r\n      <g transform=\"translate(109.973438 74.653058)scale(0.1 -0.1)\">\r\n       <defs>\r\n        <path id=\"DejaVuSans-32\"/>\r\n        <path d=\"M 9.8125 72.90625 \r\nL 24.515625 72.90625 \r\nL 43.109375 23.296875 \r\nL 61.8125 72.90625 \r\nL 76.515625 72.90625 \r\nL 76.515625 0 \r\nL 66.890625 0 \r\nL 66.890625 64.015625 \r\nL 48.09375 14.015625 \r\nL 38.1875 14.015625 \r\nL 19.390625 64.015625 \r\nL 19.390625 0 \r\nL 9.8125 0 \r\nz\r\n\" id=\"DejaVuSans-77\"/>\r\n       </defs>\r\n       <use xlink:href=\"#DejaVuSans-83\"/>\r\n       <use x=\"63.476562\" xlink:href=\"#DejaVuSans-110\"/>\r\n       <use x=\"126.855469\" xlink:href=\"#DejaVuSans-111\"/>\r\n       <use x=\"188.037109\" xlink:href=\"#DejaVuSans-119\"/>\r\n       <use x=\"269.824219\" xlink:href=\"#DejaVuSans-32\"/>\r\n       <use x=\"301.611328\" xlink:href=\"#DejaVuSans-77\"/>\r\n       <use x=\"387.890625\" xlink:href=\"#DejaVuSans-97\"/>\r\n       <use x=\"449.169922\" xlink:href=\"#DejaVuSans-107\"/>\r\n       <use x=\"507.080078\" xlink:href=\"#DejaVuSans-105\"/>\r\n       <use x=\"534.863281\" xlink:href=\"#DejaVuSans-110\"/>\r\n       <use x=\"598.242188\" xlink:href=\"#DejaVuSans-103\"/>\r\n       <use x=\"661.71875\" xlink:href=\"#DejaVuSans-95\"/>\r\n       <use x=\"711.71875\" xlink:href=\"#DejaVuSans-97\"/>\r\n       <use x=\"772.998047\" xlink:href=\"#DejaVuSans-99\"/>\r\n      </g>\r\n     </g>\r\n    </g>\r\n    <g id=\"ytick_41\">\r\n     <g id=\"line2d_47\">\r\n      <g>\r\n       <use style=\"stroke:#000000;stroke-width:0.8;\" x=\"199.771875\" xlink:href=\"#m33caba64d5\" y=\"51.439554\"/>\r\n      </g>\r\n     </g>\r\n     <g id=\"text_48\">\r\n      <!-- Runs -->\r\n      <g transform=\"translate(168.389063 55.238772)scale(0.1 -0.1)\">\r\n       <use xlink:href=\"#DejaVuSans-82\"/>\r\n       <use x=\"64.982422\" xlink:href=\"#DejaVuSans-117\"/>\r\n       <use x=\"128.361328\" xlink:href=\"#DejaVuSans-110\"/>\r\n       <use x=\"191.740234\" xlink:href=\"#DejaVuSans-115\"/>\r\n      </g>\r\n     </g>\r\n    </g>\r\n    <g id=\"ytick_42\">\r\n     <g id=\"line2d_48\">\r\n      <g>\r\n       <use style=\"stroke:#000000;stroke-width:0.8;\" x=\"199.771875\" xlink:href=\"#m33caba64d5\" y=\"32.025268\"/>\r\n      </g>\r\n     </g>\r\n     <g id=\"text_49\">\r\n      <!-- fastQuads -->\r\n      <g transform=\"translate(142.098438 35.824487)scale(0.1 -0.1)\">\r\n       <use xlink:href=\"#DejaVuSans-102\"/>\r\n       <use x=\"35.205078\" xlink:href=\"#DejaVuSans-97\"/>\r\n       <use x=\"96.484375\" xlink:href=\"#DejaVuSans-115\"/>\r\n       <use x=\"148.583984\" xlink:href=\"#DejaVuSans-116\"/>\r\n       <use x=\"187.792969\" xlink:href=\"#DejaVuSans-81\"/>\r\n       <use x=\"266.503906\" xlink:href=\"#DejaVuSans-117\"/>\r\n       <use x=\"329.882812\" xlink:href=\"#DejaVuSans-97\"/>\r\n       <use x=\"391.162109\" xlink:href=\"#DejaVuSans-100\"/>\r\n       <use x=\"454.638672\" xlink:href=\"#DejaVuSans-115\"/>\r\n      </g>\r\n     </g>\r\n    </g>\r\n    <g id=\"text_50\">\r\n     <!-- importance -->\r\n     <g transform=\"translate(14.798438 458.585312)rotate(-90)scale(0.1 -0.1)\">\r\n      <use xlink:href=\"#DejaVuSans-105\"/>\r\n      <use x=\"27.783203\" xlink:href=\"#DejaVuSans-109\"/>\r\n      <use x=\"125.195312\" xlink:href=\"#DejaVuSans-112\"/>\r\n      <use x=\"188.671875\" xlink:href=\"#DejaVuSans-111\"/>\r\n      <use x=\"249.853516\" xlink:href=\"#DejaVuSans-114\"/>\r\n      <use x=\"290.966797\" xlink:href=\"#DejaVuSans-116\"/>\r\n      <use x=\"330.175781\" xlink:href=\"#DejaVuSans-97\"/>\r\n      <use x=\"391.455078\" xlink:href=\"#DejaVuSans-110\"/>\r\n      <use x=\"454.833984\" xlink:href=\"#DejaVuSans-99\"/>\r\n      <use x=\"509.814453\" xlink:href=\"#DejaVuSans-101\"/>\r\n     </g>\r\n    </g>\r\n   </g>\r\n   <g id=\"patch_45\">\r\n    <path d=\"M 199.771875 837.718125 \r\nL 199.771875 22.318125 \r\n\" style=\"fill:none;stroke:#000000;stroke-linecap:square;stroke-linejoin:miter;stroke-width:0.8;\"/>\r\n   </g>\r\n   <g id=\"patch_46\">\r\n    <path d=\"M 757.771875 837.718125 \r\nL 757.771875 22.318125 \r\n\" style=\"fill:none;stroke:#000000;stroke-linecap:square;stroke-linejoin:miter;stroke-width:0.8;\"/>\r\n   </g>\r\n   <g id=\"patch_47\">\r\n    <path d=\"M 199.771875 837.718125 \r\nL 757.771875 837.718125 \r\n\" style=\"fill:none;stroke:#000000;stroke-linecap:square;stroke-linejoin:miter;stroke-width:0.8;\"/>\r\n   </g>\r\n   <g id=\"patch_48\">\r\n    <path d=\"M 199.771875 22.318125 \r\nL 757.771875 22.318125 \r\n\" style=\"fill:none;stroke:#000000;stroke-linecap:square;stroke-linejoin:miter;stroke-width:0.8;\"/>\r\n   </g>\r\n   <g id=\"text_51\">\r\n    <!-- Best random forest regressor feature importances -->\r\n    <g transform=\"translate(328.085625 16.318125)scale(0.12 -0.12)\">\r\n     <defs>\r\n      <path d=\"M 19.671875 34.8125 \r\nL 19.671875 8.109375 \r\nL 35.5 8.109375 \r\nQ 43.453125 8.109375 47.28125 11.40625 \r\nQ 51.125 14.703125 51.125 21.484375 \r\nQ 51.125 28.328125 47.28125 31.5625 \r\nQ 43.453125 34.8125 35.5 34.8125 \r\nz\r\nM 19.671875 64.796875 \r\nL 19.671875 42.828125 \r\nL 34.28125 42.828125 \r\nQ 41.5 42.828125 45.03125 45.53125 \r\nQ 48.578125 48.25 48.578125 53.8125 \r\nQ 48.578125 59.328125 45.03125 62.0625 \r\nQ 41.5 64.796875 34.28125 64.796875 \r\nz\r\nM 9.8125 72.90625 \r\nL 35.015625 72.90625 \r\nQ 46.296875 72.90625 52.390625 68.21875 \r\nQ 58.5 63.53125 58.5 54.890625 \r\nQ 58.5 48.1875 55.375 44.234375 \r\nQ 52.25 40.28125 46.1875 39.3125 \r\nQ 53.46875 37.75 57.5 32.78125 \r\nQ 61.53125 27.828125 61.53125 20.40625 \r\nQ 61.53125 10.640625 54.890625 5.3125 \r\nQ 48.25 0 35.984375 0 \r\nL 9.8125 0 \r\nz\r\n\" id=\"DejaVuSans-66\"/>\r\n     </defs>\r\n     <use xlink:href=\"#DejaVuSans-66\"/>\r\n     <use x=\"68.603516\" xlink:href=\"#DejaVuSans-101\"/>\r\n     <use x=\"130.126953\" xlink:href=\"#DejaVuSans-115\"/>\r\n     <use x=\"182.226562\" xlink:href=\"#DejaVuSans-116\"/>\r\n     <use x=\"221.435547\" xlink:href=\"#DejaVuSans-32\"/>\r\n     <use x=\"253.222656\" xlink:href=\"#DejaVuSans-114\"/>\r\n     <use x=\"294.335938\" xlink:href=\"#DejaVuSans-97\"/>\r\n     <use x=\"355.615234\" xlink:href=\"#DejaVuSans-110\"/>\r\n     <use x=\"418.994141\" xlink:href=\"#DejaVuSans-100\"/>\r\n     <use x=\"482.470703\" xlink:href=\"#DejaVuSans-111\"/>\r\n     <use x=\"543.652344\" xlink:href=\"#DejaVuSans-109\"/>\r\n     <use x=\"641.064453\" xlink:href=\"#DejaVuSans-32\"/>\r\n     <use x=\"672.851562\" xlink:href=\"#DejaVuSans-102\"/>\r\n     <use x=\"708.056641\" xlink:href=\"#DejaVuSans-111\"/>\r\n     <use x=\"769.238281\" xlink:href=\"#DejaVuSans-114\"/>\r\n     <use x=\"808.101562\" xlink:href=\"#DejaVuSans-101\"/>\r\n     <use x=\"869.625\" xlink:href=\"#DejaVuSans-115\"/>\r\n     <use x=\"921.724609\" xlink:href=\"#DejaVuSans-116\"/>\r\n     <use x=\"960.933594\" xlink:href=\"#DejaVuSans-32\"/>\r\n     <use x=\"992.720703\" xlink:href=\"#DejaVuSans-114\"/>\r\n     <use x=\"1031.583984\" xlink:href=\"#DejaVuSans-101\"/>\r\n     <use x=\"1093.107422\" xlink:href=\"#DejaVuSans-103\"/>\r\n     <use x=\"1156.583984\" xlink:href=\"#DejaVuSans-114\"/>\r\n     <use x=\"1195.447266\" xlink:href=\"#DejaVuSans-101\"/>\r\n     <use x=\"1256.970703\" xlink:href=\"#DejaVuSans-115\"/>\r\n     <use x=\"1309.070312\" xlink:href=\"#DejaVuSans-115\"/>\r\n     <use x=\"1361.169922\" xlink:href=\"#DejaVuSans-111\"/>\r\n     <use x=\"1422.351562\" xlink:href=\"#DejaVuSans-114\"/>\r\n     <use x=\"1463.464844\" xlink:href=\"#DejaVuSans-32\"/>\r\n     <use x=\"1495.251953\" xlink:href=\"#DejaVuSans-102\"/>\r\n     <use x=\"1530.457031\" xlink:href=\"#DejaVuSans-101\"/>\r\n     <use x=\"1591.980469\" xlink:href=\"#DejaVuSans-97\"/>\r\n     <use x=\"1653.259766\" xlink:href=\"#DejaVuSans-116\"/>\r\n     <use x=\"1692.46875\" xlink:href=\"#DejaVuSans-117\"/>\r\n     <use x=\"1755.847656\" xlink:href=\"#DejaVuSans-114\"/>\r\n     <use x=\"1794.710938\" xlink:href=\"#DejaVuSans-101\"/>\r\n     <use x=\"1856.234375\" xlink:href=\"#DejaVuSans-32\"/>\r\n     <use x=\"1888.021484\" xlink:href=\"#DejaVuSans-105\"/>\r\n     <use x=\"1915.804688\" xlink:href=\"#DejaVuSans-109\"/>\r\n     <use x=\"2013.216797\" xlink:href=\"#DejaVuSans-112\"/>\r\n     <use x=\"2076.693359\" xlink:href=\"#DejaVuSans-111\"/>\r\n     <use x=\"2137.875\" xlink:href=\"#DejaVuSans-114\"/>\r\n     <use x=\"2178.988281\" xlink:href=\"#DejaVuSans-116\"/>\r\n     <use x=\"2218.197266\" xlink:href=\"#DejaVuSans-97\"/>\r\n     <use x=\"2279.476562\" xlink:href=\"#DejaVuSans-110\"/>\r\n     <use x=\"2342.855469\" xlink:href=\"#DejaVuSans-99\"/>\r\n     <use x=\"2397.835938\" xlink:href=\"#DejaVuSans-101\"/>\r\n     <use x=\"2459.359375\" xlink:href=\"#DejaVuSans-115\"/>\r\n    </g>\r\n   </g>\r\n  </g>\r\n </g>\r\n <defs>\r\n  <clipPath id=\"p19b97769bb\">\r\n   <rect height=\"815.4\" width=\"558\" x=\"199.771875\" y=\"22.318125\"/>\r\n  </clipPath>\r\n </defs>\r\n</svg>\r\n",
      "image/png": "[encoded data removed]"
     },
     "metadata": {
      "needs_background": "light"
     }
    }
   ],
   "source": [
    "#Code task 27#\n",
    "#Plot a barplot of the random forest's feature importances,\n",
    "#assigning the `feature_importances_` attribute of \n",
    "#`rf_grid_cv.best_estimator_.named_steps.randomforestregressor` to the name `imps` to then\n",
    "#create a pandas Series object of the feature importances, with the index given by the\n",
    "#training data column names, sorting the values in descending order\n",
    "plt.subplots(figsize=(10, 15))\n",
    "imps = rf_grid_cv.best_estimator_.named_steps.randomforestregressor.feature_importances_\n",
    "rf_feat_imps = pd.Series(imps, index=X_train.columns).sort_values()\n",
    "rf_feat_imps.plot(kind='barh')\n",
    "plt.xlabel('features')\n",
    "plt.ylabel('importance')\n",
    "plt.title('Best random forest regressor feature importances');"
   ]
  },
  {
   "cell_type": "markdown",
   "metadata": {},
   "source": [
    "Encouragingly, the dominant top four features are in common with your linear model:\n",
    "* fastQuads\n",
    "* Runs\n",
    "* Snow Making_ac\n",
    "* vertical_drop"
   ]
  },
  {
   "cell_type": "markdown",
   "metadata": {},
   "source": [
    "## 4.11 Final Model Selection<a id='4.11_Final_Model_Selection'></a>"
   ]
  },
  {
   "cell_type": "markdown",
   "metadata": {},
   "source": [
    "Time to select your final model to use for further business modeling! It would be good to revisit the above model selection; there is undoubtedly more that could be done to explore possible hyperparameters.\n",
    "It would also be worthwhile to investigate removing the least useful features. Gathering or calculating, and storing, features adds business cost and dependencies, so if features genuinely are not needed they should be removed.\n",
    "Building a simpler model with fewer features can also have the advantage of being easier to sell (and/or explain) to stakeholders.\n",
    "Certainly there seem to be four strong features here and so a model using only those would probably work well.\n",
    "However, you want to explore some different scenarios where other features vary so keep the fuller \n",
    "model for now. \n",
    "The business is waiting for this model and you have something that you have confidence in to be much better than guessing with the average price.\n",
    "\n",
    "Or, rather, you have two \"somethings\". You built a best linear model and a best random forest model. You need to finally choose between them. You can calculate the mean absolute error using cross-validation. Although `cross-validate` defaults to the $R^2$ [metric for scoring](https://scikit-learn.org/stable/modules/model_evaluation.html#scoring) regression, you can specify the mean absolute error as an alternative via\n",
    "the `scoring` parameter."
   ]
  },
  {
   "cell_type": "markdown",
   "metadata": {},
   "source": [
    "### 4.11.1 Linear regression model performance<a id='4.11.1_Linear_regression_model_performance'></a>"
   ]
  },
  {
   "cell_type": "code",
   "execution_count": 98,
   "metadata": {},
   "outputs": [],
   "source": [
    "# 'neg_mean_absolute_error' uses the (negative of) the mean absolute error\n",
    "lr_neg_mae = cross_validate(lr_grid_cv.best_estimator_, X_train, y_train, \n",
    "                            scoring='neg_mean_absolute_error', cv=5, n_jobs=-1)"
   ]
  },
  {
   "cell_type": "code",
   "execution_count": 99,
   "metadata": {},
   "outputs": [
    {
     "output_type": "execute_result",
     "data": {
      "text/plain": [
       "(10.499032338015294, 1.6220608976799664)"
      ]
     },
     "metadata": {},
     "execution_count": 99
    }
   ],
   "source": [
    "lr_mae_mean = np.mean(-1 * lr_neg_mae['test_score'])\n",
    "lr_mae_std = np.std(-1 * lr_neg_mae['test_score'])\n",
    "lr_mae_mean, lr_mae_std"
   ]
  },
  {
   "cell_type": "code",
   "execution_count": 100,
   "metadata": {},
   "outputs": [
    {
     "output_type": "execute_result",
     "data": {
      "text/plain": [
       "11.793465668669322"
      ]
     },
     "metadata": {},
     "execution_count": 100
    }
   ],
   "source": [
    "mean_absolute_error(y_test, lr_grid_cv.best_estimator_.predict(X_test))"
   ]
  },
  {
   "cell_type": "markdown",
   "metadata": {},
   "source": [
    "### 4.11.2 Random forest regression model performance<a id='4.11.2_Random_forest_regression_model_performance'></a>"
   ]
  },
  {
   "cell_type": "code",
   "execution_count": 101,
   "metadata": {},
   "outputs": [],
   "source": [
    "rf_neg_mae = cross_validate(rf_grid_cv.best_estimator_, X_train, y_train, \n",
    "                            scoring='neg_mean_absolute_error', cv=5, n_jobs=-1)"
   ]
  },
  {
   "cell_type": "code",
   "execution_count": 102,
   "metadata": {},
   "outputs": [
    {
     "output_type": "execute_result",
     "data": {
      "text/plain": [
       "(9.695604220341064, 1.4243805835456036)"
      ]
     },
     "metadata": {},
     "execution_count": 102
    }
   ],
   "source": [
    "rf_mae_mean = np.mean(-1 * rf_neg_mae['test_score'])\n",
    "rf_mae_std = np.std(-1 * rf_neg_mae['test_score'])\n",
    "rf_mae_mean, rf_mae_std"
   ]
  },
  {
   "cell_type": "code",
   "execution_count": 103,
   "metadata": {},
   "outputs": [
    {
     "output_type": "execute_result",
     "data": {
      "text/plain": [
       "9.617845929171231"
      ]
     },
     "metadata": {},
     "execution_count": 103
    }
   ],
   "source": [
    "mean_absolute_error(y_test, rf_grid_cv.best_estimator_.predict(X_test))"
   ]
  },
  {
   "cell_type": "markdown",
   "metadata": {},
   "source": [
    "### 4.11.3 Conclusion<a id='4.11.3_Conclusion'></a>"
   ]
  },
  {
   "cell_type": "markdown",
   "metadata": {},
   "source": [
    "The random forest model has a lower cross-validation mean absolute error by almost \\\\$1. It also exhibits less variability. Verifying performance on the test set produces performance consistent with the cross-validation results."
   ]
  },
  {
   "cell_type": "code",
   "execution_count": 104,
   "metadata": {},
   "outputs": [
    {
     "output_type": "execute_result",
     "data": {
      "text/plain": [
       "Pipeline(steps=[('simpleimputer', SimpleImputer(strategy='median')),\n",
       "                ('standardscaler', None),\n",
       "                ('randomforestregressor',\n",
       "                 RandomForestRegressor(n_estimators=33, random_state=47))])"
      ]
     },
     "metadata": {},
     "execution_count": 104
    }
   ],
   "source": [
    "rf_grid_cv.best_estimator_"
   ]
  },
  {
   "cell_type": "markdown",
   "metadata": {},
   "source": [
    "## 4.12 Data quantity assessment<a id='4.12_Data_quantity_assessment'></a>"
   ]
  },
  {
   "cell_type": "markdown",
   "metadata": {},
   "source": [
    "Finally, you need to advise the business whether it needs to undertake further data collection. Would more data be useful? We're often led to believe more data is always good, but gathering data invariably has a cost associated with it. Assess this trade off by seeing how performance varies with differing data set sizes. The `learning_curve` function does this conveniently."
   ]
  },
  {
   "cell_type": "code",
   "execution_count": 105,
   "metadata": {},
   "outputs": [],
   "source": [
    "fractions = [.2, .25, .3, .35, .4, .45, .5, .6, .75, .8, 1.0]\n",
    "train_size, train_scores, test_scores = learning_curve(pipe, X_train, y_train, train_sizes=fractions)\n",
    "train_scores_mean = np.mean(train_scores, axis=1)\n",
    "train_scores_std = np.std(train_scores, axis=1)\n",
    "test_scores_mean = np.mean(test_scores, axis=1)\n",
    "test_scores_std = np.std(test_scores, axis=1)"
   ]
  },
  {
   "cell_type": "code",
   "execution_count": 106,
   "metadata": {},
   "outputs": [
    {
     "output_type": "display_data",
     "data": {
      "text/plain": "<Figure size 720x360 with 1 Axes>",
      "image/svg+xml": "<?xml version=\"1.0\" encoding=\"utf-8\" standalone=\"no\"?>\r\n<!DOCTYPE svg PUBLIC \"-//W3C//DTD SVG 1.1//EN\"\r\n  \"http://www.w3.org/Graphics/SVG/1.1/DTD/svg11.dtd\">\r\n<!-- Created with matplotlib (https://matplotlib.org/) -->\r\n<svg height=\"331.674375pt\" version=\"1.1\" viewBox=\"0 0 626.086506 331.674375\" width=\"626.086506pt\" xmlns=\"http://www.w3.org/2000/svg\" xmlns:xlink=\"http://www.w3.org/1999/xlink\">\r\n <metadata>\r\n  <rdf:RDF xmlns:cc=\"http://creativecommons.org/ns#\" xmlns:dc=\"http://purl.org/dc/elements/1.1/\" xmlns:rdf=\"http://www.w3.org/1999/02/22-rdf-syntax-ns#\">\r\n   <cc:Work>\r\n    <dc:type rdf:resource=\"http://purl.org/dc/dcmitype/StillImage\"/>\r\n    <dc:date>2021-02-28T15:32:07.311528</dc:date>\r\n    <dc:format>image/svg+xml</dc:format>\r\n    <dc:creator>\r\n     <cc:Agent>\r\n      <dc:title>Matplotlib v3.3.2, https://matplotlib.org/</dc:title>\r\n     </cc:Agent>\r\n    </dc:creator>\r\n   </cc:Work>\r\n  </rdf:RDF>\r\n </metadata>\r\n <defs>\r\n  <style type=\"text/css\">*{stroke-linecap:butt;stroke-linejoin:round;}</style>\r\n </defs>\r\n <g id=\"figure_1\">\r\n  <g id=\"patch_1\">\r\n   <path d=\"M 0 331.674375 \r\nL 626.086506 331.674375 \r\nL 626.086506 0 \r\nL 0 0 \r\nz\r\n\" style=\"fill:none;\"/>\r\n  </g>\r\n  <g id=\"axes_1\">\r\n   <g id=\"patch_2\">\r\n    <path d=\"M 52.160938 294.118125 \r\nL 610.160938 294.118125 \r\nL 610.160938 22.318125 \r\nL 52.160938 22.318125 \r\nz\r\n\" style=\"fill:#ffffff;\"/>\r\n   </g>\r\n   <g id=\"matplotlib.axis_1\">\r\n    <g id=\"xtick_1\">\r\n     <g id=\"line2d_1\">\r\n      <defs>\r\n       <path d=\"M 0 0 \r\nL 0 3.5 \r\n\" id=\"m1f02359167\" style=\"stroke:#000000;stroke-width:0.8;\"/>\r\n      </defs>\r\n      <g>\r\n       <use style=\"stroke:#000000;stroke-width:0.8;\" x=\"118.433665\" xlink:href=\"#m1f02359167\" y=\"294.118125\"/>\r\n      </g>\r\n     </g>\r\n     <g id=\"text_1\">\r\n      <!-- 40 -->\r\n      <g transform=\"translate(112.071165 308.716563)scale(0.1 -0.1)\">\r\n       <defs>\r\n        <path d=\"M 37.796875 64.3125 \r\nL 12.890625 25.390625 \r\nL 37.796875 25.390625 \r\nz\r\nM 35.203125 72.90625 \r\nL 47.609375 72.90625 \r\nL 47.609375 25.390625 \r\nL 58.015625 25.390625 \r\nL 58.015625 17.1875 \r\nL 47.609375 17.1875 \r\nL 47.609375 0 \r\nL 37.796875 0 \r\nL 37.796875 17.1875 \r\nL 4.890625 17.1875 \r\nL 4.890625 26.703125 \r\nz\r\n\" id=\"DejaVuSans-52\"/>\r\n        <path d=\"M 31.78125 66.40625 \r\nQ 24.171875 66.40625 20.328125 58.90625 \r\nQ 16.5 51.421875 16.5 36.375 \r\nQ 16.5 21.390625 20.328125 13.890625 \r\nQ 24.171875 6.390625 31.78125 6.390625 \r\nQ 39.453125 6.390625 43.28125 13.890625 \r\nQ 47.125 21.390625 47.125 36.375 \r\nQ 47.125 51.421875 43.28125 58.90625 \r\nQ 39.453125 66.40625 31.78125 66.40625 \r\nz\r\nM 31.78125 74.21875 \r\nQ 44.046875 74.21875 50.515625 64.515625 \r\nQ 56.984375 54.828125 56.984375 36.375 \r\nQ 56.984375 17.96875 50.515625 8.265625 \r\nQ 44.046875 -1.421875 31.78125 -1.421875 \r\nQ 19.53125 -1.421875 13.0625 8.265625 \r\nQ 6.59375 17.96875 6.59375 36.375 \r\nQ 6.59375 54.828125 13.0625 64.515625 \r\nQ 19.53125 74.21875 31.78125 74.21875 \r\nz\r\n\" id=\"DejaVuSans-48\"/>\r\n       </defs>\r\n       <use xlink:href=\"#DejaVuSans-52\"/>\r\n       <use x=\"63.623047\" xlink:href=\"#DejaVuSans-48\"/>\r\n      </g>\r\n     </g>\r\n    </g>\r\n    <g id=\"xtick_2\">\r\n     <g id=\"line2d_2\">\r\n      <g>\r\n       <use style=\"stroke:#000000;stroke-width:0.8;\" x=\"200.251847\" xlink:href=\"#m1f02359167\" y=\"294.118125\"/>\r\n      </g>\r\n     </g>\r\n     <g id=\"text_2\">\r\n      <!-- 60 -->\r\n      <g transform=\"translate(193.889347 308.716563)scale(0.1 -0.1)\">\r\n       <defs>\r\n        <path d=\"M 33.015625 40.375 \r\nQ 26.375 40.375 22.484375 35.828125 \r\nQ 18.609375 31.296875 18.609375 23.390625 \r\nQ 18.609375 15.53125 22.484375 10.953125 \r\nQ 26.375 6.390625 33.015625 6.390625 \r\nQ 39.65625 6.390625 43.53125 10.953125 \r\nQ 47.40625 15.53125 47.40625 23.390625 \r\nQ 47.40625 31.296875 43.53125 35.828125 \r\nQ 39.65625 40.375 33.015625 40.375 \r\nz\r\nM 52.59375 71.296875 \r\nL 52.59375 62.3125 \r\nQ 48.875 64.0625 45.09375 64.984375 \r\nQ 41.3125 65.921875 37.59375 65.921875 \r\nQ 27.828125 65.921875 22.671875 59.328125 \r\nQ 17.53125 52.734375 16.796875 39.40625 \r\nQ 19.671875 43.65625 24.015625 45.921875 \r\nQ 28.375 48.1875 33.59375 48.1875 \r\nQ 44.578125 48.1875 50.953125 41.515625 \r\nQ 57.328125 34.859375 57.328125 23.390625 \r\nQ 57.328125 12.15625 50.6875 5.359375 \r\nQ 44.046875 -1.421875 33.015625 -1.421875 \r\nQ 20.359375 -1.421875 13.671875 8.265625 \r\nQ 6.984375 17.96875 6.984375 36.375 \r\nQ 6.984375 53.65625 15.1875 63.9375 \r\nQ 23.390625 74.21875 37.203125 74.21875 \r\nQ 40.921875 74.21875 44.703125 73.484375 \r\nQ 48.484375 72.75 52.59375 71.296875 \r\nz\r\n\" id=\"DejaVuSans-54\"/>\r\n       </defs>\r\n       <use xlink:href=\"#DejaVuSans-54\"/>\r\n       <use x=\"63.623047\" xlink:href=\"#DejaVuSans-48\"/>\r\n      </g>\r\n     </g>\r\n    </g>\r\n    <g id=\"xtick_3\">\r\n     <g id=\"line2d_3\">\r\n      <g>\r\n       <use style=\"stroke:#000000;stroke-width:0.8;\" x=\"282.070028\" xlink:href=\"#m1f02359167\" y=\"294.118125\"/>\r\n      </g>\r\n     </g>\r\n     <g id=\"text_3\">\r\n      <!-- 80 -->\r\n      <g transform=\"translate(275.707528 308.716563)scale(0.1 -0.1)\">\r\n       <defs>\r\n        <path d=\"M 31.78125 34.625 \r\nQ 24.75 34.625 20.71875 30.859375 \r\nQ 16.703125 27.09375 16.703125 20.515625 \r\nQ 16.703125 13.921875 20.71875 10.15625 \r\nQ 24.75 6.390625 31.78125 6.390625 \r\nQ 38.8125 6.390625 42.859375 10.171875 \r\nQ 46.921875 13.96875 46.921875 20.515625 \r\nQ 46.921875 27.09375 42.890625 30.859375 \r\nQ 38.875 34.625 31.78125 34.625 \r\nz\r\nM 21.921875 38.8125 \r\nQ 15.578125 40.375 12.03125 44.71875 \r\nQ 8.5 49.078125 8.5 55.328125 \r\nQ 8.5 64.0625 14.71875 69.140625 \r\nQ 20.953125 74.21875 31.78125 74.21875 \r\nQ 42.671875 74.21875 48.875 69.140625 \r\nQ 55.078125 64.0625 55.078125 55.328125 \r\nQ 55.078125 49.078125 51.53125 44.71875 \r\nQ 48 40.375 41.703125 38.8125 \r\nQ 48.828125 37.15625 52.796875 32.3125 \r\nQ 56.78125 27.484375 56.78125 20.515625 \r\nQ 56.78125 9.90625 50.3125 4.234375 \r\nQ 43.84375 -1.421875 31.78125 -1.421875 \r\nQ 19.734375 -1.421875 13.25 4.234375 \r\nQ 6.78125 9.90625 6.78125 20.515625 \r\nQ 6.78125 27.484375 10.78125 32.3125 \r\nQ 14.796875 37.15625 21.921875 38.8125 \r\nz\r\nM 18.3125 54.390625 \r\nQ 18.3125 48.734375 21.84375 45.5625 \r\nQ 25.390625 42.390625 31.78125 42.390625 \r\nQ 38.140625 42.390625 41.71875 45.5625 \r\nQ 45.3125 48.734375 45.3125 54.390625 \r\nQ 45.3125 60.0625 41.71875 63.234375 \r\nQ 38.140625 66.40625 31.78125 66.40625 \r\nQ 25.390625 66.40625 21.84375 63.234375 \r\nQ 18.3125 60.0625 18.3125 54.390625 \r\nz\r\n\" id=\"DejaVuSans-56\"/>\r\n       </defs>\r\n       <use xlink:href=\"#DejaVuSans-56\"/>\r\n       <use x=\"63.623047\" xlink:href=\"#DejaVuSans-48\"/>\r\n      </g>\r\n     </g>\r\n    </g>\r\n    <g id=\"xtick_4\">\r\n     <g id=\"line2d_4\">\r\n      <g>\r\n       <use style=\"stroke:#000000;stroke-width:0.8;\" x=\"363.88821\" xlink:href=\"#m1f02359167\" y=\"294.118125\"/>\r\n      </g>\r\n     </g>\r\n     <g id=\"text_4\">\r\n      <!-- 100 -->\r\n      <g transform=\"translate(354.34446 308.716563)scale(0.1 -0.1)\">\r\n       <defs>\r\n        <path d=\"M 12.40625 8.296875 \r\nL 28.515625 8.296875 \r\nL 28.515625 63.921875 \r\nL 10.984375 60.40625 \r\nL 10.984375 69.390625 \r\nL 28.421875 72.90625 \r\nL 38.28125 72.90625 \r\nL 38.28125 8.296875 \r\nL 54.390625 8.296875 \r\nL 54.390625 0 \r\nL 12.40625 0 \r\nz\r\n\" id=\"DejaVuSans-49\"/>\r\n       </defs>\r\n       <use xlink:href=\"#DejaVuSans-49\"/>\r\n       <use x=\"63.623047\" xlink:href=\"#DejaVuSans-48\"/>\r\n       <use x=\"127.246094\" xlink:href=\"#DejaVuSans-48\"/>\r\n      </g>\r\n     </g>\r\n    </g>\r\n    <g id=\"xtick_5\">\r\n     <g id=\"line2d_5\">\r\n      <g>\r\n       <use style=\"stroke:#000000;stroke-width:0.8;\" x=\"445.706392\" xlink:href=\"#m1f02359167\" y=\"294.118125\"/>\r\n      </g>\r\n     </g>\r\n     <g id=\"text_5\">\r\n      <!-- 120 -->\r\n      <g transform=\"translate(436.162642 308.716563)scale(0.1 -0.1)\">\r\n       <defs>\r\n        <path d=\"M 19.1875 8.296875 \r\nL 53.609375 8.296875 \r\nL 53.609375 0 \r\nL 7.328125 0 \r\nL 7.328125 8.296875 \r\nQ 12.9375 14.109375 22.625 23.890625 \r\nQ 32.328125 33.6875 34.8125 36.53125 \r\nQ 39.546875 41.84375 41.421875 45.53125 \r\nQ 43.3125 49.21875 43.3125 52.78125 \r\nQ 43.3125 58.59375 39.234375 62.25 \r\nQ 35.15625 65.921875 28.609375 65.921875 \r\nQ 23.96875 65.921875 18.8125 64.3125 \r\nQ 13.671875 62.703125 7.8125 59.421875 \r\nL 7.8125 69.390625 \r\nQ 13.765625 71.78125 18.9375 73 \r\nQ 24.125 74.21875 28.421875 74.21875 \r\nQ 39.75 74.21875 46.484375 68.546875 \r\nQ 53.21875 62.890625 53.21875 53.421875 \r\nQ 53.21875 48.921875 51.53125 44.890625 \r\nQ 49.859375 40.875 45.40625 35.40625 \r\nQ 44.1875 33.984375 37.640625 27.21875 \r\nQ 31.109375 20.453125 19.1875 8.296875 \r\nz\r\n\" id=\"DejaVuSans-50\"/>\r\n       </defs>\r\n       <use xlink:href=\"#DejaVuSans-49\"/>\r\n       <use x=\"63.623047\" xlink:href=\"#DejaVuSans-50\"/>\r\n       <use x=\"127.246094\" xlink:href=\"#DejaVuSans-48\"/>\r\n      </g>\r\n     </g>\r\n    </g>\r\n    <g id=\"xtick_6\">\r\n     <g id=\"line2d_6\">\r\n      <g>\r\n       <use style=\"stroke:#000000;stroke-width:0.8;\" x=\"527.524574\" xlink:href=\"#m1f02359167\" y=\"294.118125\"/>\r\n      </g>\r\n     </g>\r\n     <g id=\"text_6\">\r\n      <!-- 140 -->\r\n      <g transform=\"translate(517.980824 308.716563)scale(0.1 -0.1)\">\r\n       <use xlink:href=\"#DejaVuSans-49\"/>\r\n       <use x=\"63.623047\" xlink:href=\"#DejaVuSans-52\"/>\r\n       <use x=\"127.246094\" xlink:href=\"#DejaVuSans-48\"/>\r\n      </g>\r\n     </g>\r\n    </g>\r\n    <g id=\"xtick_7\">\r\n     <g id=\"line2d_7\">\r\n      <g>\r\n       <use style=\"stroke:#000000;stroke-width:0.8;\" x=\"609.342756\" xlink:href=\"#m1f02359167\" y=\"294.118125\"/>\r\n      </g>\r\n     </g>\r\n     <g id=\"text_7\">\r\n      <!-- 160 -->\r\n      <g transform=\"translate(599.799006 308.716563)scale(0.1 -0.1)\">\r\n       <use xlink:href=\"#DejaVuSans-49\"/>\r\n       <use x=\"63.623047\" xlink:href=\"#DejaVuSans-54\"/>\r\n       <use x=\"127.246094\" xlink:href=\"#DejaVuSans-48\"/>\r\n      </g>\r\n     </g>\r\n    </g>\r\n    <g id=\"text_8\">\r\n     <!-- Training set size -->\r\n     <g transform=\"translate(290.921094 322.394687)scale(0.1 -0.1)\">\r\n      <defs>\r\n       <path d=\"M -0.296875 72.90625 \r\nL 61.375 72.90625 \r\nL 61.375 64.59375 \r\nL 35.5 64.59375 \r\nL 35.5 0 \r\nL 25.59375 0 \r\nL 25.59375 64.59375 \r\nL -0.296875 64.59375 \r\nz\r\n\" id=\"DejaVuSans-84\"/>\r\n       <path d=\"M 41.109375 46.296875 \r\nQ 39.59375 47.171875 37.8125 47.578125 \r\nQ 36.03125 48 33.890625 48 \r\nQ 26.265625 48 22.1875 43.046875 \r\nQ 18.109375 38.09375 18.109375 28.8125 \r\nL 18.109375 0 \r\nL 9.078125 0 \r\nL 9.078125 54.6875 \r\nL 18.109375 54.6875 \r\nL 18.109375 46.1875 \r\nQ 20.953125 51.171875 25.484375 53.578125 \r\nQ 30.03125 56 36.53125 56 \r\nQ 37.453125 56 38.578125 55.875 \r\nQ 39.703125 55.765625 41.0625 55.515625 \r\nz\r\n\" id=\"DejaVuSans-114\"/>\r\n       <path d=\"M 34.28125 27.484375 \r\nQ 23.390625 27.484375 19.1875 25 \r\nQ 14.984375 22.515625 14.984375 16.5 \r\nQ 14.984375 11.71875 18.140625 8.90625 \r\nQ 21.296875 6.109375 26.703125 6.109375 \r\nQ 34.1875 6.109375 38.703125 11.40625 \r\nQ 43.21875 16.703125 43.21875 25.484375 \r\nL 43.21875 27.484375 \r\nz\r\nM 52.203125 31.203125 \r\nL 52.203125 0 \r\nL 43.21875 0 \r\nL 43.21875 8.296875 \r\nQ 40.140625 3.328125 35.546875 0.953125 \r\nQ 30.953125 -1.421875 24.3125 -1.421875 \r\nQ 15.921875 -1.421875 10.953125 3.296875 \r\nQ 6 8.015625 6 15.921875 \r\nQ 6 25.140625 12.171875 29.828125 \r\nQ 18.359375 34.515625 30.609375 34.515625 \r\nL 43.21875 34.515625 \r\nL 43.21875 35.40625 \r\nQ 43.21875 41.609375 39.140625 45 \r\nQ 35.0625 48.390625 27.6875 48.390625 \r\nQ 23 48.390625 18.546875 47.265625 \r\nQ 14.109375 46.140625 10.015625 43.890625 \r\nL 10.015625 52.203125 \r\nQ 14.9375 54.109375 19.578125 55.046875 \r\nQ 24.21875 56 28.609375 56 \r\nQ 40.484375 56 46.34375 49.84375 \r\nQ 52.203125 43.703125 52.203125 31.203125 \r\nz\r\n\" id=\"DejaVuSans-97\"/>\r\n       <path d=\"M 9.421875 54.6875 \r\nL 18.40625 54.6875 \r\nL 18.40625 0 \r\nL 9.421875 0 \r\nz\r\nM 9.421875 75.984375 \r\nL 18.40625 75.984375 \r\nL 18.40625 64.59375 \r\nL 9.421875 64.59375 \r\nz\r\n\" id=\"DejaVuSans-105\"/>\r\n       <path d=\"M 54.890625 33.015625 \r\nL 54.890625 0 \r\nL 45.90625 0 \r\nL 45.90625 32.71875 \r\nQ 45.90625 40.484375 42.875 44.328125 \r\nQ 39.84375 48.1875 33.796875 48.1875 \r\nQ 26.515625 48.1875 22.3125 43.546875 \r\nQ 18.109375 38.921875 18.109375 30.90625 \r\nL 18.109375 0 \r\nL 9.078125 0 \r\nL 9.078125 54.6875 \r\nL 18.109375 54.6875 \r\nL 18.109375 46.1875 \r\nQ 21.34375 51.125 25.703125 53.5625 \r\nQ 30.078125 56 35.796875 56 \r\nQ 45.21875 56 50.046875 50.171875 \r\nQ 54.890625 44.34375 54.890625 33.015625 \r\nz\r\n\" id=\"DejaVuSans-110\"/>\r\n       <path d=\"M 45.40625 27.984375 \r\nQ 45.40625 37.75 41.375 43.109375 \r\nQ 37.359375 48.484375 30.078125 48.484375 \r\nQ 22.859375 48.484375 18.828125 43.109375 \r\nQ 14.796875 37.75 14.796875 27.984375 \r\nQ 14.796875 18.265625 18.828125 12.890625 \r\nQ 22.859375 7.515625 30.078125 7.515625 \r\nQ 37.359375 7.515625 41.375 12.890625 \r\nQ 45.40625 18.265625 45.40625 27.984375 \r\nz\r\nM 54.390625 6.78125 \r\nQ 54.390625 -7.171875 48.1875 -13.984375 \r\nQ 42 -20.796875 29.203125 -20.796875 \r\nQ 24.46875 -20.796875 20.265625 -20.09375 \r\nQ 16.0625 -19.390625 12.109375 -17.921875 \r\nL 12.109375 -9.1875 \r\nQ 16.0625 -11.328125 19.921875 -12.34375 \r\nQ 23.78125 -13.375 27.78125 -13.375 \r\nQ 36.625 -13.375 41.015625 -8.765625 \r\nQ 45.40625 -4.15625 45.40625 5.171875 \r\nL 45.40625 9.625 \r\nQ 42.625 4.78125 38.28125 2.390625 \r\nQ 33.9375 0 27.875 0 \r\nQ 17.828125 0 11.671875 7.65625 \r\nQ 5.515625 15.328125 5.515625 27.984375 \r\nQ 5.515625 40.671875 11.671875 48.328125 \r\nQ 17.828125 56 27.875 56 \r\nQ 33.9375 56 38.28125 53.609375 \r\nQ 42.625 51.21875 45.40625 46.390625 \r\nL 45.40625 54.6875 \r\nL 54.390625 54.6875 \r\nz\r\n\" id=\"DejaVuSans-103\"/>\r\n       <path id=\"DejaVuSans-32\"/>\r\n       <path d=\"M 44.28125 53.078125 \r\nL 44.28125 44.578125 \r\nQ 40.484375 46.53125 36.375 47.5 \r\nQ 32.28125 48.484375 27.875 48.484375 \r\nQ 21.1875 48.484375 17.84375 46.4375 \r\nQ 14.5 44.390625 14.5 40.28125 \r\nQ 14.5 37.15625 16.890625 35.375 \r\nQ 19.28125 33.59375 26.515625 31.984375 \r\nL 29.59375 31.296875 \r\nQ 39.15625 29.25 43.1875 25.515625 \r\nQ 47.21875 21.78125 47.21875 15.09375 \r\nQ 47.21875 7.46875 41.1875 3.015625 \r\nQ 35.15625 -1.421875 24.609375 -1.421875 \r\nQ 20.21875 -1.421875 15.453125 -0.5625 \r\nQ 10.6875 0.296875 5.421875 2 \r\nL 5.421875 11.28125 \r\nQ 10.40625 8.6875 15.234375 7.390625 \r\nQ 20.0625 6.109375 24.8125 6.109375 \r\nQ 31.15625 6.109375 34.5625 8.28125 \r\nQ 37.984375 10.453125 37.984375 14.40625 \r\nQ 37.984375 18.0625 35.515625 20.015625 \r\nQ 33.0625 21.96875 24.703125 23.78125 \r\nL 21.578125 24.515625 \r\nQ 13.234375 26.265625 9.515625 29.90625 \r\nQ 5.8125 33.546875 5.8125 39.890625 \r\nQ 5.8125 47.609375 11.28125 51.796875 \r\nQ 16.75 56 26.8125 56 \r\nQ 31.78125 56 36.171875 55.265625 \r\nQ 40.578125 54.546875 44.28125 53.078125 \r\nz\r\n\" id=\"DejaVuSans-115\"/>\r\n       <path d=\"M 56.203125 29.59375 \r\nL 56.203125 25.203125 \r\nL 14.890625 25.203125 \r\nQ 15.484375 15.921875 20.484375 11.0625 \r\nQ 25.484375 6.203125 34.421875 6.203125 \r\nQ 39.59375 6.203125 44.453125 7.46875 \r\nQ 49.3125 8.734375 54.109375 11.28125 \r\nL 54.109375 2.78125 \r\nQ 49.265625 0.734375 44.1875 -0.34375 \r\nQ 39.109375 -1.421875 33.890625 -1.421875 \r\nQ 20.796875 -1.421875 13.15625 6.1875 \r\nQ 5.515625 13.8125 5.515625 26.8125 \r\nQ 5.515625 40.234375 12.765625 48.109375 \r\nQ 20.015625 56 32.328125 56 \r\nQ 43.359375 56 49.78125 48.890625 \r\nQ 56.203125 41.796875 56.203125 29.59375 \r\nz\r\nM 47.21875 32.234375 \r\nQ 47.125 39.59375 43.09375 43.984375 \r\nQ 39.0625 48.390625 32.421875 48.390625 \r\nQ 24.90625 48.390625 20.390625 44.140625 \r\nQ 15.875 39.890625 15.1875 32.171875 \r\nz\r\n\" id=\"DejaVuSans-101\"/>\r\n       <path d=\"M 18.3125 70.21875 \r\nL 18.3125 54.6875 \r\nL 36.8125 54.6875 \r\nL 36.8125 47.703125 \r\nL 18.3125 47.703125 \r\nL 18.3125 18.015625 \r\nQ 18.3125 11.328125 20.140625 9.421875 \r\nQ 21.96875 7.515625 27.59375 7.515625 \r\nL 36.8125 7.515625 \r\nL 36.8125 0 \r\nL 27.59375 0 \r\nQ 17.1875 0 13.234375 3.875 \r\nQ 9.28125 7.765625 9.28125 18.015625 \r\nL 9.28125 47.703125 \r\nL 2.6875 47.703125 \r\nL 2.6875 54.6875 \r\nL 9.28125 54.6875 \r\nL 9.28125 70.21875 \r\nz\r\n\" id=\"DejaVuSans-116\"/>\r\n       <path d=\"M 5.515625 54.6875 \r\nL 48.1875 54.6875 \r\nL 48.1875 46.484375 \r\nL 14.40625 7.171875 \r\nL 48.1875 7.171875 \r\nL 48.1875 0 \r\nL 4.296875 0 \r\nL 4.296875 8.203125 \r\nL 38.09375 47.515625 \r\nL 5.515625 47.515625 \r\nz\r\n\" id=\"DejaVuSans-122\"/>\r\n      </defs>\r\n      <use xlink:href=\"#DejaVuSans-84\"/>\r\n      <use x=\"46.333984\" xlink:href=\"#DejaVuSans-114\"/>\r\n      <use x=\"87.447266\" xlink:href=\"#DejaVuSans-97\"/>\r\n      <use x=\"148.726562\" xlink:href=\"#DejaVuSans-105\"/>\r\n      <use x=\"176.509766\" xlink:href=\"#DejaVuSans-110\"/>\r\n      <use x=\"239.888672\" xlink:href=\"#DejaVuSans-105\"/>\r\n      <use x=\"267.671875\" xlink:href=\"#DejaVuSans-110\"/>\r\n      <use x=\"331.050781\" xlink:href=\"#DejaVuSans-103\"/>\r\n      <use x=\"394.527344\" xlink:href=\"#DejaVuSans-32\"/>\r\n      <use x=\"426.314453\" xlink:href=\"#DejaVuSans-115\"/>\r\n      <use x=\"478.414062\" xlink:href=\"#DejaVuSans-101\"/>\r\n      <use x=\"539.9375\" xlink:href=\"#DejaVuSans-116\"/>\r\n      <use x=\"579.146484\" xlink:href=\"#DejaVuSans-32\"/>\r\n      <use x=\"610.933594\" xlink:href=\"#DejaVuSans-115\"/>\r\n      <use x=\"663.033203\" xlink:href=\"#DejaVuSans-105\"/>\r\n      <use x=\"690.816406\" xlink:href=\"#DejaVuSans-122\"/>\r\n      <use x=\"743.306641\" xlink:href=\"#DejaVuSans-101\"/>\r\n     </g>\r\n    </g>\r\n   </g>\r\n   <g id=\"matplotlib.axis_2\">\r\n    <g id=\"ytick_1\">\r\n     <g id=\"line2d_8\">\r\n      <defs>\r\n       <path d=\"M 0 0 \r\nL -3.5 0 \r\n\" id=\"m508cf12357\" style=\"stroke:#000000;stroke-width:0.8;\"/>\r\n      </defs>\r\n      <g>\r\n       <use style=\"stroke:#000000;stroke-width:0.8;\" x=\"52.160938\" xlink:href=\"#m508cf12357\" y=\"281.981294\"/>\r\n      </g>\r\n     </g>\r\n     <g id=\"text_9\">\r\n      <!-- −2.5 -->\r\n      <g transform=\"translate(20.878125 285.780513)scale(0.1 -0.1)\">\r\n       <defs>\r\n        <path d=\"M 10.59375 35.5 \r\nL 73.1875 35.5 \r\nL 73.1875 27.203125 \r\nL 10.59375 27.203125 \r\nz\r\n\" id=\"DejaVuSans-8722\"/>\r\n        <path d=\"M 10.6875 12.40625 \r\nL 21 12.40625 \r\nL 21 0 \r\nL 10.6875 0 \r\nz\r\n\" id=\"DejaVuSans-46\"/>\r\n        <path d=\"M 10.796875 72.90625 \r\nL 49.515625 72.90625 \r\nL 49.515625 64.59375 \r\nL 19.828125 64.59375 \r\nL 19.828125 46.734375 \r\nQ 21.96875 47.46875 24.109375 47.828125 \r\nQ 26.265625 48.1875 28.421875 48.1875 \r\nQ 40.625 48.1875 47.75 41.5 \r\nQ 54.890625 34.8125 54.890625 23.390625 \r\nQ 54.890625 11.625 47.5625 5.09375 \r\nQ 40.234375 -1.421875 26.90625 -1.421875 \r\nQ 22.3125 -1.421875 17.546875 -0.640625 \r\nQ 12.796875 0.140625 7.71875 1.703125 \r\nL 7.71875 11.625 \r\nQ 12.109375 9.234375 16.796875 8.0625 \r\nQ 21.484375 6.890625 26.703125 6.890625 \r\nQ 35.15625 6.890625 40.078125 11.328125 \r\nQ 45.015625 15.765625 45.015625 23.390625 \r\nQ 45.015625 31 40.078125 35.4375 \r\nQ 35.15625 39.890625 26.703125 39.890625 \r\nQ 22.75 39.890625 18.8125 39.015625 \r\nQ 14.890625 38.140625 10.796875 36.28125 \r\nz\r\n\" id=\"DejaVuSans-53\"/>\r\n       </defs>\r\n       <use xlink:href=\"#DejaVuSans-8722\"/>\r\n       <use x=\"83.789062\" xlink:href=\"#DejaVuSans-50\"/>\r\n       <use x=\"147.412109\" xlink:href=\"#DejaVuSans-46\"/>\r\n       <use x=\"179.199219\" xlink:href=\"#DejaVuSans-53\"/>\r\n      </g>\r\n     </g>\r\n    </g>\r\n    <g id=\"ytick_2\">\r\n     <g id=\"line2d_9\">\r\n      <g>\r\n       <use style=\"stroke:#000000;stroke-width:0.8;\" x=\"52.160938\" xlink:href=\"#m508cf12357\" y=\"243.659774\"/>\r\n      </g>\r\n     </g>\r\n     <g id=\"text_10\">\r\n      <!-- −2.0 -->\r\n      <g transform=\"translate(20.878125 247.458993)scale(0.1 -0.1)\">\r\n       <use xlink:href=\"#DejaVuSans-8722\"/>\r\n       <use x=\"83.789062\" xlink:href=\"#DejaVuSans-50\"/>\r\n       <use x=\"147.412109\" xlink:href=\"#DejaVuSans-46\"/>\r\n       <use x=\"179.199219\" xlink:href=\"#DejaVuSans-48\"/>\r\n      </g>\r\n     </g>\r\n    </g>\r\n    <g id=\"ytick_3\">\r\n     <g id=\"line2d_10\">\r\n      <g>\r\n       <use style=\"stroke:#000000;stroke-width:0.8;\" x=\"52.160938\" xlink:href=\"#m508cf12357\" y=\"205.338255\"/>\r\n      </g>\r\n     </g>\r\n     <g id=\"text_11\">\r\n      <!-- −1.5 -->\r\n      <g transform=\"translate(20.878125 209.137473)scale(0.1 -0.1)\">\r\n       <use xlink:href=\"#DejaVuSans-8722\"/>\r\n       <use x=\"83.789062\" xlink:href=\"#DejaVuSans-49\"/>\r\n       <use x=\"147.412109\" xlink:href=\"#DejaVuSans-46\"/>\r\n       <use x=\"179.199219\" xlink:href=\"#DejaVuSans-53\"/>\r\n      </g>\r\n     </g>\r\n    </g>\r\n    <g id=\"ytick_4\">\r\n     <g id=\"line2d_11\">\r\n      <g>\r\n       <use style=\"stroke:#000000;stroke-width:0.8;\" x=\"52.160938\" xlink:href=\"#m508cf12357\" y=\"167.016735\"/>\r\n      </g>\r\n     </g>\r\n     <g id=\"text_12\">\r\n      <!-- −1.0 -->\r\n      <g transform=\"translate(20.878125 170.815954)scale(0.1 -0.1)\">\r\n       <use xlink:href=\"#DejaVuSans-8722\"/>\r\n       <use x=\"83.789062\" xlink:href=\"#DejaVuSans-49\"/>\r\n       <use x=\"147.412109\" xlink:href=\"#DejaVuSans-46\"/>\r\n       <use x=\"179.199219\" xlink:href=\"#DejaVuSans-48\"/>\r\n      </g>\r\n     </g>\r\n    </g>\r\n    <g id=\"ytick_5\">\r\n     <g id=\"line2d_12\">\r\n      <g>\r\n       <use style=\"stroke:#000000;stroke-width:0.8;\" x=\"52.160938\" xlink:href=\"#m508cf12357\" y=\"128.695215\"/>\r\n      </g>\r\n     </g>\r\n     <g id=\"text_13\">\r\n      <!-- −0.5 -->\r\n      <g transform=\"translate(20.878125 132.494434)scale(0.1 -0.1)\">\r\n       <use xlink:href=\"#DejaVuSans-8722\"/>\r\n       <use x=\"83.789062\" xlink:href=\"#DejaVuSans-48\"/>\r\n       <use x=\"147.412109\" xlink:href=\"#DejaVuSans-46\"/>\r\n       <use x=\"179.199219\" xlink:href=\"#DejaVuSans-53\"/>\r\n      </g>\r\n     </g>\r\n    </g>\r\n    <g id=\"ytick_6\">\r\n     <g id=\"line2d_13\">\r\n      <g>\r\n       <use style=\"stroke:#000000;stroke-width:0.8;\" x=\"52.160938\" xlink:href=\"#m508cf12357\" y=\"90.373696\"/>\r\n      </g>\r\n     </g>\r\n     <g id=\"text_14\">\r\n      <!-- 0.0 -->\r\n      <g transform=\"translate(29.257813 94.172914)scale(0.1 -0.1)\">\r\n       <use xlink:href=\"#DejaVuSans-48\"/>\r\n       <use x=\"63.623047\" xlink:href=\"#DejaVuSans-46\"/>\r\n       <use x=\"95.410156\" xlink:href=\"#DejaVuSans-48\"/>\r\n      </g>\r\n     </g>\r\n    </g>\r\n    <g id=\"ytick_7\">\r\n     <g id=\"line2d_14\">\r\n      <g>\r\n       <use style=\"stroke:#000000;stroke-width:0.8;\" x=\"52.160938\" xlink:href=\"#m508cf12357\" y=\"52.052176\"/>\r\n      </g>\r\n     </g>\r\n     <g id=\"text_15\">\r\n      <!-- 0.5 -->\r\n      <g transform=\"translate(29.257813 55.851395)scale(0.1 -0.1)\">\r\n       <use xlink:href=\"#DejaVuSans-48\"/>\r\n       <use x=\"63.623047\" xlink:href=\"#DejaVuSans-46\"/>\r\n       <use x=\"95.410156\" xlink:href=\"#DejaVuSans-53\"/>\r\n      </g>\r\n     </g>\r\n    </g>\r\n    <g id=\"text_16\">\r\n     <!-- CV scores -->\r\n     <g transform=\"translate(14.798438 182.756406)rotate(-90)scale(0.1 -0.1)\">\r\n      <defs>\r\n       <path d=\"M 64.40625 67.28125 \r\nL 64.40625 56.890625 \r\nQ 59.421875 61.53125 53.78125 63.8125 \r\nQ 48.140625 66.109375 41.796875 66.109375 \r\nQ 29.296875 66.109375 22.65625 58.46875 \r\nQ 16.015625 50.828125 16.015625 36.375 \r\nQ 16.015625 21.96875 22.65625 14.328125 \r\nQ 29.296875 6.6875 41.796875 6.6875 \r\nQ 48.140625 6.6875 53.78125 8.984375 \r\nQ 59.421875 11.28125 64.40625 15.921875 \r\nL 64.40625 5.609375 \r\nQ 59.234375 2.09375 53.4375 0.328125 \r\nQ 47.65625 -1.421875 41.21875 -1.421875 \r\nQ 24.65625 -1.421875 15.125 8.703125 \r\nQ 5.609375 18.84375 5.609375 36.375 \r\nQ 5.609375 53.953125 15.125 64.078125 \r\nQ 24.65625 74.21875 41.21875 74.21875 \r\nQ 47.75 74.21875 53.53125 72.484375 \r\nQ 59.328125 70.75 64.40625 67.28125 \r\nz\r\n\" id=\"DejaVuSans-67\"/>\r\n       <path d=\"M 28.609375 0 \r\nL 0.78125 72.90625 \r\nL 11.078125 72.90625 \r\nL 34.1875 11.53125 \r\nL 57.328125 72.90625 \r\nL 67.578125 72.90625 \r\nL 39.796875 0 \r\nz\r\n\" id=\"DejaVuSans-86\"/>\r\n       <path d=\"M 48.78125 52.59375 \r\nL 48.78125 44.1875 \r\nQ 44.96875 46.296875 41.140625 47.34375 \r\nQ 37.3125 48.390625 33.40625 48.390625 \r\nQ 24.65625 48.390625 19.8125 42.84375 \r\nQ 14.984375 37.3125 14.984375 27.296875 \r\nQ 14.984375 17.28125 19.8125 11.734375 \r\nQ 24.65625 6.203125 33.40625 6.203125 \r\nQ 37.3125 6.203125 41.140625 7.25 \r\nQ 44.96875 8.296875 48.78125 10.40625 \r\nL 48.78125 2.09375 \r\nQ 45.015625 0.34375 40.984375 -0.53125 \r\nQ 36.96875 -1.421875 32.421875 -1.421875 \r\nQ 20.0625 -1.421875 12.78125 6.34375 \r\nQ 5.515625 14.109375 5.515625 27.296875 \r\nQ 5.515625 40.671875 12.859375 48.328125 \r\nQ 20.21875 56 33.015625 56 \r\nQ 37.15625 56 41.109375 55.140625 \r\nQ 45.0625 54.296875 48.78125 52.59375 \r\nz\r\n\" id=\"DejaVuSans-99\"/>\r\n       <path d=\"M 30.609375 48.390625 \r\nQ 23.390625 48.390625 19.1875 42.75 \r\nQ 14.984375 37.109375 14.984375 27.296875 \r\nQ 14.984375 17.484375 19.15625 11.84375 \r\nQ 23.34375 6.203125 30.609375 6.203125 \r\nQ 37.796875 6.203125 41.984375 11.859375 \r\nQ 46.1875 17.53125 46.1875 27.296875 \r\nQ 46.1875 37.015625 41.984375 42.703125 \r\nQ 37.796875 48.390625 30.609375 48.390625 \r\nz\r\nM 30.609375 56 \r\nQ 42.328125 56 49.015625 48.375 \r\nQ 55.71875 40.765625 55.71875 27.296875 \r\nQ 55.71875 13.875 49.015625 6.21875 \r\nQ 42.328125 -1.421875 30.609375 -1.421875 \r\nQ 18.84375 -1.421875 12.171875 6.21875 \r\nQ 5.515625 13.875 5.515625 27.296875 \r\nQ 5.515625 40.765625 12.171875 48.375 \r\nQ 18.84375 56 30.609375 56 \r\nz\r\n\" id=\"DejaVuSans-111\"/>\r\n      </defs>\r\n      <use xlink:href=\"#DejaVuSans-67\"/>\r\n      <use x=\"69.824219\" xlink:href=\"#DejaVuSans-86\"/>\r\n      <use x=\"138.232422\" xlink:href=\"#DejaVuSans-32\"/>\r\n      <use x=\"170.019531\" xlink:href=\"#DejaVuSans-115\"/>\r\n      <use x=\"222.119141\" xlink:href=\"#DejaVuSans-99\"/>\r\n      <use x=\"277.099609\" xlink:href=\"#DejaVuSans-111\"/>\r\n      <use x=\"338.28125\" xlink:href=\"#DejaVuSans-114\"/>\r\n      <use x=\"377.144531\" xlink:href=\"#DejaVuSans-101\"/>\r\n      <use x=\"438.667969\" xlink:href=\"#DejaVuSans-115\"/>\r\n     </g>\r\n    </g>\r\n   </g>\r\n   <g id=\"LineCollection_1\">\r\n    <path clip-path=\"url(#pb4982cb881)\" d=\"M 77.524574 281.76358 \r\nL 77.524574 37.53427 \r\n\" style=\"fill:none;stroke:#1f77b4;stroke-width:1.5;\"/>\r\n    <path clip-path=\"url(#pb4982cb881)\" d=\"M 110.251847 74.013505 \r\nL 110.251847 43.508368 \r\n\" style=\"fill:none;stroke:#1f77b4;stroke-width:1.5;\"/>\r\n    <path clip-path=\"url(#pb4982cb881)\" d=\"M 142.979119 62.203426 \r\nL 142.979119 37.792767 \r\n\" style=\"fill:none;stroke:#1f77b4;stroke-width:1.5;\"/>\r\n    <path clip-path=\"url(#pb4982cb881)\" d=\"M 171.615483 59.130941 \r\nL 171.615483 36.057498 \r\n\" style=\"fill:none;stroke:#1f77b4;stroke-width:1.5;\"/>\r\n    <path clip-path=\"url(#pb4982cb881)\" d=\"M 204.342756 48.868906 \r\nL 204.342756 36.027222 \r\n\" style=\"fill:none;stroke:#1f77b4;stroke-width:1.5;\"/>\r\n    <path clip-path=\"url(#pb4982cb881)\" d=\"M 237.070028 46.897492 \r\nL 237.070028 35.299007 \r\n\" style=\"fill:none;stroke:#1f77b4;stroke-width:1.5;\"/>\r\n    <path clip-path=\"url(#pb4982cb881)\" d=\"M 269.797301 48.074414 \r\nL 269.797301 34.67267 \r\n\" style=\"fill:none;stroke:#1f77b4;stroke-width:1.5;\"/>\r\n    <path clip-path=\"url(#pb4982cb881)\" d=\"M 331.160938 48.611974 \r\nL 331.160938 35.63428 \r\n\" style=\"fill:none;stroke:#1f77b4;stroke-width:1.5;\"/>\r\n    <path clip-path=\"url(#pb4982cb881)\" d=\"M 425.251847 48.458686 \r\nL 425.251847 36.503882 \r\n\" style=\"fill:none;stroke:#1f77b4;stroke-width:1.5;\"/>\r\n    <path clip-path=\"url(#pb4982cb881)\" d=\"M 457.979119 47.618909 \r\nL 457.979119 36.188813 \r\n\" style=\"fill:none;stroke:#1f77b4;stroke-width:1.5;\"/>\r\n    <path clip-path=\"url(#pb4982cb881)\" d=\"M 584.797301 43.849382 \r\nL 584.797301 34.858255 \r\n\" style=\"fill:none;stroke:#1f77b4;stroke-width:1.5;\"/>\r\n   </g>\r\n   <g id=\"line2d_15\">\r\n    <path clip-path=\"url(#pb4982cb881)\" d=\"M 77.524574 159.648925 \r\nL 110.251847 58.760936 \r\nL 142.979119 49.998097 \r\nL 171.615483 47.59422 \r\nL 204.342756 42.448064 \r\nL 237.070028 41.09825 \r\nL 269.797301 41.373542 \r\nL 331.160938 42.123127 \r\nL 425.251847 42.481284 \r\nL 457.979119 41.903861 \r\nL 584.797301 39.353819 \r\n\" style=\"fill:none;stroke:#1f77b4;stroke-linecap:square;stroke-width:1.5;\"/>\r\n   </g>\r\n   <g id=\"patch_3\">\r\n    <path d=\"M 52.160938 294.118125 \r\nL 52.160938 22.318125 \r\n\" style=\"fill:none;stroke:#000000;stroke-linecap:square;stroke-linejoin:miter;stroke-width:0.8;\"/>\r\n   </g>\r\n   <g id=\"patch_4\">\r\n    <path d=\"M 610.160938 294.118125 \r\nL 610.160938 22.318125 \r\n\" style=\"fill:none;stroke:#000000;stroke-linecap:square;stroke-linejoin:miter;stroke-width:0.8;\"/>\r\n   </g>\r\n   <g id=\"patch_5\">\r\n    <path d=\"M 52.160938 294.118125 \r\nL 610.160938 294.118125 \r\n\" style=\"fill:none;stroke:#000000;stroke-linecap:square;stroke-linejoin:miter;stroke-width:0.8;\"/>\r\n   </g>\r\n   <g id=\"patch_6\">\r\n    <path d=\"M 52.160938 22.318125 \r\nL 610.160938 22.318125 \r\n\" style=\"fill:none;stroke:#000000;stroke-linecap:square;stroke-linejoin:miter;stroke-width:0.8;\"/>\r\n   </g>\r\n   <g id=\"text_17\">\r\n    <!-- Cross-validation score as training set size increases -->\r\n    <g transform=\"translate(176.347813 16.318125)scale(0.12 -0.12)\">\r\n     <defs>\r\n      <path d=\"M 4.890625 31.390625 \r\nL 31.203125 31.390625 \r\nL 31.203125 23.390625 \r\nL 4.890625 23.390625 \r\nz\r\n\" id=\"DejaVuSans-45\"/>\r\n      <path d=\"M 2.984375 54.6875 \r\nL 12.5 54.6875 \r\nL 29.59375 8.796875 \r\nL 46.6875 54.6875 \r\nL 56.203125 54.6875 \r\nL 35.6875 0 \r\nL 23.484375 0 \r\nz\r\n\" id=\"DejaVuSans-118\"/>\r\n      <path d=\"M 9.421875 75.984375 \r\nL 18.40625 75.984375 \r\nL 18.40625 0 \r\nL 9.421875 0 \r\nz\r\n\" id=\"DejaVuSans-108\"/>\r\n      <path d=\"M 45.40625 46.390625 \r\nL 45.40625 75.984375 \r\nL 54.390625 75.984375 \r\nL 54.390625 0 \r\nL 45.40625 0 \r\nL 45.40625 8.203125 \r\nQ 42.578125 3.328125 38.25 0.953125 \r\nQ 33.9375 -1.421875 27.875 -1.421875 \r\nQ 17.96875 -1.421875 11.734375 6.484375 \r\nQ 5.515625 14.40625 5.515625 27.296875 \r\nQ 5.515625 40.1875 11.734375 48.09375 \r\nQ 17.96875 56 27.875 56 \r\nQ 33.9375 56 38.25 53.625 \r\nQ 42.578125 51.265625 45.40625 46.390625 \r\nz\r\nM 14.796875 27.296875 \r\nQ 14.796875 17.390625 18.875 11.75 \r\nQ 22.953125 6.109375 30.078125 6.109375 \r\nQ 37.203125 6.109375 41.296875 11.75 \r\nQ 45.40625 17.390625 45.40625 27.296875 \r\nQ 45.40625 37.203125 41.296875 42.84375 \r\nQ 37.203125 48.484375 30.078125 48.484375 \r\nQ 22.953125 48.484375 18.875 42.84375 \r\nQ 14.796875 37.203125 14.796875 27.296875 \r\nz\r\n\" id=\"DejaVuSans-100\"/>\r\n     </defs>\r\n     <use xlink:href=\"#DejaVuSans-67\"/>\r\n     <use x=\"69.824219\" xlink:href=\"#DejaVuSans-114\"/>\r\n     <use x=\"108.6875\" xlink:href=\"#DejaVuSans-111\"/>\r\n     <use x=\"169.869141\" xlink:href=\"#DejaVuSans-115\"/>\r\n     <use x=\"221.96875\" xlink:href=\"#DejaVuSans-115\"/>\r\n     <use x=\"274.068359\" xlink:href=\"#DejaVuSans-45\"/>\r\n     <use x=\"307.527344\" xlink:href=\"#DejaVuSans-118\"/>\r\n     <use x=\"366.707031\" xlink:href=\"#DejaVuSans-97\"/>\r\n     <use x=\"427.986328\" xlink:href=\"#DejaVuSans-108\"/>\r\n     <use x=\"455.769531\" xlink:href=\"#DejaVuSans-105\"/>\r\n     <use x=\"483.552734\" xlink:href=\"#DejaVuSans-100\"/>\r\n     <use x=\"547.029297\" xlink:href=\"#DejaVuSans-97\"/>\r\n     <use x=\"608.308594\" xlink:href=\"#DejaVuSans-116\"/>\r\n     <use x=\"647.517578\" xlink:href=\"#DejaVuSans-105\"/>\r\n     <use x=\"675.300781\" xlink:href=\"#DejaVuSans-111\"/>\r\n     <use x=\"736.482422\" xlink:href=\"#DejaVuSans-110\"/>\r\n     <use x=\"799.861328\" xlink:href=\"#DejaVuSans-32\"/>\r\n     <use x=\"831.648438\" xlink:href=\"#DejaVuSans-115\"/>\r\n     <use x=\"883.748047\" xlink:href=\"#DejaVuSans-99\"/>\r\n     <use x=\"938.728516\" xlink:href=\"#DejaVuSans-111\"/>\r\n     <use x=\"999.910156\" xlink:href=\"#DejaVuSans-114\"/>\r\n     <use x=\"1038.773438\" xlink:href=\"#DejaVuSans-101\"/>\r\n     <use x=\"1100.296875\" xlink:href=\"#DejaVuSans-32\"/>\r\n     <use x=\"1132.083984\" xlink:href=\"#DejaVuSans-97\"/>\r\n     <use x=\"1193.363281\" xlink:href=\"#DejaVuSans-115\"/>\r\n     <use x=\"1245.462891\" xlink:href=\"#DejaVuSans-32\"/>\r\n     <use x=\"1277.25\" xlink:href=\"#DejaVuSans-116\"/>\r\n     <use x=\"1316.458984\" xlink:href=\"#DejaVuSans-114\"/>\r\n     <use x=\"1357.572266\" xlink:href=\"#DejaVuSans-97\"/>\r\n     <use x=\"1418.851562\" xlink:href=\"#DejaVuSans-105\"/>\r\n     <use x=\"1446.634766\" xlink:href=\"#DejaVuSans-110\"/>\r\n     <use x=\"1510.013672\" xlink:href=\"#DejaVuSans-105\"/>\r\n     <use x=\"1537.796875\" xlink:href=\"#DejaVuSans-110\"/>\r\n     <use x=\"1601.175781\" xlink:href=\"#DejaVuSans-103\"/>\r\n     <use x=\"1664.652344\" xlink:href=\"#DejaVuSans-32\"/>\r\n     <use x=\"1696.439453\" xlink:href=\"#DejaVuSans-115\"/>\r\n     <use x=\"1748.539062\" xlink:href=\"#DejaVuSans-101\"/>\r\n     <use x=\"1810.0625\" xlink:href=\"#DejaVuSans-116\"/>\r\n     <use x=\"1849.271484\" xlink:href=\"#DejaVuSans-32\"/>\r\n     <use x=\"1881.058594\" xlink:href=\"#DejaVuSans-115\"/>\r\n     <use x=\"1933.158203\" xlink:href=\"#DejaVuSans-105\"/>\r\n     <use x=\"1960.941406\" xlink:href=\"#DejaVuSans-122\"/>\r\n     <use x=\"2013.431641\" xlink:href=\"#DejaVuSans-101\"/>\r\n     <use x=\"2074.955078\" xlink:href=\"#DejaVuSans-32\"/>\r\n     <use x=\"2106.742188\" xlink:href=\"#DejaVuSans-105\"/>\r\n     <use x=\"2134.525391\" xlink:href=\"#DejaVuSans-110\"/>\r\n     <use x=\"2197.904297\" xlink:href=\"#DejaVuSans-99\"/>\r\n     <use x=\"2252.884766\" xlink:href=\"#DejaVuSans-114\"/>\r\n     <use x=\"2291.748047\" xlink:href=\"#DejaVuSans-101\"/>\r\n     <use x=\"2353.271484\" xlink:href=\"#DejaVuSans-97\"/>\r\n     <use x=\"2414.550781\" xlink:href=\"#DejaVuSans-115\"/>\r\n     <use x=\"2466.650391\" xlink:href=\"#DejaVuSans-101\"/>\r\n     <use x=\"2528.173828\" xlink:href=\"#DejaVuSans-115\"/>\r\n    </g>\r\n   </g>\r\n  </g>\r\n </g>\r\n <defs>\r\n  <clipPath id=\"pb4982cb881\">\r\n   <rect height=\"271.8\" width=\"558\" x=\"52.160938\" y=\"22.318125\"/>\r\n  </clipPath>\r\n </defs>\r\n</svg>\r\n",
      "image/png": "[encoded data removed]"
     },
     "metadata": {
      "needs_background": "light"
     }
    }
   ],
   "source": [
    "plt.subplots(figsize=(10, 5))\n",
    "plt.errorbar(train_size, test_scores_mean, yerr=test_scores_std)\n",
    "plt.xlabel('Training set size')\n",
    "plt.ylabel('CV scores')\n",
    "plt.title('Cross-validation score as training set size increases');"
   ]
  },
  {
   "cell_type": "markdown",
   "metadata": {},
   "source": [
    "This shows that you seem to have plenty of data. There's an initial rapid improvement in model scores as one would expect, but it's essentially levelled off by around a sample size of 40-50."
   ]
  },
  {
   "cell_type": "markdown",
   "metadata": {},
   "source": [
    "## 4.13 Save best model object from pipeline<a id='4.13_Save_best_model_object_from_pipeline'></a>"
   ]
  },
  {
   "cell_type": "code",
   "execution_count": 136,
   "metadata": {},
   "outputs": [
    {
     "output_type": "execute_result",
     "data": {
      "text/plain": [
       "Pipeline(steps=[('simpleimputer', SimpleImputer(strategy='median')),\n",
       "                ('standardscaler', None),\n",
       "                ('randomforestregressor',\n",
       "                 RandomForestRegressor(n_estimators=33, random_state=47))])"
      ]
     },
     "metadata": {},
     "execution_count": 136
    }
   ],
   "source": [
    "#Code task 28#\n",
    "#This may not be \"production grade ML deployment\" practice, but adding some basic\n",
    "#information to your saved models can save your bacon in development.\n",
    "#Just what version model have you just loaded to reuse? What version of `sklearn`\n",
    "#created it? When did you make it?\n",
    "#Assign the pandas version number (`pd.__version__`) to the `pandas_version` attribute,\n",
    "#the numpy version (`np.__version__`) to the `numpy_version` attribute,\n",
    "#the sklearn version (`sklearn_version`) to the `sklearn_version` attribute,\n",
    "#and the current datetime (`datetime.datetime.now()`) to the `build_datetime` attribute\n",
    "#Let's call this model version '1.0'\n",
    "best_model = rf_grid_cv.best_estimator_\n",
    "best_model.version = '1.0'\n",
    "best_model.pandas_version = pd.__version__\n",
    "best_model.numpy_version = np.__version__\n",
    "best_model.sklearn_version = sklearn_version\n",
    "best_model.X_columns = [col for col in X_train.columns]\n",
    "best_model.build_datetime = datetime.datetime.now()\n",
    "best_model"
   ]
  },
  {
   "cell_type": "code",
   "execution_count": 135,
   "metadata": {},
   "outputs": [
    {
     "output_type": "stream",
     "name": "stdout",
     "text": [
      "A file already exists with this name.\n",
      "\n",
      "Writing file.  \"../models\\ski_resort_pricing_model.pkl\"\n"
     ]
    }
   ],
   "source": [
    "# save the model\n",
    "\n",
    "modelpath = '../models'\n",
    "save_file(best_model, 'ski_resort_pricing_model.pkl', modelpath)"
   ]
  },
  {
   "cell_type": "markdown",
   "metadata": {},
   "source": [
    "## 4.14 Summary<a id='4.14_Summary'></a>"
   ]
  },
  {
   "cell_type": "markdown",
   "metadata": {},
   "source": [
    "**Q: 1** Write a summary of the work in this notebook. Capture the fact that you gained a baseline idea of performance by simply taking the average price and how well that did. Then highlight that you built a linear model and the features that found. Comment on the estimate of its performance from cross-validation and whether its performance on the test split was consistent with this estimate. Also highlight that a random forest regressor was tried, what preprocessing steps were found to be best, and again what its estimated performance via cross-validation was and whether its performance on the test set was consistent with that. State which model you have decided to use going forwards and why. This summary should provide a quick overview for someone wanting to know quickly why the given model was chosen for the next part of the business problem to help guide important business decisions."
   ]
  },
  {
   "cell_type": "markdown",
   "metadata": {},
   "source": [
    "**A: 1** Your answer here\n",
    "\n",
    "We are building a model to predict the price of the ticket during weekends.\n",
    "\n",
    "The first thing that was done with the cleaned data was to split the data into 2 sets of train and test sets with a 70, 30 percent respectively. we will train on the model on the train data and test it on test dataset. \n",
    "\n",
    "Name, state, Region columns are removed from the dataset as they are not needed for modelling.\n",
    "\n",
    "we made sure that all the independent variables( features ) are of numerical data type. as the regression models only support numerical data types.\n",
    "\n",
    " The first thing that was to check how well mean could be a predictor for our data. the mean of the training data is 63.81 (Adult weekend price).  This was performed using sklearn's dummy regressor. \n",
    "\n",
    "When the model is evaluated using the regression metrics such as R-squared the results were obvious. the R2 was around 0. which suggest there is no variation that can be explained by using mean as the predictor value. The same goes with other metrics such as mean absolute error or mean squared error.\n",
    "\n",
    "For the first initial model we imputed the missing values with median and mean in the train and test dataset. and scaled the data using sklearn's StandardScaler. then we used Linear Regression as the model to predict the price. what we found is **there is a definite significant improvement in the performance but the data also suggested that the model overfitted the data. This can be inferred from the fact that the regression metrics shows decrease in performance on the test dataset than on train dataset.**\n",
    "\n",
    "we also built pipelines to streamline the process of imputing the missing values, scaling and regressing. this is achieved by sklearn's make_pipeline class.\n",
    "\n",
    "Since from the earlier linear regression model we saw that the model is overfitting and to avoid this one of the good way is to not select all the features (independent variables) but only the best features. which will reduce the overfit problem that we are having right now.\n",
    "\n",
    "On the First go with default set of k features we see the performance relatively poor. but if we started increasing the value of k we see there is an increase in performance.\n",
    "\n",
    "We are also using sklearn cross_validate method to see how the model is performing under different sets of train and test splits. the split is performed on the actual train set not on the test set itself. we should not expose the model to the test dataset.\n",
    "\n",
    "We are using hyperparameters tuning using GridSearchCV by searching for total number of features that can be selected for best performance. From the GridSearchCV we found out that selecting 8 features gave us the best performance for LinearRegression model.\n",
    "\n",
    "We also performed the same analysis using RandomForestRegressor. this time when defining the pipe we remove SelectKBest from  the pipe. the reason why we did this is that RandomForestRegressor already has a hyperparameter that does the job. Also if we observe carefully after model evaluation is done and GridSearchCV is used to select best possible hyper parameters we see, the results suggest we don't need standard scaler. this suggest that scaling does not affect Random Forest models.\n",
    "\n",
    "We also checked to see if the data is sufficient for modelling using learning curve. from the graph it there is more than enough data for modelling.\n",
    "\n",
    "So To conclude:\n",
    "\n",
    "we decided to select Random Forest Regressor as the best model for the next modelling steps as it has better performance compared to Linear Regression model in terms of lower cross validation mean absolute error. It also exhibits less variability which is evident by standard deviation of the CV Scores. The scoring method used here is mean absolute error which for this is the best metrics for model evaluation."
   ]
  },
  {
   "cell_type": "code",
   "execution_count": null,
   "metadata": {},
   "outputs": [],
   "source": []
  }
 ],
 "metadata": {
  "kernelspec": {
   "display_name": "Python 3",
   "language": "python",
   "name": "python3"
  },
  "language_info": {
   "codemirror_mode": {
    "name": "ipython",
    "version": 3
   },
   "file_extension": ".py",
   "mimetype": "text/x-python",
   "name": "python",
   "nbconvert_exporter": "python",
   "pygments_lexer": "ipython3",
   "version": "3.8.5-final"
  },
  "toc": {
   "base_numbering": 1,
   "nav_menu": {},
   "number_sections": true,
   "sideBar": true,
   "skip_h1_title": false,
   "title_cell": "Table of Contents",
   "title_sidebar": "Contents",
   "toc_cell": false,
   "toc_position": {},
   "toc_section_display": true,
   "toc_window_display": true
  },
  "varInspector": {
   "cols": {
    "lenName": 16,
    "lenType": 16,
    "lenVar": 40
   },
   "kernels_config": {
    "python": {
     "delete_cmd_postfix": "",
     "delete_cmd_prefix": "del ",
     "library": "var_list.py",
     "varRefreshCmd": "print(var_dic_list())"
    },
    "r": {
     "delete_cmd_postfix": ") ",
     "delete_cmd_prefix": "rm(",
     "library": "var_list.r",
     "varRefreshCmd": "cat(var_dic_list()) "
    }
   },
   "types_to_exclude": [
    "module",
    "function",
    "builtin_function_or_method",
    "instance",
    "_Feature"
   ],
   "window_display": false
  }
 },
 "nbformat": 4,
 "nbformat_minor": 4
}